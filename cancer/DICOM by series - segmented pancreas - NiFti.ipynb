{
 "cells": [
  {
   "cell_type": "code",
   "execution_count": 72,
   "metadata": {},
   "outputs": [],
   "source": [
    "%matplotlib inline\n",
    "\n",
    "import numpy as np # linear algebra\n",
    "import pandas as pd # data processing, CSV file I/O (e.g. pd.read_csv)\n",
    "import pydicom\n",
    "import os\n",
    "import scipy.ndimage\n",
    "import matplotlib.pyplot as plt\n",
    "import nibabel as nib\n",
    "\n",
    "from skimage import measure, morphology\n",
    "from mpl_toolkits.mplot3d.art3d import Poly3DCollection\n",
    "\n",
    "# Some constants \n",
    "root_folder = \"/docs/src/kt/data\"\n",
    "series_folder = \"/docs/src/kt/data_by_series\"\n",
    "resized_series_folder = \"/docs/src/kt/data_by_series_resized\"\n",
    "IMAGES_PATH = \"/docs/src/kt/data_by_series_resized_images\"\n",
    "dst_folder = \"/docs/src/kt/nii_resized\"\n",
    "MIN_NUMBER_OF_PHOTO = 100\n",
    "EMPTY_VALUE = 0\n",
    "\n",
    "DEBUG = 1\n",
    "\n",
    "patients = os.listdir(series_folder)\n",
    "patients.sort()\n",
    "\n",
    "curr_patient = \"Dimakova A.I. - Body 1.0\"\n",
    "curr_scan_set = \"16\"\n"
   ]
  },
  {
   "cell_type": "code",
   "execution_count": 132,
   "metadata": {},
   "outputs": [],
   "source": [
    "def load_scan(path):\n",
    "    slices = [pydicom.dcmread(path + \"/\" + _) for _ in os.listdir(path)]\n",
    "    slices.sort(key = lambda x: float(x.ImagePositionPatient[2]))\n",
    "    try:\n",
    "        slice_thickness = np.abs(slices[0].ImagePositionPatient[2] - slices[1].ImagePositionPatient[2])\n",
    "    except:\n",
    "        slice_thickness = np.abs(slices[0].SliceLocation - slices[1].SliceLocation)\n",
    "        \n",
    "    for s in slices:\n",
    "        s.SliceThickness  = slice_thickness\n",
    "\n",
    "    return slices\n",
    "\n",
    "def get_pixel_hu(slices):\n",
    "    image = np.stack([_.pixel_array for _ in slices])\n",
    "    image = image.astype(np.int16)\n",
    "\n",
    "    image[image == -2000] = 0\n",
    "\n",
    "    for slice_number in range(len(slices)):\n",
    "        intercept = slices[slice_number].RescaleIntercept\n",
    "        slope = slices[slice_number].RescaleSlope\n",
    "\n",
    "        if slope != 1:\n",
    "            image[slice_number] = slope * image[slice_number].as_type(np.float64)\n",
    "            image[slice_number] = image[slice_number].as_type(np.int16)\n",
    "\n",
    "        image[slice_number] += np.int16(intercept)\n",
    "\n",
    "    return np.array(image, dtype=np.int16)\n",
    "    \n",
    "def resample(image, scan, new_spacing=[1,1,1]):\n",
    "    # Determine current pixel spacing\n",
    "    spacing = np.array([scan[0].SliceThickness] + list(scan[0].PixelSpacing), dtype=np.float32)\n",
    "    if(DEBUG == 1):\n",
    "        print(\"curr spacing:\", spacing)\n",
    "\n",
    "    resize_factor = spacing / new_spacing\n",
    "    new_shape = np.round(image.shape * resize_factor)\n",
    "    real_resize_factor = new_shape / image.shape\n",
    "    new_spacing = spacing / real_resize_factor\n",
    "\n",
    "    image = scipy.ndimage.interpolation.zoom(image, real_resize_factor, mode='nearest')\n",
    "\n",
    "    return image, new_spacing\n",
    "\n",
    "def segment_to_range(image, low_range, high_range):\n",
    "    binary_image = np.array((image >= low_range) & (image <= high_range), dtype=np.int8)\n",
    "    return binary_image\n",
    "\n",
    "def save_to_nifti(fname, image, spacing):\n",
    "    nib_img = nib.Nifti1Image(image, spacing)\n",
    "    nib.save(nib_img, dst_folder + \"/\" + fname + \".nii\")"
   ]
  },
  {
   "cell_type": "code",
   "execution_count": 139,
   "metadata": {},
   "outputs": [],
   "source": [
    "def load_and_segment_patient(folder, curr_patient, curr_scan_set, new_spacing = [1,1,1]):\n",
    "    slices = load_scan(folder + \"/\" + curr_patient + \"/\" + curr_scan_set)\n",
    "    print(\"slices shape:\", np.array(slices).shape)\n",
    "    image = get_pixel_hu(slices)\n",
    "    if(DEBUG == 1):\n",
    "        print(\"original image shape\", image.shape)\n",
    "\n",
    "    resampled_image, new_spacing = resample(image, slices, new_spacing)\n",
    "    if(DEBUG == 1):\n",
    "        print(\"new spacing\", new_spacing)\n",
    "        print(\"resampled image shape\", resampled_image.shape)\n",
    "    \n",
    "    #     nib_img = nib.Nifti1Image()\n",
    "    #     nib.save(nib_img, dst_folder + \"/\" + curr_patient + \"__\" + curr_scan_set + \".nii\")\n",
    "\n",
    "    slices_2 = np.stack([_ for _ in resampled_image], axis=2)\n",
    "    save_to_nifti(curr_patient + \"__\" + curr_scan_set, slices_2, np.eye(4) * np.append(new_spacing, [1]))\n",
    "    \n",
    "    bin_mask = segment_to_range(slices_2, 20, 50)\n",
    "    slices_2[bin_mask == 0] = EMPTY_VALUE\n",
    "    save_to_nifti(\"mask/\" + curr_patient + \"__\" + curr_scan_set, slices_2, np.eye(4) * np.append(new_spacing, [1]))\n",
    "    \n",
    "    \n",
    "    return resampled_image"
   ]
  },
  {
   "cell_type": "code",
   "execution_count": 140,
   "metadata": {},
   "outputs": [
    {
     "name": "stdout",
     "output_type": "stream",
     "text": [
      "slices shape: (532,)\n",
      "original image shape (532, 512, 512)\n",
      "curr spacing: [0.8   0.782 0.782]\n",
      "new spacing [1.9981221  2.00192001 2.00192001]\n",
      "resampled image shape (213, 200, 200)\n"
     ]
    }
   ],
   "source": [
    "resampled_image = load_and_segment_patient(series_folder, curr_patient, curr_scan_set, [2,2,2])"
   ]
  },
  {
   "cell_type": "code",
   "execution_count": 131,
   "metadata": {},
   "outputs": [
    {
     "data": {
      "text/plain": [
       "array([[0, 0, 0, 0, 0],\n",
       "       [0, 8, 0, 0, 0],\n",
       "       [0, 0, 8, 0, 0],\n",
       "       [0, 0, 0, 8, 0],\n",
       "       [0, 0, 0, 0, 0]], dtype=int8)"
      ]
     },
     "execution_count": 131,
     "metadata": {},
     "output_type": "execute_result"
    }
   ],
   "source": [
    "im1 = np.array(np.eye(5) * 8, dtype=np.int8)\n",
    "bim1 = segment_to_range(im1, 4, 10)\n",
    "bim1[0, 0] = bim1[4,4] = 0\n",
    "im1[bim1 == 0] = 0\n",
    "im1"
   ]
  },
  {
   "cell_type": "code",
   "execution_count": null,
   "metadata": {},
   "outputs": [],
   "source": []
  }
 ],
 "metadata": {
  "kernelspec": {
   "display_name": "Python 3",
   "language": "python",
   "name": "python3"
  },
  "language_info": {
   "codemirror_mode": {
    "name": "ipython",
    "version": 3
   },
   "file_extension": ".py",
   "mimetype": "text/x-python",
   "name": "python",
   "nbconvert_exporter": "python",
   "pygments_lexer": "ipython3",
   "version": "3.7.3"
  }
 },
 "nbformat": 4,
 "nbformat_minor": 2
}
