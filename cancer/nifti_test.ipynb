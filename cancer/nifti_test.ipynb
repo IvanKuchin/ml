{
 "cells": [
  {
   "cell_type": "code",
   "execution_count": 1,
   "metadata": {},
   "outputs": [],
   "source": [
    "import numpy as np\n",
    "import nibabel as nib"
   ]
  },
  {
   "cell_type": "code",
   "execution_count": 17,
   "metadata": {},
   "outputs": [
    {
     "name": "stdout",
     "output_type": "stream",
     "text": [
      "img shape: (512, 512, 701)\n",
      "img.affine.shape (4, 4)\n",
      "img.affine\n",
      " [[-9.30000007e-01 -0.00000000e+00  0.00000000e+00  2.37815002e+02]\n",
      " [ 0.00000000e+00  9.30000007e-01  0.00000000e+00 -2.37414215e+02]\n",
      " [ 0.00000000e+00  0.00000000e+00  7.99926758e-01 -1.43844873e+03]\n",
      " [ 0.00000000e+00  0.00000000e+00  0.00000000e+00  1.00000000e+00]]\n"
     ]
    }
   ],
   "source": [
    "img = nib.load(\"/docs/src/kt/nii/DEMIN_A.S.__3__20190426153742.nii\")\n",
    "print(\"img shape:\", img.shape)\n",
    "print(\"img.affine.shape\", img.affine.shape)\n",
    "print(\"img.affine\\n\", img.affine)"
   ]
  },
  {
   "cell_type": "code",
   "execution_count": 18,
   "metadata": {},
   "outputs": [
    {
     "name": "stdout",
     "output_type": "stream",
     "text": [
      "data.shape: (512, 512, 701)\n",
      "-2048.0\n"
     ]
    }
   ],
   "source": [
    "data = img.get_fdata()\n",
    "print(\"data.shape:\", data.shape)\n",
    "print(data[1,1,1])"
   ]
  },
  {
   "cell_type": "code",
   "execution_count": 23,
   "metadata": {},
   "outputs": [],
   "source": [
    "data = np.ones((32, 32, 15), dtype=np.int16)\n",
    "img = nib.Nifti1Image(data, np.eye(4))\n",
    "nib.save(img, \"123.nii\")"
   ]
  },
  {
   "cell_type": "code",
   "execution_count": null,
   "metadata": {},
   "outputs": [],
   "source": []
  }
 ],
 "metadata": {
  "kernelspec": {
   "display_name": "Python 3",
   "language": "python",
   "name": "python3"
  },
  "language_info": {
   "codemirror_mode": {
    "name": "ipython",
    "version": 3
   },
   "file_extension": ".py",
   "mimetype": "text/x-python",
   "name": "python",
   "nbconvert_exporter": "python",
   "pygments_lexer": "ipython3",
   "version": "3.7.3"
  }
 },
 "nbformat": 4,
 "nbformat_minor": 2
}
