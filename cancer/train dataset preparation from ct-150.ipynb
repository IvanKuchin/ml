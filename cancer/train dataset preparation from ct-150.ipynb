{
 "cells": [
  {
   "cell_type": "code",
   "execution_count": 146,
   "metadata": {},
   "outputs": [],
   "source": [
    "import tensorflow as tf\n",
    "import numpy as np\n",
    "import scipy\n",
    "import pydicom\n",
    "import glob\n",
    "import os\n",
    "import re\n",
    "import nibabel"
   ]
  },
  {
   "cell_type": "code",
   "execution_count": 81,
   "metadata": {},
   "outputs": [],
   "source": [
    "PATIENTS_SRC_FOLDER = \"/docs/src/kt/datasets/ct-150/data/\"\n",
    "LABELS_SRC_FOLDER = \"/docs/src/kt/datasets/ct-150/labels/\"\n",
    "TFRECORD_FOLDER = \"/docs/src/kt/datasets/ct-150/tfrecords/\"\n",
    "INPUT_DIMS = np.array([256, 256, 256])\n",
    "AUGMENT_SCALE_FACTOR = 0.1\n",
    "AUGMENT_SCALED_DIMS = tf.cast(tf.constant(input_dims, dtype=tf.float32) * (1 + scale_factor), dtype=tf.int32).numpy()"
   ]
  },
  {
   "cell_type": "code",
   "execution_count": 160,
   "metadata": {},
   "outputs": [
    {
     "name": "stdout",
     "output_type": "stream",
     "text": [
      "Read data about patient 0001\n"
     ]
    },
    {
     "ename": "AttributeError",
     "evalue": "'CT150' object has no attribute 'TFRECORD_FOLDER'",
     "output_type": "error",
     "traceback": [
      "\u001b[1;31m---------------------------------------------------------------------------\u001b[0m",
      "\u001b[1;31mAttributeError\u001b[0m                            Traceback (most recent call last)",
      "\u001b[1;32m<ipython-input-160-a64b4929dd42>\u001b[0m in \u001b[0;36m<module>\u001b[1;34m\u001b[0m\n\u001b[0;32m    120\u001b[0m \u001b[1;33m\u001b[0m\u001b[0m\n\u001b[0;32m    121\u001b[0m \u001b[0mct150\u001b[0m \u001b[1;33m=\u001b[0m \u001b[0mCT150\u001b[0m\u001b[1;33m(\u001b[0m\u001b[0mPATIENTS_SRC_FOLDER\u001b[0m\u001b[1;33m,\u001b[0m \u001b[0mLABELS_SRC_FOLDER\u001b[0m\u001b[1;33m,\u001b[0m \u001b[0mTFRECORD_FOLDER\u001b[0m\u001b[1;33m)\u001b[0m\u001b[1;33m\u001b[0m\u001b[1;33m\u001b[0m\u001b[0m\n\u001b[1;32m--> 122\u001b[1;33m \u001b[0mct150\u001b[0m\u001b[1;33m.\u001b[0m\u001b[0mReadSrcDataAndLabels_SaveAsTFRecords\u001b[0m\u001b[1;33m(\u001b[0m\u001b[1;33m)\u001b[0m\u001b[1;33m\u001b[0m\u001b[1;33m\u001b[0m\u001b[0m\n\u001b[0m",
      "\u001b[1;32m<ipython-input-160-a64b4929dd42>\u001b[0m in \u001b[0;36mReadSrcDataAndLabels_SaveAsTFRecords\u001b[1;34m(self)\u001b[0m\n\u001b[0;32m    109\u001b[0m                     \u001b[0msrc_data\u001b[0m\u001b[1;33m,\u001b[0m \u001b[0mlabel_data\u001b[0m \u001b[1;33m=\u001b[0m \u001b[0mself\u001b[0m\u001b[1;33m.\u001b[0m\u001b[0mPreprocessData\u001b[0m\u001b[1;33m(\u001b[0m\u001b[0msrc_data\u001b[0m\u001b[1;33m,\u001b[0m \u001b[0mlabel_data\u001b[0m\u001b[1;33m)\u001b[0m\u001b[1;33m\u001b[0m\u001b[1;33m\u001b[0m\u001b[0m\n\u001b[0;32m    110\u001b[0m \u001b[1;33m\u001b[0m\u001b[0m\n\u001b[1;32m--> 111\u001b[1;33m                     \u001b[1;32mif\u001b[0m\u001b[1;33m(\u001b[0m\u001b[0mself\u001b[0m\u001b[1;33m.\u001b[0m\u001b[0mSaveTFRecords\u001b[0m\u001b[1;33m(\u001b[0m\u001b[0mpatient_id\u001b[0m\u001b[1;33m,\u001b[0m \u001b[0msrc_data\u001b[0m\u001b[1;33m,\u001b[0m \u001b[0mlabel_data\u001b[0m\u001b[1;33m)\u001b[0m\u001b[1;33m)\u001b[0m\u001b[1;33m:\u001b[0m\u001b[1;33m\u001b[0m\u001b[1;33m\u001b[0m\u001b[0m\n\u001b[0m\u001b[0;32m    112\u001b[0m                         \u001b[1;32mpass\u001b[0m\u001b[1;33m\u001b[0m\u001b[1;33m\u001b[0m\u001b[0m\n\u001b[0;32m    113\u001b[0m                     \u001b[1;32melse\u001b[0m\u001b[1;33m:\u001b[0m\u001b[1;33m\u001b[0m\u001b[1;33m\u001b[0m\u001b[0m\n",
      "\u001b[1;32m<ipython-input-160-a64b4929dd42>\u001b[0m in \u001b[0;36mSaveTFRecords\u001b[1;34m(self, patient_id, data, label)\u001b[0m\n\u001b[0;32m     65\u001b[0m         \u001b[0mresult\u001b[0m \u001b[1;33m=\u001b[0m \u001b[1;32mTrue\u001b[0m\u001b[1;33m\u001b[0m\u001b[1;33m\u001b[0m\u001b[0m\n\u001b[0;32m     66\u001b[0m \u001b[1;33m\u001b[0m\u001b[0m\n\u001b[1;32m---> 67\u001b[1;33m         \u001b[1;32mwith\u001b[0m \u001b[0mtf\u001b[0m\u001b[1;33m.\u001b[0m\u001b[0mio\u001b[0m\u001b[1;33m.\u001b[0m\u001b[0mTFRecordWriter\u001b[0m\u001b[1;33m(\u001b[0m\u001b[0mos\u001b[0m\u001b[1;33m.\u001b[0m\u001b[0mpath\u001b[0m\u001b[1;33m.\u001b[0m\u001b[0mjoin\u001b[0m\u001b[1;33m(\u001b[0m\u001b[0mself\u001b[0m\u001b[1;33m.\u001b[0m\u001b[0mTFRECORD_FOLDER\u001b[0m\u001b[1;33m,\u001b[0m \u001b[0mpatient_id\u001b[0m \u001b[1;33m+\u001b[0m \u001b[1;34m\".tfrecord\"\u001b[0m\u001b[1;33m)\u001b[0m\u001b[1;33m)\u001b[0m \u001b[1;32mas\u001b[0m \u001b[0mf\u001b[0m\u001b[1;33m:\u001b[0m\u001b[1;33m\u001b[0m\u001b[1;33m\u001b[0m\u001b[0m\n\u001b[0m\u001b[0;32m     68\u001b[0m             feature = {\n\u001b[0;32m     69\u001b[0m                 \u001b[1;34m\"original_shape\"\u001b[0m\u001b[1;33m:\u001b[0m \u001b[0mFeature\u001b[0m\u001b[1;33m(\u001b[0m\u001b[0mint64_list\u001b[0m\u001b[1;33m=\u001b[0m\u001b[0mtf\u001b[0m\u001b[1;33m.\u001b[0m\u001b[0mtrain\u001b[0m\u001b[1;33m.\u001b[0m\u001b[0mInt64List\u001b[0m\u001b[1;33m(\u001b[0m\u001b[0mvalue\u001b[0m\u001b[1;33m=\u001b[0m\u001b[0mdata\u001b[0m\u001b[1;33m.\u001b[0m\u001b[0mshape\u001b[0m\u001b[1;33m(\u001b[0m\u001b[1;33m)\u001b[0m\u001b[1;33m)\u001b[0m\u001b[1;33m)\u001b[0m\u001b[1;33m,\u001b[0m\u001b[1;33m\u001b[0m\u001b[1;33m\u001b[0m\u001b[0m\n",
      "\u001b[1;31mAttributeError\u001b[0m: 'CT150' object has no attribute 'TFRECORD_FOLDER'"
     ]
    }
   ],
   "source": [
    "class CT150:\n",
    "    def __init__(self, patients_src_folder, labels_src_folder, tfrecord_folder):\n",
    "        self.patients_src_folder = patients_src_folder\n",
    "        self.labels_src_folder = labels_src_folder\n",
    "        self.tfrecord_folder = tfrecord_folder\n",
    "\n",
    "    def GetPatientIDFromFolder(self, folder):\n",
    "        result = None\n",
    "        m = re.search(\"PANCREAS_(\\d+)\", folder)\n",
    "        if(m):\n",
    "            result = m.group(1)\n",
    "        return result\n",
    "        \n",
    "    def ReadDICOMDataFromFiles(self, files):\n",
    "        result = np.array([])\n",
    "        \n",
    "        slices = [pydicom.dcmread(file) for file in files]\n",
    "        slices.sort(key = lambda x: float(x.ImagePositionPatient[2]) )\n",
    "\n",
    "        if(len(slices)):\n",
    "            result = np.stack([_.pixel_array for _ in slices], axis=-1)\n",
    "        else:\n",
    "            print(\"ERROR: can't dcmrad from files:\", files)\n",
    "        \n",
    "        return result\n",
    "        \n",
    "    def GetDICOMData(self, folder):\n",
    "        result = np.array([])\n",
    "        file_list = glob.glob(os.path.join(folder, \"*.dcm\"))\n",
    "        if(len(file_list)):\n",
    "            result = self.ReadDICOMDataFromFiles(file_list)\n",
    "            if(result.shape[0]):\n",
    "                # --- nothing to do\n",
    "                a = 1\n",
    "            else:\n",
    "                print(\"ERROR: reading DICOM data from files:\", file_list)\n",
    "        else:\n",
    "            folders = glob.glob(os.path.join(folder, \"*\"))\n",
    "            if(len(folders)):\n",
    "                result = self.GetDICOMData(folders[0])\n",
    "                \n",
    "        return result\n",
    "        \n",
    "    def GetNiftiData(self, patient_id):\n",
    "        nifti_data = nibabel.load(os.path.join(self.labels_src_folder, \"label\" + patient_id + \".nii\"))\n",
    "        return nifti_data.get_fdata()\n",
    "        \n",
    "    def ConsistencyCheck(self, data, label):\n",
    "        result = False\n",
    "    \n",
    "        if(data.shape[0]):\n",
    "            if(label.shape[0]):\n",
    "                if(data.shape == label.shape):\n",
    "                    result = True\n",
    "                else:\n",
    "                    print(\"ERROR: data shape is not equal to label shape\")                \n",
    "            else:\n",
    "                print(\"ERROR: label shape is incorrect (\", label.shape, \")\")\n",
    "        else:\n",
    "            print(\"ERROR: data shape is incorrect (\", data.shape, \")\")\n",
    "    \n",
    "        return result\n",
    "    \n",
    "    def SaveTFRecords(self, patient_id, data, label):\n",
    "        result = True\n",
    "        \n",
    "        with tf.io.TFRecordWriter(os.path.join(self.TFRECORD_FOLDER, patient_id + \".tfrecord\")) as f:\n",
    "            feature = {\n",
    "                \"original_shape\": Feature(int64_list=tf.train.Int64List(value=data.shape())),\n",
    "                \"data\": Feature(float_list=tf.train.FloatList(value=tf.random.normal([15]))),\n",
    "            }\n",
    "\n",
    "            example_proto = tf.train.Example(features = tf.train.Features(feature=feature))\n",
    "            f.write(example_proto.SerializeToString())\n",
    "        \n",
    "        \n",
    "        return result\n",
    "    \n",
    "    def PreprocessData(self, data, label):\n",
    "        data_processed = (data - data.min()) / (data.max() - data.min())\n",
    "        return data_processed, label\n",
    "    \n",
    "    def ReadSrcDataAndLabels_SaveAsTFRecords(self):\n",
    "        folder_list = glob.glob(os.path.join(self.patients_src_folder, \"*\"))\n",
    "        \n",
    "        for folder in folder_list:\n",
    "            patient_id = self.GetPatientIDFromFolder(folder)\n",
    "            if(patient_id):\n",
    "                # --- read data about patient\n",
    "                print(\"Read data about patient\", patient_id)\n",
    "                \n",
    "                src_data = self.GetDICOMData(folder)\n",
    "                if(src_data.shape[0]):\n",
    "                    # print(\"\\tread from dicom files:\", src_data.shape)\n",
    "                    pass\n",
    "                else:\n",
    "                    print(\"ERROR: can't read DICOM data from folder:\", folder)\n",
    "                    \n",
    "                label_data = self.GetNiftiData(patient_id)\n",
    "                if(label_data.shape[0]):\n",
    "                    # print(\"label mean:\", label_data.get_fdata().mean())\n",
    "                    pass\n",
    "                else:\n",
    "                    print(\"ERROR: can't find nifti labels:\", patient_id)\n",
    "                    \n",
    "                if(self.ConsistencyCheck(src_data, label_data)):\n",
    "                    # print(\"\\tdata & labels are consistent\")\n",
    "\n",
    "                    src_data, label_data = self.PreprocessData(src_data, label_data)\n",
    "\n",
    "                    if(self.SaveTFRecords(patient_id, src_data, label_data)):\n",
    "                        pass\n",
    "                    else:\n",
    "                        print(\"ERROR: can't save TFRecord patient id:\", patient_id)\n",
    "\n",
    "                else:\n",
    "                    print(\"ERROR: data & labels are not consistent\")\n",
    "            else:\n",
    "                print(\"ERROR: identifying patient_id from folder:\", folder)\n",
    "\n",
    "ct150 = CT150(PATIENTS_SRC_FOLDER, LABELS_SRC_FOLDER, TFRECORD_FOLDER)\n",
    "ct150.ReadSrcDataAndLabels_SaveAsTFRecords()"
   ]
  },
  {
   "cell_type": "code",
   "execution_count": 104,
   "metadata": {},
   "outputs": [
    {
     "name": "stdout",
     "output_type": "stream",
     "text": [
      "yeah 00001\n"
     ]
    }
   ],
   "source": [
    "m = re.search(\"PANCREAS_(\\d+)\", \"folder\\\\PANCREAS_00001\")\n",
    "if(m):\n",
    "    print(\"yeah\", m.group())\n",
    "else:\n",
    "    print(\"no\")"
   ]
  },
  {
   "cell_type": "code",
   "execution_count": null,
   "metadata": {},
   "outputs": [],
   "source": []
  }
 ],
 "metadata": {
  "kernelspec": {
   "display_name": "Python 3",
   "language": "python",
   "name": "python3"
  },
  "language_info": {
   "codemirror_mode": {
    "name": "ipython",
    "version": 3
   },
   "file_extension": ".py",
   "mimetype": "text/x-python",
   "name": "python",
   "nbconvert_exporter": "python",
   "pygments_lexer": "ipython3",
   "version": "3.7.7"
  }
 },
 "nbformat": 4,
 "nbformat_minor": 4
}
