{
 "cells": [
  {
   "cell_type": "code",
   "execution_count": 2,
   "metadata": {},
   "outputs": [
    {
     "name": "stdout",
     "output_type": "stream",
     "text": [
      "No GPU was detected. CNNs can be very slow without a GPU.\n"
     ]
    }
   ],
   "source": [
    "# Python ≥3.5 is required\n",
    "import sys\n",
    "assert sys.version_info >= (3, 5)\n",
    "\n",
    "# Scikit-Learn ≥0.20 is required\n",
    "import sklearn\n",
    "assert sklearn.__version__ >= \"0.20\"\n",
    "\n",
    "try:\n",
    "    # %tensorflow_version only exists in Colab.\n",
    "    %tensorflow_version 2.x\n",
    "    IS_COLAB = True\n",
    "except Exception:\n",
    "    IS_COLAB = False\n",
    "\n",
    "# TensorFlow ≥2.0 is required\n",
    "import tensorflow as tf\n",
    "from tensorflow import keras\n",
    "import tensorflow_addons as tfa\n",
    "assert tf.__version__ >= \"2.0\"\n",
    "\n",
    "if not tf.test.is_gpu_available():\n",
    "    print(\"No GPU was detected. CNNs can be very slow without a GPU.\")\n",
    "    if IS_COLAB:\n",
    "        print(\"Go to Runtime > Change runtime and select a GPU hardware accelerator.\")\n",
    "\n",
    "# Common imports\n",
    "import numpy as np\n",
    "import os\n",
    "\n",
    "# to make this notebook's output stable across runs\n",
    "np.random.seed(42)\n",
    "tf.random.set_seed(42)\n",
    "\n",
    "# To plot pretty figures\n",
    "%matplotlib inline\n",
    "import matplotlib as mpl\n",
    "import matplotlib.pyplot as plt\n",
    "mpl.rc('axes', labelsize=14)\n",
    "mpl.rc('xtick', labelsize=12)\n",
    "mpl.rc('ytick', labelsize=12)\n",
    "\n",
    "# Where to save the figures\n",
    "PROJECT_ROOT_DIR = \".\"\n",
    "CHAPTER_ID = \"cnn\"\n",
    "IMAGES_PATH = os.path.join(PROJECT_ROOT_DIR, \"images\", CHAPTER_ID)\n",
    "os.makedirs(IMAGES_PATH, exist_ok=True)\n",
    "\n",
    "def save_fig(fig_id, tight_layout=True, fig_extension=\"png\", resolution=300):\n",
    "    path = os.path.join(IMAGES_PATH, fig_id + \".\" + fig_extension)\n",
    "    print(\"Saving figure\", fig_id)\n",
    "    if tight_layout:\n",
    "        plt.tight_layout()\n",
    "    plt.savefig(path, format=fig_extension, dpi=resolution)\n",
    "    \n",
    "\n",
    "def plot_image(image):\n",
    "    plt.imshow(image, cmap=\"gray\", interpolation=\"nearest\")\n",
    "    plt.axis(\"off\")\n",
    "\n",
    "def plot_color_image(image):\n",
    "    plt.imshow(image, interpolation=\"nearest\")\n",
    "    plt.axis(\"off\")"
   ]
  },
  {
   "cell_type": "code",
   "execution_count": 3,
   "metadata": {},
   "outputs": [],
   "source": [
    "import unicodedata\n",
    "import re\n",
    "import numpy as np\n",
    "import os\n",
    "import io\n",
    "import time"
   ]
  },
  {
   "cell_type": "code",
   "execution_count": 29,
   "metadata": {},
   "outputs": [
    {
     "name": "stdout",
     "output_type": "stream",
     "text": [
      "vec1: tf.Tensor(\n",
      "[[[ 0.36693168 -0.03142939 -0.05270752  0.28852358  1.4586115 ]\n",
      "  [ 0.7110663   0.9906853  -0.20805798 -1.6630249  -0.22793514]\n",
      "  [-0.67079324 -0.16073409 -1.4264216   0.30283737  0.94773036]]], shape=(1, 3, 5), dtype=float32)\n",
      "vec2: tf.Tensor([[[-0.5523242  -0.00488456 -1.8659807   0.3550772  -0.37767205]]], shape=(1, 1, 5), dtype=float32)\n",
      "vec1*vec2: tf.Tensor(\n",
      "[[[-2.02665240e-01  1.53518602e-04  9.83512253e-02  1.02448151e-01\n",
      "   -5.50876796e-01]\n",
      "  [-3.92739117e-01 -4.83905757e-03  3.88232201e-01 -5.90502262e-01\n",
      "    8.60847309e-02]\n",
      "  [ 3.70495319e-01  7.85114651e-04  2.66167521e+00  1.07530646e-01\n",
      "   -3.57931256e-01]]], shape=(1, 3, 5), dtype=float32)\n",
      "vec12_summed: tf.Tensor([[-0.22490907 -0.00390042  3.1482587  -0.38052344 -0.8227233 ]], shape=(1, 5), dtype=float32)\n",
      "vec1[:,0] tf.Tensor([[[-0.67079324 -0.16073409 -1.4264216   0.30283737  0.94773036]]], shape=(1, 1, 5), dtype=float32)\n"
     ]
    }
   ],
   "source": [
    "vec1 = tf.random.normal((1, 3,5))\n",
    "vec2 = tf.random.normal((1, 1,5))\n",
    "vec12 = vec1*vec2\n",
    "vec12_summed = tf.reduce_sum(vec12, axis=1)\n",
    "print(\"vec1:\", vec1)\n",
    "print(\"vec2:\", vec2)\n",
    "print(\"vec1*vec2:\", vec1*vec2)\n",
    "print(\"vec12_summed:\", vec12_summed)\n",
    "\n",
    "print(\"vec1[:,0]\", vec1[:,2:3])"
   ]
  },
  {
   "cell_type": "code",
   "execution_count": 43,
   "metadata": {},
   "outputs": [],
   "source": [
    "path_to_file = \"c:\\\\Users\\\\ikuchin\\\\.keras\\\\datasets\\\\rus-eng\\\\rus.txt\"\n",
    "# path_to_zip = tf.keras.utils.get_file(\"rus-eng.zip\", origin=\"http://storage.googleapis.com/download.tensorflow.org/data/spa-eng.zip\", extract=True)\n",
    "# path_to_file = os.path.dirname(path_to_zip) + \"/rus-eng/rus.txt\""
   ]
  },
  {
   "cell_type": "code",
   "execution_count": 52,
   "metadata": {},
   "outputs": [
    {
     "name": "stdout",
     "output_type": "stream",
     "text": [
      "('go.', 'go.', 'go.', 'hi.', 'hi.', 'hi.', 'hi.', 'hi.', 'run!', 'run!')\n",
      "('марш!', 'иди.', 'идите.', 'здравствуите.', 'привет!', 'хаи.', 'здрасте.', 'здорово!', 'беги!', 'бегите!')\n"
     ]
    }
   ],
   "source": [
    "def unicode_to_ascii(s):\n",
    "    return ''.join(_ for _ in unicodedata.normalize('NFD', s)\n",
    "        if unicodedata.category(_) != 'Mn')\n",
    "\n",
    "def preprocess_sentense(sentence):\n",
    "    w = unicode_to_ascii(sentence.lower().strip())\n",
    "    return w\n",
    "\n",
    "def create_dataset(path, num_examples):\n",
    "    lines = io.open(path, encoding=\"UTF-8\").read().strip().split(\"\\n\")\n",
    "    word_pairs=[[preprocess_sentense(words) for words in line.split(\"\\t\")] for line in lines[:num_examples]]\n",
    "#     word_pairs=[[words for words in line.split(\"\\t\")] for line in lines[:num_examples]]\n",
    "    \n",
    "    return zip(*word_pairs)\n",
    "\n",
    "en, ru, _ = create_dataset(path_to_file, 10)\n",
    "\n",
    "print(en)\n",
    "print(ru)"
   ]
  },
  {
   "cell_type": "code",
   "execution_count": 41,
   "metadata": {},
   "outputs": [
    {
     "data": {
      "text/plain": [
       "'C:\\\\Users\\\\ikuchin\\\\.keras\\\\datasets/rus-eng/rus.txt'"
      ]
     },
     "execution_count": 41,
     "metadata": {},
     "output_type": "execute_result"
    }
   ],
   "source": [
    "path_to_file"
   ]
  },
  {
   "cell_type": "code",
   "execution_count": null,
   "metadata": {},
   "outputs": [],
   "source": []
  }
 ],
 "metadata": {
  "kernelspec": {
   "display_name": "Python 3",
   "language": "python",
   "name": "python3"
  },
  "language_info": {
   "codemirror_mode": {
    "name": "ipython",
    "version": 3
   },
   "file_extension": ".py",
   "mimetype": "text/x-python",
   "name": "python",
   "nbconvert_exporter": "python",
   "pygments_lexer": "ipython3",
   "version": "3.8.3"
  }
 },
 "nbformat": 4,
 "nbformat_minor": 4
}
