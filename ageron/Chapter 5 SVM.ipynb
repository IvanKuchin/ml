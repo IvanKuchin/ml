{
 "cells": [
  {
   "cell_type": "code",
   "execution_count": 2,
   "metadata": {},
   "outputs": [],
   "source": [
    "import numpy as np\n",
    "\n",
    "np.random.seed(42)\n",
    "m = 50\n",
    "X = 2 * np.random.rand(m, 1)\n",
    "y = (4 + 3 * X + np.random.randn(m, 1)).ravel()"
   ]
  },
  {
   "cell_type": "code",
   "execution_count": 4,
   "metadata": {},
   "outputs": [
    {
     "data": {
      "text/plain": [
       "LinearSVR(C=1.0, dual=True, epsilon=1.5, fit_intercept=True,\n",
       "          intercept_scaling=1.0, loss='epsilon_insensitive', max_iter=1000,\n",
       "          random_state=42, tol=0.0001, verbose=0)"
      ]
     },
     "execution_count": 4,
     "metadata": {},
     "output_type": "execute_result"
    }
   ],
   "source": [
    "from sklearn.svm import LinearSVR\n",
    "\n",
    "svm_reg = LinearSVR(epsilon=1.5, random_state=42)\n",
    "svm_reg.fit(X, y)"
   ]
  },
  {
   "cell_type": "code",
   "execution_count": 10,
   "metadata": {},
   "outputs": [
    {
     "data": {
      "text/plain": [
       "True"
      ]
     },
     "execution_count": 10,
     "metadata": {},
     "output_type": "execute_result"
    }
   ],
   "source": [
    "svm_reg.dual"
   ]
  },
  {
   "cell_type": "code",
   "execution_count": 36,
   "metadata": {},
   "outputs": [],
   "source": [
    "# -------- Ex 8\n",
    "from sklearn import datasets\n",
    "\n",
    "iris = datasets.load_iris()\n",
    "X = iris.data[:, (2,3)]\n",
    "y = iris.target\n",
    "\n",
    "setosa_or_versicolor = (y == 0) | (y == 1)\n",
    "\n",
    "X = X[setosa_or_versicolor]\n",
    "y = y[setosa_or_versicolor]"
   ]
  },
  {
   "cell_type": "code",
   "execution_count": 37,
   "metadata": {},
   "outputs": [
    {
     "data": {
      "text/plain": [
       "array([0, 0, 0, 0, 0, 0, 0, 0, 0, 0, 0, 0, 0, 0, 0, 0, 0, 0, 0, 0, 0, 0,\n",
       "       0, 0, 0, 0, 0, 0, 0, 0, 0, 0, 0, 0, 0, 0, 0, 0, 0, 0, 0, 0, 0, 0,\n",
       "       0, 0, 0, 0, 0, 0, 1, 1, 1, 1, 1, 1, 1, 1, 1, 1, 1, 1, 1, 1, 1, 1,\n",
       "       1, 1, 1, 1, 1, 1, 1, 1, 1, 1, 1, 1, 1, 1, 1, 1, 1, 1, 1, 1, 1, 1,\n",
       "       1, 1, 1, 1, 1, 1, 1, 1, 1, 1, 1, 1])"
      ]
     },
     "execution_count": 37,
     "metadata": {},
     "output_type": "execute_result"
    }
   ],
   "source": [
    "y"
   ]
  },
  {
   "cell_type": "code",
   "execution_count": 102,
   "metadata": {},
   "outputs": [
    {
     "name": "stdout",
     "output_type": "stream",
     "text": [
      "LinearSVC:  [0.28474027] [[1.0536456  1.09903032]]\n",
      "SVM:  [0.31896852] [[1.1203284  1.02625193]]\n",
      "SGD:  [0.30628707] [[1.1788551  1.06351567]]\n"
     ]
    }
   ],
   "source": [
    "from sklearn.svm import SVC, LinearSVC\n",
    "from sklearn.linear_model import SGDClassifier\n",
    "from sklearn.preprocessing import StandardScaler\n",
    "\n",
    "C=5\n",
    "alpha = 1 / (C * len(X))\n",
    "\n",
    "lin_clf = LinearSVC(loss=\"hinge\", C=C, random_state=42)\n",
    "svm_clf = SVC(kernel=\"linear\", C=C)\n",
    "sgd_clf = SGDClassifier(loss=\"hinge\", eta0=0.001, alpha=alpha, max_iter=100, tol=-np.infty, random_state=42)\n",
    "\n",
    "scaler = StandardScaler()\n",
    "X_scaled = scaler.fit_transform(X)\n",
    "\n",
    "lin_clf.fit(X_scaled, y)\n",
    "svm_clf.fit(X_scaled, y)\n",
    "sgd_clf.fit(X_scaled, y)\n",
    "\n",
    "print(\"LinearSVC: \", lin_clf.intercept_, lin_clf.coef_)\n",
    "print(\"SVM: \", svm_clf.intercept_, svm_clf.coef_)\n",
    "print(\"SGD: \", sgd_clf.intercept_, sgd_clf.coef_)\n",
    "\n"
   ]
  },
  {
   "cell_type": "code",
   "execution_count": 103,
   "metadata": {},
   "outputs": [
    {
     "data": {
      "image/png": "[encoded data removed]",
      "text/plain": [
       "<Figure size 720x288 with 1 Axes>"
      ]
     },
     "metadata": {
      "needs_background": "light"
     },
     "output_type": "display_data"
    }
   ],
   "source": [
    "import matplotlib.pyplot as plt\n",
    "\n",
    "# Compute the slope and bias of each decision boundary\n",
    "w1 = -lin_clf.coef_[0, 0]/lin_clf.coef_[0, 1]\n",
    "b1 = -lin_clf.intercept_[0]/lin_clf.coef_[0, 1]\n",
    "w2 = -svm_clf.coef_[0, 0]/svm_clf.coef_[0, 1]\n",
    "b2 = -svm_clf.intercept_[0]/svm_clf.coef_[0, 1]\n",
    "w3 = -sgd_clf.coef_[0, 0]/sgd_clf.coef_[0, 1]\n",
    "b3 = -sgd_clf.intercept_[0]/sgd_clf.coef_[0, 1]\n",
    "\n",
    "line1 = scaler.inverse_transform([[-10, -10 * w1 + b1], [10, 10 * w1 + b1]])\n",
    "line2 = scaler.inverse_transform([[-10, -10 * w2 + b2], [10, 10 * w2 + b2]])\n",
    "line3 = scaler.inverse_transform([[-10, -10 * w3 + b3], [10, 10 * w3 + b3]])\n",
    "\n",
    "plt.figure(figsize=(10,4))\n",
    "plt.plot(line1[:, 0], line1[:, 1], \"k:\", label=\"LinearSVC\")\n",
    "plt.plot(line2[:, 0], line2[:, 1], \"b--\", label=\"SVC\")\n",
    "plt.plot(line3[:, 0], line3[:, 1], \"r-\", label=\"SGD\")\n",
    "plt.plot(X[:, 0][y == 1], X[:, 1][y == 1], \"bs\")\n",
    "plt.plot(X[:, 0][y == 0], X[:, 1][y == 0], \"ro\")\n",
    "\n",
    "plt.axis([0, 7, 0, 3])\n",
    "\n",
    "plt.xlabel(\"Petal length\", fontsize=14)\n",
    "plt.ylabel(\"Petal width\", fontsize=14)\n",
    "\n",
    "plt.legend()\n",
    "plt.show()"
   ]
  },
  {
   "cell_type": "code",
   "execution_count": 104,
   "metadata": {},
   "outputs": [
    {
     "data": {
      "text/plain": [
       "array([5, 4, 1, 2, 0, 3])"
      ]
     },
     "execution_count": 104,
     "metadata": {},
     "output_type": "execute_result"
    }
   ],
   "source": [
    "np.random.permutation(6)"
   ]
  },
  {
   "cell_type": "code",
   "execution_count": 109,
   "metadata": {},
   "outputs": [],
   "source": [
    "# ------- MNIST\n",
    "from sklearn.datasets import fetch_openml\n",
    "mnist = fetch_openml('mnist_784', version=1, cache=True)\n"
   ]
  },
  {
   "cell_type": "code",
   "execution_count": 153,
   "metadata": {},
   "outputs": [],
   "source": [
    "np.random.seed(42)\n",
    "rnd_idx = np.random.permutation(60000)\n",
    "\n",
    "X_train = mnist[\"data\"][:60000][rnd_idx]\n",
    "X_test = mnist[\"data\"][60000:]\n",
    "\n",
    "y_train = mnist[\"target\"][:60000][rnd_idx]\n",
    "y_test = mnist[\"target\"][60000:]"
   ]
  },
  {
   "cell_type": "code",
   "execution_count": 154,
   "metadata": {},
   "outputs": [
    {
     "name": "stderr",
     "output_type": "stream",
     "text": [
      "C:\\Users\\ikuchin\\AppData\\Local\\Continuum\\miniconda3\\envs\\nnseries\\lib\\site-packages\\sklearn\\svm\\base.py:929: ConvergenceWarning: Liblinear failed to converge, increase the number of iterations.\n",
      "  \"the number of iterations.\", ConvergenceWarning)\n"
     ]
    },
    {
     "data": {
      "text/plain": [
       "LinearSVC(C=1.0, class_weight=None, dual=True, fit_intercept=True,\n",
       "          intercept_scaling=1, loss='squared_hinge', max_iter=1000,\n",
       "          multi_class='ovr', penalty='l2', random_state=42, tol=0.0001,\n",
       "          verbose=0)"
      ]
     },
     "execution_count": 154,
     "metadata": {},
     "output_type": "execute_result"
    }
   ],
   "source": [
    "lin_clf = LinearSVC(random_state = 42)\n",
    "lin_clf.fit(X_train, y_train)"
   ]
  },
  {
   "cell_type": "code",
   "execution_count": 156,
   "metadata": {},
   "outputs": [
    {
     "data": {
      "text/plain": [
       "0.87"
      ]
     },
     "execution_count": 156,
     "metadata": {},
     "output_type": "execute_result"
    }
   ],
   "source": [
    "from sklearn.metrics import accuracy_score\n",
    "\n",
    "y_pred = lin_clf.predict(X_test)\n",
    "accuracy_score(y_test, y_pred)"
   ]
  },
  {
   "cell_type": "code",
   "execution_count": 158,
   "metadata": {},
   "outputs": [
    {
     "name": "stderr",
     "output_type": "stream",
     "text": [
      "C:\\Users\\ikuchin\\AppData\\Local\\Continuum\\miniconda3\\envs\\nnseries\\lib\\site-packages\\sklearn\\svm\\base.py:929: ConvergenceWarning: Liblinear failed to converge, increase the number of iterations.\n",
      "  \"the number of iterations.\", ConvergenceWarning)\n"
     ]
    },
    {
     "data": {
      "text/plain": [
       "0.9119"
      ]
     },
     "execution_count": 158,
     "metadata": {},
     "output_type": "execute_result"
    }
   ],
   "source": [
    "scaler = StandardScaler()\n",
    "X_train_scaled = scaler.fit_transform(X_train)\n",
    "X_test_scaled = scaler.fit_transform(X_test)\n",
    "\n",
    "lin_clf = LinearSVC(random_state=42)\n",
    "lin_clf.fit(X_train_scaled, y_train)\n",
    "\n",
    "y_pred = lin_clf.predict(X_test_scaled)\n",
    "accuracy_score(y_test, y_pred)"
   ]
  },
  {
   "cell_type": "code",
   "execution_count": 164,
   "metadata": {},
   "outputs": [
    {
     "data": {
      "text/plain": [
       "0.9416"
      ]
     },
     "execution_count": 164,
     "metadata": {},
     "output_type": "execute_result"
    }
   ],
   "source": [
    "svc_clf = SVC(decision_function_shape=\"ovr\", gamma=\"auto\")\n",
    "svc_clf.fit(X_train_scaled[:10000], y_train[:10000])\n",
    "y_pred = svc_clf.predict(X_test_scaled)\n",
    "accuracy_score(y_test, y_pred)"
   ]
  },
  {
   "cell_type": "code",
   "execution_count": 174,
   "metadata": {},
   "outputs": [
    {
     "name": "stdout",
     "output_type": "stream",
     "text": [
      "Fitting 3 folds for each of 10 candidates, totalling 30 fits\n",
      "[CV] C=5.248206329354602, gamma=0.0012679495035389098 ................\n"
     ]
    },
    {
     "name": "stderr",
     "output_type": "stream",
     "text": [
      "[Parallel(n_jobs=1)]: Using backend SequentialBackend with 1 concurrent workers.\n"
     ]
    },
    {
     "name": "stdout",
     "output_type": "stream",
     "text": [
      "[CV] . C=5.248206329354602, gamma=0.0012679495035389098, total=   0.7s\n",
      "[CV] C=5.248206329354602, gamma=0.0012679495035389098 ................\n"
     ]
    },
    {
     "name": "stderr",
     "output_type": "stream",
     "text": [
      "[Parallel(n_jobs=1)]: Done   1 out of   1 | elapsed:    0.6s remaining:    0.0s\n"
     ]
    },
    {
     "name": "stdout",
     "output_type": "stream",
     "text": [
      "[CV] . C=5.248206329354602, gamma=0.0012679495035389098, total=   0.6s\n",
      "[CV] C=5.248206329354602, gamma=0.0012679495035389098 ................\n",
      "[CV] . C=5.248206329354602, gamma=0.0012679495035389098, total=   0.7s\n",
      "[CV] C=2.273002361324145, gamma=0.0015577284706445767 ................\n",
      "[CV] . C=2.273002361324145, gamma=0.0015577284706445767, total=   0.7s\n",
      "[CV] C=2.273002361324145, gamma=0.0015577284706445767 ................\n",
      "[CV] . C=2.273002361324145, gamma=0.0015577284706445767, total=   0.7s\n",
      "[CV] C=2.273002361324145, gamma=0.0015577284706445767 ................\n",
      "[CV] . C=2.273002361324145, gamma=0.0015577284706445767, total=   0.7s\n",
      "[CV] C=1.4631693914665058, gamma=0.00918319995193482 .................\n",
      "[CV] .. C=1.4631693914665058, gamma=0.00918319995193482, total=   0.9s\n",
      "[CV] C=1.4631693914665058, gamma=0.00918319995193482 .................\n",
      "[CV] .. C=1.4631693914665058, gamma=0.00918319995193482, total=   0.9s\n",
      "[CV] C=1.4631693914665058, gamma=0.00918319995193482 .................\n",
      "[CV] .. C=1.4631693914665058, gamma=0.00918319995193482, total=   0.9s\n",
      "[CV] C=4.338030832261451, gamma=0.0742838593966555 ...................\n",
      "[CV] .... C=4.338030832261451, gamma=0.0742838593966555, total=   0.9s\n",
      "[CV] C=4.338030832261451, gamma=0.0742838593966555 ...................\n",
      "[CV] .... C=4.338030832261451, gamma=0.0742838593966555, total=   0.9s\n",
      "[CV] C=4.338030832261451, gamma=0.0742838593966555 ...................\n",
      "[CV] .... C=4.338030832261451, gamma=0.0742838593966555, total=   0.9s\n",
      "[CV] C=2.027605354417378, gamma=0.07113292567661283 ..................\n",
      "[CV] ... C=2.027605354417378, gamma=0.07113292567661283, total=   0.9s\n",
      "[CV] C=2.027605354417378, gamma=0.07113292567661283 ..................\n",
      "[CV] ... C=2.027605354417378, gamma=0.07113292567661283, total=   0.9s\n",
      "[CV] C=2.027605354417378, gamma=0.07113292567661283 ..................\n",
      "[CV] ... C=2.027605354417378, gamma=0.07113292567661283, total=   0.9s\n",
      "[CV] C=1.865456173994592, gamma=0.017315486305097355 .................\n",
      "[CV] .. C=1.865456173994592, gamma=0.017315486305097355, total=   0.9s\n",
      "[CV] C=1.865456173994592, gamma=0.017315486305097355 .................\n",
      "[CV] .. C=1.865456173994592, gamma=0.017315486305097355, total=   0.9s\n",
      "[CV] C=1.865456173994592, gamma=0.017315486305097355 .................\n",
      "[CV] .. C=1.865456173994592, gamma=0.017315486305097355, total=   0.9s\n",
      "[CV] C=3.4773033737632035, gamma=0.04504133901445853 .................\n",
      "[CV] .. C=3.4773033737632035, gamma=0.04504133901445853, total=   0.9s\n",
      "[CV] C=3.4773033737632035, gamma=0.04504133901445853 .................\n",
      "[CV] .. C=3.4773033737632035, gamma=0.04504133901445853, total=   0.9s\n",
      "[CV] C=3.4773033737632035, gamma=0.04504133901445853 .................\n",
      "[CV] .. C=3.4773033737632035, gamma=0.04504133901445853, total=   0.9s\n",
      "[CV] C=1.6147482703996987, gamma=0.08035563021546624 .................\n",
      "[CV] .. C=1.6147482703996987, gamma=0.08035563021546624, total=   0.9s\n",
      "[CV] C=1.6147482703996987, gamma=0.08035563021546624 .................\n",
      "[CV] .. C=1.6147482703996987, gamma=0.08035563021546624, total=   0.9s\n",
      "[CV] C=1.6147482703996987, gamma=0.08035563021546624 .................\n",
      "[CV] .. C=1.6147482703996987, gamma=0.08035563021546624, total=   0.9s\n",
      "[CV] C=1.4725720033290015, gamma=0.0030354741347333822 ...............\n",
      "[CV]  C=1.4725720033290015, gamma=0.0030354741347333822, total=   0.8s\n",
      "[CV] C=1.4725720033290015, gamma=0.0030354741347333822 ...............\n",
      "[CV]  C=1.4725720033290015, gamma=0.0030354741347333822, total=   0.8s\n",
      "[CV] C=1.4725720033290015, gamma=0.0030354741347333822 ...............\n",
      "[CV]  C=1.4725720033290015, gamma=0.0030354741347333822, total=   0.8s\n",
      "[CV] C=5.6418472606739005, gamma=0.03251739698928026 .................\n",
      "[CV] .. C=5.6418472606739005, gamma=0.03251739698928026, total=   0.9s\n",
      "[CV] C=5.6418472606739005, gamma=0.03251739698928026 .................\n",
      "[CV] .. C=5.6418472606739005, gamma=0.03251739698928026, total=   0.9s\n",
      "[CV] C=5.6418472606739005, gamma=0.03251739698928026 .................\n",
      "[CV] .. C=5.6418472606739005, gamma=0.03251739698928026, total=   0.9s\n"
     ]
    },
    {
     "name": "stderr",
     "output_type": "stream",
     "text": [
      "[Parallel(n_jobs=1)]: Done  30 out of  30 | elapsed:   25.0s finished\n"
     ]
    },
    {
     "data": {
      "text/plain": [
       "RandomizedSearchCV(cv=3, error_score='raise-deprecating',\n",
       "                   estimator=SVC(C=1.0, cache_size=200, class_weight=None,\n",
       "                                 coef0=0.0, decision_function_shape='ovr',\n",
       "                                 degree=3, gamma='auto', kernel='rbf',\n",
       "                                 max_iter=-1, probability=False,\n",
       "                                 random_state=None, shrinking=True, tol=0.001,\n",
       "                                 verbose=False),\n",
       "                   iid='warn', n_iter=10, n_jobs=None,\n",
       "                   param_distributions={'C': <scipy.stats._distn_infrastructure.rv_frozen object at 0x000001CF1ACDDEF0>,\n",
       "                                        'gamma': <scipy.stats._distn_infrastructure.rv_frozen object at 0x000001CF1AD27438>},\n",
       "                   pre_dispatch='2*n_jobs', random_state=None, refit=True,\n",
       "                   return_train_score=False, scoring=None, verbose=2)"
      ]
     },
     "execution_count": 174,
     "metadata": {},
     "output_type": "execute_result"
    }
   ],
   "source": [
    "from sklearn.model_selection import RandomizedSearchCV\n",
    "from scipy.stats import reciprocal, uniform\n",
    "\n",
    "param_distribution = {\"gamma\": reciprocal(0.001, 0.1), \"C\":uniform(1, 10)}\n",
    "rnd_search_cv = RandomizedSearchCV(svc_clf, param_distributions=param_distribution, cv=3, n_iter=10, verbose=2)\n",
    "rnd_search_cv.fit(X_train_scaled[:1000], y_train[:1000])"
   ]
  },
  {
   "cell_type": "code",
   "execution_count": 175,
   "metadata": {},
   "outputs": [
    {
     "data": {
      "text/plain": [
       "SVC(C=5.248206329354602, cache_size=200, class_weight=None, coef0=0.0,\n",
       "    decision_function_shape='ovr', degree=3, gamma=0.0012679495035389098,\n",
       "    kernel='rbf', max_iter=-1, probability=False, random_state=None,\n",
       "    shrinking=True, tol=0.001, verbose=False)"
      ]
     },
     "execution_count": 175,
     "metadata": {},
     "output_type": "execute_result"
    }
   ],
   "source": [
    "rnd_search_cv.best_estimator_"
   ]
  },
  {
   "cell_type": "code",
   "execution_count": 176,
   "metadata": {},
   "outputs": [
    {
     "data": {
      "text/plain": [
       "0.864"
      ]
     },
     "execution_count": 176,
     "metadata": {},
     "output_type": "execute_result"
    }
   ],
   "source": [
    "rnd_search_cv.best_score_"
   ]
  },
  {
   "cell_type": "code",
   "execution_count": 177,
   "metadata": {},
   "outputs": [
    {
     "data": {
      "text/plain": [
       "SVC(C=5.248206329354602, cache_size=200, class_weight=None, coef0=0.0,\n",
       "    decision_function_shape='ovr', degree=3, gamma=0.0012679495035389098,\n",
       "    kernel='rbf', max_iter=-1, probability=False, random_state=None,\n",
       "    shrinking=True, tol=0.001, verbose=False)"
      ]
     },
     "execution_count": 177,
     "metadata": {},
     "output_type": "execute_result"
    }
   ],
   "source": [
    "rnd_search_cv.best_estimator_.fit(X_train_scaled, y_train)"
   ]
  },
  {
   "cell_type": "code",
   "execution_count": 178,
   "metadata": {},
   "outputs": [
    {
     "data": {
      "text/plain": [
       "0.9718"
      ]
     },
     "execution_count": 178,
     "metadata": {},
     "output_type": "execute_result"
    }
   ],
   "source": [
    "y_pred = rnd_search_cv.best_estimator_.predict(X_test_scaled)\n",
    "accuracy_score(y_pred, y_test)"
   ]
  },
  {
   "cell_type": "code",
   "execution_count": 182,
   "metadata": {},
   "outputs": [
    {
     "name": "stderr",
     "output_type": "stream",
     "text": [
      "Downloading Cal. housing from https://ndownloader.figshare.com/files/5976036 to C:\\Users\\ikuchin\\scikit_learn_data\n"
     ]
    }
   ],
   "source": [
    "from sklearn.datasets import fetch_california_housing\n",
    "from sklearn.model_selection import train_test_split\n",
    "\n",
    "housing = fetch_california_housing()\n",
    "X = housing[\"data\"]\n",
    "y = housing[\"target\"]\n",
    "\n",
    "X_train, X_test, y_train, y_test = train_test_split(X, y, test_size=0.2)\n",
    "\n",
    "scaler = StandardScaler()\n",
    "X_train_scaled = scaler.fit_transform(X_train)\n",
    "X_test_scaled = scaler.fit_transform(X_test)\n"
   ]
  },
  {
   "cell_type": "code",
   "execution_count": 184,
   "metadata": {},
   "outputs": [
    {
     "name": "stderr",
     "output_type": "stream",
     "text": [
      "C:\\Users\\ikuchin\\AppData\\Local\\Continuum\\miniconda3\\envs\\nnseries\\lib\\site-packages\\sklearn\\svm\\base.py:929: ConvergenceWarning: Liblinear failed to converge, increase the number of iterations.\n",
      "  \"the number of iterations.\", ConvergenceWarning)\n"
     ]
    }
   ],
   "source": [
    "from sklearn.svm import LinearSVR, SVR\n",
    "\n",
    "lin_svr = LinearSVR()\n",
    "lin_svr.fit(X_train_scaled, y_train)\n",
    "\n",
    "y_pred = lin_svr.predict(X_test_scaled)\n"
   ]
  },
  {
   "cell_type": "code",
   "execution_count": 188,
   "metadata": {},
   "outputs": [
    {
     "data": {
      "text/plain": [
       "1.2056273830931126"
      ]
     },
     "execution_count": 188,
     "metadata": {},
     "output_type": "execute_result"
    }
   ],
   "source": [
    "from sklearn.metrics import mean_squared_error\n",
    "\n",
    "mse = mean_squared_error(y_test, y_pred)\n",
    "np.sqrt(mse)"
   ]
  },
  {
   "cell_type": "code",
   "execution_count": 189,
   "metadata": {},
   "outputs": [
    {
     "name": "stdout",
     "output_type": "stream",
     "text": [
      "Fitting 3 folds for each of 10 candidates, totalling 30 fits\n",
      "[CV] C=7.612278302281492, gamma=0.00114890343902 .....................\n"
     ]
    },
    {
     "name": "stderr",
     "output_type": "stream",
     "text": [
      "[Parallel(n_jobs=1)]: Using backend SequentialBackend with 1 concurrent workers.\n"
     ]
    },
    {
     "name": "stdout",
     "output_type": "stream",
     "text": [
      "[CV] ...... C=7.612278302281492, gamma=0.00114890343902, total=   4.1s\n",
      "[CV] C=7.612278302281492, gamma=0.00114890343902 .....................\n"
     ]
    },
    {
     "name": "stderr",
     "output_type": "stream",
     "text": [
      "[Parallel(n_jobs=1)]: Done   1 out of   1 | elapsed:    4.0s remaining:    0.0s\n"
     ]
    },
    {
     "name": "stdout",
     "output_type": "stream",
     "text": [
      "[CV] ...... C=7.612278302281492, gamma=0.00114890343902, total=   4.1s\n",
      "[CV] C=7.612278302281492, gamma=0.00114890343902 .....................\n",
      "[CV] ...... C=7.612278302281492, gamma=0.00114890343902, total=   4.2s\n",
      "[CV] C=9.380539483285983, gamma=0.0696611062643859 ...................\n",
      "[CV] .... C=9.380539483285983, gamma=0.0696611062643859, total=   5.9s\n",
      "[CV] C=9.380539483285983, gamma=0.0696611062643859 ...................\n",
      "[CV] .... C=9.380539483285983, gamma=0.0696611062643859, total=   5.7s\n",
      "[CV] C=9.380539483285983, gamma=0.0696611062643859 ...................\n",
      "[CV] .... C=9.380539483285983, gamma=0.0696611062643859, total=   5.7s\n",
      "[CV] C=6.970364898591746, gamma=0.05801763234329911 ..................\n",
      "[CV] ... C=6.970364898591746, gamma=0.05801763234329911, total=   5.0s\n",
      "[CV] C=6.970364898591746, gamma=0.05801763234329911 ..................\n",
      "[CV] ... C=6.970364898591746, gamma=0.05801763234329911, total=   5.1s\n",
      "[CV] C=6.970364898591746, gamma=0.05801763234329911 ..................\n",
      "[CV] ... C=6.970364898591746, gamma=0.05801763234329911, total=   5.2s\n",
      "[CV] C=1.845055790976359, gamma=0.00286212757761759 ..................\n",
      "[CV] ... C=1.845055790976359, gamma=0.00286212757761759, total=   4.0s\n",
      "[CV] C=1.845055790976359, gamma=0.00286212757761759 ..................\n",
      "[CV] ... C=1.845055790976359, gamma=0.00286212757761759, total=   4.1s\n",
      "[CV] C=1.845055790976359, gamma=0.00286212757761759 ..................\n",
      "[CV] ... C=1.845055790976359, gamma=0.00286212757761759, total=   4.2s\n",
      "[CV] C=4.172606369914458, gamma=0.03518304426025028 ..................\n",
      "[CV] ... C=4.172606369914458, gamma=0.03518304426025028, total=   4.3s\n",
      "[CV] C=4.172606369914458, gamma=0.03518304426025028 ..................\n",
      "[CV] ... C=4.172606369914458, gamma=0.03518304426025028, total=   4.4s\n",
      "[CV] C=4.172606369914458, gamma=0.03518304426025028 ..................\n",
      "[CV] ... C=4.172606369914458, gamma=0.03518304426025028, total=   4.7s\n",
      "[CV] C=5.842398450341092, gamma=0.0049738756543311405 ................\n",
      "[CV] . C=5.842398450341092, gamma=0.0049738756543311405, total=   4.2s\n",
      "[CV] C=5.842398450341092, gamma=0.0049738756543311405 ................\n",
      "[CV] . C=5.842398450341092, gamma=0.0049738756543311405, total=   4.2s\n",
      "[CV] C=5.842398450341092, gamma=0.0049738756543311405 ................\n",
      "[CV] . C=5.842398450341092, gamma=0.0049738756543311405, total=   4.2s\n",
      "[CV] C=2.5806969916016387, gamma=0.04181056040701356 .................\n",
      "[CV] .. C=2.5806969916016387, gamma=0.04181056040701356, total=   4.2s\n",
      "[CV] C=2.5806969916016387, gamma=0.04181056040701356 .................\n",
      "[CV] .. C=2.5806969916016387, gamma=0.04181056040701356, total=   4.6s\n",
      "[CV] C=2.5806969916016387, gamma=0.04181056040701356 .................\n",
      "[CV] .. C=2.5806969916016387, gamma=0.04181056040701356, total=   4.6s\n",
      "[CV] C=1.2052342056887013, gamma=0.004726513809235912 ................\n",
      "[CV] . C=1.2052342056887013, gamma=0.004726513809235912, total=   4.2s\n",
      "[CV] C=1.2052342056887013, gamma=0.004726513809235912 ................\n",
      "[CV] . C=1.2052342056887013, gamma=0.004726513809235912, total=   4.2s\n",
      "[CV] C=1.2052342056887013, gamma=0.004726513809235912 ................\n",
      "[CV] . C=1.2052342056887013, gamma=0.004726513809235912, total=   4.1s\n",
      "[CV] C=3.4277560530398157, gamma=0.001811426401143548 ................\n",
      "[CV] . C=3.4277560530398157, gamma=0.001811426401143548, total=   4.1s\n",
      "[CV] C=3.4277560530398157, gamma=0.001811426401143548 ................\n",
      "[CV] . C=3.4277560530398157, gamma=0.001811426401143548, total=   4.2s\n",
      "[CV] C=3.4277560530398157, gamma=0.001811426401143548 ................\n",
      "[CV] . C=3.4277560530398157, gamma=0.001811426401143548, total=   4.1s\n",
      "[CV] C=2.7204149769404276, gamma=0.009718385276414892 ................\n",
      "[CV] . C=2.7204149769404276, gamma=0.009718385276414892, total=   4.2s\n",
      "[CV] C=2.7204149769404276, gamma=0.009718385276414892 ................\n",
      "[CV] . C=2.7204149769404276, gamma=0.009718385276414892, total=   4.3s\n",
      "[CV] C=2.7204149769404276, gamma=0.009718385276414892 ................\n",
      "[CV] . C=2.7204149769404276, gamma=0.009718385276414892, total=   4.2s\n"
     ]
    },
    {
     "name": "stderr",
     "output_type": "stream",
     "text": [
      "[Parallel(n_jobs=1)]: Done  30 out of  30 | elapsed:  2.2min finished\n"
     ]
    },
    {
     "data": {
      "text/plain": [
       "RandomizedSearchCV(cv=3, error_score='raise-deprecating',\n",
       "                   estimator=SVR(C=1.0, cache_size=200, coef0=0.0, degree=3,\n",
       "                                 epsilon=0.1, gamma='auto_deprecated',\n",
       "                                 kernel='rbf', max_iter=-1, shrinking=True,\n",
       "                                 tol=0.001, verbose=False),\n",
       "                   iid='warn', n_iter=10, n_jobs=None,\n",
       "                   param_distributions={'C': <scipy.stats._distn_infrastructure.rv_frozen object at 0x000001CF308939E8>,\n",
       "                                        'gamma': <scipy.stats._distn_infrastructure.rv_frozen object at 0x000001CF30893668>},\n",
       "                   pre_dispatch='2*n_jobs', random_state=None, refit=True,\n",
       "                   return_train_score=False, scoring=None, verbose=2)"
      ]
     },
     "execution_count": 189,
     "metadata": {},
     "output_type": "execute_result"
    }
   ],
   "source": [
    "param_distribution = {\"gamma\":reciprocal(0.001, 0.1), \"C\":uniform(1, 10)}\n",
    "rnd_search_cv = RandomizedSearchCV(SVR(), param_distributions=param_distribution, cv=3, n_iter=10, verbose=2)\n",
    "rnd_search_cv.fit(X_train_scaled, y_train)"
   ]
  },
  {
   "cell_type": "code",
   "execution_count": 190,
   "metadata": {},
   "outputs": [
    {
     "data": {
      "text/plain": [
       "SVR(C=9.380539483285983, cache_size=200, coef0=0.0, degree=3, epsilon=0.1,\n",
       "    gamma=0.0696611062643859, kernel='rbf', max_iter=-1, shrinking=True,\n",
       "    tol=0.001, verbose=False)"
      ]
     },
     "execution_count": 190,
     "metadata": {},
     "output_type": "execute_result"
    }
   ],
   "source": [
    "rnd_search_cv.best_estimator_"
   ]
  },
  {
   "cell_type": "code",
   "execution_count": 191,
   "metadata": {},
   "outputs": [
    {
     "data": {
      "text/plain": [
       "0.5632507181653958"
      ]
     },
     "execution_count": 191,
     "metadata": {},
     "output_type": "execute_result"
    }
   ],
   "source": [
    "y_pred = rnd_search_cv.best_estimator_.predict(X_test_scaled)\n",
    "mse = mean_squared_error(y_pred, y_test)\n",
    "np.sqrt(mse)"
   ]
  },
  {
   "cell_type": "code",
   "execution_count": null,
   "metadata": {},
   "outputs": [],
   "source": []
  }
 ],
 "metadata": {
  "kernelspec": {
   "display_name": "Python 3",
   "language": "python",
   "name": "python3"
  },
  "language_info": {
   "codemirror_mode": {
    "name": "ipython",
    "version": 3
   },
   "file_extension": ".py",
   "mimetype": "text/x-python",
   "name": "python",
   "nbconvert_exporter": "python",
   "pygments_lexer": "ipython3",
   "version": "3.7.3"
  }
 },
 "nbformat": 4,
 "nbformat_minor": 2
}
