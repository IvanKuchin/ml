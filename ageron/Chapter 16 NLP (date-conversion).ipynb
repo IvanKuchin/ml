{
 "cells": [
  {
   "cell_type": "code",
   "execution_count": 1,
   "metadata": {},
   "outputs": [
    {
     "name": "stdout",
     "output_type": "stream",
     "text": [
      "WARNING:tensorflow:From <ipython-input-1-89fb8402bffd>:22: is_gpu_available (from tensorflow.python.framework.test_util) is deprecated and will be removed in a future version.\n",
      "Instructions for updating:\n",
      "Use `tf.config.list_physical_devices('GPU')` instead.\n",
      "No GPU was detected. CNNs can be very slow without a GPU.\n"
     ]
    }
   ],
   "source": [
    "# Python ≥3.5 is required\n",
    "import sys\n",
    "assert sys.version_info >= (3, 5)\n",
    "\n",
    "# Scikit-Learn ≥0.20 is required\n",
    "import sklearn\n",
    "assert sklearn.__version__ >= \"0.20\"\n",
    "\n",
    "try:\n",
    "    # %tensorflow_version only exists in Colab.\n",
    "    %tensorflow_version 2.x\n",
    "    IS_COLAB = True\n",
    "except Exception:\n",
    "    IS_COLAB = False\n",
    "\n",
    "# TensorFlow ≥2.0 is required\n",
    "import tensorflow as tf\n",
    "from tensorflow import keras\n",
    "import tensorflow_addons as tfa\n",
    "assert tf.__version__ >= \"2.0\"\n",
    "\n",
    "if not tf.test.is_gpu_available():\n",
    "    print(\"No GPU was detected. CNNs can be very slow without a GPU.\")\n",
    "    if IS_COLAB:\n",
    "        print(\"Go to Runtime > Change runtime and select a GPU hardware accelerator.\")\n",
    "\n",
    "# Common imports\n",
    "import numpy as np\n",
    "import os\n",
    "\n",
    "# to make this notebook's output stable across runs\n",
    "np.random.seed(42)\n",
    "tf.random.set_seed(42)\n",
    "\n",
    "# To plot pretty figures\n",
    "%matplotlib inline\n",
    "import matplotlib as mpl\n",
    "import matplotlib.pyplot as plt\n",
    "mpl.rc('axes', labelsize=14)\n",
    "mpl.rc('xtick', labelsize=12)\n",
    "mpl.rc('ytick', labelsize=12)\n",
    "\n",
    "# Where to save the figures\n",
    "PROJECT_ROOT_DIR = \".\"\n",
    "CHAPTER_ID = \"cnn\"\n",
    "IMAGES_PATH = os.path.join(PROJECT_ROOT_DIR, \"images\", CHAPTER_ID)\n",
    "os.makedirs(IMAGES_PATH, exist_ok=True)\n",
    "\n",
    "def save_fig(fig_id, tight_layout=True, fig_extension=\"png\", resolution=300):\n",
    "    path = os.path.join(IMAGES_PATH, fig_id + \".\" + fig_extension)\n",
    "    print(\"Saving figure\", fig_id)\n",
    "    if tight_layout:\n",
    "        plt.tight_layout()\n",
    "    plt.savefig(path, format=fig_extension, dpi=resolution)\n",
    "    \n",
    "\n",
    "def plot_image(image):\n",
    "    plt.imshow(image, cmap=\"gray\", interpolation=\"nearest\")\n",
    "    plt.axis(\"off\")\n",
    "\n",
    "def plot_color_image(image):\n",
    "    plt.imshow(image, interpolation=\"nearest\")\n",
    "    plt.axis(\"off\")"
   ]
  },
  {
   "cell_type": "code",
   "execution_count": 2,
   "metadata": {},
   "outputs": [],
   "source": [
    "from datetime import date"
   ]
  },
  {
   "cell_type": "code",
   "execution_count": 32,
   "metadata": {},
   "outputs": [
    {
     "data": {
      "text/plain": [
       "'April 22, 2019'"
      ]
     },
     "execution_count": 32,
     "metadata": {},
     "output_type": "execute_result"
    }
   ],
   "source": [
    "MONTHS = [\"Januaryyyyyyyyyyyyyyyyyyyyyyyyyyyyyyyyyyyyyyyyyyyyyyyyyyyyyyyyyyyyyyyyyyyyyyyyyyyyyyyyyy                                                                                      \", \n",
    "          \"February\", \"March\", \"April\", \"May\", \"June\", \"July\", \"August\", \"September\", \"October\", \"November\", \"December\"]\n",
    "INPUT_CHARS = \"\".join(sorted(set(\"\".join(MONTHS)))) + \"1234567890 ,\"\n",
    "OUTPUT_CHARS = \"0123456789-\"\n",
    "OUTPUT_NUMBER_TIMESTAMPS = len(\"2010-10-10\")\n",
    "BATCH_SIZE = 32\n",
    "EMBED_SIZE = 32\n",
    "NUMBER_OF_LSTM_NEURONS = 128\n",
    "SOS_TOKEN = len(OUTPUT_CHARS) + 1\n",
    "\n",
    "def str_to_ids(string, alphabet):\n",
    "    return [alphabet.index(_) + 1 for _ in string]\n",
    "\n",
    "def ids_to_str(ids, alphabet):\n",
    "    return \"\".join([alphabet[_ - 1] for _ in ids])\n",
    "\n",
    "\n",
    "ids_to_str(str_to_ids(\"April 22, 2019\", INPUT_CHARS), INPUT_CHARS)\n",
    "# ids_to_str(str_to_ids(\"2019-04-22\", OUTPUT_CHARS), OUTPUT_CHARS)\n",
    "# str_to_ids(\"2019-04-22\", OUTPUT_CHARS)"
   ]
  },
  {
   "cell_type": "code",
   "execution_count": 33,
   "metadata": {},
   "outputs": [
    {
     "name": "stdout",
     "output_type": "stream",
     "text": [
      "[[3, 9, 4, 10, 11, 1, 10, 11, 3, 5], [2, 3, 1, 10, 11, 1, 9, 11, 1, 8]]\n",
      "[[9, 13, 21, 24, 13, 18, 11, 13, 22, 1, 29, 31, 39, 1, 29, 35, 30, 36], [2, 25, 14, 25, 23, 24, 1, 34, 39, 1, 28, 29, 37, 36]]\n"
     ]
    }
   ],
   "source": [
    "def get_N_samples(num):\n",
    "    __input, __output = [], []\n",
    "    min_date_ord = date(1000, 1, 1).toordinal()\n",
    "    max_date_ord = date(9999, 12, 31).toordinal()\n",
    "    \n",
    "    for _ in range(num):\n",
    "        random_ord = np.random.randint(min_date_ord, max_date_ord)\n",
    "        __input.append(str_to_ids(MONTHS[date.fromordinal(random_ord).month - 1] + \" \" + str(date.fromordinal(random_ord).day) + \", \" + str(date.fromordinal(random_ord).year), INPUT_CHARS))\n",
    "        __output.append(str_to_ids(date.fromordinal(random_ord).isoformat(), OUTPUT_CHARS))\n",
    "    \n",
    "    return __input, __output\n",
    "\n",
    "spelling_dates, iso_dates = get_N_samples(2)\n",
    "print(iso_dates)\n",
    "print(spelling_dates)"
   ]
  },
  {
   "cell_type": "code",
   "execution_count": 34,
   "metadata": {},
   "outputs": [
    {
     "name": "stdout",
     "output_type": "stream",
     "text": [
      "<tf.RaggedTensor [[9, 13, 21, 24, 13, 18, 11, 13, 22, 1, 31, 39, 1, 30, 31, 34, 34], [4, 13, 11, 22, 25, 10, 22, 27, 1, 35, 39, 1, 30, 32, 33, 28], [5, 25, 17, 27, 1, 29, 36, 39, 1, 32, 37, 31, 30], [7, 20, 26, 13, 18, 11, 13, 22, 1, 29, 35, 39, 1, 32, 28, 32, 28], [6, 10, 27, 1, 29, 36, 39, 1, 29, 31, 33, 35], [9, 13, 21, 24, 13, 18, 11, 13, 22, 1, 28, 32, 39, 1, 35, 37, 28, 34], [6, 10, 27, 1, 28, 39, 1, 30, 33, 29, 37], [6, 10, 27, 1, 28, 30, 39, 1, 32, 36, 32, 31], [7, 20, 26, 13, 18, 11, 13, 22, 1, 28, 29, 39, 1, 33, 29, 29, 35], [5, 10, 19, 25, 10, 22, 27, 27, 27, 27, 27, 27, 27, 27, 27, 27, 27, 27, 27, 27, 27, 27, 27, 27, 27, 27, 27, 27, 27, 27, 27, 27, 27, 27, 27, 27, 27, 27, 27, 27, 27, 27, 27, 27, 27, 27, 27, 27, 27, 27, 27, 27, 27, 27, 27, 27, 27, 27, 27, 27, 27, 27, 27, 27, 27, 27, 27, 27, 27, 27, 27, 27, 27, 27, 27, 27, 27, 27, 27, 27, 27, 27, 27, 27, 27, 27, 27, 27, 1, 1, 1, 1, 1, 1, 1, 1, 1, 1, 1, 1, 1, 1, 1, 1, 1, 1, 1, 1, 1, 1, 1, 1, 1, 1, 1, 1, 1, 1, 1, 1, 1, 1, 1, 1, 1, 1, 1, 1, 1, 1, 1, 1, 1, 1, 1, 1, 1, 1, 1, 1, 1, 1, 1, 1, 1, 1, 1, 1, 1, 1, 1, 1, 1, 1, 1, 1, 1, 1, 1, 1, 1, 1, 1, 1, 1, 1, 1, 1, 1, 1, 1, 1, 1, 1, 1, 30, 28, 39, 1, 32, 35, 36, 37]]> tf.Tensor(\n",
      "[[ 4  5  8  8 11  1 10 11  1  5]\n",
      " [ 4  6  7  2 11  1  3 11  1  9]\n",
      " [ 6  1  5  4 11  1  8 11  3 10]\n",
      " [ 6  2  6  2 11  2  2 11  3  9]\n",
      " [ 3  5  7  9 11  1  6 11  3 10]\n",
      " [ 9  1  2  8 11  1 10 11  2  6]\n",
      " [ 4  7  3  1 11  1  6 11  1  2]\n",
      " [ 6 10  6  5 11  1  6 11  2  4]\n",
      " [ 7  3  3  9 11  2  2 11  2  3]\n",
      " [ 6  9 10  1 11  1  2 11  4  2]], shape=(10, 10), dtype=int32)\n"
     ]
    }
   ],
   "source": [
    "def get_dataset(num_samples):\n",
    "    spelling_dates, iso_dates = get_N_samples(num_samples)\n",
    "    return tf.data.Dataset.from_tensor_slices((tf.ragged.constant(spelling_dates), tf.constant(iso_dates))).batch(32)\n",
    "\n",
    "train_ds = get_dataset(BATCH_SIZE * 400)\n",
    "valid_ds = get_dataset(BATCH_SIZE * 40)\n",
    "\n",
    "ds = get_dataset(10)\n",
    "for __X, __y in ds.take(2):\n",
    "    print(__X, __y)"
   ]
  },
  {
   "cell_type": "code",
   "execution_count": 38,
   "metadata": {},
   "outputs": [
    {
     "data": {
      "text/plain": [
       "<tf.Tensor: shape=(90, 183), dtype=int32, numpy=\n",
       "array([[ 8, 12, 24, ...,  0,  0,  0],\n",
       "       [ 8, 12, 24, ...,  0,  0,  0],\n",
       "       [ 5, 25, 17, ...,  0,  0,  0],\n",
       "       ...,\n",
       "       [ 9, 13, 21, ...,  0,  0,  0],\n",
       "       [ 9, 13, 21, ...,  0,  0,  0],\n",
       "       [ 2, 21, 22, ...,  0,  0,  0]])>"
      ]
     },
     "execution_count": 38,
     "metadata": {},
     "output_type": "execute_result"
    }
   ],
   "source": [
    "def get_dataset_2(num_samples):\n",
    "    spelling_dates, iso_dates = get_N_samples(num_samples)\n",
    "    return tf.ragged.constant(spelling_dates), tf.constant(iso_dates)\n",
    "\n",
    "train_ds_x, train_ds_y = get_dataset_2(90)\n",
    "valid_ds_x, valid_ds_y = get_dataset_2(2)\n",
    "\n",
    "train_ds_x.to_tensor()"
   ]
  },
  {
   "cell_type": "code",
   "execution_count": 7,
   "metadata": {},
   "outputs": [
    {
     "name": "stdout",
     "output_type": "stream",
     "text": [
      "1 )\n",
      "August 4, 9544 -> 9544-08-04\n",
      "May 14, 7329 -> 7329-05-14\n",
      "December 12, 9152 -> 9152-12-12\n",
      "December 2, 7772 -> 7772-12-02\n",
      "December 3, 8613 -> 8613-12-03\n",
      "August 9, 6559 -> 6559-08-09\n",
      "December 12, 3564 -> 3564-12-12\n",
      "January 1, 1767 -> 1767-01-01\n",
      "September 23, 9944 -> 9944-09-23\n",
      "February 10, 3668 -> 3668-02-10\n"
     ]
    }
   ],
   "source": [
    "idx = 0\n",
    "for x_batch, y_batch in ds.shuffle(10).take(2):\n",
    "    idx += 1\n",
    "    print(idx, \")\")\n",
    "    for __X, __y in zip(x_batch, y_batch):\n",
    "        print(ids_to_str(__X, INPUT_CHARS), \"->\", ids_to_str(__y, OUTPUT_CHARS))"
   ]
  },
  {
   "cell_type": "code",
   "execution_count": 8,
   "metadata": {},
   "outputs": [
    {
     "name": "stdout",
     "output_type": "stream",
     "text": [
      "Model: \"sequential_2\"\n",
      "_________________________________________________________________\n",
      "Layer (type)                 Output Shape              Param #   \n",
      "=================================================================\n",
      "sequential (Sequential)      (None, 128)               68803     \n",
      "_________________________________________________________________\n",
      "repeat_vector (RepeatVector) (None, 10, 128)           0         \n",
      "_________________________________________________________________\n",
      "sequential_1 (Sequential)    (None, 10, 12)            133132    \n",
      "=================================================================\n",
      "Total params: 201,935\n",
      "Trainable params: 201,935\n",
      "Non-trainable params: 0\n",
      "_________________________________________________________________\n",
      "None\n"
     ]
    },
    {
     "data": {
      "image/png": "[encoded data removed]",
      "text/plain": [
       "<IPython.core.display.Image object>"
      ]
     },
     "execution_count": 8,
     "metadata": {},
     "output_type": "execute_result"
    }
   ],
   "source": [
    "encoder = keras.models.Sequential([\n",
    "#     keras.layers.InputLayer(batch_input_shape = [BATCH_SIZE, None], ragged=True, name=\"INPUT\"),\n",
    "#     keras.layers.Embedding(input_dim = len(INPUT_CHARS) + 1, output_dim = EMBED_SIZE, name=\"EMBEDDING\"),\n",
    "    keras.layers.Embedding(input_dim = len(INPUT_CHARS) + 1, output_dim = EMBED_SIZE, input_shape = [None], name=\"EMBEDDING\"),\n",
    "    keras.layers.LSTM(NUMBER_OF_LSTM_NEURONS),\n",
    "])\n",
    "\n",
    "decoder = keras.models.Sequential([\n",
    "    keras.layers.LSTM(NUMBER_OF_LSTM_NEURONS, return_sequences = True, input_shape=[OUTPUT_NUMBER_TIMESTAMPS, NUMBER_OF_LSTM_NEURONS]),\n",
    "    keras.layers.TimeDistributed(keras.layers.Dense(len(OUTPUT_CHARS)+1, activation=\"softmax\")),\n",
    "#     keras.layers.Dense(len(OUTPUT_CHARS)),\n",
    "])\n",
    "\n",
    "model = keras.models.Sequential([\n",
    "    encoder,\n",
    "#     keras.layers.RepeatVector(train_ds_y.shape[1]),\n",
    "    keras.layers.RepeatVector(OUTPUT_NUMBER_TIMESTAMPS),\n",
    "    decoder\n",
    "])\n",
    "\n",
    "print(model.summary())\n",
    "keras.utils.plot_model(model, show_shapes=True, expand_nested=True)\n",
    "\n"
   ]
  },
  {
   "cell_type": "code",
   "execution_count": 9,
   "metadata": {},
   "outputs": [
    {
     "name": "stdout",
     "output_type": "stream",
     "text": [
      "Epoch 1/2\n"
     ]
    },
    {
     "name": "stderr",
     "output_type": "stream",
     "text": [
      "C:\\Users\\ikuchin\\AppData\\Local\\Continuum\\miniconda3\\envs\\tf22\\lib\\site-packages\\tensorflow\\python\\framework\\indexed_slices.py:433: UserWarning: Converting sparse IndexedSlices to a dense Tensor of unknown shape. This may consume a large amount of memory.\n",
      "  warnings.warn(\n"
     ]
    },
    {
     "name": "stdout",
     "output_type": "stream",
     "text": [
      "400/400 [==============================] - 9s 22ms/step - loss: 1.6828 - accuracy: 0.3936 - val_loss: 1.2187 - val_accuracy: 0.5473\n",
      "Epoch 2/2\n",
      "400/400 [==============================] - 8s 20ms/step - loss: 0.9980 - accuracy: 0.6364 - val_loss: 0.7672 - val_accuracy: 0.7292\n"
     ]
    }
   ],
   "source": [
    "model.compile(loss=[\"sparse_categorical_crossentropy\"], optimizer = \"adam\", metrics=[\"accuracy\"])\n",
    "history = model.fit(train_ds, epochs=20, validation_data=valid_ds)"
   ]
  },
  {
   "cell_type": "code",
   "execution_count": 10,
   "metadata": {},
   "outputs": [
    {
     "name": "stdout",
     "output_type": "stream",
     "text": [
      "WARNING:tensorflow:From <ipython-input-10-57d0e8fb3a76>:4: Sequential.predict_classes (from tensorflow.python.keras.engine.sequential) is deprecated and will be removed after 2021-01-01.\n",
      "Instructions for updating:\n",
      "Please use instead:* `np.argmax(model.predict(x), axis=-1)`,   if your model does multi-class classification   (e.g. if it uses a `softmax` last-layer activation).* `(model.predict(x) > 0.5).astype(\"int32\")`,   if your model does binary classification   (e.g. if it uses a `sigmoid` last-layer activation).\n"
     ]
    },
    {
     "data": {
      "text/plain": [
       "'9090-04-10'"
      ]
     },
     "execution_count": 10,
     "metadata": {},
     "output_type": "execute_result"
    }
   ],
   "source": [
    "test_batch = [\n",
    "str_to_ids(\"April 10, 1980\", INPUT_CHARS),    \n",
    "]\n",
    "pred = model.predict_classes(test_batch)\n",
    "\n",
    "ids_to_str(pred[0], OUTPUT_CHARS)\n",
    "\n"
   ]
  },
  {
   "cell_type": "markdown",
   "metadata": {},
   "source": [
    "#### Option 2: decoder with shifted input"
   ]
  },
  {
   "cell_type": "code",
   "execution_count": 39,
   "metadata": {},
   "outputs": [],
   "source": [
    "def shifted_timeseries(series):\n",
    "    result = np.zeros(series.shape, dtype=np.int32) + SOS_TOKEN\n",
    "    result[:, 1:] = series[:, :-1]\n",
    "    return tf.constant(result)\n",
    "\n",
    "X_train, Y_train = get_dataset_2(10000)\n",
    "X_valid, Y_valid = get_dataset_2(2000)\n",
    "X_test, Y_test = get_dataset_2(10)\n",
    "\n",
    "X_train_decoder = shifted_timeseries(Y_train)\n",
    "X_valid_decoder = shifted_timeseries(Y_valid)\n",
    "X_test_decoder = shifted_timeseries(Y_test)\n",
    "\n"
   ]
  },
  {
   "cell_type": "code",
   "execution_count": 92,
   "metadata": {},
   "outputs": [
    {
     "name": "stdout",
     "output_type": "stream",
     "text": [
      "Model: \"model_6\"\n",
      "__________________________________________________________________________________________________\n",
      "Layer (type)                    Output Shape         Param #     Connected to                     \n",
      "==================================================================================================\n",
      "input_26 (InputLayer)           [(None, None)]       0                                            \n",
      "__________________________________________________________________________________________________\n",
      "input_27 (InputLayer)           [(None, None)]       0                                            \n",
      "__________________________________________________________________________________________________\n",
      "embedding_24 (Embedding)        (None, None, 5)      195         input_26[0][0]                   \n",
      "__________________________________________________________________________________________________\n",
      "embedding_25 (Embedding)        (None, None, 5)      65          input_27[0][0]                   \n",
      "__________________________________________________________________________________________________\n",
      "lstm_21 (LSTM)                  [(None, 128), (None, 68608       embedding_24[0][0]               \n",
      "__________________________________________________________________________________________________\n",
      "lstm_22 (LSTM)                  (None, None, 128)    68608       embedding_25[0][0]               \n",
      "                                                                 lstm_21[0][1]                    \n",
      "                                                                 lstm_21[0][2]                    \n",
      "__________________________________________________________________________________________________\n",
      "time_distributed_7 (TimeDistrib (None, None, 12)     1548        lstm_22[0][0]                    \n",
      "==================================================================================================\n",
      "Total params: 139,024\n",
      "Trainable params: 139,024\n",
      "Non-trainable params: 0\n",
      "__________________________________________________________________________________________________\n",
      "None\n"
     ]
    }
   ],
   "source": [
    "encoder_input = keras.layers.Input(shape=[None])\n",
    "encoder_embed = keras.layers.Embedding(input_dim = len(INPUT_CHARS) + 1, output_dim = EMBED_SIZE)(encoder_input)\n",
    "encoder_lstm_output, encoder_state_h, encoder_state_c  = keras.layers.LSTM(NUMBER_OF_LSTM_NEURONS, return_state=True)(encoder_embed)\n",
    "encoder_state = [encoder_state_h, encoder_state_c]\n",
    "\n",
    "decoder_input = keras.layers.Input(shape=[None])\n",
    "decoder_embed = keras.layers.Embedding(input_dim = len(OUTPUT_CHARS) + 2, output_dim = EMBED_SIZE)(decoder_input)\n",
    "decoder_lstm_output = keras.layers.LSTM(NUMBER_OF_LSTM_NEURONS, return_sequences=True)(decoder_embed, initial_state=encoder_state)\n",
    "decoder_output = keras.layers.TimeDistributed(keras.layers.Dense(len(OUTPUT_CHARS) + 1, activation=\"softmax\"))(decoder_lstm_output)\n",
    "\n",
    "model = keras.models.Model(inputs=[encoder_input, decoder_input], outputs=[decoder_output])\n",
    "model.compile(loss=[\"sparse_categorical_crossentropy\"], optimizer=\"adam\", metrics=[\"accuracy\"])\n",
    "print(model.summary())"
   ]
  },
  {
   "cell_type": "code",
   "execution_count": 95,
   "metadata": {},
   "outputs": [
    {
     "name": "stdout",
     "output_type": "stream",
     "text": [
      "Epoch 1/20\n",
      "313/313 [==============================] - 7s 21ms/step - loss: 0.0038 - accuracy: 1.0000 - val_loss: 0.0032 - val_accuracy: 1.0000\n",
      "Epoch 2/20\n",
      "313/313 [==============================] - 9s 29ms/step - loss: 0.0025 - accuracy: 1.0000 - val_loss: 0.0023 - val_accuracy: 1.0000\n",
      "Epoch 3/20\n",
      "313/313 [==============================] - 9s 28ms/step - loss: 0.0018 - accuracy: 1.0000 - val_loss: 0.0017 - val_accuracy: 1.0000\n",
      "Epoch 4/20\n",
      "313/313 [==============================] - 8s 26ms/step - loss: 0.0014 - accuracy: 1.0000 - val_loss: 0.0014 - val_accuracy: 1.0000\n",
      "Epoch 5/20\n",
      "313/313 [==============================] - 10s 31ms/step - loss: 0.0011 - accuracy: 1.0000 - val_loss: 0.0011 - val_accuracy: 1.0000\n",
      "Epoch 6/20\n",
      "313/313 [==============================] - 11s 34ms/step - loss: 8.8624e-04 - accuracy: 1.0000 - val_loss: 9.2968e-04 - val_accuracy: 1.0000\n",
      "Epoch 7/20\n",
      "313/313 [==============================] - 11s 34ms/step - loss: 7.3159e-04 - accuracy: 1.0000 - val_loss: 7.7976e-04 - val_accuracy: 1.0000\n",
      "Epoch 8/20\n",
      "313/313 [==============================] - 10s 33ms/step - loss: 6.0986e-04 - accuracy: 1.0000 - val_loss: 6.6063e-04 - val_accuracy: 1.0000\n",
      "Epoch 9/20\n",
      "313/313 [==============================] - 11s 34ms/step - loss: 5.1196e-04 - accuracy: 1.0000 - val_loss: 5.4643e-04 - val_accuracy: 1.0000\n",
      "Epoch 10/20\n",
      "313/313 [==============================] - 10s 33ms/step - loss: 4.3113e-04 - accuracy: 1.0000 - val_loss: 4.6918e-04 - val_accuracy: 1.0000\n",
      "Epoch 11/20\n",
      "313/313 [==============================] - 11s 34ms/step - loss: 3.6541e-04 - accuracy: 1.0000 - val_loss: 3.9584e-04 - val_accuracy: 1.0000\n",
      "Epoch 12/20\n",
      "313/313 [==============================] - 10s 33ms/step - loss: 3.0954e-04 - accuracy: 1.0000 - val_loss: 3.3723e-04 - val_accuracy: 1.0000\n",
      "Epoch 13/20\n",
      "313/313 [==============================] - 10s 33ms/step - loss: 2.6405e-04 - accuracy: 1.0000 - val_loss: 2.9295e-04 - val_accuracy: 1.0000\n",
      "Epoch 14/20\n",
      "313/313 [==============================] - 10s 34ms/step - loss: 2.2473e-04 - accuracy: 1.0000 - val_loss: 2.5031e-04 - val_accuracy: 1.0000\n",
      "Epoch 15/20\n",
      "313/313 [==============================] - 10s 33ms/step - loss: 1.9172e-04 - accuracy: 1.0000 - val_loss: 2.1158e-04 - val_accuracy: 1.0000\n",
      "Epoch 16/20\n",
      "313/313 [==============================] - 10s 32ms/step - loss: 1.6367e-04 - accuracy: 1.0000 - val_loss: 1.8137e-04 - val_accuracy: 1.0000\n",
      "Epoch 17/20\n",
      "313/313 [==============================] - 10s 31ms/step - loss: 1.3892e-04 - accuracy: 1.0000 - val_loss: 1.5633e-04 - val_accuracy: 1.0000\n",
      "Epoch 18/20\n",
      "313/313 [==============================] - 10s 31ms/step - loss: 1.1932e-04 - accuracy: 1.0000 - val_loss: 1.3518e-04 - val_accuracy: 1.0000\n",
      "Epoch 19/20\n",
      "313/313 [==============================] - 10s 31ms/step - loss: 1.0128e-04 - accuracy: 1.0000 - val_loss: 1.1448e-04 - val_accuracy: 1.0000\n",
      "Epoch 20/20\n",
      "313/313 [==============================] - 10s 32ms/step - loss: 8.6837e-05 - accuracy: 1.0000 - val_loss: 1.0190e-04 - val_accuracy: 1.0000\n"
     ]
    }
   ],
   "source": [
    "history = model.fit([X_train, X_train_decoder], Y_train, epochs=20, validation_data=([X_valid, X_valid_decoder], Y_valid))"
   ]
  },
  {
   "cell_type": "code",
   "execution_count": 88,
   "metadata": {},
   "outputs": [
    {
     "name": "stdout",
     "output_type": "stream",
     "text": [
      "April 18, 4949,,,,\n",
      "4949-04-1\n",
      "4949-04-18\n"
     ]
    }
   ],
   "source": [
    "print(ids_to_str(X_train.to_tensor()[0].numpy(), INPUT_CHARS))\n",
    "print(ids_to_str(X_train_decoder[0].numpy()[1:], OUTPUT_CHARS))\n",
    "print(ids_to_str(Y_train[0].numpy(), OUTPUT_CHARS))\n"
   ]
  },
  {
   "cell_type": "code",
   "execution_count": 96,
   "metadata": {},
   "outputs": [
    {
     "name": "stdout",
     "output_type": "stream",
     "text": [
      "dict_keys(['loss', 'accuracy', 'val_loss', 'val_accuracy'])\n"
     ]
    },
    {
     "data": {
      "image/png": "[encoded data removed]",
      "text/plain": [
       "<Figure size 432x288 with 1 Axes>"
      ]
     },
     "metadata": {
      "needs_background": "light"
     },
     "output_type": "display_data"
    },
    {
     "data": {
      "image/png": "[encoded data removed]",
      "text/plain": [
       "<Figure size 432x288 with 1 Axes>"
      ]
     },
     "metadata": {
      "needs_background": "light"
     },
     "output_type": "display_data"
    }
   ],
   "source": [
    "# list all data in history\n",
    "print(history.history.keys())\n",
    "# summarize history for accuracy\n",
    "plt.plot(history.history['accuracy'])\n",
    "plt.plot(history.history['val_accuracy'])\n",
    "plt.title('model accuracy')\n",
    "plt.ylabel('accuracy')\n",
    "plt.xlabel('epoch')\n",
    "plt.legend(['train', 'valid'], loc='upper left')\n",
    "plt.show()\n",
    "# summarize history for loss\n",
    "plt.plot(history.history['loss'])\n",
    "plt.plot(history.history['val_loss'])\n",
    "plt.title('model loss')\n",
    "plt.ylabel('loss')\n",
    "plt.xlabel('epoch')\n",
    "plt.legend(['train', 'valid'], loc='upper left')\n",
    "plt.show()"
   ]
  },
  {
   "cell_type": "code",
   "execution_count": 173,
   "metadata": {},
   "outputs": [
    {
     "name": "stdout",
     "output_type": "stream",
     "text": [
      "tf.Tensor([[ 3  2  7  1 11  2  2 11  2  2]], shape=(1, 10), dtype=int64)\n",
      "2160-11-11\n"
     ]
    }
   ],
   "source": [
    "test_input = tf.constant([X_test[0].numpy()])\n",
    "# test_decoder_input = tf.constant([X_test_decoder[0].numpy()])\n",
    "test_decoder_input = tf.constant([[12, 3, 2, 7, 1, 11, 2, 2, 11, 2]])\n",
    "pred = model.predict([test_input, test_decoder_input])\n",
    "pred_classes = tf.argmax(pred, axis=-1)\n",
    "# print(pred)\n",
    "print(pred_classes)\n",
    "print(ids_to_str(pred_classes.numpy()[0], OUTPUT_CHARS))"
   ]
  },
  {
   "cell_type": "code",
   "execution_count": 143,
   "metadata": {},
   "outputs": [
    {
     "data": {
      "text/plain": [
       "'2160-11-11'"
      ]
     },
     "execution_count": 143,
     "metadata": {},
     "output_type": "execute_result"
    }
   ],
   "source": [
    "ids_to_str(Y_test[0].numpy(), OUTPUT_CHARS)"
   ]
  },
  {
   "cell_type": "code",
   "execution_count": 148,
   "metadata": {},
   "outputs": [
    {
     "data": {
      "text/plain": [
       "<tf.Tensor: shape=(10,), dtype=int32, numpy=array([12,  3,  2,  7,  1, 11,  2,  2, 11,  2])>"
      ]
     },
     "execution_count": 148,
     "metadata": {},
     "output_type": "execute_result"
    }
   ],
   "source": [
    "X_test_decoder[0]"
   ]
  },
  {
   "cell_type": "markdown",
   "metadata": {},
   "source": [
    "#### Option 3: reworked option 2 with BasicEncoder"
   ]
  },
  {
   "cell_type": "code",
   "execution_count": 2,
   "metadata": {},
   "outputs": [],
   "source": [
    "import tensorflow_addons as tfa"
   ]
  },
  {
   "cell_type": "code",
   "execution_count": 115,
   "metadata": {},
   "outputs": [],
   "source": [
    "encoder_input = keras.layers.Input([None])\n",
    "encoder_embedding = keras.layers.Embedding(input_dim = len(INPUT_CHARS) + 1, output_dim = EMBED_SIZE)(encoder_input)\n",
    "encoder_lstm, encoder_state_h, encoder_state_c = keras.layers.LSTM(NUMBER_OF_LSTM_NEURONS, return_state=True)(encoder_embedding)\n",
    "encoder_state = [encoder_state_h, encoder_state_c]\n",
    "\n",
    "# sequence_lengths = keras.layers.Input(shape=[], dtype=np.int32)\n",
    "\n",
    "decoder_input = keras.layers.Input([None])\n",
    "decoder_embedding_layer = keras.layers.Embedding(input_dim = len(OUTPUT_CHARS) + 2, output_dim = EMBED_SIZE)\n",
    "decoder_embedding = decoder_embedding_layer(decoder_input)\n",
    "\n",
    "decoder_cells = keras.layers.LSTMCell(NUMBER_OF_LSTM_NEURONS)\n",
    "decoder_sampler = tfa.seq2seq.TrainingSampler()\n",
    "dense_output = keras.layers.Dense(len(OUTPUT_CHARS) + 1)\n",
    "decoder = tfa.seq2seq.BasicDecoder(cell = decoder_cells, sampler = decoder_sampler, output_layer = dense_output)\n",
    "decoder_output, decoder_state, decoder_seq_len = decoder(decoder_embedding, initial_state = encoder_state, training=True)\n",
    "Y_proba = keras.layers.Activation(\"softmax\")(decoder_output.rnn_output)\n",
    "\n",
    "model = keras.models.Model(inputs=[encoder_input, decoder_input], outputs = [Y_proba])\n",
    "model.compile(loss = [\"sparse_categorical_crossentropy\"], optimizer=\"adam\", metrics=[\"accuracy\"])"
   ]
  },
  {
   "cell_type": "code",
   "execution_count": 116,
   "metadata": {
    "scrolled": true
   },
   "outputs": [
    {
     "name": "stdout",
     "output_type": "stream",
     "text": [
      "Epoch 1/20\n"
     ]
    },
    {
     "name": "stderr",
     "output_type": "stream",
     "text": [
      "C:\\Users\\ikuchin\\AppData\\Local\\Continuum\\miniconda3\\envs\\tf22\\lib\\site-packages\\tensorflow\\python\\framework\\indexed_slices.py:433: UserWarning: Converting sparse IndexedSlices to a dense Tensor of unknown shape. This may consume a large amount of memory.\n",
      "  warnings.warn(\n"
     ]
    },
    {
     "name": "stdout",
     "output_type": "stream",
     "text": [
      "313/313 [==============================] - 10s 31ms/step - loss: 1.7107 - accuracy: 0.3656 - val_loss: 1.3883 - val_accuracy: 0.4613\n",
      "Epoch 2/20\n",
      "313/313 [==============================] - 9s 29ms/step - loss: 1.2720 - accuracy: 0.5121 - val_loss: 1.1025 - val_accuracy: 0.5818\n",
      "Epoch 3/20\n",
      "313/313 [==============================] - 9s 29ms/step - loss: 0.9181 - accuracy: 0.6575 - val_loss: 0.7415 - val_accuracy: 0.7359\n",
      "Epoch 4/20\n",
      "313/313 [==============================] - 9s 30ms/step - loss: 0.5473 - accuracy: 0.8169 - val_loss: 0.3909 - val_accuracy: 0.8831\n",
      "Epoch 5/20\n",
      "313/313 [==============================] - 9s 30ms/step - loss: 0.2844 - accuracy: 0.9242 - val_loss: 0.1964 - val_accuracy: 0.9539\n",
      "Epoch 6/20\n",
      "313/313 [==============================] - 9s 29ms/step - loss: 0.1444 - accuracy: 0.9735 - val_loss: 0.0961 - val_accuracy: 0.9894\n",
      "Epoch 7/20\n",
      "313/313 [==============================] - 9s 30ms/step - loss: 0.0768 - accuracy: 0.9914 - val_loss: 0.0599 - val_accuracy: 0.9936\n",
      "Epoch 8/20\n",
      "313/313 [==============================] - 9s 30ms/step - loss: 0.0440 - accuracy: 0.9971 - val_loss: 0.0299 - val_accuracy: 0.9991\n",
      "Epoch 9/20\n",
      "313/313 [==============================] - 9s 29ms/step - loss: 0.0279 - accuracy: 0.9985 - val_loss: 0.0340 - val_accuracy: 0.9973\n",
      "Epoch 10/20\n",
      "313/313 [==============================] - 9s 29ms/step - loss: 0.0261 - accuracy: 0.9972 - val_loss: 0.0140 - val_accuracy: 0.9999\n",
      "Epoch 11/20\n",
      "313/313 [==============================] - 9s 30ms/step - loss: 0.0109 - accuracy: 1.0000 - val_loss: 0.0095 - val_accuracy: 1.0000\n",
      "Epoch 12/20\n",
      "313/313 [==============================] - 9s 30ms/step - loss: 0.0076 - accuracy: 1.0000 - val_loss: 0.0070 - val_accuracy: 1.0000\n",
      "Epoch 13/20\n",
      "313/313 [==============================] - 9s 29ms/step - loss: 0.0058 - accuracy: 1.0000 - val_loss: 0.0056 - val_accuracy: 1.0000\n",
      "Epoch 14/20\n",
      "313/313 [==============================] - 9s 30ms/step - loss: 0.0043 - accuracy: 1.0000 - val_loss: 0.0039 - val_accuracy: 1.0000\n",
      "Epoch 15/20\n",
      "313/313 [==============================] - 9s 30ms/step - loss: 0.0790 - accuracy: 0.9801 - val_loss: 0.0928 - val_accuracy: 0.9753\n",
      "Epoch 16/20\n",
      "313/313 [==============================] - 9s 29ms/step - loss: 0.0171 - accuracy: 0.9985 - val_loss: 0.0080 - val_accuracy: 0.9999\n",
      "Epoch 17/20\n",
      "313/313 [==============================] - 9s 29ms/step - loss: 0.0056 - accuracy: 1.0000 - val_loss: 0.0047 - val_accuracy: 1.0000\n",
      "Epoch 18/20\n",
      "313/313 [==============================] - 10s 31ms/step - loss: 0.0038 - accuracy: 1.0000 - val_loss: 0.0035 - val_accuracy: 1.0000\n",
      "Epoch 19/20\n",
      "313/313 [==============================] - 9s 30ms/step - loss: 0.0028 - accuracy: 1.0000 - val_loss: 0.0028 - val_accuracy: 1.0000\n",
      "Epoch 20/20\n",
      "313/313 [==============================] - 9s 29ms/step - loss: 0.0022 - accuracy: 1.0000 - val_loss: 0.0022 - val_accuracy: 1.0000\n"
     ]
    }
   ],
   "source": [
    "history = model.fit([X_train, X_train_decoder], Y_train, epochs=20, validation_data=([X_valid, X_valid_decoder], Y_valid))"
   ]
  },
  {
   "cell_type": "code",
   "execution_count": 117,
   "metadata": {},
   "outputs": [
    {
     "name": "stdout",
     "output_type": "stream",
     "text": [
      "WARNING:tensorflow:5 out of the last 5 calls to <function Model.make_predict_function.<locals>.predict_function at 0x0000020EE7F27A60> triggered tf.function retracing. Tracing is expensive and the excessive number of tracings is likely due to passing python objects instead of tensors. Also, tf.function has experimental_relax_shapes=True option that relaxes argument shapes that can avoid unnecessary retracing. Please refer to https://www.tensorflow.org/tutorials/customization/performance#python_or_tensor_args and https://www.tensorflow.org/api_docs/python/tf/function for more details.\n",
      "WARNING:tensorflow:6 out of the last 6 calls to <function Model.make_predict_function.<locals>.predict_function at 0x0000020EE7F27A60> triggered tf.function retracing. Tracing is expensive and the excessive number of tracings is likely due to passing python objects instead of tensors. Also, tf.function has experimental_relax_shapes=True option that relaxes argument shapes that can avoid unnecessary retracing. Please refer to https://www.tensorflow.org/tutorials/customization/performance#python_or_tensor_args and https://www.tensorflow.org/api_docs/python/tf/function for more details.\n",
      "WARNING:tensorflow:7 out of the last 7 calls to <function Model.make_predict_function.<locals>.predict_function at 0x0000020EE7F27A60> triggered tf.function retracing. Tracing is expensive and the excessive number of tracings is likely due to passing python objects instead of tensors. Also, tf.function has experimental_relax_shapes=True option that relaxes argument shapes that can avoid unnecessary retracing. Please refer to https://www.tensorflow.org/tutorials/customization/performance#python_or_tensor_args and https://www.tensorflow.org/api_docs/python/tf/function for more details.\n",
      "WARNING:tensorflow:8 out of the last 8 calls to <function Model.make_predict_function.<locals>.predict_function at 0x0000020EE7F27A60> triggered tf.function retracing. Tracing is expensive and the excessive number of tracings is likely due to passing python objects instead of tensors. Also, tf.function has experimental_relax_shapes=True option that relaxes argument shapes that can avoid unnecessary retracing. Please refer to https://www.tensorflow.org/tutorials/customization/performance#python_or_tensor_args and https://www.tensorflow.org/api_docs/python/tf/function for more details.\n",
      "WARNING:tensorflow:9 out of the last 9 calls to <function Model.make_predict_function.<locals>.predict_function at 0x0000020EE7F27A60> triggered tf.function retracing. Tracing is expensive and the excessive number of tracings is likely due to passing python objects instead of tensors. Also, tf.function has experimental_relax_shapes=True option that relaxes argument shapes that can avoid unnecessary retracing. Please refer to https://www.tensorflow.org/tutorials/customization/performance#python_or_tensor_args and https://www.tensorflow.org/api_docs/python/tf/function for more details.\n",
      "WARNING:tensorflow:10 out of the last 10 calls to <function Model.make_predict_function.<locals>.predict_function at 0x0000020EE7F27A60> triggered tf.function retracing. Tracing is expensive and the excessive number of tracings is likely due to passing python objects instead of tensors. Also, tf.function has experimental_relax_shapes=True option that relaxes argument shapes that can avoid unnecessary retracing. Please refer to https://www.tensorflow.org/tutorials/customization/performance#python_or_tensor_args and https://www.tensorflow.org/api_docs/python/tf/function for more details.\n",
      "WARNING:tensorflow:11 out of the last 11 calls to <function Model.make_predict_function.<locals>.predict_function at 0x0000020EE7F27A60> triggered tf.function retracing. Tracing is expensive and the excessive number of tracings is likely due to passing python objects instead of tensors. Also, tf.function has experimental_relax_shapes=True option that relaxes argument shapes that can avoid unnecessary retracing. Please refer to https://www.tensorflow.org/tutorials/customization/performance#python_or_tensor_args and https://www.tensorflow.org/api_docs/python/tf/function for more details.\n",
      "WARNING:tensorflow:11 out of the last 11 calls to <function Model.make_predict_function.<locals>.predict_function at 0x0000020EE7F27A60> triggered tf.function retracing. Tracing is expensive and the excessive number of tracings is likely due to passing python objects instead of tensors. Also, tf.function has experimental_relax_shapes=True option that relaxes argument shapes that can avoid unnecessary retracing. Please refer to https://www.tensorflow.org/tutorials/customization/performance#python_or_tensor_args and https://www.tensorflow.org/api_docs/python/tf/function for more details.\n",
      "WARNING:tensorflow:11 out of the last 11 calls to <function Model.make_predict_function.<locals>.predict_function at 0x0000020EE7F27A60> triggered tf.function retracing. Tracing is expensive and the excessive number of tracings is likely due to passing python objects instead of tensors. Also, tf.function has experimental_relax_shapes=True option that relaxes argument shapes that can avoid unnecessary retracing. Please refer to https://www.tensorflow.org/tutorials/customization/performance#python_or_tensor_args and https://www.tensorflow.org/api_docs/python/tf/function for more details.\n",
      "WARNING:tensorflow:11 out of the last 11 calls to <function Model.make_predict_function.<locals>.predict_function at 0x0000020EE7F27A60> triggered tf.function retracing. Tracing is expensive and the excessive number of tracings is likely due to passing python objects instead of tensors. Also, tf.function has experimental_relax_shapes=True option that relaxes argument shapes that can avoid unnecessary retracing. Please refer to https://www.tensorflow.org/tutorials/customization/performance#python_or_tensor_args and https://www.tensorflow.org/api_docs/python/tf/function for more details.\n",
      "WARNING:tensorflow:11 out of the last 11 calls to <function Model.make_predict_function.<locals>.predict_function at 0x0000020EE7F27A60> triggered tf.function retracing. Tracing is expensive and the excessive number of tracings is likely due to passing python objects instead of tensors. Also, tf.function has experimental_relax_shapes=True option that relaxes argument shapes that can avoid unnecessary retracing. Please refer to https://www.tensorflow.org/tutorials/customization/performance#python_or_tensor_args and https://www.tensorflow.org/api_docs/python/tf/function for more details.\n",
      "WARNING:tensorflow:11 out of the last 11 calls to <function Model.make_predict_function.<locals>.predict_function at 0x0000020EE7F27A60> triggered tf.function retracing. Tracing is expensive and the excessive number of tracings is likely due to passing python objects instead of tensors. Also, tf.function has experimental_relax_shapes=True option that relaxes argument shapes that can avoid unnecessary retracing. Please refer to https://www.tensorflow.org/tutorials/customization/performance#python_or_tensor_args and https://www.tensorflow.org/api_docs/python/tf/function for more details.\n",
      "WARNING:tensorflow:11 out of the last 11 calls to <function Model.make_predict_function.<locals>.predict_function at 0x0000020EE7F27A60> triggered tf.function retracing. Tracing is expensive and the excessive number of tracings is likely due to passing python objects instead of tensors. Also, tf.function has experimental_relax_shapes=True option that relaxes argument shapes that can avoid unnecessary retracing. Please refer to https://www.tensorflow.org/tutorials/customization/performance#python_or_tensor_args and https://www.tensorflow.org/api_docs/python/tf/function for more details.\n",
      "WARNING:tensorflow:11 out of the last 11 calls to <function Model.make_predict_function.<locals>.predict_function at 0x0000020EE7F27A60> triggered tf.function retracing. Tracing is expensive and the excessive number of tracings is likely due to passing python objects instead of tensors. Also, tf.function has experimental_relax_shapes=True option that relaxes argument shapes that can avoid unnecessary retracing. Please refer to https://www.tensorflow.org/tutorials/customization/performance#python_or_tensor_args and https://www.tensorflow.org/api_docs/python/tf/function for more details.\n"
     ]
    },
    {
     "name": "stdout",
     "output_type": "stream",
     "text": [
      "WARNING:tensorflow:11 out of the last 11 calls to <function Model.make_predict_function.<locals>.predict_function at 0x0000020EE7F27A60> triggered tf.function retracing. Tracing is expensive and the excessive number of tracings is likely due to passing python objects instead of tensors. Also, tf.function has experimental_relax_shapes=True option that relaxes argument shapes that can avoid unnecessary retracing. Please refer to https://www.tensorflow.org/tutorials/customization/performance#python_or_tensor_args and https://www.tensorflow.org/api_docs/python/tf/function for more details.\n",
      "WARNING:tensorflow:11 out of the last 11 calls to <function Model.make_predict_function.<locals>.predict_function at 0x0000020EE7F27A60> triggered tf.function retracing. Tracing is expensive and the excessive number of tracings is likely due to passing python objects instead of tensors. Also, tf.function has experimental_relax_shapes=True option that relaxes argument shapes that can avoid unnecessary retracing. Please refer to https://www.tensorflow.org/tutorials/customization/performance#python_or_tensor_args and https://www.tensorflow.org/api_docs/python/tf/function for more details.\n",
      "['2020-01-10', '2022-02-20']\n"
     ]
    }
   ],
   "source": [
    "def predict_output(arr):\n",
    "    result = []\n",
    "    for arr_item in arr:\n",
    "        item_encoded = tf.constant([str_to_ids(arr_item, INPUT_CHARS)])\n",
    "        decoder_input = tf.fill(dims=(1,1), value=SOS_TOKEN)\n",
    "        for idx in range(OUTPUT_NUMBER_TIMESTAMPS):\n",
    "            y_proba = model.predict([item_encoded, decoder_input])\n",
    "            y_proba_argmax = tf.argmax(y_proba, axis=-1)\n",
    "            y_proba_argmax = tf.cast(y_proba_argmax, dtype=tf.int32)\n",
    "            np.append(decoder_input, y_proba_argmax)\n",
    "#             print(decoder_input, y_proba_argmax)\n",
    "            decoder_input = tf.concat([decoder_input, y_proba_argmax[:, -1:]], axis=-1)\n",
    "        \n",
    "        result.append(ids_to_str(decoder_input[0, 1:], OUTPUT_CHARS))\n",
    "    return result\n",
    "\n",
    "print(predict_output([\"January 10, 2020\", \"February 20, 2022\"]))"
   ]
  },
  {
   "cell_type": "code",
   "execution_count": 118,
   "metadata": {},
   "outputs": [],
   "source": [
    "inference_sampler = tfa.seq2seq.GreedyEmbeddingSampler(embedding_fn=decoder_embedding_layer)\n",
    "inference_decoder = tfa.seq2seq.BasicDecoder(cell=decoder_cells, sampler=inference_sampler, output_layer = dense_output, maximum_iterations=OUTPUT_NUMBER_TIMESTAMPS)\n",
    "batch_size = tf.shape(encoder_input)[:1]\n",
    "inference_decoder_X = tf.fill(dims=batch_size, value=SOS_TOKEN)\n",
    "inference_decoder_outputs, inference_decoder_state, inferenece_decoder_seq_len = inference_decoder(\n",
    "    inference_decoder_X,\n",
    "    initial_state = encoder_state,\n",
    "    start_tokens = inference_decoder_X,\n",
    "    end_token = 0,\n",
    "    training=False\n",
    ")\n",
    "model_inference = keras.models.Model(inputs=[encoder_input], outputs=[inference_decoder_outputs.sample_id])"
   ]
  },
  {
   "cell_type": "code",
   "execution_count": 119,
   "metadata": {},
   "outputs": [
    {
     "name": "stdout",
     "output_type": "stream",
     "text": [
      "['2020-01-10', '2022-02-20']\n"
     ]
    }
   ],
   "source": [
    "def fast_predict_output(arr):\n",
    "    result = []\n",
    "    for arr_item in arr:\n",
    "        item_encoded = tf.constant([str_to_ids(arr_item, INPUT_CHARS)])\n",
    "        pred_Y = model_inference.predict([item_encoded])\n",
    "        result.append(ids_to_str(pred_Y[0], OUTPUT_CHARS))\n",
    "        \n",
    "    return result\n",
    "\n",
    "\n",
    "print(fast_predict_output([\"January 10, 2020\", \"February 20, 2022\"]))"
   ]
  },
  {
   "cell_type": "markdown",
   "metadata": {},
   "source": [
    "#### Option 4: Scheduler sampler implementation"
   ]
  },
  {
   "cell_type": "code",
   "execution_count": 53,
   "metadata": {},
   "outputs": [],
   "source": [
    "encoder_input = keras.layers.Input([None])\n",
    "encoder_embedding = keras.layers.Embedding(input_dim=len(INPUT_CHARS) + 1, output_dim = EMBED_SIZE)(encoder_input)\n",
    "encoder_output, encoder_state_c, encoder_state_h = keras.layers.LSTM(NUMBER_OF_LSTM_NEURONS, return_state=True)(encoder_embedding)\n",
    "encoder_state = [encoder_state_c, encoder_state_h]\n",
    "\n",
    "decoder_input = keras.layers.Input([None])\n",
    "decoder_embedding_layer = keras.layers.Embedding(input_dim = len(OUTPUT_CHARS) + 2, output_dim = EMBED_SIZE)\n",
    "decoder_embedding = decoder_embedding_layer(decoder_input)\n",
    "decoder_cell = keras.layers.LSTMCell(NUMBER_OF_LSTM_NEURONS)\n",
    "decoder_output_layer = keras.layers.Dense(len(OUTPUT_CHARS) + 1)\n",
    "\n",
    "decoder_sampler = tfa.seq2seq.ScheduledEmbeddingTrainingSampler(sampling_probability = 0., embedding_fn=decoder_embedding_layer)\n",
    "decoder_sampler.sampling_probability = tf.Variable(0.)\n",
    "\n",
    "decoder = tfa.seq2seq.BasicDecoder(cell = decoder_cell, sampler = decoder_sampler, output_layer = decoder_output_layer)\n",
    "\n",
    "decoder_output, decoder_state, decoder_seq_len = decoder(decoder_embedding, initial_state = encoder_state, training=True)\n",
    "Y_proba = keras.layers.Activation(\"softmax\")(decoder_output.rnn_output)\n",
    "\n",
    "model = keras.models.Model(inputs = [encoder_input, decoder_input], outputs = [Y_proba])\n",
    "\n",
    "\n",
    "model.compile(loss=[\"sparse_categorical_crossentropy\"], optimizer=\"adam\", metrics=[\"accuracy\"])\n"
   ]
  },
  {
   "cell_type": "code",
   "execution_count": 54,
   "metadata": {},
   "outputs": [
    {
     "name": "stdout",
     "output_type": "stream",
     "text": [
      "epoch 0 sampling prob 0.0:\n",
      "Epoch 1/20\n",
      "313/313 [==============================] - 75s 239ms/step - loss: 1.6947 - accuracy: 0.3518 - val_loss: 1.4965 - val_accuracy: 0.3857\n",
      "epoch 1 sampling prob 0.0:\n",
      "Epoch 2/20\n",
      "313/313 [==============================] - 74s 237ms/step - loss: 1.4908 - accuracy: 0.3878 - val_loss: 1.4861 - val_accuracy: 0.3859\n",
      "epoch 2 sampling prob 0.0:\n",
      "Epoch 3/20\n",
      "313/313 [==============================] - 71s 226ms/step - loss: 1.4823 - accuracy: 0.3873 - val_loss: 1.4811 - val_accuracy: 0.3912\n",
      "epoch 3 sampling prob 0.0:\n",
      "Epoch 4/20\n",
      "313/313 [==============================] - 69s 222ms/step - loss: 1.4811 - accuracy: 0.3890 - val_loss: 1.4787 - val_accuracy: 0.3908\n",
      "epoch 4 sampling prob 0.0:\n",
      "Epoch 5/20\n",
      "313/313 [==============================] - 71s 227ms/step - loss: 1.4750 - accuracy: 0.3906 - val_loss: 1.4766 - val_accuracy: 0.3894\n",
      "epoch 5 sampling prob 0.0:\n",
      "Epoch 6/20\n",
      "313/313 [==============================] - 68s 219ms/step - loss: 1.4724 - accuracy: 0.3962 - val_loss: 1.4352 - val_accuracy: 0.4038\n",
      "epoch 6 sampling prob 0.0:\n",
      "Epoch 7/20\n",
      "313/313 [==============================] - 68s 218ms/step - loss: 1.4154 - accuracy: 0.4086 - val_loss: 1.4065 - val_accuracy: 0.4092\n",
      "epoch 7 sampling prob 0.0:\n",
      "Epoch 8/20\n",
      "313/313 [==============================] - 65s 208ms/step - loss: 1.4014 - accuracy: 0.4146 - val_loss: 1.4044 - val_accuracy: 0.4144\n",
      "epoch 8 sampling prob 0.0:\n",
      "Epoch 9/20\n",
      "313/313 [==============================] - 80s 254ms/step - loss: 1.3998 - accuracy: 0.4176 - val_loss: 1.3958 - val_accuracy: 0.4135\n",
      "epoch 9 sampling prob 0.0:\n",
      "Epoch 10/20\n",
      "313/313 [==============================] - 81s 259ms/step - loss: 1.3915 - accuracy: 0.4203 - val_loss: 1.4033 - val_accuracy: 0.4196\n",
      "epoch 10 sampling prob 0.0:\n",
      "Epoch 11/20\n",
      "313/313 [==============================] - 80s 255ms/step - loss: 1.3885 - accuracy: 0.4266 - val_loss: 1.3883 - val_accuracy: 0.4261\n",
      "epoch 11 sampling prob 0.05:\n",
      "Epoch 12/20\n",
      "313/313 [==============================] - 78s 249ms/step - loss: 1.3966 - accuracy: 0.4287 - val_loss: 1.3978 - val_accuracy: 0.4303\n",
      "epoch 12 sampling prob 0.1:\n",
      "Epoch 13/20\n",
      "313/313 [==============================] - 72s 231ms/step - loss: 1.3967 - accuracy: 0.4325 - val_loss: 1.4019 - val_accuracy: 0.4270\n",
      "epoch 13 sampling prob 0.15:\n",
      "Epoch 14/20\n",
      "313/313 [==============================] - 82s 261ms/step - loss: 1.3952 - accuracy: 0.4364 - val_loss: 1.3974 - val_accuracy: 0.4345\n",
      "epoch 14 sampling prob 0.2:\n",
      "Epoch 15/20\n",
      "313/313 [==============================] - 81s 260ms/step - loss: 1.3929 - accuracy: 0.4380 - val_loss: 1.3922 - val_accuracy: 0.4365\n",
      "epoch 15 sampling prob 0.25:\n",
      "Epoch 16/20\n",
      "313/313 [==============================] - 81s 260ms/step - loss: 1.3887 - accuracy: 0.4396 - val_loss: 1.3923 - val_accuracy: 0.4340\n",
      "epoch 16 sampling prob 0.3:\n",
      "Epoch 17/20\n",
      "313/313 [==============================] - 82s 262ms/step - loss: 1.3889 - accuracy: 0.4407 - val_loss: 1.3943 - val_accuracy: 0.4347\n",
      "epoch 17 sampling prob 0.35:\n",
      "Epoch 18/20\n",
      "313/313 [==============================] - 81s 259ms/step - loss: 1.3882 - accuracy: 0.4417 - val_loss: 1.3890 - val_accuracy: 0.4390\n",
      "epoch 18 sampling prob 0.4:\n",
      "Epoch 19/20\n",
      "313/313 [==============================] - 79s 251ms/step - loss: 1.3887 - accuracy: 0.4413 - val_loss: 1.3956 - val_accuracy: 0.4356\n",
      "epoch 19 sampling prob 0.45:\n",
      "Epoch 20/20\n",
      "313/313 [==============================] - 79s 253ms/step - loss: 1.3854 - accuracy: 0.4419 - val_loss: 1.3928 - val_accuracy: 0.4375\n"
     ]
    }
   ],
   "source": [
    "n_epochs = 20\n",
    "\n",
    "class CustomCallback(keras.callbacks.Callback):\n",
    "    def on_epoch_begin(self, epoch, logs=None):\n",
    "        sampling_probability = max(0.0, (epoch - 10) / (n_epochs))\n",
    "        decoder_sampler.sampling_probability.assign(sampling_probability)\n",
    "        \n",
    "        print(\"epoch {} sampling prob {}:\".format(epoch, sampling_probability))\n",
    "\n",
    "history = model.fit([X_train.to_tensor(), X_train_decoder], Y_train, epochs=n_epochs, validation_data=([X_valid.to_tensor(), X_valid_decoder], Y_valid), callbacks=[CustomCallback()])"
   ]
  },
  {
   "cell_type": "code",
   "execution_count": 82,
   "metadata": {},
   "outputs": [
    {
     "name": "stdout",
     "output_type": "stream",
     "text": [
      "63/63 [==============================] - 0s 8ms/step - loss: 0.0082 - accuracy: 0.9980\n"
     ]
    },
    {
     "data": {
      "text/plain": [
       "[0.008213719353079796, 0.9980499744415283]"
      ]
     },
     "execution_count": 82,
     "metadata": {},
     "output_type": "execute_result"
    }
   ],
   "source": [
    "model.evaluate([X_valid, X_valid_decoder], Y_valid)"
   ]
  },
  {
   "cell_type": "code",
   "execution_count": 119,
   "metadata": {},
   "outputs": [
    {
     "name": "stdout",
     "output_type": "stream",
     "text": [
      "Tensor(\"strided_slice_15:0\", shape=(1,), dtype=int32)\n"
     ]
    }
   ],
   "source": [
    "softmax_temperature = tf.Variable(1.)\n",
    "\n",
    "inference_sampler = tfa.seq2seq.SampleEmbeddingSampler(embedding_fn = decoder_embedding_layer, softmax_temperature = softmax_temperature)\n",
    "inference_decoder = tfa.seq2seq.BasicDecoder(cell = decoder_cell, sampler = inference_sampler, output_layer = decoder_output_layer, maximum_iterations = OUTPUT_NUMBER_TIMESTAMPS)\n",
    "\n",
    "batch_size = tf.shape(encoder_input)[1:]\n",
    "print(batch_size)\n",
    "start_tokens = tf.fill(dims = batch_size, value=SOS_TOKEN)\n",
    "\n",
    "inference_decoder_outputs, inference_decoder_state, inferenece_decoder_seq_len = inference_decoder(\n",
    "    start_tokens,\n",
    "    initial_state = encoder_state,\n",
    "    start_tokens = start_tokens,\n",
    "    end_token = 0,\n",
    "    training = False\n",
    ")\n",
    "\n",
    "inference_model = keras.models.Model(inputs=[encoder_input], outputs=[inference_decoder_outputs.sample_id])"
   ]
  },
  {
   "cell_type": "code",
   "execution_count": 166,
   "metadata": {
    "scrolled": false
   },
   "outputs": [
    {
     "name": "stdout",
     "output_type": "stream",
     "text": [
      "[[ 3  1  1 10 11  1  3 11  3  9]\n",
      " [ 3  1  1 10 11  1  3 11  3  9]\n",
      " [ 3  1  1 10 11  1  3 11  3  9]\n",
      " [ 3  1  1 10 11  1  3 11  3  9]\n",
      " [ 3  1  1 10 11  1  3 11  3  9]\n",
      " [ 3  1  1 10 11  1  3 11  3  9]\n",
      " [ 3  1  1 10 11  1  3 11  3  9]\n",
      " [ 3  1  1 10 11  1  3 11  3  9]\n",
      " [ 3  1  1 10 11  1  3 11  3  9]\n",
      " [ 3  1  1 10 11  1  3 11  3  9]\n",
      " [ 3  1  1 10 11  1  3 11  3  9]\n",
      " [ 3  1  1 10 11  1  3 11  3  9]\n",
      " [ 3  1  1 10 11  1  3 11  3  9]\n",
      " [ 3  1  1 10 11  1  3 11  3  9]\n",
      " [ 3  1  1 10 11  1  3 11  3  9]\n",
      " [ 3  1  1 10 11  1  3 11  3  9]\n",
      " [ 3  1  1 10 11  1  3 11  3  9]]\n",
      "['2009-02-28']\n",
      "[[ 3  5  1 10 11  2  3 11  9  4]\n",
      " [ 3  1  4  6 11  1  9  3  1  2]\n",
      " [ 9  1  1 10 11  1  3 11  1  9]\n",
      " [ 3  1  6  3  2  1  2 11  3  3]\n",
      " [ 3  1  1 10 11  1  3  3  1  3]\n",
      " [ 3  1  6  2 10  3  3  9  1  3]\n",
      " [ 1  1  1 10 11  1  3 11  3  0]\n",
      " [ 3  5 10  5 11  1  3 11  3  7]\n",
      " [ 9  0  1  4  5  2  0 11  0  9]\n",
      " [ 3  3  1  1 11  1 11  3  3  9]\n",
      " [ 4  6  3  5 11  4  3  3  3  9]\n",
      " [ 3  1  1 10  7 10  3 11  3  9]\n",
      " [ 4 11  1  3  1  2  3 11 11  5]\n",
      " [ 3  6  1 10 10  2  3 11  3  5]\n",
      " [ 3  1  6 10 11  1  3 11  1  9]\n",
      " [ 3  3  1 10 11  2  3 11  3  9]\n",
      " [ 3  1 10  5 11  1  1  3  3  9]]\n",
      "['2409-12-83']\n"
     ]
    }
   ],
   "source": [
    "def temperature_inference(inputs, temp=1.0):\n",
    "    result = []\n",
    "    softmax_temperature.assign(temp)\n",
    "    for item in inputs:\n",
    "        encoding = tf.constant([str_to_ids(item, INPUT_CHARS)])\n",
    "        Y_pred = inference_model.predict([encoding])\n",
    "        print(Y_pred)\n",
    "        result.append(ids_to_str(Y_pred[0], OUTPUT_CHARS))\n",
    "        \n",
    "    return result\n",
    "\n",
    "print(temperature_inference([\"February 28, 2009\"], 1.))\n",
    "print(temperature_inference([\"February 28, 2009\"], 5.))"
   ]
  },
  {
   "cell_type": "markdown",
   "metadata": {},
   "source": [
    "#### Option 5: Attention mechanism"
   ]
  },
  {
   "cell_type": "code",
   "execution_count": 55,
   "metadata": {
    "scrolled": false
   },
   "outputs": [],
   "source": [
    "class DateTranslation(keras.models.Model):\n",
    "    def __init__(self, **kwargs):\n",
    "        super().__init__(**kwargs)\n",
    "        self.encoder_emb_layer = keras.layers.Embedding(input_dim=len(INPUT_CHARS) + 1, output_dim=EMBED_SIZE)\n",
    "        self.encoder_lstm_layer = keras.layers.LSTM(NUMBER_OF_LSTM_NEURONS, return_state=True, return_sequences=True)\n",
    "        \n",
    "        self.decoder_emb_layer = keras.layers.Embedding(input_dim=len(OUTPUT_CHARS) + 2, output_dim=EMBED_SIZE)\n",
    "        self.decoder_lstm_cells = keras.layers.LSTMCell(NUMBER_OF_LSTM_NEURONS)\n",
    "        \n",
    "        self.attention = tfa.seq2seq.LuongAttention(NUMBER_OF_LSTM_NEURONS)\n",
    "        self.decoder_cell = tfa.seq2seq.AttentionWrapper(\n",
    "            self.decoder_lstm_cells,\n",
    "            attention_mechanism = self.attention\n",
    "        )\n",
    "        self.output_layer = keras.layers.Dense(len(OUTPUT_CHARS) + 1)\n",
    "        self.training_decoder = tfa.seq2seq.BasicDecoder(\n",
    "            self.decoder_cell, \n",
    "            sampler = tfa.seq2seq.TrainingSampler(),\n",
    "            output_layer = self.output_layer\n",
    "        )\n",
    "        self.inference_decoder = tfa.seq2seq.BasicDecoder(\n",
    "            self.decoder_cell,\n",
    "            sampler = tfa.seq2seq.GreedyEmbeddingSampler(embedding_fn = self.decoder_emb_layer),\n",
    "            output_layer = self.output_layer,\n",
    "            maximum_iterations = OUTPUT_NUMBER_TIMESTAMPS,\n",
    "        )\n",
    "        \n",
    "    def call(self, inputs, training = None):\n",
    "        encoder_input, decoder_input = inputs\n",
    "        encoder_emb = self.encoder_emb_layer(encoder_input)\n",
    "        encoder_output, encoder_state_h, encoder_state_c = self.encoder_lstm_layer(encoder_emb, training=training)\n",
    "        encoder_state = [encoder_state_h, encoder_state_c]\n",
    "\n",
    "        self.attention(encoder_output, setup_memory=True) # --- try to move it to __init__\n",
    "\n",
    "        # --- decoder part\n",
    "        decoder_emb = self.decoder_emb_layer(decoder_input)\n",
    "        decoder_initial_state = self.decoder_cell.get_initial_state(decoder_emb)\n",
    "        decoder_initial_state = decoder_initial_state.clone(cell_state = encoder_state)\n",
    "\n",
    "        if training:\n",
    "            decoder_output, decoder_state, decoder_seq_length = self.training_decoder(\n",
    "                decoder_emb, \n",
    "                initial_state = decoder_initial_state,\n",
    "                training = True\n",
    "            )\n",
    "        else:\n",
    "            start_tokens = tf.zeros_like(decoder_input)[:,0] + SOS_TOKEN\n",
    "            decoder_output, decoder_state, decoder_seq_len = self.inference_decoder(\n",
    "                decoder_emb, \n",
    "                initial_state = decoder_initial_state, \n",
    "                start_tokens = start_tokens,\n",
    "                end_token = 0,\n",
    "                training = False\n",
    "            )\n",
    "        \n",
    "        \n",
    "        return tf.nn.softmax(decoder_output.rnn_output)\n",
    "    \n",
    "model = DateTranslation()"
   ]
  },
  {
   "cell_type": "code",
   "execution_count": 56,
   "metadata": {
    "scrolled": false
   },
   "outputs": [
    {
     "name": "stdout",
     "output_type": "stream",
     "text": [
      "Epoch 1/20\n",
      "313/313 [==============================] - 97s 311ms/step - loss: 2.1569 - accuracy: 0.2503 - val_loss: 2.0768 - val_accuracy: 0.2697\n",
      "Epoch 2/20\n",
      "313/313 [==============================] - 100s 321ms/step - loss: 1.4288 - accuracy: 0.5215 - val_loss: 1.1819 - val_accuracy: 0.6000\n",
      "Epoch 3/20\n",
      "313/313 [==============================] - 90s 287ms/step - loss: 1.1777 - accuracy: 0.6000 - val_loss: 1.1765 - val_accuracy: 0.6000\n",
      "Epoch 4/20\n",
      "313/313 [==============================] - 81s 257ms/step - loss: 1.2245 - accuracy: 0.5972 - val_loss: 1.7523 - val_accuracy: 0.4307\n",
      "Epoch 5/20\n",
      "313/313 [==============================] - 81s 258ms/step - loss: 0.5560 - accuracy: 0.8031 - val_loss: 0.2101 - val_accuracy: 0.9384\n",
      "Epoch 6/20\n",
      "313/313 [==============================] - 85s 272ms/step - loss: 0.1167 - accuracy: 0.9646 - val_loss: 0.0299 - val_accuracy: 0.9940\n",
      "Epoch 7/20\n",
      "313/313 [==============================] - 79s 251ms/step - loss: 0.0198 - accuracy: 0.9973 - val_loss: 0.0082 - val_accuracy: 0.9986\n",
      "Epoch 8/20\n",
      "313/313 [==============================] - 76s 243ms/step - loss: 0.1285 - accuracy: 0.9664 - val_loss: 0.0161 - val_accuracy: 0.9969\n",
      "Epoch 9/20\n",
      "313/313 [==============================] - 74s 236ms/step - loss: 0.0089 - accuracy: 0.9974 - val_loss: 0.0066 - val_accuracy: 0.9973\n",
      "Epoch 10/20\n",
      "313/313 [==============================] - 79s 252ms/step - loss: 0.0234 - accuracy: 0.9929 - val_loss: 0.1552 - val_accuracy: 0.9745\n",
      "Epoch 11/20\n",
      "313/313 [==============================] - 77s 246ms/step - loss: 0.0172 - accuracy: 0.9928 - val_loss: 0.1540 - val_accuracy: 0.9756\n",
      "Epoch 12/20\n",
      "313/313 [==============================] - 77s 244ms/step - loss: 0.0116 - accuracy: 0.9938 - val_loss: 0.1529 - val_accuracy: 0.9768\n",
      "Epoch 13/20\n",
      "313/313 [==============================] - 80s 257ms/step - loss: 0.0107 - accuracy: 0.9938 - val_loss: 0.1647 - val_accuracy: 0.9765\n",
      "Epoch 14/20\n",
      "313/313 [==============================] - 78s 249ms/step - loss: 0.0209 - accuracy: 0.9923 - val_loss: 0.0053 - val_accuracy: 0.9989\n",
      "Epoch 15/20\n",
      "313/313 [==============================] - 81s 258ms/step - loss: 0.0019 - accuracy: 0.9997 - val_loss: 0.0014 - val_accuracy: 0.9995\n",
      "Epoch 16/20\n",
      "313/313 [==============================] - 82s 261ms/step - loss: 0.0048 - accuracy: 0.9992 - val_loss: 0.0013 - val_accuracy: 1.0000\n",
      "Epoch 17/20\n",
      "313/313 [==============================] - 77s 245ms/step - loss: 6.9775e-04 - accuracy: 1.0000 - val_loss: 5.3771e-04 - val_accuracy: 1.0000\n",
      "Epoch 18/20\n",
      "313/313 [==============================] - 86s 275ms/step - loss: 4.3227e-04 - accuracy: 1.0000 - val_loss: 3.7531e-04 - val_accuracy: 1.0000\n",
      "Epoch 19/20\n",
      "313/313 [==============================] - 79s 253ms/step - loss: 3.1327e-04 - accuracy: 1.0000 - val_loss: 2.8129e-04 - val_accuracy: 1.0000\n",
      "Epoch 20/20\n",
      "313/313 [==============================] - 81s 257ms/step - loss: 2.3894e-04 - accuracy: 1.0000 - val_loss: 2.1803e-04 - val_accuracy: 1.0000\n"
     ]
    }
   ],
   "source": [
    "model.compile(loss=\"sparse_categorical_crossentropy\", optimizer=\"nadam\", metrics=[\"accuracy\"])\n",
    "history = model.fit([X_train.to_tensor(), X_train_decoder], Y_train, epochs=20, validation_data=([X_valid.to_tensor(), X_valid_decoder], Y_valid))"
   ]
  },
  {
   "cell_type": "code",
   "execution_count": 97,
   "metadata": {
    "scrolled": false
   },
   "outputs": [
    {
     "name": "stdout",
     "output_type": "stream",
     "text": [
      "['2009-02-30', '8910-05-28']\n"
     ]
    }
   ],
   "source": [
    "def pad_input(arr):\n",
    "    result = tf.constant(arr)\n",
    "    max_train_len = X_train.to_tensor().shape[1]\n",
    "    result = tf.pad(result, [[0, 0], [0, max_train_len-result.shape[1]]])\n",
    "    return result\n",
    "\n",
    "def predict(arr):\n",
    "    result = []\n",
    "    for item in arr:\n",
    "        X_predict = pad_input([str_to_ids(item, INPUT_CHARS)])\n",
    "        X_predict_decoder = tf.fill(dims=(1,1), value=SOS_TOKEN)\n",
    "        Y_predict = model.predict([X_predict, X_predict_decoder])\n",
    "#         print(np.argmax(Y_predict, axis=-1)[0])\n",
    "        result.append(ids_to_str(np.argmax(Y_predict, axis=-1)[0], OUTPUT_CHARS))\n",
    "    return result\n",
    "\n",
    "\n",
    "print(predict([\"February 30, 2009\", \"May 38, 8910\"]))"
   ]
  },
  {
   "cell_type": "code",
   "execution_count": 98,
   "metadata": {},
   "outputs": [
    {
     "name": "stdout",
     "output_type": "stream",
     "text": [
      "Model: \"date_translation_10\"\n",
      "_________________________________________________________________\n",
      "Layer (type)                 Output Shape              Param #   \n",
      "=================================================================\n",
      "embedding_24 (Embedding)     multiple                  1280      \n",
      "_________________________________________________________________\n",
      "lstm_12 (LSTM)               multiple                  82432     \n",
      "_________________________________________________________________\n",
      "embedding_25 (Embedding)     multiple                  416       \n",
      "_________________________________________________________________\n",
      "lstm_cell_25 (LSTMCell)      multiple                  147968    \n",
      "_________________________________________________________________\n",
      "LuongAttention (LuongAttenti multiple                  16384     \n",
      "_________________________________________________________________\n",
      "attention_wrapper_9 (Attenti multiple                  164352    \n",
      "_________________________________________________________________\n",
      "dense_11 (Dense)             multiple                  1548      \n",
      "_________________________________________________________________\n",
      "basic_decoder_20 (BasicDecod multiple                  165900    \n",
      "_________________________________________________________________\n",
      "basic_decoder_21 (BasicDecod multiple                  165900    \n",
      "=================================================================\n",
      "Total params: 250,028\n",
      "Trainable params: 250,028\n",
      "Non-trainable params: 0\n",
      "_________________________________________________________________\n"
     ]
    }
   ],
   "source": [
    "model.summary()"
   ]
  },
  {
   "cell_type": "code",
   "execution_count": 155,
   "metadata": {
    "scrolled": true
   },
   "outputs": [
    {
     "data": {
      "text/plain": [
       "array([[-4.21090014e-02, -1.51288621e-02,  2.87316106e-02,\n",
       "         1.76233687e-02, -1.74116120e-02,  4.91109230e-02,\n",
       "        -3.31961997e-02,  2.83560790e-02, -1.82415955e-02,\n",
       "         2.88024880e-02, -2.11279746e-02, -7.01315328e-03,\n",
       "         4.50282432e-02,  2.15043873e-03,  1.30654611e-02,\n",
       "        -4.98906486e-02, -2.09124330e-02,  6.65783882e-05,\n",
       "        -2.30740439e-02,  7.30646774e-03,  1.98579915e-02,\n",
       "        -3.69580388e-02, -1.93203818e-02,  2.45310776e-02,\n",
       "         3.57194059e-02,  4.17781733e-02,  4.27037142e-02,\n",
       "        -7.53985718e-03, -2.75429972e-02,  4.70386185e-02,\n",
       "         4.81402166e-02, -3.06477305e-02],\n",
       "       [-2.16235638e-01, -2.29259998e-01,  6.42847363e-03,\n",
       "        -9.66817513e-02, -2.55904999e-02, -5.08050956e-02,\n",
       "         2.92594999e-01, -1.43817723e-01,  1.68920994e-01,\n",
       "         3.59488666e-01, -2.87266135e-01,  8.06044191e-02,\n",
       "        -1.65674582e-01,  4.70442139e-02,  7.15930313e-02,\n",
       "        -1.72696203e-01,  2.44283423e-01,  2.87814289e-01,\n",
       "         3.44949886e-02, -3.50800008e-01,  1.32071808e-01,\n",
       "         3.20032164e-02, -1.18706271e-01,  1.53280810e-01,\n",
       "         2.73313046e-01, -1.85817301e-01, -2.46741772e-01,\n",
       "        -1.44870892e-01,  1.97568476e-01, -2.00025409e-01,\n",
       "         7.71653503e-02, -1.41762972e-01],\n",
       "       [-5.19800559e-02, -4.65751328e-02, -1.40841454e-01,\n",
       "         5.48496433e-02, -9.81924236e-02,  6.68014884e-02,\n",
       "         5.16997539e-02,  6.92668511e-03,  6.24945350e-02,\n",
       "        -2.81248838e-01, -3.66458893e-02,  8.02818686e-02,\n",
       "         3.41304690e-02, -4.26514409e-02, -1.28381193e-01,\n",
       "        -1.33926570e-01,  2.88832858e-02, -1.13904543e-01,\n",
       "        -1.70320328e-02, -7.79523421e-03, -1.21246554e-01,\n",
       "         8.09873715e-02, -2.47913264e-02, -6.48357719e-02,\n",
       "        -1.12348616e-01, -1.50595233e-01, -4.74431552e-02,\n",
       "        -1.09916665e-01,  9.64120850e-02, -4.56381105e-02,\n",
       "         9.81581747e-04,  4.34429236e-02],\n",
       "       [-1.61030386e-02,  2.11698357e-02, -2.41775557e-01,\n",
       "        -3.35049421e-01, -9.26699564e-02,  1.88148558e-01,\n",
       "         7.04965144e-02,  8.86933506e-02, -8.21387172e-02,\n",
       "        -1.97672367e-01, -7.74289742e-02,  1.18641853e-01,\n",
       "         1.19024046e-01,  2.71652881e-02, -2.26573348e-01,\n",
       "        -1.28886491e-01,  5.72647192e-02, -1.16714276e-01,\n",
       "        -9.50735342e-03, -1.20677315e-01, -1.10498920e-01,\n",
       "         5.82120717e-02,  2.78400313e-02,  1.49003323e-02,\n",
       "        -1.58950523e-01, -1.71432033e-01,  9.42569748e-02,\n",
       "        -3.71851511e-02,  7.17070997e-02, -5.27473167e-02,\n",
       "         6.01968765e-02, -1.27435392e-02],\n",
       "       [-2.34059412e-02, -1.24160409e-01,  1.57229695e-03,\n",
       "        -1.19586974e-01,  7.59031475e-02, -1.34410681e-02,\n",
       "         4.03374769e-02, -4.17380296e-02,  3.58673111e-02,\n",
       "        -1.15773663e-01, -3.03928517e-02, -6.37303889e-02,\n",
       "         1.60126925e-01,  1.54797986e-01, -1.39072230e-02,\n",
       "         5.70771322e-02,  7.55697414e-02, -9.43428800e-02,\n",
       "        -1.51474088e-01,  1.66461959e-01,  8.02679211e-02,\n",
       "        -1.26669601e-01, -9.20210779e-02,  6.66422844e-02,\n",
       "        -1.18216529e-01, -7.99338520e-02,  1.77556500e-02,\n",
       "         9.56690311e-02,  9.85918790e-02, -6.03386536e-02,\n",
       "        -1.19943142e-01, -1.13394678e-01],\n",
       "       [ 2.30275337e-02, -2.90792789e-02,  5.48247620e-02,\n",
       "         9.46409181e-02,  4.48632129e-02, -5.98209500e-02,\n",
       "        -1.31589379e-02, -6.68569058e-02,  5.14480472e-03,\n",
       "        -1.52154207e-01, -2.17988119e-02, -8.48241374e-02,\n",
       "         1.11835428e-01,  4.67914008e-02, -1.37543073e-03,\n",
       "         1.28176495e-01, -3.01397908e-02, -6.76524639e-02,\n",
       "        -6.32138774e-02,  6.80638254e-02,  9.24993306e-03,\n",
       "        -7.14923069e-02, -7.13133141e-02,  7.51806200e-02,\n",
       "        -7.63296410e-02,  3.21962386e-02, -3.96435987e-03,\n",
       "         8.38916376e-02,  9.96249355e-03, -1.28406333e-02,\n",
       "        -1.11760318e-01, -7.10760355e-02],\n",
       "       [ 2.97969542e-02, -8.65208954e-02,  7.80402422e-02,\n",
       "         1.17853619e-02,  7.15237558e-02, -1.20174065e-01,\n",
       "         6.02912456e-02, -9.66523141e-02,  3.70732583e-02,\n",
       "        -3.82654183e-02, -4.34494717e-03, -7.54293799e-02,\n",
       "         8.03521201e-02,  5.07805198e-02,  6.90952316e-02,\n",
       "         4.80395444e-02,  7.57194683e-02, -9.67343152e-02,\n",
       "        -4.52485718e-02,  1.12515353e-01,  1.26291871e-01,\n",
       "        -8.47575814e-02, -8.41575339e-02,  9.83683318e-02,\n",
       "        -8.02545771e-02, -3.98283862e-02, -3.37952673e-02,\n",
       "         7.40930066e-02,  1.17989883e-01, -2.93538421e-02,\n",
       "        -1.06983125e-01, -4.66512553e-02],\n",
       "       [ 1.02193104e-02, -8.83556422e-05,  9.62271704e-04,\n",
       "        -9.82507542e-02,  4.90625910e-02, -2.30792705e-02,\n",
       "        -2.20434871e-02, -2.66802330e-02,  9.68078058e-03,\n",
       "        -1.92584947e-01, -7.45434016e-02, -5.83703443e-02,\n",
       "         1.28553346e-01,  5.14483154e-02,  6.17567077e-02,\n",
       "         6.61475211e-02,  5.60343489e-02, -8.93459916e-02,\n",
       "        -8.77817869e-02,  7.32626766e-02,  5.60215078e-02,\n",
       "        -9.45919938e-03, -8.32090303e-02,  8.61190334e-02,\n",
       "        -1.05960272e-01,  6.20183162e-02,  9.60763395e-02,\n",
       "         5.92203140e-02,  2.59450059e-02, -7.27978572e-02,\n",
       "        -2.05615796e-02, -1.98745970e-02],\n",
       "       [-5.45392297e-02, -5.24337450e-03,  5.06119952e-02,\n",
       "        -2.40054727e-02,  7.74639100e-02, -6.74474463e-02,\n",
       "        -6.75088260e-04, -3.70847844e-02, -2.72812019e-03,\n",
       "        -2.07004935e-01, -7.18486458e-02, -1.21695638e-01,\n",
       "         1.52796745e-01,  1.20602481e-01,  7.24332482e-02,\n",
       "        -1.65321790e-02,  4.94784750e-02, -1.78095803e-01,\n",
       "        -1.08468279e-01,  1.67013824e-01, -1.33308687e-03,\n",
       "        -1.24413185e-01, -6.57628328e-02,  6.16482086e-02,\n",
       "        -9.24141631e-02,  3.87617089e-02,  6.90842606e-03,\n",
       "         4.16160971e-02,  5.24370037e-02, -1.27025425e-01,\n",
       "        -5.43521009e-02, -7.75636137e-02],\n",
       "       [-2.78033558e-02, -5.63427359e-02,  3.44774351e-02,\n",
       "        -9.24785063e-02,  8.55115354e-02, -3.88638116e-03,\n",
       "        -2.53802892e-02, -8.99835005e-02,  4.50456999e-02,\n",
       "        -9.34909210e-02, -2.24678237e-02, -9.57439318e-02,\n",
       "         1.10798433e-01,  8.09675530e-02,  6.09433092e-02,\n",
       "         7.94819519e-02,  3.45309265e-02, -5.41147254e-02,\n",
       "        -6.72709346e-02,  7.10427165e-02,  1.50435362e-02,\n",
       "        -7.47400597e-02, -6.55909106e-02,  5.56479581e-02,\n",
       "        -1.05749094e-03, -1.00083090e-02,  4.12148312e-02,\n",
       "         7.43530616e-02, -1.65582672e-02, -7.20807612e-02,\n",
       "        -8.27566609e-02, -4.80047427e-02],\n",
       "       [ 4.46059480e-02, -4.44245972e-02,  1.08540342e-04,\n",
       "        -4.94104438e-02,  5.00993505e-02, -1.22474991e-02,\n",
       "         5.98371327e-02, -2.79572513e-02, -1.57581009e-02,\n",
       "        -1.68804333e-01, -5.05656004e-02, -3.99933606e-02,\n",
       "         1.20713577e-01,  7.63316527e-02, -1.65297948e-02,\n",
       "         2.01804545e-02, -3.07753570e-02, -1.45414576e-01,\n",
       "        -4.60640639e-02,  1.62423506e-01,  9.90326852e-02,\n",
       "        -1.58718210e-02, -5.37558869e-02,  5.52327111e-02,\n",
       "        -6.72790082e-03,  1.50652016e-02,  1.88428275e-02,\n",
       "         7.25697279e-02, -4.20546811e-03, -9.23995208e-03,\n",
       "        -4.84187379e-02, -6.84991032e-02],\n",
       "       [ 8.27006251e-02,  1.82768658e-01,  1.30845964e-01,\n",
       "         4.78979141e-01, -2.68470556e-01,  2.40622729e-01,\n",
       "        -3.29628766e-01,  2.39725843e-01, -7.44655356e-02,\n",
       "         3.46223533e-01,  3.75494540e-01,  2.79124022e-01,\n",
       "        -2.21237332e-01, -2.56055534e-01, -1.54773831e-01,\n",
       "         1.77845001e-01, -2.55536288e-01,  8.10800791e-02,\n",
       "         3.65367085e-01,  7.93397650e-02, -3.16656291e-01,\n",
       "         2.53591269e-01,  2.76983321e-01, -4.30710107e-01,\n",
       "         9.41067860e-02,  7.76623338e-02, -8.28405917e-02,\n",
       "         4.77811173e-02, -1.89133376e-01,  3.29920977e-01,\n",
       "        -1.23739854e-01,  3.20379317e-01],\n",
       "       [ 1.78322420e-01,  1.55547529e-01, -3.30712497e-02,\n",
       "        -9.06881988e-02, -2.08278552e-01,  1.63260087e-01,\n",
       "        -2.60213673e-01,  1.76253751e-01, -1.77577615e-01,\n",
       "        -1.99007038e-02,  1.72218025e-01,  1.63076654e-01,\n",
       "        -1.90306053e-01, -1.74631506e-01, -4.21964796e-03,\n",
       "        -1.04563259e-01, -2.04150751e-01, -3.90345901e-02,\n",
       "         2.62883276e-01, -1.40281841e-01, -1.99419394e-01,\n",
       "         2.19720751e-01,  1.84261248e-01, -1.53270364e-01,\n",
       "        -1.17376290e-01,  1.76288977e-01,  1.73473537e-01,\n",
       "         1.62051857e-01, -2.07051188e-01,  1.60035998e-01,\n",
       "         1.55562237e-01,  2.24210933e-01]], dtype=float32)"
      ]
     },
     "execution_count": 155,
     "metadata": {},
     "output_type": "execute_result"
    }
   ],
   "source": [
    "(np.asarray(model.get_layer(\"embedding_25\").get_weights()[0]))"
   ]
  },
  {
   "cell_type": "code",
   "execution_count": 173,
   "metadata": {},
   "outputs": [
    {
     "name": "stdout",
     "output_type": "stream",
     "text": [
      "0\n",
      "1\n",
      "2\n",
      "3\n",
      "4\n",
      "5\n",
      "6\n",
      "7\n",
      "8\n",
      "9\n",
      "10\n",
      "11\n",
      "12\n"
     ]
    }
   ],
   "source": [
    "import io\n",
    "\n",
    "weights = (np.asarray(model.get_layer(\"embedding_25\").get_weights()[0]))\n",
    "\n",
    "out_v = io.open('vecs.tsv', 'w', encoding='utf-8')\n",
    "# out_m = io.open('meta.tsv', 'w', encoding='utf-8')\n",
    "for idx in range(len(OUTPUT_CHARS) + 2):\n",
    "    print(idx)\n",
    "    out_v.write('\\t'.join([str(_) for _ in weights[idx]]) + '\\n')\n",
    "#     out_m.write((OUTPUT_CHARS + \"S\")[idx] + '\\n')\n",
    "out_v.close()\n",
    "# out_m.close()\n"
   ]
  },
  {
   "cell_type": "code",
   "execution_count": 160,
   "metadata": {},
   "outputs": [
    {
     "data": {
      "text/plain": [
       "range(0, 11)"
      ]
     },
     "execution_count": 160,
     "metadata": {},
     "output_type": "execute_result"
    }
   ],
   "source": [
    "range(len(OUTPUT_CHARS))"
   ]
  },
  {
   "cell_type": "code",
   "execution_count": 169,
   "metadata": {},
   "outputs": [
    {
     "data": {
      "text/plain": [
       "12"
      ]
     },
     "execution_count": 169,
     "metadata": {},
     "output_type": "execute_result"
    }
   ],
   "source": [
    "len(OUTPUT_CHARS + \"S\")"
   ]
  },
  {
   "cell_type": "code",
   "execution_count": null,
   "metadata": {},
   "outputs": [],
   "source": []
  }
 ],
 "metadata": {
  "kernelspec": {
   "display_name": "Python 3",
   "language": "python",
   "name": "python3"
  },
  "language_info": {
   "codemirror_mode": {
    "name": "ipython",
    "version": 3
   },
   "file_extension": ".py",
   "mimetype": "text/x-python",
   "name": "python",
   "nbconvert_exporter": "python",
   "pygments_lexer": "ipython3",
   "version": "3.8.3"
  }
 },
 "nbformat": 4,
 "nbformat_minor": 4
}
