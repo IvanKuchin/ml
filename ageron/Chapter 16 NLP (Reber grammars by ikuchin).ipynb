{
 "cells": [
  {
   "cell_type": "code",
   "execution_count": 1,
   "metadata": {},
   "outputs": [
    {
     "name": "stdout",
     "output_type": "stream",
     "text": [
      "WARNING:tensorflow:From <ipython-input-1-735604775a5e>:21: is_gpu_available (from tensorflow.python.framework.test_util) is deprecated and will be removed in a future version.\n",
      "Instructions for updating:\n",
      "Use `tf.config.list_physical_devices('GPU')` instead.\n",
      "No GPU was detected. CNNs can be very slow without a GPU.\n"
     ]
    }
   ],
   "source": [
    "# Python ≥3.5 is required\n",
    "import sys\n",
    "assert sys.version_info >= (3, 5)\n",
    "\n",
    "# Scikit-Learn ≥0.20 is required\n",
    "import sklearn\n",
    "assert sklearn.__version__ >= \"0.20\"\n",
    "\n",
    "try:\n",
    "    # %tensorflow_version only exists in Colab.\n",
    "    %tensorflow_version 2.x\n",
    "    IS_COLAB = True\n",
    "except Exception:\n",
    "    IS_COLAB = False\n",
    "\n",
    "# TensorFlow ≥2.0 is required\n",
    "import tensorflow as tf\n",
    "from tensorflow import keras\n",
    "assert tf.__version__ >= \"2.0\"\n",
    "\n",
    "if not tf.test.is_gpu_available():\n",
    "    print(\"No GPU was detected. CNNs can be very slow without a GPU.\")\n",
    "    if IS_COLAB:\n",
    "        print(\"Go to Runtime > Change runtime and select a GPU hardware accelerator.\")\n",
    "\n",
    "# Common imports\n",
    "import numpy as np\n",
    "import os\n",
    "\n",
    "# to make this notebook's output stable across runs\n",
    "np.random.seed(42)\n",
    "tf.random.set_seed(42)\n",
    "\n",
    "# To plot pretty figures\n",
    "%matplotlib inline\n",
    "import matplotlib as mpl\n",
    "import matplotlib.pyplot as plt\n",
    "mpl.rc('axes', labelsize=14)\n",
    "mpl.rc('xtick', labelsize=12)\n",
    "mpl.rc('ytick', labelsize=12)\n",
    "\n",
    "# Where to save the figures\n",
    "PROJECT_ROOT_DIR = \".\"\n",
    "CHAPTER_ID = \"cnn\"\n",
    "IMAGES_PATH = os.path.join(PROJECT_ROOT_DIR, \"images\", CHAPTER_ID)\n",
    "os.makedirs(IMAGES_PATH, exist_ok=True)\n",
    "\n",
    "def save_fig(fig_id, tight_layout=True, fig_extension=\"png\", resolution=300):\n",
    "    path = os.path.join(IMAGES_PATH, fig_id + \".\" + fig_extension)\n",
    "    print(\"Saving figure\", fig_id)\n",
    "    if tight_layout:\n",
    "        plt.tight_layout()\n",
    "    plt.savefig(path, format=fig_extension, dpi=resolution)\n",
    "    \n",
    "\n",
    "def plot_image(image):\n",
    "    plt.imshow(image, cmap=\"gray\", interpolation=\"nearest\")\n",
    "    plt.axis(\"off\")\n",
    "\n",
    "def plot_color_image(image):\n",
    "    plt.imshow(image, interpolation=\"nearest\")\n",
    "    plt.axis(\"off\")"
   ]
  },
  {
   "cell_type": "code",
   "execution_count": 50,
   "metadata": {},
   "outputs": [],
   "source": [
    "default_reber_grammar = [\n",
    "    [(\"B\", 1)],\n",
    "    [(\"T\", 2), (\"P\", 3)],\n",
    "    [(\"S\", 2), (\"X\", 4)],\n",
    "    [(\"T\", 3), (\"V\", 5)],\n",
    "    [(\"S\", 6), (\"X\", 3)],\n",
    "    [(\"P\", 4), (\"V\", 6)],\n",
    "    [(\"E\", None)]\n",
    "]\n",
    "\n",
    "embedded_reber_grammar = [\n",
    "    [(\"B\", 1)],\n",
    "    [(\"T\", 2), (\"P\", 3)],\n",
    "    [(default_reber_grammar, 4)],\n",
    "    [(default_reber_grammar, 5)],\n",
    "    [(\"T\", 6)],\n",
    "    [(\"P\", 6)],\n",
    "    [(\"E\", None)],\n",
    "]\n",
    "\n",
    "def reber_grammar_generator(grammar):\n",
    "    result = []\n",
    "\n",
    "    curr_state_idx = 0\n",
    "    while curr_state_idx is not None:\n",
    "        path_id = np.random.randint(len(grammar[curr_state_idx]))\n",
    "        node, new_state_idx = grammar[curr_state_idx][path_id]\n",
    "        if(isinstance(node, list)):\n",
    "            node = reber_grammar_generator(node)\n",
    "        result.append(node)\n",
    "        curr_state_idx = new_state_idx\n",
    "    \n",
    "    return \"\".join(result)\n",
    "\n",
    "POSSIBLE_CHARS = \"BEPSTVX\"\n",
    "def bad_grammar_generator(grammar):\n",
    "#     POSSIBLE_CHARS = \"12345678\"\n",
    "    good_grammar = reber_grammar_generator(grammar)\n",
    "    rand_pos = np.random.randint(len(good_grammar))\n",
    "    good_char = good_grammar[rand_pos]\n",
    "    bad_char = np.random.choice(sorted(set(POSSIBLE_CHARS) - set(good_char)))\n",
    "#     print(good_grammar)\n",
    "#     print(\"->\".join([good_char, bad_char]))\n",
    "    \n",
    "    return good_grammar[:rand_pos] + bad_char + good_grammar[rand_pos + 1:]\n",
    "\n",
    "def encode_string(string):\n",
    "    return [POSSIBLE_CHARS.index(_) + 1 for _ in string]"
   ]
  },
  {
   "cell_type": "code",
   "execution_count": 55,
   "metadata": {},
   "outputs": [],
   "source": [
    "def get_N_samples_of_good_grammar(num, grammar):\n",
    "    return [encode_string(reber_grammar_generator(grammar)) for _ in range(num)], [1. for _ in range(num)]\n",
    "def get_N_samples_of_bad_grammar(num, grammar):\n",
    "    return [encode_string(bad_grammar_generator(grammar)) for _ in range(num)], [0. for _ in range(num)]\n",
    "\n",
    "def get_dataset(num):\n",
    "    x_good_grammar, y_good_grammar = get_N_samples_of_good_grammar(num // 2, default_reber_grammar)\n",
    "    x_bad_grammar, y_bad_grammar = get_N_samples_of_bad_grammar(num // 2, default_reber_grammar)\n",
    "\n",
    "    __X = tf.ragged.constant(x_good_grammar + x_bad_grammar)\n",
    "    __y = tf.constant(y_good_grammar + y_bad_grammar)\n",
    "\n",
    "    return tf.data.Dataset.from_tensor_slices((__X, __y)).shuffle(10000).batch(16)\n",
    "\n"
   ]
  },
  {
   "cell_type": "code",
   "execution_count": 56,
   "metadata": {},
   "outputs": [],
   "source": [
    "train_ds = get_dataset(10000)\n",
    "valid_ds = get_dataset(2000)\n"
   ]
  },
  {
   "cell_type": "code",
   "execution_count": 44,
   "metadata": {},
   "outputs": [],
   "source": [
    "def get_dataset_2(num):\n",
    "    x_good_grammar, y_good_grammar = get_N_samples_of_good_grammar(num // 2, default_reber_grammar)\n",
    "    x_bad_grammar, y_bad_grammar = get_N_samples_of_bad_grammar(num // 2, default_reber_grammar)\n",
    "\n",
    "    __X = tf.ragged.constant(x_good_grammar + x_bad_grammar, ragged_rank=1)\n",
    "    __y = np.array(y_good_grammar + y_bad_grammar)\n",
    "\n",
    "    return __X, __y\n",
    "train_ds_x1, train_ds_y1 = get_dataset_2(10000)\n"
   ]
  },
  {
   "cell_type": "code",
   "execution_count": 62,
   "metadata": {},
   "outputs": [],
   "source": [
    "\n",
    "embedding_size = 5\n",
    "\n",
    "model = keras.models.Sequential([\n",
    "#     keras.layers.InputLayer(input_shape=[None], dtype=tf.int32, ragged=True),\n",
    "    keras.layers.Embedding(input_dim=len(POSSIBLE_CHARS)+1, output_dim=embedding_size),\n",
    "    keras.layers.GRU(30),\n",
    "    keras.layers.Dense(1, activation=\"sigmoid\")\n",
    "])\n",
    "# optimizer = keras.optimizers.SGD(lr=0.02, momentum = 0.95, nesterov=True)\n",
    "# model.compile(loss=\"binary_crossentropy\", optimizer=optimizer, metrics=[\"accuracy\"])\n",
    "# history = model.fit(X_train, y_train, epochs=20, validation_data=(X_valid, y_valid))"
   ]
  },
  {
   "cell_type": "code",
   "execution_count": 63,
   "metadata": {},
   "outputs": [
    {
     "name": "stdout",
     "output_type": "stream",
     "text": [
      "Epoch 1/4\n",
      "625/625 [==============================] - 5s 8ms/step - loss: 0.6764 - accuracy: 0.5415 - val_loss: 0.6322 - val_accuracy: 0.6300\n",
      "Epoch 2/4\n",
      "625/625 [==============================] - 5s 7ms/step - loss: 0.5970 - accuracy: 0.6567 - val_loss: 0.5150 - val_accuracy: 0.7620\n",
      "Epoch 3/4\n",
      "625/625 [==============================] - 5s 7ms/step - loss: 0.4163 - accuracy: 0.8121 - val_loss: 0.2631 - val_accuracy: 0.9065\n",
      "Epoch 4/4\n",
      "625/625 [==============================] - 5s 8ms/step - loss: 0.1663 - accuracy: 0.9409 - val_loss: 0.0803 - val_accuracy: 0.9765\n"
     ]
    }
   ],
   "source": [
    "optimizer = keras.optimizers.SGD(lr=0.02, momentum = 0.95, nesterov=True)\n",
    "model.compile(loss = \"binary_crossentropy\", optimizer=optimizer, metrics=[\"accuracy\"])\n",
    "history = model.fit(train_ds, epochs=4, validation_data=valid_ds)\n",
    "# history = model.fit(train_ds_x1, train_ds_y1, epochs=5)"
   ]
  },
  {
   "cell_type": "code",
   "execution_count": 59,
   "metadata": {},
   "outputs": [
    {
     "name": "stdout",
     "output_type": "stream",
     "text": [
      "BTXXVPXVVE-> 1.0\n",
      "BPTVPSE-> 1.0\n",
      "BTSXXVPSE-> 1.0\n",
      "BPTVVE-> 1.0\n",
      "BTPSE-> 0.0\n",
      "BPTTTTVSSE-> 0.0\n",
      "BETVPXVVE-> 0.0\n",
      "BSTVPSE-> 0.0\n",
      "BPSXXVVE-> 0.0\n",
      "BXXSE-> 0.0\n",
      "BPTVPXTVVE-> 1.0\n",
      "BPVVE-> 1.0\n",
      "VTXXVVE-> 0.0\n",
      "BTSSSXSE-> 1.0\n",
      "BTXTE-> 0.0\n",
      "BTXXVPSE-> 1.0\n"
     ]
    }
   ],
   "source": [
    "for __X, __y in train_ds.take(1):\n",
    "    for ___X, ___y in zip(__X, __y):\n",
    "#         print(___X.numpy(), ___y.numpy())\n",
    "        for idx in ___X.numpy():\n",
    "            if(idx > 0):\n",
    "                print(POSSIBLE_CHARS[idx-1], end=\"\")\n",
    "        print(\"->\", ___y.numpy())"
   ]
  },
  {
   "cell_type": "code",
   "execution_count": null,
   "metadata": {},
   "outputs": [],
   "source": []
  }
 ],
 "metadata": {
  "kernelspec": {
   "display_name": "Python 3",
   "language": "python",
   "name": "python3"
  },
  "language_info": {
   "codemirror_mode": {
    "name": "ipython",
    "version": 3
   },
   "file_extension": ".py",
   "mimetype": "text/x-python",
   "name": "python",
   "nbconvert_exporter": "python",
   "pygments_lexer": "ipython3",
   "version": "3.8.3"
  }
 },
 "nbformat": 4,
 "nbformat_minor": 4
}
