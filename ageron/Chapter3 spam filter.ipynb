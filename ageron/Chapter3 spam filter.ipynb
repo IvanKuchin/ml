{
 "cells": [
  {
   "cell_type": "code",
   "execution_count": 2,
   "metadata": {},
   "outputs": [],
   "source": [
    "import os\n",
    "import tarfile\n",
    "from six.moves import urllib\n",
    "\n",
    "DOWNLOAD_ROOT = \"http://spamassassin.apache.org/old/publiccorpus/\"\n",
    "HAM_URL = DOWNLOAD_ROOT + \"20030228_easy_ham.tar.bz2\"\n",
    "SPAM_URL = DOWNLOAD_ROOT + \"20030228_spam.tar.bz2\"\n",
    "SPAM_PATH = os.path.join(\"datasets\", \"spam\")\n",
    "\n",
    "def fetch_spam_data(spam_url = SPAM_URL, spam_path = SPAM_PATH):\n",
    "    if not os.path.isdir(spam_path):\n",
    "        os.makedirs(spam_path)\n",
    "        \n",
    "    for filename, url in ((\"ham.tar.bz2\", HAM_URL), (\"spam.tar.bz2\", SPAM_URL)):\n",
    "        path = os.path.join(spam_path, filename)\n",
    "        if not os.path.isfile(path):\n",
    "            urllib.request.urlretrieve(url, path)\n",
    "        tar_bz2_file = tarfile.open(path)\n",
    "        tar_bz2_file.extractall(path=SPAM_PATH)\n",
    "        tar_bz2_file.close()"
   ]
  },
  {
   "cell_type": "code",
   "execution_count": 3,
   "metadata": {},
   "outputs": [],
   "source": [
    "fetch_spam_data()"
   ]
  },
  {
   "cell_type": "code",
   "execution_count": 7,
   "metadata": {},
   "outputs": [
    {
     "name": "stdout",
     "output_type": "stream",
     "text": [
      "2500\n",
      "500\n"
     ]
    }
   ],
   "source": [
    "HAM_DIR = os.path.join(SPAM_PATH, \"easy_ham\")\n",
    "SPAM_DIR = os.path.join(SPAM_PATH, \"spam\")\n",
    "ham_filenames = [name for name in sorted(os.listdir(HAM_DIR)) if len(name) > 20]\n",
    "spam_filenames = [name for name in sorted(os.listdir(SPAM_DIR)) if len(name) > 20]\n",
    "\n",
    "print(len(ham_filenames))\n",
    "print(len(spam_filenames))\n"
   ]
  },
  {
   "cell_type": "code",
   "execution_count": 10,
   "metadata": {},
   "outputs": [],
   "source": [
    "import email\n",
    "import email.policy\n",
    "\n",
    "def load_email(is_spam, filename, spam_path=SPAM_PATH):\n",
    "    directory = \"spam\" if is_spam else \"easy_ham\"\n",
    "    with open(os.path.join(spam_path, directory, filename), \"rb\") as f:\n",
    "        return email.parser.BytesParser(policy=email.policy.default).parse(f)"
   ]
  },
  {
   "cell_type": "code",
   "execution_count": 34,
   "metadata": {},
   "outputs": [],
   "source": [
    "ham_emails = [load_email(is_spam=False, filename=name) for name in ham_filenames]\n",
    "spam_emails = [load_email(is_spam=True, filename=name) for name in spam_filenames]"
   ]
  },
  {
   "cell_type": "code",
   "execution_count": 36,
   "metadata": {},
   "outputs": [
    {
     "name": "stdout",
     "output_type": "stream",
     "text": [
      "<html>\n",
      "\n",
      "<head>\n",
      "<meta http-equiv=\"Content-Language\" content=\"en-us\">\n",
      "<meta http-equiv=\"Content-Type\" content=\"text/html; charset=windows-1252\">\n",
      "<meta name=\"GENERATOR\" content=\"Microsoft FrontPage 4.0\">\n",
      "<meta name=\"ProgId\" content=\"FrontPage.Editor.Document\">\n",
      "<title>Does Your Computer Need an Oil Change</title>\n",
      "</head>\n",
      "\n",
      "<body>\n",
      "\n",
      "<table border=\"0\" width=\"538\" height=\"1\">\n",
      "  <tr>\n",
      "    <td width=\"538\" height=\"1\" align=\"center\" bgcolor=\"#000000\"><b><font face=\"Century Gothic\" size=\"5\" color=\"#FFFFFF\">Does Your Computer Need an Oil\n",
      "      Change?</font></b></td>\n",
      "  </tr>\n",
      "</table>\n",
      "<table border=\"0\" width=\"538\" height=\"151\">\n",
      "  <tr>\n",
      "    <td width=\"530\" height=\"145\"><b><font face=\"Tahoma\" size=\"5\">Norton</font><font color=\"#006600\" face=\"Verdana\" size=\"7\"><br></font><i><font face=\"Verdana\" color=\"#CC0000\" size=\"7\">SystemWorks\n",
      "      2002</font></i><font size=\"4\" face=\"Verdana\"><br> </font><font face=\"Tahoma\" size=\"5\">Professional\n",
      "      Edition</font> </b></td>\n",
      "  </tr>\n",
      "</table>\n",
      "<table border=\"0\" width=\"538\" height=\"26\">\n",
      "  <tr>\n",
      "    <td width=\"100%\" height=\"20\" align=\"center\" bgcolor=\"#000000\"><b><font color=\"#FFFFFF\" face=\"Century Gothic\">Made\n",
      "      by the Creators of the #1 Anti-Virus Software on the Market!</font></b></td>\n",
      "  </tr>\n",
      "</table>\n",
      "\n",
      "<table border=\"0\" width=\"538\" height=\"77\">\n",
      "  <tr>\n",
      "    <td width=\"100%\" height=\"71\" align=\"center\"><font face=\"Lucida Sans Unicode\" color=\"#CC0000\">This\n",
      "      <u>UNBEATABLE</u> software suite comes with <i> EVERY</i>\n",
      "      program you'll </font><font face=\"Lucida Sans Unicode\" color=\"#FF0000\"> ever</font><font face=\"Lucida Sans Unicode\" color=\"#CC0000\"> need to answer the problems or threats that your\n",
      "      computer faces each day of it's Life!<br><br></font><font face=\"Tahoma\" color=\"#000000\"><b>Included in this magnificent deal\n",
      "      are the following programs:</b></font></td>\n",
      "  </tr>\n",
      "</table>\n",
      "\n",
      "<table border=\"0\" width=\"538\" height=\"138\">\n",
      "  <tr>\n",
      "    <td width=\"100%\" height=\"132\" bgcolor=\"#333333\"><font color=\"#FFFFFF\"><font size=\"4\" face=\"Tahoma\">Norton\n",
      "      AntiVirusÿFFFF99 2002 - </font><font face=\"Tahoma\" size=\"2\"><b>THE #1\n",
      "      ANTI-VIRUS PROTECION EVER!</b></font><font size=\"4\" face=\"Tahoma\"><br>Norton UtilitiesÿFFFF99 2002\n",
      "      - </font><font face=\"Tahoma\" size=\"2\"><b>DIAGNOSE ANY PROBLEM WITH YOUR\n",
      "      SYSTEM!</b></font><font size=\"4\" face=\"Tahoma\"><br>\n",
      "      <font size=\"4\">Norton GhostÿFFFF99 2002 - </font></font><font face=\"Tahoma\" size=\"2\"><b>MAKES\n",
      "      BACKING UP YOUR VALUABLE DATA EASY!</b></font><font size=\"4\" face=\"Tahoma\"><br>\n",
      "      Norton CleanSweepÿFFFF99 2002 - </font><font face=\"Tahoma\" size=\"2\"><b>CLEANS\n",
      "      OUT EXCESS INTERNET FILE BUILDUP!</b></font><font size=\"4\" face=\"Tahoma\"><br>\n",
      "      Norton WinFaxÿFFFF99 Basic - </font><font face=\"Tahoma\" size=\"2\"><b>TURNS YOUR\n",
      "      CPU INTO A FAX MACHINE!</b></font><font size=\"4\" face=\"Trebuchet MS\"><br>\n",
      "      </font>\n",
      "      <font size=\"4\" face=\"Tahoma\">GoBackÿFFFFAE 3 Personal - </font><b><font face=\"Tahoma\" size=\"2\">HELPS\n",
      "      PREVENT YOU FROM MAKING ANY MISTAKES!</font></b></font></td>\n",
      "  </tr>\n",
      "</table>\n",
      "\n",
      "<table border=\"0\" width=\"538\" height=\"63\">\n",
      "  <tr>\n",
      "    <td width=\"100%\" height=\"57\" align=\"center\"><b><font face=\"Verdana\" size=\"4\" color=\"#800000\">*ALL\n",
      "      this has a retail price of $99.95*</font><font face=\"Verdana\" size=\"5\" color=\"#FF0000\"><BR> </font><font face=\"Verdana\" color=\"#FF0000\" size=\"6\"> Get it\n",
      "      Now for ONLY $29.99!</font><font face=\"Verdana\" size=\"5\" color=\"#FF0000\"><br></font><i><font face=\"Verdana\" size=\"5\" color=\"#666666\">with\n",
      "      FREE SHIPPING!</font></i></b></td>\n",
      "  </tr>\n",
      "</table>\n",
      "\n",
      "<table border=\"1\" width=\"538\" height=\"60\" bgcolor=\"#333333\">\n",
      "  <tr>\n",
      "    <td width=\"100%\" height=\"54\" align=\"center\"><font size=\"6\" color=\"#FFFFFF\" face=\"Impact\"><a href=\"http://64.251.23.141/affiliates/norton/systemworkse123.htm\" style=\"color: #FFFFFF\">CLICK\n",
      "      HERE to order NOW!</a></font></td>\n",
      "  </tr>\n",
      "</table>\n",
      "<p><font color=\"#000000\" face=\"System\">This Product is available NOW. When we\n",
      "run out it's gone, so get it while it's HOT!</font></p>\n",
      "\n",
      "<p>&nbsp;</p>\n",
      "<p>&nbsp;</p>\n",
      "<table border=\"1\" width=\"538\" height=\"10\" bordercolorlight=\"#666666\" bordercolordark=\"#333333\">\n",
      "  <tr>\n",
      "    <td width=\"100%\" height=\"4\" align=\"center\"><font face=\"Tahoma\" size=\"1\" color=\"#666666\">Your\n",
      "      email address was obtained from an opt-in list. Opt-in IAO (Internet\n",
      "      Advertising Organisation)&nbsp; List<br>\n",
      "      &nbsp;Serial No. EGU601.&nbsp;&nbsp;If you wish to be unsubscribed from\n",
      "      this list, please <a style=\"color: #800000\" href=\"http://64.251.23.141/affiliates/norton/removeme.html\">Click\n",
      "      here</a>. We do not condone spam in any shape or form. Thank You kindly\n",
      "      for your cooperation.</font></td>\n",
      "  </tr>\n",
      "</table>\n",
      "\n",
      "</body>\n",
      "\n",
      "</html>\n"
     ]
    }
   ],
   "source": [
    "print(spam_emails[120].get_content().strip())"
   ]
  },
  {
   "cell_type": "code",
   "execution_count": 26,
   "metadata": {},
   "outputs": [],
   "source": [
    "\n",
    "def get_email_structure(email):\n",
    "    if isinstance(email, str):\n",
    "        return email\n",
    "    payload = email.get_payload()\n",
    "    if isinstance(payload, list):\n",
    "        return \"multipart({})\".format(\", \".join([\n",
    "            get_email_structure(sub_email)\n",
    "            for sub_email in payload\n",
    "        ]))\n",
    "    else:\n",
    "        return email.get_content_type()"
   ]
  },
  {
   "cell_type": "code",
   "execution_count": 40,
   "metadata": {},
   "outputs": [
    {
     "name": "stdout",
     "output_type": "stream",
     "text": [
      "text/html\n",
      "text/plain\n",
      "text/plain\n",
      "text/plain\n",
      "text/plain\n",
      "text/plain\n",
      "text/plain\n",
      "text/html\n",
      "text/plain\n",
      "text/html\n",
      "text/plain\n",
      "text/html\n",
      "text/plain\n",
      "text/html\n",
      "text/html\n",
      "text/plain\n",
      "text/plain\n",
      "text/plain\n",
      "text/plain\n",
      "text/plain\n",
      "text/plain\n",
      "multipart(text/plain, application/octet-stream)\n",
      "multipart(text/html)\n",
      "multipart(text/plain, text/html)\n",
      "text/html\n",
      "text/plain\n",
      "text/plain\n",
      "text/html\n",
      "text/html\n",
      "text/html\n",
      "text/plain\n",
      "text/plain\n",
      "text/plain\n",
      "text/plain\n",
      "text/html\n",
      "text/html\n",
      "text/html\n",
      "multipart(text/plain, text/html)\n",
      "multipart(text/html)\n",
      "text/plain\n",
      "text/plain\n",
      "text/html\n",
      "text/plain\n",
      "text/html\n",
      "text/plain\n",
      "text/html\n",
      "text/plain\n",
      "text/plain\n",
      "text/html\n",
      "text/html\n",
      "text/plain\n",
      "text/html\n",
      "text/html\n",
      "text/plain\n",
      "text/html\n",
      "text/plain\n",
      "text/plain\n",
      "text/html\n",
      "text/html\n",
      "text/plain\n",
      "text/html\n",
      "text/plain\n",
      "text/plain\n",
      "text/plain\n",
      "text/plain\n",
      "text/html\n",
      "text/html\n",
      "text/plain\n",
      "text/plain\n",
      "text/plain\n",
      "text/plain\n",
      "text/plain\n",
      "text/plain\n",
      "multipart(text/html)\n",
      "text/plain\n",
      "text/plain\n",
      "text/plain\n",
      "multipart(text/html)\n",
      "text/plain\n",
      "multipart(text/plain, text/html)\n",
      "text/plain\n",
      "multipart(text/plain)\n",
      "text/html\n",
      "text/plain\n",
      "text/plain\n",
      "text/html\n",
      "multipart(text/plain)\n",
      "text/html\n",
      "text/plain\n",
      "multipart(text/plain, text/html)\n",
      "text/html\n",
      "multipart(text/html)\n",
      "text/plain\n",
      "text/html\n",
      "multipart(text/plain)\n",
      "multipart(text/plain, text/html)\n",
      "text/plain\n",
      "text/plain\n",
      "text/html\n",
      "text/plain\n",
      "text/html\n",
      "text/plain\n",
      "text/plain\n",
      "text/html\n",
      "multipart(text/plain, text/html)\n",
      "text/plain\n",
      "text/html\n",
      "text/plain\n",
      "text/html\n",
      "text/plain\n",
      "text/plain\n",
      "text/plain\n",
      "text/plain\n",
      "text/html\n",
      "multipart(text/plain)\n",
      "text/plain\n",
      "text/plain\n",
      "text/plain\n",
      "text/html\n",
      "multipart(text/plain, text/html)\n",
      "text/html\n",
      "text/plain\n",
      "text/html\n",
      "multipart(text/plain, text/html)\n",
      "text/html\n",
      "multipart(text/html, text/plain)\n",
      "text/plain\n",
      "multipart(text/plain)\n",
      "text/plain\n",
      "text/html\n",
      "text/plain\n",
      "text/plain\n",
      "text/html\n",
      "text/html\n",
      "multipart(text/html)\n",
      "text/html\n",
      "multipart(text/plain, text/html)\n",
      "text/plain\n",
      "text/html\n",
      "text/plain\n",
      "text/plain\n",
      "text/plain\n",
      "text/html\n",
      "text/plain\n",
      "text/plain\n",
      "text/html\n",
      "text/html\n",
      "text/html\n",
      "text/html\n",
      "multipart(text/plain, text/html)\n",
      "text/plain\n",
      "text/plain\n",
      "text/plain\n",
      "text/plain\n",
      "text/plain\n",
      "text/html\n",
      "text/plain\n",
      "text/plain\n",
      "text/plain\n",
      "text/plain\n",
      "text/html\n",
      "text/html\n",
      "text/plain\n",
      "text/html\n",
      "text/html\n",
      "text/html\n",
      "text/html\n",
      "text/html\n",
      "text/plain\n",
      "text/plain\n",
      "text/plain\n",
      "text/html\n",
      "text/html\n",
      "text/html\n",
      "text/html\n",
      "text/html\n",
      "text/html\n",
      "text/plain\n",
      "text/html\n",
      "multipart(text/html)\n",
      "text/html\n",
      "text/plain\n",
      "text/html\n",
      "text/plain\n",
      "text/plain\n",
      "multipart(text/plain, text/html)\n",
      "multipart(text/plain)\n",
      "text/html\n",
      "text/html\n",
      "text/html\n",
      "multipart(text/plain, text/html)\n",
      "multipart(text/plain, text/html)\n",
      "text/plain\n",
      "multipart(text/plain)\n",
      "text/html\n",
      "text/html\n",
      "text/plain\n",
      "multipart(text/html)\n",
      "text/html\n",
      "text/html\n",
      "text/html\n",
      "text/html\n",
      "multipart(text/plain, text/html)\n",
      "text/html\n",
      "text/html\n",
      "multipart(text/html)\n",
      "multipart(text/plain)\n",
      "multipart(text/plain, text/html)\n",
      "multipart(text/plain, text/html)\n",
      "text/plain\n",
      "text/html\n",
      "text/html\n",
      "text/html\n",
      "multipart(text/plain, text/html)\n",
      "text/html\n",
      "multipart(text/plain, text/html)\n",
      "text/html\n",
      "text/plain\n",
      "multipart(text/html, application/octet-stream)\n",
      "text/plain\n",
      "text/html\n",
      "text/html\n",
      "multipart(text/plain, text/html)\n",
      "text/plain\n",
      "text/plain\n",
      "text/plain\n",
      "text/plain\n",
      "text/plain\n",
      "text/plain\n",
      "text/plain\n",
      "text/html\n",
      "multipart(text/plain, text/html)\n",
      "text/html\n",
      "text/plain\n",
      "text/plain\n",
      "text/plain\n",
      "multipart(text/html)\n",
      "multipart(text/plain, text/html)\n",
      "multipart(multipart(text/html))\n",
      "text/plain\n",
      "multipart(text/plain)\n",
      "text/plain\n",
      "text/plain\n",
      "text/html\n",
      "text/plain\n",
      "text/html\n",
      "text/plain\n",
      "multipart(text/plain, text/html)\n",
      "text/plain\n",
      "text/plain\n",
      "text/html\n",
      "multipart(multipart(text/html))\n",
      "text/plain\n",
      "text/plain\n",
      "text/plain\n",
      "multipart(text/plain, image/jpeg)\n",
      "text/plain\n",
      "text/plain\n",
      "text/html\n",
      "multipart(text/plain, image/jpeg)\n",
      "multipart(text/plain, text/html)\n",
      "multipart(text/plain, text/html)\n",
      "text/plain\n",
      "multipart(text/plain, text/html)\n",
      "multipart(text/plain, text/html)\n",
      "text/html\n",
      "text/plain\n",
      "text/html\n",
      "multipart(text/plain, text/html)\n",
      "text/plain\n",
      "multipart(text/html, application/octet-stream)\n",
      "text/plain\n",
      "multipart(text/plain, text/html)\n",
      "text/html\n",
      "multipart(text/plain)\n",
      "text/html\n",
      "text/plain\n",
      "text/plain\n",
      "text/plain\n",
      "text/plain\n",
      "text/html\n",
      "text/html\n",
      "multipart(text/plain, text/html)\n",
      "text/html\n",
      "text/html\n",
      "text/html\n",
      "multipart(text/plain, text/html)\n",
      "text/html\n",
      "text/plain\n",
      "text/html\n",
      "multipart(text/plain, text/html)\n",
      "text/plain\n",
      "multipart(multipart(text/html))\n",
      "text/plain\n",
      "text/html\n",
      "text/html\n",
      "text/html\n",
      "multipart(text/plain, text/html)\n",
      "multipart(text/html)\n",
      "text/html\n",
      "text/plain\n",
      "text/html\n",
      "multipart(text/plain)\n",
      "text/html\n",
      "text/plain\n",
      "text/html\n",
      "multipart(multipart(text/html), application/octet-stream, image/jpeg)\n",
      "multipart(text/plain, text/html)\n",
      "multipart(text/plain, text/html)\n",
      "text/html\n",
      "multipart(multipart(text/html))\n",
      "text/plain\n",
      "text/html\n",
      "text/html\n",
      "multipart(text/plain)\n",
      "text/plain\n",
      "text/plain\n",
      "text/plain\n",
      "text/plain\n",
      "text/plain\n",
      "text/html\n",
      "text/html\n",
      "text/plain\n",
      "text/plain\n",
      "text/plain\n",
      "text/plain\n",
      "text/plain\n",
      "text/plain\n",
      "text/html\n",
      "multipart(text/plain, image/jpeg)\n",
      "text/html\n",
      "multipart(text/html)\n",
      "multipart(text/html)\n",
      "multipart(text/html)\n",
      "multipart(text/html)\n",
      "text/html\n",
      "text/plain\n",
      "multipart(multipart(text/html))\n",
      "multipart(text/plain)\n",
      "multipart(text/plain)\n",
      "multipart(multipart(text/plain, text/html), image/gif)\n",
      "text/plain\n",
      "text/plain\n",
      "multipart(text/plain, text/html)\n",
      "text/html\n",
      "text/plain\n",
      "text/plain\n",
      "text/html\n",
      "text/plain\n",
      "text/html\n",
      "text/html\n",
      "multipart(text/plain, text/html)\n",
      "text/html\n",
      "text/plain\n",
      "text/html\n",
      "text/plain\n",
      "text/html\n",
      "text/plain\n",
      "text/plain\n",
      "text/plain\n",
      "text/plain\n",
      "text/plain\n",
      "text/plain\n",
      "text/html\n",
      "multipart(text/plain, text/html)\n",
      "multipart(text/plain, text/html)\n",
      "text/plain\n",
      "text/html\n",
      "text/html\n",
      "multipart(text/plain)\n",
      "text/plain\n",
      "text/plain\n",
      "text/plain\n",
      "text/html\n",
      "text/html\n",
      "text/html\n",
      "text/plain\n",
      "text/html\n",
      "text/plain\n",
      "text/html\n",
      "text/plain\n",
      "text/plain\n",
      "text/html\n",
      "multipart(text/plain, text/html)\n",
      "text/html\n",
      "text/plain\n",
      "text/html\n",
      "text/plain\n",
      "multipart(text/plain)\n",
      "multipart(text/plain)\n",
      "text/html\n",
      "text/plain\n",
      "text/plain\n",
      "text/plain\n",
      "text/html\n",
      "text/html\n",
      "text/html\n",
      "text/html\n",
      "multipart(text/plain, text/html)\n",
      "text/plain\n",
      "text/plain\n",
      "text/html\n",
      "multipart(text/plain)\n",
      "text/plain\n",
      "text/html\n",
      "text/html\n",
      "text/html\n",
      "text/html\n",
      "text/plain\n",
      "text/plain\n",
      "text/plain\n",
      "text/html\n",
      "text/plain\n",
      "text/html\n",
      "text/plain\n",
      "text/html\n",
      "text/html\n",
      "text/html\n",
      "text/plain\n",
      "text/plain\n",
      "multipart(text/html)\n",
      "text/plain\n",
      "text/plain\n",
      "text/html\n",
      "text/html\n",
      "text/plain\n",
      "text/plain\n",
      "text/plain\n",
      "text/plain\n",
      "text/html\n",
      "text/plain\n",
      "text/plain\n",
      "text/html\n",
      "text/plain\n",
      "multipart(text/plain, text/html)\n",
      "multipart(text/plain, text/html)\n",
      "text/html\n",
      "text/plain\n",
      "text/plain\n",
      "multipart(text/html)\n",
      "text/html\n",
      "text/plain\n",
      "text/html\n",
      "text/plain\n",
      "text/plain\n",
      "text/plain\n",
      "text/plain\n",
      "text/html\n",
      "text/html\n",
      "text/html\n",
      "text/html\n",
      "text/plain\n",
      "text/html\n",
      "multipart(text/plain, text/html)\n",
      "text/html\n",
      "text/html\n",
      "text/html\n",
      "text/plain\n",
      "text/plain\n",
      "text/plain\n",
      "text/html\n",
      "text/plain\n",
      "text/plain\n",
      "text/plain\n",
      "text/plain\n",
      "text/plain\n",
      "multipart/alternative\n",
      "multipart(text/html)\n",
      "text/plain\n",
      "text/html\n",
      "text/html\n",
      "multipart(text/plain)\n",
      "text/html\n",
      "text/html\n",
      "multipart(text/plain, text/html)\n",
      "text/html\n",
      "text/html\n",
      "text/plain\n",
      "multipart(text/html)\n",
      "text/plain\n",
      "text/plain\n",
      "text/plain\n",
      "text/html\n",
      "text/plain\n",
      "text/plain\n",
      "multipart(text/plain, text/html)\n",
      "text/html\n",
      "text/html\n",
      "text/plain\n",
      "text/plain\n",
      "text/html\n",
      "text/html\n",
      "text/html\n",
      "text/plain\n",
      "text/plain\n",
      "text/html\n",
      "text/html\n",
      "multipart(text/html)\n",
      "text/html\n",
      "text/html\n"
     ]
    }
   ],
   "source": [
    "for email in spam_emails:\n",
    "    print(get_email_structure(email))"
   ]
  },
  {
   "cell_type": "code",
   "execution_count": 63,
   "metadata": {},
   "outputs": [],
   "source": [
    "from collections import Counter\n",
    "\n",
    "def structures_counter(emails):\n",
    "    structures = Counter()\n",
    "    for email in emails:\n",
    "        structure = get_email_structure(email)\n",
    "        structures[structure] += 1\n",
    "    return structures"
   ]
  },
  {
   "cell_type": "raw",
   "metadata": {},
   "source": []
  },
  {
   "cell_type": "code",
   "execution_count": 64,
   "metadata": {},
   "outputs": [
    {
     "data": {
      "text/plain": [
       "Counter({'text/plain': 2408,\n",
       "         'multipart(text/plain, application/pgp-signature)': 66,\n",
       "         'multipart(text/plain, text/html)': 8,\n",
       "         'multipart(text/plain, text/enriched)': 1,\n",
       "         'multipart(text/plain, application/ms-tnef, text/plain)': 1,\n",
       "         'multipart(text/plain)': 3,\n",
       "         'multipart(text/plain, application/octet-stream)': 2,\n",
       "         'multipart(text/plain, text/plain)': 4,\n",
       "         'multipart(multipart(text/plain, text/plain, text/plain), application/pgp-signature)': 1,\n",
       "         'multipart(text/plain, video/mng)': 1,\n",
       "         'multipart(text/plain, multipart(text/plain))': 1,\n",
       "         'multipart(text/plain, application/x-pkcs7-signature)': 1,\n",
       "         'multipart(text/plain, multipart(text/plain, text/plain), text/rfc822-headers)': 1,\n",
       "         'multipart(text/plain, multipart(text/plain, text/plain), multipart(multipart(text/plain, application/x-pkcs7-signature)))': 1,\n",
       "         'multipart(text/plain, application/x-java-applet)': 1})"
      ]
     },
     "execution_count": 64,
     "metadata": {},
     "output_type": "execute_result"
    }
   ],
   "source": [
    "structures_counter(ham_emails)"
   ]
  },
  {
   "cell_type": "code",
   "execution_count": 65,
   "metadata": {},
   "outputs": [
    {
     "data": {
      "text/plain": [
       "Counter({'text/html': 183,\n",
       "         'text/plain': 218,\n",
       "         'multipart(text/plain, application/octet-stream)': 1,\n",
       "         'multipart(text/html)': 20,\n",
       "         'multipart(text/plain, text/html)': 45,\n",
       "         'multipart(text/plain)': 19,\n",
       "         'multipart(text/html, text/plain)': 1,\n",
       "         'multipart(text/html, application/octet-stream)': 2,\n",
       "         'multipart(multipart(text/html))': 5,\n",
       "         'multipart(text/plain, image/jpeg)': 3,\n",
       "         'multipart(multipart(text/html), application/octet-stream, image/jpeg)': 1,\n",
       "         'multipart(multipart(text/plain, text/html), image/gif)': 1,\n",
       "         'multipart/alternative': 1})"
      ]
     },
     "execution_count": 65,
     "metadata": {},
     "output_type": "execute_result"
    }
   ],
   "source": [
    "structures_counter(spam_emails)"
   ]
  },
  {
   "cell_type": "code",
   "execution_count": 69,
   "metadata": {},
   "outputs": [
    {
     "data": {
      "text/plain": [
       "[('Return-Path', '<iq@insurancemail.net>'),\n",
       " ('Delivered-To', 'zzzz@localhost.spamassassin.taint.org'),\n",
       " ('Received',\n",
       "  'from localhost (localhost [127.0.0.1])\\tby phobos.labs.spamassassin.taint.org (Postfix) with ESMTP id 24BEC47CC8\\tfor <zzzz@localhost>; Fri, 23 Aug 2002 06:12:01 -0400 (EDT)'),\n",
       " ('Received',\n",
       "  'from phobos [127.0.0.1]\\tby localhost with IMAP (fetchmail-5.9.0)\\tfor zzzz@localhost (single-drop); Fri, 23 Aug 2002 11:12:01 +0100 (IST)'),\n",
       " ('Received',\n",
       "  'from mail1.insuranceiq.com (host66.insuranceiq.com    [65.217.159.66] (may be forged)) by dogma.slashnull.org (8.11.6/8.11.6)    with ESMTP id g7MMxgZ28549 for <zzzz@jmason.org>; Thu, 22 Aug 2002 23:59:42    +0100'),\n",
       " ('Received',\n",
       "  'from mail pickup service by mail1.insuranceiq.com with Microsoft    SMTPSVC; Thu, 22 Aug 2002 19:00:32 -0400'),\n",
       " ('Subject', 'Save 84% on CE Credits'),\n",
       " ('To', 'zzzz@spamassassin.taint.org'),\n",
       " ('Date', 'Thu, 22 Aug 2002 19:00:32 -0400'),\n",
       " ('From', 'IQ Campus <iq@insurancemail.net>'),\n",
       " ('Message-Id', '<34327d01c24a2f$b797ea60$6b01a8c0@insuranceiq.com>'),\n",
       " ('X-Mailer', 'Microsoft CDO for Windows 2000'),\n",
       " ('MIME-Version', '1.0'),\n",
       " ('Thread-Index', 'AcJKG5/JOW5b2EiwQ7iLSdXlxqnJbA=='),\n",
       " ('X-Mimeole', 'Produced By Microsoft MimeOLE V5.50.4522.1200'),\n",
       " ('Content-Class', 'urn:content-classes:message'),\n",
       " ('X-Originalarrivaltime',\n",
       "  '22 Aug 2002 23:00:32.0593 (UTC) FILETIME=[B7B6E410:01C24A2F]'),\n",
       " ('Content-Type',\n",
       "  'multipart/alternative; boundary=\"----=_NextPart_000_3257B2_01C249FA.18BC9920\"')]"
      ]
     },
     "execution_count": 69,
     "metadata": {},
     "output_type": "execute_result"
    }
   ],
   "source": [
    "spam_emails[23].items()"
   ]
  },
  {
   "cell_type": "code",
   "execution_count": 70,
   "metadata": {},
   "outputs": [
    {
     "data": {
      "text/plain": [
       "'Save 84% on CE Credits'"
      ]
     },
     "execution_count": 70,
     "metadata": {},
     "output_type": "execute_result"
    }
   ],
   "source": [
    "spam_emails[23][\"Subject\"]"
   ]
  },
  {
   "cell_type": "code",
   "execution_count": 73,
   "metadata": {},
   "outputs": [],
   "source": [
    "import numpy as np\n",
    "from sklearn.model_selection import train_test_split\n",
    "\n",
    "X_train, X_test, y_train, y_test = train_test_split(\n",
    "    np.array(ham_emails + spam_emails), \n",
    "    np.array([0] * len(ham_emails) + [1] * len(spam_emails)),\n",
    "    test_size = 0.2,\n",
    "    random_state = 42\n",
    ")"
   ]
  },
  {
   "cell_type": "code",
   "execution_count": 78,
   "metadata": {},
   "outputs": [],
   "source": [
    "import re\n",
    "from html import unescape\n",
    "\n",
    "def html_to_plain_text(html):\n",
    "    text = re.sub('<head.*?>.*?</head>', '', html, flags=re.M | re.S | re.I)\n",
    "    text = re.sub('<a\\s.*?>', ' HYPERLINK ', text, flags=re.M | re.S | re.I)\n",
    "    text = re.sub('<.*?>', '', text, flags=re.M | re.S)\n",
    "    text = re.sub(r'(\\s*\\n)+', '\\n', text, flags=re.M | re.S)\n",
    "    return unescape(text)\n",
    "\n",
    "def email_to_text(email):\n",
    "    html = None\n",
    "    for part in email.walk():\n",
    "        ctype = part.get_content_type()\n",
    "        if not ctype in (\"text/plain\", \"text/html\"):\n",
    "            continue\n",
    "        try:\n",
    "            content = part.get_content()\n",
    "        except: # in case of encoding issues\n",
    "            content = str(part.get_payload())\n",
    "        if ctype == \"text/plain\":\n",
    "            return content\n",
    "        else:\n",
    "            html = content\n",
    "    if html:\n",
    "        return html_to_plain_text(html)\n"
   ]
  },
  {
   "cell_type": "code",
   "execution_count": 79,
   "metadata": {},
   "outputs": [],
   "source": [
    "html_spam_emails = [email for email in X_train[y_train==1]\n",
    "                    if get_email_structure(email) == \"text/html\"]\n",
    "sample_html_spam = html_spam_emails[7]"
   ]
  },
  {
   "cell_type": "code",
   "execution_count": 82,
   "metadata": {},
   "outputs": [
    {
     "data": {
      "text/plain": [
       "'<HTML><HEAD><TITLE></TITLE><META http-equiv=\"Content-Type\" content=\"text/html; charset=windows-1252\"><STYLE>A:link {TEX-DECORATION: none}A:active {TEXT-DECORATION: none}A:visited {TEXT-DECORATION: none}A:hover {COLOR: #0033ff; TEXT-DECORATION: underline}</STYLE><META content=\"MSHTML 6.00.2713.1100\" name=\"GENERATOR\"></HEAD>\\n<BODY text=\"#000000\" vLink=\"#0033ff\" link=\"#0033ff\" bgColor=\"#CCCC99\"><TABLE borderColor=\"#660000\" cellSpacing=\"0\" cellPadding=\"0\" border=\"0\" width=\"100%\"><TR><TD bgColor=\"#CCCC99\" valign=\"top\" colspan=\"2\" height=\"27\">\\n<font size=\"6\" face=\"Arial, Helvetica, sans-serif\" color=\"#660000\">\\n<b>OTC</b></font></TD></TR><TR><TD height=\"2\" bgcolor=\"#6a694f\">\\n<font size=\"5\" face=\"Times New Roman, Times, serif\" color=\"#FFFFFF\">\\n<b>&nbsp;Newsletter</b></font></TD><TD height=\"2\" bgcolor=\"#6a694f\"><div align=\"right\"><font color=\"#FFFFFF\">\\n<b>Discover Tomorrow\\'s Winners&nbsp;</b></font></div></TD></TR><TR><TD height=\"25\" colspan=\"2\" bgcolor=\"#CCCC99\"><table width=\"100%\" border=\"0\" '"
      ]
     },
     "execution_count": 82,
     "metadata": {},
     "output_type": "execute_result"
    }
   ],
   "source": [
    "sample_html_spam.get_content()[:1000]"
   ]
  },
  {
   "cell_type": "code",
   "execution_count": 86,
   "metadata": {},
   "outputs": [
    {
     "name": "stdout",
     "output_type": "stream",
     "text": [
      "\n",
      "OTC\n",
      " Newsletter\n",
      "Discover Tomorrow's Winners \n",
      "For Immediate Release\n",
      "Cal-Bay (Stock Symbol: CBYI)\n",
      "Watch for analyst \"Strong Buy Recommendations\" and several advisory newsletters picking CBYI.  CBYI has filed to be traded on the OTCBB, share prices historically INCREASE when companies get listed on this larger trading exchange. CBYI is trading around 25 cents and should skyrocket to $2.66 - $3.25 a share in the near future.\n",
      "Put CBYI on your watch list, acquire a position TODAY.\n",
      "REASONS TO INVEST IN CBYI\n",
      "A profitable company and is on track to beat ALL earnings estimates!\n",
      "One of the FASTEST growing distributors in environmental & safety equipment instruments.\n",
      "Excellent management team, several EXCLUSIVE contracts.  IMPRESSIVE client list including the U.S. Air Force, Anheuser-Busch, Chevron Refining and Mitsubishi Heavy Industries, GE-Energy & Environmental Research.\n",
      "RAPIDLY GROWING INDUSTRY\n",
      "Industry revenues exceed $900 million, estimates indicate that there could be as much as $25 billi\n"
     ]
    }
   ],
   "source": [
    "print(html_to_plain_text(sample_html_spam.get_content())[:1000])"
   ]
  },
  {
   "cell_type": "code",
   "execution_count": 88,
   "metadata": {},
   "outputs": [
    {
     "name": "stdout",
     "output_type": "stream",
     "text": [
      " Save 84% on C.E. Credits & Pre-Licensing Courses\n",
      " \n",
      " State CE, CLU, CFP, CPA and Securities\n",
      " Unlimit ...\n"
     ]
    }
   ],
   "source": [
    "print(email_to_text(spam_emails[23])[:100], \"...\")\n"
   ]
  },
  {
   "cell_type": "code",
   "execution_count": 90,
   "metadata": {},
   "outputs": [
    {
     "name": "stdout",
     "output_type": "stream",
     "text": [
      "Computations => comput\n",
      "Computation => comput\n",
      "Computing => comput\n",
      "Computed => comput\n",
      "Compute => comput\n",
      "Compulsive => compuls\n"
     ]
    }
   ],
   "source": [
    "import nltk\n",
    "\n",
    "stemmer = nltk.PorterStemmer()\n",
    "for word in [\"Computations\", \"Computation\", \"Computing\", \"Computed\", \"Compute\", \"Compulsive\"]:\n",
    "    print(word, \"=>\", stemmer.stem(word))"
   ]
  },
  {
   "cell_type": "code",
   "execution_count": 92,
   "metadata": {},
   "outputs": [
    {
     "name": "stdout",
     "output_type": "stream",
     "text": [
      "['github.com', 'https://youtu.be/7Pq-S557XQU?t=3m32s']\n"
     ]
    }
   ],
   "source": [
    "try:\n",
    "    import urlextract # may require an Internet connection to download root domain names\n",
    "    \n",
    "    url_extractor = urlextract.URLExtract()\n",
    "    print(url_extractor.find_urls(\"Will it detect github.com and https://youtu.be/7Pq-S557XQU?t=3m32s\"))\n",
    "except ImportError:\n",
    "    print(\"Error: replacing URLs requires the urlextract module.\")\n",
    "    url_extractor = None"
   ]
  },
  {
   "cell_type": "code",
   "execution_count": 93,
   "metadata": {},
   "outputs": [],
   "source": [
    "from sklearn.base import BaseEstimator, TransformerMixin\n",
    "\n",
    "class EmailToWordCounterTransformer(BaseEstimator, TransformerMixin):\n",
    "    def __init__(self, strip_headers=True, lower_case=True, remove_punctuation=True,\n",
    "                 replace_urls=True, replace_numbers=True, stemming=True):\n",
    "        self.strip_headers = strip_headers\n",
    "        self.lower_case = lower_case\n",
    "        self.remove_punctuation = remove_punctuation\n",
    "        self.replace_urls = replace_urls\n",
    "        self.replace_numbers = replace_numbers\n",
    "        self.stemming = stemming\n",
    "    def fit(self, X, y=None):\n",
    "        return self\n",
    "    def transform(self, X, y=None):\n",
    "        X_transformed = []\n",
    "        for email in X:\n",
    "            text = email_to_text(email) or \"\"\n",
    "            if self.lower_case:\n",
    "                text = text.lower()\n",
    "            if self.replace_urls and url_extractor is not None:\n",
    "                urls = list(set(url_extractor.find_urls(text)))\n",
    "                urls.sort(key=lambda url: len(url), reverse=True)\n",
    "                for url in urls:\n",
    "                    text = text.replace(url, \" URL \")\n",
    "            if self.replace_numbers:\n",
    "                text = re.sub(r'\\d+(?:\\.\\d*(?:[eE]\\d+))?', 'NUMBER', text)\n",
    "            if self.remove_punctuation:\n",
    "                text = re.sub(r'\\W+', ' ', text, flags=re.M)\n",
    "            word_counts = Counter(text.split())\n",
    "            if self.stemming and stemmer is not None:\n",
    "                stemmed_word_counts = Counter()\n",
    "                for word, count in word_counts.items():\n",
    "                    stemmed_word = stemmer.stem(word)\n",
    "                    stemmed_word_counts[stemmed_word] += count\n",
    "                word_counts = stemmed_word_counts\n",
    "            X_transformed.append(word_counts)\n",
    "        return np.array(X_transformed)"
   ]
  },
  {
   "cell_type": "code",
   "execution_count": 94,
   "metadata": {},
   "outputs": [
    {
     "data": {
      "text/plain": [
       "array([<email.message.EmailMessage object at 0x000002853E5B3908>,\n",
       "       <email.message.EmailMessage object at 0x000002853CCA06A0>,\n",
       "       <email.message.EmailMessage object at 0x000002853D3BCB38>],\n",
       "      dtype=object)"
      ]
     },
     "execution_count": 94,
     "metadata": {},
     "output_type": "execute_result"
    }
   ],
   "source": [
    "X_train[:3]"
   ]
  },
  {
   "cell_type": "code",
   "execution_count": 129,
   "metadata": {},
   "outputs": [
    {
     "data": {
      "text/plain": [
       "array([Counter({'chuck': 1, 'murcko': 1, 'wrote': 1, 'stuff': 1, 'yawn': 1, 'r': 1}),\n",
       "       Counter({'the': 11, 'of': 9, 'and': 8, 'all': 3, 'christian': 3, 'to': 3, 'by': 3, 'jefferson': 2, 'i': 2, 'have': 2, 'superstit': 2, 'one': 2, 'on': 2, 'been': 2, 'ha': 2, 'half': 2, 'rogueri': 2, 'teach': 2, 'jesu': 2, 'some': 1, 'interest': 1, 'quot': 1, 'url': 1, 'thoma': 1, 'examin': 1, 'known': 1, 'word': 1, 'do': 1, 'not': 1, 'find': 1, 'in': 1, 'our': 1, 'particular': 1, 'redeem': 1, 'featur': 1, 'they': 1, 'are': 1, 'alik': 1, 'found': 1, 'fabl': 1, 'mytholog': 1, 'million': 1, 'innoc': 1, 'men': 1, 'women': 1, 'children': 1, 'sinc': 1, 'introduct': 1, 'burnt': 1, 'tortur': 1, 'fine': 1, 'imprison': 1, 'what': 1, 'effect': 1, 'thi': 1, 'coercion': 1, 'make': 1, 'world': 1, 'fool': 1, 'other': 1, 'hypocrit': 1, 'support': 1, 'error': 1, 'over': 1, 'earth': 1, 'six': 1, 'histor': 1, 'american': 1, 'john': 1, 'e': 1, 'remsburg': 1, 'letter': 1, 'william': 1, 'short': 1, 'again': 1, 'becom': 1, 'most': 1, 'pervert': 1, 'system': 1, 'that': 1, 'ever': 1, 'shone': 1, 'man': 1, 'absurd': 1, 'untruth': 1, 'were': 1, 'perpetr': 1, 'upon': 1, 'a': 1, 'larg': 1, 'band': 1, 'dupe': 1, 'import': 1, 'led': 1, 'paul': 1, 'first': 1, 'great': 1, 'corrupt': 1}),\n",
       "       Counter({'url': 4, 's': 3, 'group': 3, 'to': 3, 'in': 2, 'forteana': 2, 'martin': 2, 'an': 2, 'and': 2, 'we': 2, 'is': 2, 'yahoo': 2, 'unsubscrib': 2, 'y': 1, 'adamson': 1, 'wrote': 1, 'for': 1, 'altern': 1, 'rather': 1, 'more': 1, 'factual': 1, 'base': 1, 'rundown': 1, 'on': 1, 'hamza': 1, 'career': 1, 'includ': 1, 'hi': 1, 'belief': 1, 'that': 1, 'all': 1, 'non': 1, 'muslim': 1, 'yemen': 1, 'should': 1, 'be': 1, 'murder': 1, 'outright': 1, 'know': 1, 'how': 1, 'unbias': 1, 'memri': 1, 'don': 1, 't': 1, 'html': 1, 'rob': 1, 'sponsor': 1, 'number': 1, 'dvd': 1, 'free': 1, 'p': 1, 'join': 1, 'now': 1, 'from': 1, 'thi': 1, 'send': 1, 'email': 1, 'egroup': 1, 'com': 1, 'your': 1, 'use': 1, 'of': 1, 'subject': 1}),\n",
       "       Counter({'to': 6, 'anthoni': 2, 'i': 2, 'url': 2, 'a': 2, 'or': 2, 'it': 2, 'skip': 1, 'montanaro': 1, 'baxter': 1, 'accordingli': 1, 'wrote': 1, 'which': 1, 'is': 1, 'mostli': 1, 'ripoff': 1, 'of': 1, 'someth': 1, 'someon': 1, 'els': 1, 'post': 1, 'python': 1, 'dev': 1, 'within': 1, 'the': 1, 'last': 1, 'week': 1, 'so': 1, 'strip': 1, 'out': 1, 'sa': 1, 'gener': 1, 'header': 1, 'unless': 1, 've': 1, 'grown': 1, 'senil': 1, 'tonight': 1, 'you': 1, 'got': 1, 'from': 1, 'begin': 1, 'with': 1, 'pleas': 1, 'check': 1, 'in': 1, 'project': 1, 'and': 1, 'add': 1, 'short': 1, 'blurb': 1, 'readm': 1, 'txt': 1}),\n",
       "       Counter({'a': 8, 'the': 6, 'toni': 5, 'folder': 5, 'number': 4, 'in': 3, 'you': 3, 'exmh': 3, 'on': 2, 'to': 2, 'for': 2, 'link': 2, 'or': 2, 'move': 2, 'list': 2, 'mode': 2, 'hit': 2, 'and': 2, 'user': 2, 'fri': 1, 'sep': 1, 'nugent': 1, 'wrote': 1, 'essenc': 1, 'is': 1, 'there': 1, 'way': 1, 'mark': 1, 'destin': 1, 'messag': 1, 'without': 1, 'actual': 1, 'do': 1, 'i': 1, 'couldn': 1, 't': 1, 'see': 1, 'anyth': 1, 'obviou': 1, 'right': 1, 'click': 1, 'label': 1, 'main': 1, 'window': 1, 'key': 1, 'put': 1, 'into': 1, 'chang': 1, 'first': 1, 'time': 1, 'use': 1, 'it': 1, 'after': 1, 'start': 1, 'second': 1, 'go': 1, 'set': 1, 'target': 1, 'type': 1, 'few': 1, 'charact': 1, 'of': 1, 'name': 1, 'space': 1, 'autocomplet': 1, 'hal': 1, 'how': 1, 's': 1, 'spring': 1, 'shape': 1, 'up': 1, 'down': 1, 'under': 1, '_______________________________________________': 1, 'mail': 1, 'redhat': 1, 'com': 1, 'url': 1}),\n",
       "       Counter({'number': 11, 'razor': 8, 'i': 8, 'thi': 6, 'url': 6, 'the': 5, 'list': 5, 'a': 5, 'spamassassin': 4, 'is': 4, 'user': 4, 'on': 3, 'for': 3, 'run': 3, 'of': 3, 'so': 3, 'd': 3, 'here': 3, 'line': 3, 'first': 2, 'it': 2, 'to': 2, 'm': 2, 'with': 2, 'or': 2, 'messag': 2, 'razornumb': 2, 'email': 2, 'sponsor': 2, 'by': 2, 'osdn': 2, 'tire': 2, 'that': 2, 'same': 2, 'old': 2, 'cell': 2, 'phone': 2, 'get': 2, 'new': 2, 'free': 2, '_______________________________________________': 2, 'mail': 2, 'sourceforg': 2, 'net': 2, 'you': 1, 'might': 1, 'be': 1, 'better': 1, 'ask': 1, 'talk': 1, 'folk': 1, 'there': 1, 'will': 1, 'almost': 1, 'definit': 1, 'have': 1, 'an': 1, 'answer': 1, 'thu': 1, 'sep': 1, 'david': 1, 'ree': 1, 'wrote': 1, 'my': 1, 'time': 1, 'heard': 1, 'lot': 1, 'good': 1, 'thing': 1, 'about': 1, 'thought': 1, 'give': 1, 'shot': 1, 'also': 1, 'like': 1, 'integr': 1, 'two': 1, 'not': 1, 'sure': 1, 'if': 1, 'problem': 1, 'though': 1, 'shoot': 1, 'freshli': 1, 'instal': 1, 'and': 1, 'see': 1, 'these': 1, 'spit': 1, 'out': 1, 'from': 1, 'spamd': 1, 'check': 1, 'skip': 1, 'no': 1, 'such': 1, 'file': 1, 'directori': 1, 'can': 1, 't': 1, 'call': 1, 'method': 1, 'log': 1, 'unbless': 1, 'refer': 1, 'at': 1, 'usr': 1, 'lib': 1, 'perlnumb': 1, 'site_perl': 1, 'client': 1, 'agent': 1, 'pm': 1, 'stdin': 1, 'ani': 1, 'idea': 1, 'seem': 1, 'correctli': 1, 'over': 1, 'command': 1, 'thank': 1, 'dave': 1}),\n",
       "       Counter({'a': 10, 'i': 7, 'to': 7, 'song': 5, 'the': 4, 'and': 4, 'of': 3, 'playlist': 3, 'digit': 3, 'is': 3, 'not': 3, 'their': 3, 'm': 3, 'up': 3, 'url': 3, 'law': 2, 'can': 2, 'number': 2, 'from': 2, 'inform': 2, 'that': 2, 'if': 2, 'it': 2, 'musicchoic': 2, 'websit': 2, 'with': 2, 'servic': 2, 'as': 2, 'info': 2, 'my': 2, 'anyon': 1, 'heard': 1, 'thi': 1, 'befor': 1, 'q': 1, 'get': 1, 'we': 1, 'are': 1, 'unabl': 1, 'offer': 1, 'perform': 1, 'right': 1, 'in': 1, 'sound': 1, 'record': 1, 'act': 1, 'pass': 1, 'by': 1, 'congress': 1, 'prevent': 1, 'us': 1, 'disclos': 1, 'such': 1, 'state': 1, 'one': 1, 'transmit': 1, 'signal': 1, 'cannot': 1, 'be': 1, 'pre': 1, 'announc': 1, 'music': 1, 'choic': 1, 'polici': 1, 'releas': 1, 'upcom': 1, 'or': 1, 'previous': 1, 'play': 1, 'recent': 1, 'upgrad': 1, 'veri': 1, 'import': 1, 'far': 1, 'concern': 1, 'real': 1, 'time': 1, 'directv': 1, 'receiv': 1, 'on': 1, 'shelf': 1, 'display': 1, 'scroll': 1, 'intermitt': 1, 'sure': 1, 'go': 1, 'fire': 1, 'projector': 1, 'while': 1, 'listen': 1, 'radio': 1, 'so': 1, 'quit': 1, 'happi': 1, 'retriev': 1, 'r': 1, 't': 1, 'like': 1, 'http': 1, 'backstag': 1, 'com': 1, 'songid': 1, 'channel': 1, 'rap': 1, 'asp': 1, 'etc': 1, 'now': 1, 'were': 1, 'more': 1, 'eager': 1, 'hacker': 1, 'd': 1, 'write': 1, 'littl': 1, 'wsdl': 1, 'stub': 1, 'for': 1, 'these': 1, 'event': 1, 'stream': 1, 'they': 1, 're': 1, 'clearli': 1, 'worri': 1, 'about': 1, 'load': 1, 'sinc': 1, 'own': 1, 'web': 1, 'page': 1, 'specifi': 1, 'sec': 1, 'meta': 1, 'refresh': 1, 'then': 1, 'feed': 1, 'em': 1, 'through': 1, 'content': 1, 'router': 1, 'alert': 1, 'me': 1, 'cool': 1, 'heck': 1, 'cross': 1, 'refer': 1, 'cddb': 1, 'rk': 1}),\n",
       "       Counter({'i': 8, 'to': 6, 'html': 6, 'a': 6, 'the': 5, 'in': 5, 'd': 4, 'strip': 4, 'that': 4, 'thi': 4, 'get': 4, 'but': 3, 'it': 3, 'on': 3, 'text': 3, 'like': 3, 'tag': 2, 'from': 2, 'time': 2, 'rate': 2, 'my': 2, 'corpora': 2, 'though': 2, 's': 2, 'good': 2, 'corpu': 2, 'than': 2, 'save': 2, 't': 2, 'much': 2, 'so': 2, 'url': 2, 'too': 2, 'prefer': 1, 'everyth': 1, 'last': 1, 'tri': 1, 'still': 1, 'had': 1, 'bad': 1, 'effect': 1, 'error': 1, 'your': 1, 'are': 1, 'bias': 1, 'respect': 1, 'newsgroup': 1, 'have': 1, 'strong': 1, 'social': 1, 'taboo': 1, 'post': 1, 'mani': 1, 'peopl': 1, 'person': 1, 'inbox': 1, 'is': 1, 'quit': 1, 'abund': 1, 'ham': 1, 'may': 1, 'prove': 1, 'be': 1, 'bigger': 1, 'hurdl': 1, 'own': 1, 'mail': 1, 'doesn': 1, 'reflect': 1, 'what': 1, 'receiv': 1, 'sinc': 1, 'and': 1, 'throw': 1, 'away': 1, 'select': 1, 'more': 1, 'past': 1, 'multipart': 1, 'mix': 1, 'plain': 1, 'brief': 1, 'plu': 1, 'long': 1, 'copi': 1, 'websit': 1, 'ah': 1, 'explain': 1, 'whi': 1, 'didn': 1, 'again': 1, 'offer': 1, 'add': 1, 'an': 1, 'option': 1, 'argument': 1, 'token': 1, 'they': 1, 'here': 1, 'if': 1, 'gloss': 1, 'over': 1, 'third': 1, 'would': 1, 'feel': 1, 'loss': 1, 'wink': 1, 'll': 1, 'bite': 1, 'sound': 1, 'idea': 1, 'case': 1, 'see': 1, 'how': 1, 'improv': 1, 'f': 1, 'p': 1, 'guido': 1, 'van': 1, 'rossum': 1, 'home': 1, 'page': 1}),\n",
       "       Counter({'vip': 4, 'stop': 2, 'e': 2, 'project': 2, 'web': 2, 'com': 2, 'までお送り下さい': 2, 'url': 2, '事業者': 1, '氏名': 1, 'mail': 1, '突然のメール失礼いたします': 1, '今後この広告がご不要な方はその旨を': 1, 'リッチな出会いはvip': 1, 'mailで': 1, 'mailがハイクラスな出会いをプレゼント': 1, '携帯numberキャリアとpc対応の出会いサイト': 1, '今までの出会いサイトに飽きた人': 1, '出会いは欲しいけどサイトを使うのはと迷ってる人': 1, '今直ぐvip': 1, 'mailにgo': 1, '女性無料は当たり前': 1, '男性にはお試しポイントnumberptプレゼント': 1, '女性はリッチな男性をgetしようo': 1, 'o': 1, '男性はお試しポイント気に入った娘を見つけよう': 1, 'b': 1, '出会いを求めるならvip': 1, 'mailに今直ぐアクセス': 1, '突然のメール失礼いたしました': 1, '今後この広告がご不要な方': 1, '配信停止を希望される方はその旨を': 1}),\n",
       "       Counter({'number': 8, 'os': 5, 'mac': 4, 'x': 3, 'url': 2, 'a': 2, 'date': 1, 'numbertnumb': 1, 'which': 1, 'wa': 1, 'the': 1, 'better': 1, 'ui': 1, 'window': 1, 'nobodi': 1, 'can': 1, 'agre': 1, 'tim': 1, 'o': 1, 'reilli': 1, 'didn': 1, 't': 1, 'like': 1, 'he': 1, 'get': 1, 'tradit': 1, 'user': 1, 'are': 1, 'bit': 1, 'annoy': 1, 'by': 1, 'they': 1, 'think': 1, 'it': 1, 's': 1}),\n",
       "       Counter({'to': 7, 'potent': 4, 'hyperlink': 4, 'click': 4, 'here': 4, 'salvia': 4, 'the': 4, 'for': 3, 'time': 3, 'of': 3, 'remov': 3, 'we': 3, 'email': 3, 'not': 3, 'our': 3, 'you': 3, 'legal': 2, 'all': 2, 'extrem': 2, 'more': 2, 'on': 2, 'divinorum': 2, 'numberx': 2, 'warn': 2, 'number': 2, 'unsolicit': 2, 'do': 2, 'wish': 2, 'receiv': 2, 'special': 2, 'mail': 2, 'have': 2, 'in': 2, 'request': 2, 'be': 2, 'from': 2, 'thi': 2, 'if': 2, 'pleas': 2, 'get': 1, 'high': 1, 'it': 1, 'realli': 1, 'work': 1, 'pass': 1, 'drug': 1, 'test': 1, 'info': 1, 'extract': 1, 'veri': 1, 'most': 1, 'smokabl': 1, 'herb': 1, 'planet': 1, 'power': 1, 'inform': 1, 'are': 1, 'strongli': 1, 'against': 1, 'send': 1, 'those': 1, 'who': 1, 'opt': 1, 'one': 1, 'or': 1, 'affili': 1, 'site': 1, 'notifi': 1, 'ani': 1, 'offer': 1, 'may': 1, 'run': 1, 'is': 1, 'further': 1, 'list': 1, 'accept': 1, 'apolog': 1, 'been': 1, 'sent': 1, 'error': 1, 'honor': 1, 'within': 1, 'hour': 1}),\n",
       "       Counter({'the': 16, 'that': 8, 'and': 8, 'number': 6, 'i': 6, 'to': 6, 'a': 5, 'of': 5, 'we': 5, 't': 4, 'have': 4, 'about': 4, 'more': 4, 'in': 4, 'do': 4, 'from': 4, 's': 4, 'are': 4, 'innov': 4, 'on': 3, 'you': 3, 'wa': 3, 'first': 3, 'is': 3, 'ani': 3, 'centuri': 3, 'demograph': 3, 'gerontocraci': 3, 'import': 3, 'don': 2, 'swallow': 2, 'what': 2, 'read': 2, 'cultur': 2, 'today': 2, 'or': 2, 'past': 2, 'hand': 2, 'problem': 2, 'than': 2, 'it': 2, 'all': 2, 'divorc': 2, 'numberth': 2, 'onli': 2, 'recent': 2, 'grant': 2, 'saudi': 2, 'arabia': 2, 'sustain': 2, 'someth': 2, 'point': 2, 'm': 2, 'last': 2, 'see': 2, 'america': 2, 'specif': 2, 'us': 2, 'as': 2, 'not': 2, 'west': 2, 'gener': 2, 'lack': 2, 'vi': 2, 'trend': 2, 'by': 2, 'work': 2, 'thi': 2, 'fri': 1, 'sep': 1, 'russel': 1, 'turpin': 1, 'wrote': 1, 'too': 1, 'quickli': 1, 'tradit': 1, 'just': 1, 'offer': 1, 'anecdot': 1, 'experi': 1, 'indic': 1, 'appar': 1, 'which': 1, 'requir': 1, 'ad': 1, 'hoc': 1, 'wave': 1, 'approach': 1, 'trivial': 1, 'obviou': 1, 'xy': 1, 'statist': 1, 'poor': 1, 'man': 1, 'so': 1, 'sure': 1, 'kid': 1, 'easi': 1, 'didn': 1, 'happen': 1, 'church': 1, 'societi': 1, 'look': 1, 'after': 1, 'rel': 1, 'privileg': 1, 'king': 1, 'veri': 1, 'common': 1, 'england': 1, 'were': 1, 'function': 1, 'those': 1, 'meaning': 1, 'emigr': 1, 'sourc': 1, 'at': 1, 'least': 1, 'viewpoint': 1, 'counterpressur': 1, 'result': 1, 'innovatiophobia': 1, 're': 1, 'wrong': 1, 'your': 1, 'two': 1, 'skeptic': 1, 'sign': 1, 'wasn': 1, 'talk': 1, 'though': 1, 'exist': 1, 'there': 1, 'well': 1, 'albeit': 1, 'extent': 1, 'eurotrash': 1, 'face': 1, 'right': 1, 'now': 1, 'suffer': 1, 'youth': 1, 'nation': 1, 'such': 1, 'iran': 1, 'disturb': 1, 'toward': 1, 'even': 1, 'less': 1, 'an': 1, 'autocatalyt': 1, 'process': 1, 'favor': 1, 'third': 1, 'revolut': 1, 'want': 1, 'move': 1, 'b': 1, 'fail': 1, 'everyth': 1, 'they': 1, 'can': 1, 'american': 1, 'my': 1, 'foremost': 1, 'carrier': 1, 'against': 1, 'bad': 1, 'larg': 1, 'scale': 1, 'while': 1, 'kinda': 1, 'sorta': 1, 'short': 1, 'run': 1}),\n",
       "       Counter({'br': 10, 'a': 6, 'to': 4, 'b': 4, 'get': 3, 'and': 3, 'in': 3, 'more': 3, 'everybodi': 2, 'paid': 2, 'for': 2, 'it': 2, 's': 2, 'the': 2, 'but': 2, 'make': 2, 'html': 2, 'href': 2, 'mailto': 2, 'subject': 2, 'click': 2, 'here': 2, 'remov': 2, 'no': 1, 'recruit': 1, 'requir': 1, 'join': 1, 'reserv': 1, 'posit': 1, 'free': 1, 'now': 1, 'program': 1, 'is': 1, 'number': 1, 'week': 1, 'old': 1, 'pay': 1, 'line': 1, 'by': 1, 'all': 1, 'new': 1, 'peopl': 1, 'come': 1, 'not': 1, 'tradit': 1, 'straightlin': 1, 'everyon': 1, 'money': 1, 'those': 1, 'that': 1, 'sponsor': 1, 'gmtnumberinfo': 1, 'profitrespond': 1, 'com': 1, 'send': 1, 'info': 1, 'request': 1, 'inform': 1, 'stockbuy': 1, 'netzero': 1, 'net': 1, 'we': 1, 'belong': 1, 'same': 1, 'opt': 1, 'list': 1, 'if': 1, 'wish': 1, 'have': 1, 'your': 1, 'email': 1, 'address': 1, 'from': 1, 'our': 1, 'databas': 1, 'pleas': 1}),\n",
       "       Counter({'number': 29, 'the': 9, 'i': 9, 'openssl': 7, 'packag': 6, 'to': 6, 'depend': 5, 'instal': 5, 'that': 5, 'a': 5, 'snip': 4, 'but': 4, 'have': 4, 'numberb': 4, 'is': 4, 't': 4, 'openssh': 3, 'numbera': 3, 'it': 3, 'so': 3, 's': 3, 'just': 3, 'if': 3, 'and': 3, 'with': 3, 'follow': 2, 'unmet': 2, 'php': 2, 'pgsql': 2, 'postgresql': 2, 'use': 2, 'opensslnumbera': 2, 'provid': 2, 'apt': 2, 'believ': 2, 'librari': 2, 'can': 2, 'version': 2, 'about': 2, 'want': 2, 'you': 2, 'on': 1, 'wed': 1, 'feb': 1, 'at': 1, 'numberpm': 1, 'peter': 1, 'peltonen': 1, 'wrote': 1, 'two': 1, 'issu': 1, 'sorri': 1, 'not': 1, 'libpq': 1, 'e': 1, 'tri': 1, 'f': 1, 'perl': 1, 'devel': 1, 'should': 1, 'compat': 1, 'doesn': 1, 'think': 1, 'matter': 1, 'of': 1, 'string': 1, 'pars': 1, 'someon': 1, 'were': 1, 'fix': 1, 'remov': 1, 'explicit': 1, 'requir': 1, 'automag': 1, 'binari': 1, 'handler': 1, 'would': 1, 'figur': 1, 'right': 1, 'haven': 1, 'met': 1, 'an': 1, 'like': 1, 'in': 1, 'worst': 1, 'case': 1, 've': 1, 'had': 1, 'differ': 1, 'wtf': 1, 'they': 1, 'bump': 1, 'major': 1, 'incompat': 1, 'from': 1, 'sourc': 1, 'whi': 1, 'need': 1, 'there': 1, 'way': 1, 'tell': 1, 'don': 1, 'complain': 1, 'few': 1, 'such': 1, 'thing': 1, 'jdk': 1, 'imlib': 1, 'kernel': 1, 'dri': 1, 'someth': 1, 'ive': 1, 'made': 1, 'dummi': 1, 'verbos': 1, 'warn': 1, 'attach': 1, 'explicitli': 1, 'those': 1, 'capabl': 1, 'or': 1, 'claim': 1, 'onli': 1, 'go': 1, 'mile': 1, 'begin': 1, 'halfstep': 1}),\n",
       "       Counter({'number': 97, 'afnumber_decor': 63, 'cpp': 62, 'declar': 30, 'not': 19, 'int': 19, 'thi': 18, 'of': 17, 'type': 17, 'wa': 17, 'in': 16, 'scope': 16, 'error': 15, 'as': 12, 'befor': 11, 'with': 10, 'iso': 9, 'c': 9, 'forbid': 9, 'no': 9, 'list': 9, 'a': 8, 'i': 7, 'to': 7, 'transcod': 7, 'rpm': 7, 'fmt': 7, 'it': 6, 'previou': 6, 'defin': 6, 'syntax': 6, 'token': 6, 'fprintf': 6, 'for': 6, 'buffer': 6, 'be': 5, 'from': 5, 'is': 5, 'use': 5, 'pars': 5, 'redefinit': 5, 'fflush': 5, 'src': 4, 'the': 4, 'if': 4, 'wvfmt': 4, 'previous': 4, 'here': 4, 'conflict': 4, 'buffer_s': 4, 'char': 4, 'make': 4, 'on': 3, 'avifil': 3, 'but': 3, 'initi': 3, 'treat': 3, 'compound': 3, 'express': 3, 'sampl': 3, 'unsign': 3, 'invalid': 3, 'convers': 3, 'p_write': 3, 'build': 3, 'work': 3, 'my': 3, 'red': 3, 'hat': 3, 'linux': 3, 'url': 3, 'matthia': 2, 'wrote': 2, 'alvi': 2, 'thank': 2, 'have': 2, 'problem': 2, 'rebuild': 2, 'get': 2, 'and': 2, 'give': 2, 'part': 2, 'waveformatex': 2, 'avm_wave_format_nam': 2, 'sync_str': 2, 'while': 2, 'leav': 2, 'directori': 2, 'usr': 2, 'redhat': 2, 'import': 2, 't': 2, 'command': 2, 'line': 2, 'arg': 2, 's': 2, 'fine': 2, 'now': 2, 'dvd': 2, 'current': 2, '_______________________________________________': 2, 'mail': 2, 'freshrpm': 2, 'net': 2, 'mon': 1, 'at': 1, 'saou': 1, 'onc': 1, 'upon': 1, 'time': 1, 'seem': 1, 'confus': 1, 'up': 1, 'could': 1, 'you': 1, 'output': 1, 'onli': 1, 'last': 1, 'rpmbuild': 1, 'without': 1, 'frnumber': 1, '_io_fil': 1, 'ipip': 1, 'lo': 1, 'all': 1, 'recurs': 1, 'trancod': 1, 'can': 1, 'although': 1, 'been': 1, 'sinc': 1, 'mayb': 1, 'forgot': 1, 'how': 1, 'dumb': 1, 'mistak': 1, 'did': 1, 'nt': 1, 'libdvdcss': 1, 'devel': 1, 'so': 1, 'rip': 1, 'help': 1, 'm': 1, 'encod': 1, 'divxnumb': 1, 'right': 1, 'home': 1, 'comput': 1, 'ha': 1, 'support': 1, 'disabl': 1, 'that': 1, 'may': 1, 'your': 1, 'becaus': 1, 'gcc': 1, 'isn': 1, 'abl': 1, 'recompil': 1, 'clean': 1, 'custom': 1, 'packag': 1, 'releas': 1, 'valhalla': 1, 'run': 1, 'kernel': 1, 'numberacpi': 1, 'load': 1}),\n",
       "       Counter({'you': 7, 'and': 6, 'home': 6, 'to': 6, 'your': 5, 'the': 4, 'of': 4, 'hyperlink': 4, 'rate': 3, 'for': 3, 'loan': 3, 'click': 3, 'here': 3, 'futur': 3, 'are': 3, 'receiv': 3, 'best': 2, 'simpl': 2, 'free': 2, 'hundr': 2, 'lender': 2, 'new': 2, 'second': 2, 'mortgag': 2, 'equiti': 2, 'jump': 2, 'start': 2, 'plan': 2, 'interest': 2, 'at': 2, 'in': 2, 'number': 2, 'with': 2, 'thi': 2, 'special': 2, 'offer': 2, 'mortag': 1, 'easi': 1, 'have': 1, 'compet': 1, 'refinanc': 1, 'debt': 1, 'consolid': 1, 'dear': 1, 'homeown': 1, 'their': 1, 'lowest': 1, 'point': 1, 'year': 1, 'we': 1, 'help': 1, 'find': 1, 'situat': 1, 'by': 1, 'match': 1, 'need': 1, 'improv': 1, 'refin': 1, 'more': 1, 're': 1, 'elig': 1, 'even': 1, 'less': 1, 'than': 1, 'perfect': 1, 'credit': 1, 'servic': 1, 'is': 1, 'owner': 1, 'buyer': 1, 'without': 1, 'ani': 1, 'oblig': 1, 'just': 1, 'fill': 1, 'out': 1, 'a': 1, 'quick': 1, 'form': 1, 'today': 1, 'begin': 1, 'email': 1, 'becaus': 1, 'regist': 1, 'one': 1, 'url': 1, 's': 1, 'partner': 1, 'site': 1, 'agre': 1, 'gift': 1, 'that': 1, 'may': 1, 'be': 1, 'if': 1, 'do': 1, 'not': 1, 'want': 1, 'pleas': 1, 'subscrib': 1, 'as': 1, 'webmast': 1, 'efi': 1, 'ie': 1, 'equal': 1, 'hous': 1, 'opportun': 1}),\n",
       "       Counter({'i': 3, 'thi': 3, 'a': 3, 'user': 3, 'the': 3, 'url': 3, 'get': 2, 'will': 2, 'be': 2, 'to': 2, 'for': 2, 'it': 2, 'email': 2, 'you': 2, 'razor': 2, 'list': 2, 'hey': 1, 'folk': 1, 'know': 1, 'question': 1, 'ask': 1, 'lot': 1, 'but': 1, 'haven': 1, 't': 1, 'seen': 1, 'an': 1, 'answer': 1, 'late': 1, 'ani': 1, 'idea': 1, 'when': 1, 'abl': 1, 'view': 1, 'hi': 1, 'own': 1, 'trust': 1, 'rate': 1, 'what': 1, 'are': 1, 'plan': 1, 'built': 1, 'into': 1, 'client': 1, 'web': 1, 'base': 1, 'nightli': 1, 'if': 1, 'could': 1, 'share': 1, 'your': 1, 'brainstorm': 1, 'on': 1, 'subject': 1, 'would': 1, 'greatli': 1, 'appreci': 1, 'is': 1, 'sponsor': 1, 'by': 1, 'osdn': 1, 'tire': 1, 'of': 1, 'that': 1, 'same': 1, 'old': 1, 'cell': 1, 'phone': 1, 'new': 1, 'here': 1, 'free': 1, '_______________________________________________': 1, 'mail': 1, 'sourceforg': 1, 'net': 1}),\n",
       "       Counter({'it': 11, 'to': 6, 'the': 6, 'number': 6, 'upgrad': 5, 't': 5, 'and': 5, 'do': 4, 's': 4, 'i': 4, 'from': 4, 'think': 3, 'not': 3, 'releas': 3, 'mean': 3, 'you': 3, 'url': 3, 'list': 3, 'possibl': 2, 'use': 2, 'new': 2, 'null': 2, 'rhnumber': 2, 'might': 2, 'don': 2, 'tri': 2, 'if': 2, 'mayb': 2, 'will': 2, 'that': 2, 'work': 2, 'on': 2, 'histor': 2, 'a': 2, 'so': 2, 'problem': 2, 'anyway': 2, 'thi': 2, 'x': 2, 'thoma': 2, 'rpm': 2, 'is': 1, 'apt': 1, 'be': 1, 'anyon': 1, 'yet': 1, 'even': 1, 'are': 1, 'there': 1, 'good': 1, 'reason': 1, 'whi': 1, 'should': 1, 'just': 1, 'rh': 1, 'iso': 1, 'upnumberd': 1, 'ye': 1, 'first': 1, 'off': 1, 'redhat': 1, 'doe': 1, 'support': 1, 'beta': 1, 'version': 1, 'doesn': 1, 'can': 1, 'nobodi': 1, 'they': 1, 'sure': 1, 'didn': 1, 'test': 1, 'or': 1, 'fix': 1, 'anyth': 1, 'make': 1, 're': 1, 'your': 1, 'own': 1, 'second': 1, 'mostli': 1, 'much': 1, 'ha': 1, 'been': 1, 'chang': 1, 'have': 1, 'ani': 1, 'previou': 1, 'most': 1, 'user': 1, 'instal': 1, 'scratch': 1, 'throughout': 1, 'y': 1, 'want': 1, 'avoid': 1, 'bite': 1, 'bullet': 1, 'reinstal': 1, 'dave': 1, 'dina': 1, 'project': 1, 'futur': 1, 'tv': 1, 'today': 1, 'everi': 1, 'time': 1, 'she': 1, 'sneez': 1, 'love': 1, 'oh': 1, 'lord': 1, 'm': 1, 'readi': 1, 'for': 1, 'sort': 1, 'of': 1, 'thing': 1, 'apestaart': 1, 'org': 1, 'urgent': 1, 'best': 1, 'radio': 1, 'internet': 1, '_______________________________________________': 1, 'mail': 1, 'freshrpm': 1, 'net': 1}),\n",
       "       Counter({'the': 23, 'it': 13, 'a': 11, 'to': 10, 'i': 10, 'is': 7, 'and': 7, 'mobo': 7, 'you': 7, 'power': 6, 'linux': 5, 'in': 5, 'on': 5, 'of': 5, 'if': 5, 'card': 5, 'from': 4, 'number': 4, 'ie': 4, 'but': 4, 'some': 4, 'no': 4, 'have': 4, 'or': 4, 'remov': 4, 'beep': 4, 'cpu': 4, 'ilug': 3, 'ot': 3, 'dell': 3, 'thi': 3, 'when': 3, 'plug': 3, 'what': 3, 'get': 3, 'cabl': 3, 'video': 3, 'system': 3, 't': 3, 'then': 3, 'switch': 3, 'code': 3, 'ahern': 2, 'peter': 2, 'give': 2, 'me': 2, 'm': 2, 'had': 2, 'old': 2, 'corner': 2, 'know': 2, 'work': 2, 'be': 2, 'noth': 2, 'her': 2, 'up': 2, 'look': 2, 'that': 2, 's': 2, 'after': 2, 'all': 2, 'problem': 2, 'one': 2, 'with': 2, 'prob': 2, 'just': 2, 'tri': 2, 'back': 2, 'pci': 2, 'isa': 2, 'floppi': 2, 'ide': 2, 'ram': 2, 'doesn': 2, 'post': 2, 'off': 2, 'your': 2, 'lack': 2, 'as': 2, 'abov': 2, 'still': 2, 'reseat': 2, 'ever': 2, 'into': 2, 'faulti': 2, 'origin': 1, 'messag': 1, 'pahernnumb': 1, 'mailto': 1, 'motorola': 1, 'com': 1, 'sent': 1, 'august': 1, 'subject': 1, 'machin': 1, 'hassl': 1, 'ok': 1, 'iknow': 1, 'blatantli': 1, 'begin': 1, 'go': 1, 'insan': 1, 'an': 1, 'dimens': 1, 'xp': 1, 'sit': 1, 'decid': 1, 'put': 1, 'use': 1, 'wa': 1, 'pre': 1, 'stuck': 1, 'hit': 1, 'happen': 1, 'open': 1, 'say': 1, 'much': 1, 'littl': 1, 'orang': 1, 'led': 1, 'come': 1, 'googl': 1, 'found': 1, 'refer': 1, 're': 1, 'seat': 1, 'part': 1, 'chang': 1, 'sinc': 1, 'suppli': 1, 'specif': 1, 'atx': 1, 'block': 1, 'like': 1, 'at': 1, 'connector': 1, 'cant': 1, 'figur': 1, 'out': 1, 'weather': 1, 'psu': 1, 'futili': 1, 'drag': 1, 'want': 1, 'instal': 1, 'anyon': 1, 'might': 1, 'shout': 1, 'here': 1, 'do': 1, 'eisa': 1, 'disk': 1, 'essenti': 1, 'leav': 1, 'onli': 1, 'keyboard': 1, 'turn': 1, 'emit': 1, 'complain': 1, 'about': 1, 'same': 1, 'procedur': 1, 'don': 1, 'ani': 1, 'kind': 1, 'can': 1, 'last': 1, 'ditch': 1, 'effort': 1, 'rememb': 1, 'never': 1, 'without': 1, 'heatsink': 1, 'fan': 1, 'insert': 1, 'actual': 1, 'connect': 1, 'even': 1, 'though': 1, 'either': 1, 'motherboard': 1, 'onc': 1, 'variou': 1, 'permut': 1, 'should': 1, 'eventu': 1, 'disjunct': 1, 'which': 1, 'devic': 1, 'caus': 1, 'self': 1, 'test': 1, 'bod': 1, 'irish': 1, 'user': 1, 'group': 1, 'url': 1, 'for': 1, 'un': 1, 'subscript': 1, 'inform': 1, 'list': 1, 'maintain': 1, 'listmast': 1}),\n",
       "       Counter({'to': 9, 'the': 8, 'it': 7, 'dev': 6, 'wa': 6, 'with': 6, 'number': 5, 'i': 5, 'mdnumber': 5, 'thi': 3, 'becaus': 3, 'boot': 3, 'root': 3, 't': 3, 'that': 3, 'and': 3, 'linux': 3, 'on': 2, 'is': 2, 'like': 2, 'hdanumb': 2, 'not': 2, 'just': 2, 'tar': 2, 'file': 2, 'for': 2, 'a': 2, 'hard': 2, 'link': 2, 'of': 2, 'url': 2, 'we': 2, 'work': 2, 'ie': 2, 'mon': 1, 'aug': 1, 'at': 1, 'numberpm': 1, 'john': 1, 'p': 1, 'looney': 1, 'mention': 1, 'get': 1, 'cobalt': 1, 'm': 1, 'actual': 1, 'pass': 1, 'kernel': 1, 'solv': 1, 'reason': 1, 'box': 1, 'wasn': 1, 'would': 1, 'barf': 1, 'can': 1, 'find': 1, 'init': 1, 'turn': 1, 'out': 1, 'popul': 1, 'which': 1, 'seem': 1, 'have': 1, 'issu': 1, 'crosslink': 1, 'instanc': 1, 'tri': 1, 'make': 1, 'hda': 1, 'fail': 1, 'onli': 1, 'as': 1, 'did': 1, 'again': 1, 'friend': 1, 'present': 1, 'he': 1, 'spot': 1, 'error': 1, 'queri': 1, 'them': 1, 'notic': 1, 'didn': 1, 'exist': 1, 'new': 1, 'rootf': 1, 'when': 1, 'duplic': 1, 'filesystem': 1, 'dump': 1, 'instead': 1, 'fine': 1, 'abl': 1, 'tell': 1, 'lilo': 1, 'use': 1, 'everyth': 1, 'woohoo': 1, 'kate': 1, 'irish': 1, 'user': 1, 'group': 1, 'ilug': 1, 'un': 1, 'subscript': 1, 'inform': 1, 'list': 1, 'maintain': 1, 'listmast': 1}),\n",
       "       Counter({'new': 7, 'south': 6, 'you': 5, 'hyperlink': 4, 'a': 3, 'north': 3, 'island': 3, 'australia': 3, 'unit': 3, 'guinea': 3, 'if': 3, 'to': 3, 'url': 3, 'georgia': 2, 'guam': 2, 'carolina': 2, 'dakota': 2, 'mexico': 2, 'puerto': 2, 'rico': 2, 'virginia': 2, 'the': 2, 'territori': 2, 'state': 2, 'congo': 2, 'republ': 2, 'korea': 2, 'have': 2, 'thi': 2, 'our': 2, 'would': 2, 'like': 2, 'pleas': 2, 'or': 2, 'never': 1, 'pay': 1, 'retail': 1, 'manwoman': 1, 'mana': 1, 'woman': 1, 'ani': 1, 'alaska': 1, 'alabama': 1, 'arkansa': 1, 'arizona': 1, 'california': 1, 'colorado': 1, 'connecticut': 1, 'd': 1, 'c': 1, 'delawar': 1, 'florida': 1, 'hawaii': 1, 'iowa': 1, 'idaho': 1, 'illinoi': 1, 'indiana': 1, 'kansa': 1, 'kentucki': 1, 'louisiana': 1, 'massachusett': 1, 'maryland': 1, 'main': 1, 'michigan': 1, 'minnesota': 1, 'missouri': 1, 'mississippi': 1, 'montana': 1, 'nebraska': 1, 'hampshir': 1, 'jersey': 1, 'nevada': 1, 'york': 1, 'ohio': 1, 'oklahoma': 1, 'oregon': 1, 'pennsylvania': 1, 'rhode': 1, 'tennesse': 1, 'texa': 1, 'utah': 1, 'virgin': 1, 'vermont': 1, 'washington': 1, 'wisconsin': 1, 'west': 1, 'wyom': 1, 'alberta': 1, 'british': 1, 'columbia': 1, 'manitoba': 1, 'brunswick': 1, 'newfoundland': 1, 'northwest': 1, 'nova': 1, 'scotia': 1, 'ontario': 1, 'princ': 1, 'edward': 1, 'quebec': 1, 'saskatchewan': 1, 'yukon': 1, 'wale': 1, 'queensland': 1, 'tasmania': 1, 'victoria': 1, 'western': 1, 'afghanistan': 1, 'albania': 1, 'algeria': 1, 'andorra': 1, 'angola': 1, 'antigua': 1, 'argentina': 1, 'armenia': 1, 'aruba': 1, 'austria': 1, 'azerbaidjan': 1, 'bahama': 1, 'bahrain': 1, 'bangladesh': 1, 'barbado': 1, 'belgium': 1, 'beliz': 1, 'benin': 1, 'bermuda': 1, 'bhutan': 1, 'bolivia': 1, 'bosnia': 1, 'botswana': 1, 'brazil': 1, 'brunei': 1, 'bulgaria': 1, 'burkina': 1, 'faso': 1, 'burma': 1, 'burundi': 1, 'cambodia': 1, 'cameroon': 1, 'canada': 1, 'cape': 1, 'verd': 1, 'central': 1, 'afr': 1, 'rep': 1, 'chad': 1, 'chile': 1, 'china': 1, 'colombia': 1, 'comoro': 1, 'zair': 1, 'costa': 1, 'rica': 1, 'croatia': 1, 'cuba': 1, 'cypru': 1, 'czech': 1, 'denmark': 1, 'djibouti': 1, 'dominica': 1, 'dom': 1, 'ecuador': 1, 'egypt': 1, 'el': 1, 'salvador': 1, 'equatori': 1, 'eritrea': 1, 'estonia': 1, 'ethiopia': 1, 'fiji': 1, 'finland': 1, 'franc': 1, 'gabon': 1, 'gambia': 1, 'germani': 1, 'ghana': 1, 'gibraltar': 1, 'greec': 1, 'guatemala': 1, 'bissau': 1, 'guyana': 1, 'haiti': 1, 'hondura': 1, 'hong': 1, 'kong': 1, 'hungari': 1, 'iceland': 1, 'india': 1, 'indonesia': 1, 'iran': 1, 'iraq': 1, 'ireland': 1, 'israel': 1, 'itali': 1, 'ivori': 1, 'coast': 1, 'jamaica': 1, 'japan': 1, 'jordan': 1, 'kazakhstan': 1, 'kenya': 1, 'kuwait': 1, 'lao': 1, 'latvia': 1, 'lebanon': 1, 'liberia': 1, 'libya': 1, 'liechtenstein': 1, 'lithuania': 1, 'luxembourg': 1, 'macau': 1, 'macedonia': 1, 'madagascar': 1, 'malawi': 1, 'malaysia': 1, 'maldiv': 1, 'mali': 1, 'malta': 1, 'mauritania': 1, 'mauritiu': 1, 'moldova': 1, 'monaco': 1, 'mongolia': 1, 'morocco': 1, 'mozambiqu': 1, 'namibia': 1, 'nepal': 1, 'netherland': 1, 'zealand': 1, 'nicaragua': 1, 'niger': 1, 'nigeria': 1, 'norway': 1, 'oman': 1, 'pakistan': 1, 'panama': 1, 'paraguay': 1, 'peru': 1, 'philippin': 1, 'poland': 1, 'portug': 1, 'qatar': 1, 'romania': 1, 'russia': 1, 'rwanda': 1, 'san': 1, 'marino': 1, 'saudi': 1, 'arabia': 1, 'seneg': 1, 'sierra': 1, 'leon': 1, 'singapor': 1, 'slovakia': 1, 'slovenia': 1, 'somalia': 1, 'africa': 1, 'spain': 1, 'sri': 1, 'lanka': 1, 'sudan': 1, 'sweden': 1, 'switzerland': 1, 'syria': 1, 'taiwan': 1, 'tanzania': 1, 'thailand': 1, 'togo': 1, 'trinidad': 1, 'tunisia': 1, 'turkey': 1, 'turkmenistan': 1, 'uganda': 1, 'ukrain': 1, 'u': 1, 'e': 1, 'kingdom': 1, 'uruguay': 1, 'venezuela': 1, 'vietnam': 1, 'yemen': 1, 'yugoslavia': 1, 'zambia': 1, 'zimbabw': 1, 'receiv': 1, 'email': 1, 'becaus': 1, 'subscrib': 1, 'through': 1, 'one': 1, 'of': 1, 'market': 1, 'partner': 1, 'learn': 1, 'more': 1, 'about': 1, 'then': 1, 'visit': 1, 'websit': 1, 'messag': 1, 'wa': 1, 'sent': 1, 'in': 1, 'error': 1, 'unsubscrib': 1, 'click': 1, 'here': 1, 'cut': 1, 'and': 1, 'past': 1, 'follow': 1, 'link': 1, 'into': 1, 'web': 1, 'browser': 1}),\n",
       "       Counter({'the': 58, 'cd': 24, 'a': 23, 'play': 15, 'button': 15, 'to': 14, 'and': 13, 'tatum': 12, 'player': 12, 'of': 9, 'number': 8, 'music': 8, 'she': 8, 'be': 8, 't': 8, 'press': 8, 'it': 8, 'would': 8, 'is': 7, 'for': 7, 'get': 6, 'that': 6, 'toddler': 6, 'like': 5, 'thi': 5, 'put': 5, 'from': 5, 'in': 5, 'but': 5, 'time': 5, 'them': 5, 'understand': 5, 'doesn': 4, 'sinc': 4, 'as': 4, 'no': 4, 'on': 4, 'out': 4, 'load': 4, 'also': 3, 'have': 3, 'control': 3, 'into': 3, 'you': 3, 'ui': 3, 'feedback': 3, 'wa': 3, 'start': 3, 'onli': 3, 'back': 3, 'door': 3, 'ha': 3, 'fm': 3, 'other': 3, 'color': 3, 'so': 2, 'mani': 2, 'month': 2, 'by': 2, 'watch': 2, 'use': 2, 'there': 2, 'paus': 2, 'singl': 2, 'second': 2, 'disast': 2, 'away': 2, 'again': 2, 'an': 2, 'eventu': 2, 'hit': 2, 'immedi': 2, 'half': 2, 'multipl': 2, 'well': 2, 'elev': 2, 'come': 2, 'need': 2, 'hing': 2, 'take': 2, 'problem': 2, 'edg': 2, 's': 2, 'hasn': 2, 'area': 2, 'radio': 2, 'distinct': 2, 'at': 2, 'least': 2, 'differ': 2, 'should': 2, 'young': 1, 'children': 1, 'my': 1, 'daughter': 1, 'age': 1, 'realli': 1, 'over': 1, 'her': 1, 'environ': 1, 'mean': 1, 'want': 1, 'one': 1, 'i': 1, 've': 1, 'discov': 1, 'can': 1, 'learn': 1, 'lot': 1, 'about': 1, 'design': 1, 'old': 1, 'technolog': 1, 'definit': 1, 'market': 1, 'nich': 1, 'friendli': 1, 'mpnumber': 1, 'we': 1, 'combin': 1, 'provid': 1, 'instantan': 1, 'push': 1, 'instead': 1, 'requir': 1, 'wait': 1, 'until': 1, 'right': 1, 'therebi': 1, 'befor': 1, 'even': 1, 'll': 1, 'ever': 1, 'if': 1, 'odd': 1, 'happen': 1, 'surpris': 1, 'amount': 1, 'when': 1, 'must': 1, 'caus': 1, 'within': 1, 'causal': 1, 'not': 1, 'shouldn': 1, 'chang': 1, 'semant': 1, 'matter': 1, 'how': 1, 'still': 1, 'floor': 1, 'same': 1, 'mechan': 1, 'feed': 1, 'angl': 1, 'isn': 1, 'much': 1, 'grab': 1, 'first': 1, 'lid': 1, 'forc': 1, 'wiggl': 1, 'process': 1, 'hard': 1, 'which': 1, 'yet': 1, 'result': 1, 'broken': 1, 'surprisingli': 1, 'been': 1, 'hole': 1, 'onto': 1, 'spindl': 1, 'seem': 1, 'concept': 1, 'geometri': 1, 'natur': 1, 'guid': 1, 'tape': 1, 'mistak': 1, 'flick': 1, 'switch': 1, 'specif': 1, 'mode': 1, 'sometim': 1, 'advanc': 1, 'song': 1, 'errat': 1, 'featur': 1, 'both': 1, 'mono': 1, 'stero': 1, 'total': 1, 'lost': 1, 'binari': 1, 'what': 1, 'ideal': 1, 'after': 1, 'soon': 1, 'close': 1, 'give': 1, 'some': 1, 'audibl': 1, 'larg': 1, 'typic': 1, 'larger': 1, 'than': 1, 'normal': 1, 'size': 1, 'locat': 1, 'far': 1, 'chanc': 1, 'accident': 1, 'way': 1, 'bright': 1, 'key': 1, 'devic': 1, 'function': 1, 'flip': 1, 'open': 1, 'degre': 1, 'small': 1, 'approach': 1, 'possibl': 1, 'repeatedli': 1, 'drop': 1, 'height': 1, 'without': 1, 'affect': 1, 'jim': 1}),\n",
       "       Counter({'with': 3, 'i': 2, 'x': 2, 'spam': 2, 'header': 2, 'prefix': 2, 'that': 2, 'of': 2, 'version': 2, 'be': 2, 'the': 2, 'actual': 1, 'like': 1, 'neal': 1, 's': 1, 'disposit': 1, 'just': 1, 'wonder': 1, 'if': 1, 'mayb': 1, 'we': 1, 'should': 1, 'choos': 1, 'someth': 1, 'a': 1, 'differ': 1, 'than': 1, 'so': 1, 'peopl': 1, 'don': 1, 't': 1, 'confus': 1, 'it': 1, 'spamassassin': 1, 'all': 1, 'whose': 1, 'begin': 1, 'also': 1, 'some': 1, 'sort': 1, 'inform': 1, 'would': 1, 'use': 1, 'perhap': 1, 'cv': 1, 'number': 1, 'for': 1, 'classifi': 1, 'modul': 1, 'could': 1, 'tack': 1, 'on': 1, 'skip': 1}),\n",
       "       Counter({'the': 8, 'a': 7, 'number': 4, 'boat': 4, 'wa': 4, 'by': 3, 'whale': 3, 'and': 3, 'tibb': 3, 'guck': 2, 'port': 2, 'san': 2, 'lui': 2, 'california': 2, 'which': 2, 'into': 2, 'of': 2, 'fish': 2, 'aboard': 2, 'hi': 2, 'when': 2, 'hit': 2, 'three': 2, 'coast': 2, 'guard': 2, 'accid': 2, 'said': 2, 'forward': 1, 'sven': 1, 'math': 1, 'fu': 1, 'berlin': 1, 'de': 1, 'url': 1, 'septemb': 1, 'suddenli': 1, 'breach': 1, 'crash': 1, 'bow': 1, 'kill': 1, 'restaur': 1, 'owner': 1, 'on': 1, 'board': 1, 'jerri': 1, 'bakersfield': 1, 'bbq': 1, 'toss': 1, 'him': 1, 'sea': 1, 'five': 1, 'mile': 1, 'off': 1, 'other': 1, 'fishermen': 1, 'stay': 1, 'damag': 1, 'tow': 1, 'to': 1, 'shore': 1, 'us': 1, 'friend': 1, 'were': 1, 'just': 1, 'end': 1, 'day': 1, 'for': 1, 'albacor': 1, 'occur': 1, 'author': 1, 'bodi': 1, 'found': 1, 'after': 1, 'search': 1, 'last': 1, 'more': 1, 'than': 1, 'hour': 1, 'offici': 1, 'it': 1, 'first': 1, 'time': 1, 'they': 1, 'could': 1, 'recal': 1, 'an': 1, 'caus': 1}),\n",
       "       Counter({'i': 7, 'and': 6, 'to': 5, 'my': 4, 'linux': 3, 'am': 2, 'love': 2, 'have': 2, 'like': 2, 'm': 2, 'on': 2, 'webcam': 2, 'me': 2, 'for': 2, 'url': 2, 'social': 2, 'ie': 2, 'hello': 1, 'name': 1, 'is': 1, 'kelli': 1, 'an': 1, 'number': 1, 'year': 1, 'old': 1, 'swim': 1, 'instructor': 1, 'from': 1, 'longbeach': 1, 'intellig': 1, 'sexi': 1, 'discreet': 1, 'laugh': 1, 'fun': 1, 'most': 1, 'young': 1, 'girl': 1, 'go': 1, 'out': 1, 'with': 1, 'friend': 1, 'danc': 1, 'all': 1, 'night': 1, 'when': 1, 'home': 1, 'noth': 1, 'do': 1, 'chat': 1, 'be': 1, 'naughti': 1, 'n': 1, 'nake': 1, 'get': 1, 'a': 1, 'chanc': 1, 'catch': 1, 'live': 1, 'wait': 1, 'you': 1, 'click': 1, 'access': 1, 'instantli': 1, 'hunni': 1, 'later': 1, 'babi': 1, 'mmwa': 1, 'ewidvtdksrvaptnjsvsgeqcpafu': 1, 'irish': 1, 'user': 1, 'group': 1, 'event': 1, 'un': 1, 'subscript': 1, 'inform': 1, 'list': 1, 'maintain': 1, 'listmast': 1}),\n",
       "       Counter({'number': 9, 'of': 5, 'to': 5, 'a': 4, 'system': 4, 'is': 3, 'still': 3, 'we': 3, 'url': 2, 'cyberspac': 2, 'entertain': 2, 'onli': 2, 'use': 2, 'the': 2, 'it': 2, 'cours': 2, 'but': 2, 'at': 2, 'percent': 2, 'than': 2, 'date': 1, 'numbertnumb': 1, 'secur': 1, 'in': 1, 'differ': 1, 'kettl': 1, 'fish': 1, 'compar': 1, 'mani': 1, 'comput': 1, 'ha': 1, 'be': 1, 'major': 1, 'user': 1, 'that': 1, 'mean': 1, 'can': 1, 'toler': 1, 'small': 1, 'amount': 1, 'vandal': 1, 'remain': 1, 'thi': 1, 'quit': 1, 'unlik': 1, 'requir': 1, 'for': 1, 'commerc': 1, 'have': 1, 'headach': 1, 'least': 1, 'need': 1, 'keep': 1, 'around': 1, 'clean': 1, 'rather': 1, 'll': 1, 'strive': 1, 'stamp': 1, 'out': 1, 'corrupt': 1, 'our': 1, 'failur': 1, 'threshold': 1, 'more': 1, 'achiev': 1, 'one': 1, 'might': 1, 'first': 1, 'assum': 1}),\n",
       "       Counter({'the': 14, 'com': 11, 'to': 11, 'of': 9, 'list': 9, 'for': 9, 'url': 8, 'number': 8, 'dgcchat': 7, 'neudist': 6, 'goldmoney': 6, 'and': 6, 'releas': 5, 'framework': 5, 'document': 5, 'it': 5, 'object': 5, 'authent': 5, 'name': 4, 'public': 3, 'pell': 3, 'digit': 3, 'xml': 3, 'i': 3, 'is': 3, 'an': 3, 'applic': 3, 'contain': 3, 'be': 3, 'about': 3, 'a': 3, 'with': 3, 'in': 3, 'current': 3, 'will': 3, 'next': 3, 'use': 3, 'signatur': 3, 'simpl': 3, 'implement': 3, 'not': 3, 'base': 3, 'on': 3, 'namespac': 3, 'web': 3, 'sign': 3, 'servic': 3, 'end': 3, 'join': 3, 'send': 3, 'email': 3, 'forward': 2, 'text': 2, 'first': 2, 'distribut': 2, 'clear': 2, 'from': 2, 'neubia': 2, 'bearer': 2, 'api': 2, 'softwar': 2, 'thi': 2, 'earli': 2, 'java': 2, 'would': 2, 'develop': 2, 'experi': 2, 'are': 2, 'but': 2, 'soap': 2, 'request': 2, 'level': 2, 'user': 2, 'exampl': 2, 'more': 2, 'at': 2, 'discuss': 2, 'blank': 2, 'digest': 2, 'irregular': 2, 'begin': 1, 'subject': 1, 'transact': 1, 'braendgaard': 1, 'cc': 1, 'settlement': 1, 'db': 1, 'philodox': 1, 'xmlx': 1, 'intertrad': 1, 'date': 1, 'sep': 1, 'repli': 1, 'm': 1, 'happi': 1, 'announc': 1, 'open': 1, 'sourc': 1, 'build': 1, 'platform': 1, 'librari': 1, 'that': 1, 'primarili': 1, 'interest': 1, 'talk': 1, 'still': 1, 'bit': 1, 'slim': 1, 'mainli': 1, 'orient': 1, 'toward': 1, 'peopl': 1, 'there': 1, 'no': 1, 'sampl': 1, 'they': 1, 'avail': 1, 'follow': 1, 'class': 1, 'creat': 1, 'which': 1, 'within': 1, 'hierarchi': 1, 'storag': 1, 'almost': 1, 'certainli': 1, 'yet': 1, 'interoper': 1, 'other': 1, 'client': 1, 'servlet': 1, 'handl': 1, 'type': 1, 'includ': 1, 'maintain': 1, 'authenticationticket': 1, 'do': 1, 'site': 1, 'major': 1, 'schedul': 1, 'core': 1, 'hard': 1, 'code': 1, 'root': 1, 'key': 1, 'top': 1, 'host': 1, 'payment': 1, 'system': 1, 'expand': 1, 'over': 1, 'few': 1, 'week': 1, 'cover': 1, 'onli': 1, 'indepth': 1, 'technic': 1, 'also': 1, 'higher': 1, 'busi': 1, 'side': 1, 'thing': 1, 'read': 1, 'or': 1, 'download': 1, 'our': 1, 'version': 1, 'love': 1, 'hear': 1, 'your': 1, 'question': 1, 'suggest': 1, 'further': 1, 'pleas': 1, 'sourceforg': 1, 'net': 1, 'you': 1, 'can': 1, 'regard': 1, 'antil': 1, 'ventur': 1, 'sa': 1, 'my': 1, 'log': 1, 'live': 1, 'direct': 1, 'panama': 1, 'view': 1, 'econofist': 1, 'subscrib': 1, 'unsubscrib': 1, 'leav': 1, 'set': 1, 'yournam': 1, 'yourdomain': 1, 'messag': 1, 'bodi': 1, 'r': 1, 'hettinga': 1, 'mailto': 1, 'rah': 1, 'ibuc': 1, 'internet': 1, 'underwrit': 1, 'corpor': 1, 'farquhar': 1, 'street': 1, 'boston': 1, 'ma': 1, 'usa': 1, 'howev': 1, 'may': 1, 'deserv': 1, 'respect': 1, 'antiqu': 1, 'predict': 1, 'world': 1, 'ha': 1, 'been': 1, 'found': 1, 'agreeabl': 1, 'edward': 1, 'gibbon': 1, 'declin': 1, 'fall': 1, 'roman': 1, 'empir': 1, '_______________________________________________': 1, 'mail': 1, 'tb': 1, 'tf': 1}),\n",
       "       Counter({'number': 5, 'i': 3, 'the': 3, 'list': 3, 'at': 2, 'll': 2, 'url': 2, 'rpm': 2, 'on': 1, 'mon': 1, 'matthia': 1, 'saou': 1, 'wrote': 1, 'guess': 1, 'settl': 1, 'for': 1, 'dev': 1, 'dvd': 1, 'link': 1, 'chang': 1, 'as': 1, 'describ': 1, 'and': 1, 'put': 1, 'dma': 1, 'tip': 1, 'in': 1, 'descript': 1, 'thank': 1, 'sleep': 1, 'better': 1, 'now': 1, 'ill': 1, 'skyttä': 1, 'vill': 1, 'skytta': 1, '_______________________________________________': 1, 'mail': 1, 'freshrpm': 1, 'net': 1}),\n",
       "       Counter({'a': 14, 'the': 11, 'to': 11, 'it': 10, 'that': 10, 'and': 7, 'server': 7, 'you': 7, 'pop': 5, 'is': 5, 'be': 4, 'your': 4, 'about': 3, 'individu': 3, 'mail': 3, 'by': 3, 'spam': 3, 't': 3, 'i': 2, 'd': 2, 'like': 2, 'postmast': 2, 'answer': 2, 'configur': 2, 'train': 2, 'fals': 2, 'as': 2, 'filter': 2, 'more': 2, 'of': 2, 'can': 2, 'thi': 2, 'idea': 2, 'program': 2, 'then': 2, 'connect': 2, 'onli': 2, 'send': 2, 'ham': 2, 'don': 2, 'with': 2, 'messag': 2, 'or': 2, 'have': 2, 'load': 2, 'pickl': 2, 'each': 2, 'how': 2, 'mayb': 2, 'quit': 1, 'independ': 1, 'from': 1, 'test': 1, 'tune': 1, 'algorithm': 1, 'think': 1, 'deploy': 1, 'eventu': 1, 'should': 1, 'abl': 1, 'download': 1, 'spambay': 1, 'softwar': 1, 'distribut': 1, 'few': 1, 'question': 1, 'their': 1, 'setup': 1, 'posit': 1, 'instal': 1, 'modest': 1, 'initi': 1, 'goal': 1, 'might': 1, 'product': 1, 'tool': 1, 'easili': 1, 'use': 1, 'sinc': 1, 'we': 1, 're': 1, 'find': 1, 'will': 1, 'risk': 1, 'than': 1, 'there': 1, 'are': 1, 'mani': 1, 'way': 1, 'do': 1, 'some': 1, 'act': 1, 'both': 1, 'client': 1, 'tell': 1, 'real': 1, 'point': 1, 'reader': 1, 'at': 1, 'localhost': 1, 'when': 1, 'receiv': 1, 'remot': 1, 'read': 1, 'give': 1, 'non': 1, 'need': 1, 'neg': 1, 'somehow': 1, 'assum': 1, 'anyth': 1, 'say': 1, 'within': 1, 'number': 1, 'hour': 1, 'custom': 1, 'protocol': 1, 'copi': 1, 'littl': 1, 'invok': 1, 'e': 1, 'g': 1, 'procmail': 1, 'talk': 1, 'exist': 1, 'so': 1, 'doesn': 1, 'score': 1, 'databas': 1, 'for': 1, 'know': 1, 'big': 1, 'would': 1, 'time': 1, 'fine': 1, 'marshal': 1, 'here': 1, 'taker': 1, 'esr': 1, 's': 1, 'bogofilt': 1, 'packag': 1, 'spamassassin': 1, 'perl': 1, 'bay': 1, 'advertis': 1, 'on': 1, 'slashdot': 1, 'guido': 1, 'van': 1, 'rossum': 1, 'home': 1, 'page': 1, 'url': 1}),\n",
       "       Counter({'number': 5, 'who': 2, 'the': 2, 'origin': 2, 'version': 2, 'much': 2, 'on': 1, 'sep': 1, 'at': 1, 'geeg': 1, 'schuman': 1, 'wrote': 1, 'watch': 1, 'lath': 1, 'of': 1, 'heaven': 1, 'a': 1, 'e': 1, 'pm': 1, 'edt': 1, 'ha': 1, 'seen': 1, 'by': 1, 'if': 1, 'you': 1, 'are': 1, 'refer': 1, 'to': 1, 'old': 1, 'pb': 1, 'i': 1, 'like': 1, 'that': 1, 'better': 1, 'more': 1, 'thought': 1, 'provok': 1})],\n",
       "      dtype=object)"
      ]
     },
     "execution_count": 129,
     "metadata": {},
     "output_type": "execute_result"
    }
   ],
   "source": [
    "X_few = X_train[:30]\n",
    "X_few_wordcounts = EmailToWordCounterTransformer().fit_transform(X_few)\n",
    "X_few_wordcounts"
   ]
  },
  {
   "cell_type": "code",
   "execution_count": 182,
   "metadata": {},
   "outputs": [
    {
     "name": "stdout",
     "output_type": "stream",
     "text": [
      "0 => Counter({'chuck': 1, 'murcko': 1, 'wrote': 1, 'stuff': 1, 'yawn': 1, 'r': 1})\n"
     ]
    },
    {
     "ename": "TypeError",
     "evalue": "'NoneType' object is not subscriptable",
     "output_type": "error",
     "traceback": [
      "\u001b[1;31m---------------------------------------------------------------------------\u001b[0m",
      "\u001b[1;31mTypeError\u001b[0m                                 Traceback (most recent call last)",
      "\u001b[1;32m<ipython-input-182-1ecc256736fc>\u001b[0m in \u001b[0;36m<module>\u001b[1;34m\u001b[0m\n\u001b[1;32m----> 1\u001b[1;33m \u001b[1;33m[\u001b[0m\u001b[0mprint\u001b[0m\u001b[1;33m(\u001b[0m\u001b[0mrow\u001b[0m\u001b[1;33m,\u001b[0m \u001b[1;34m\"=>\"\u001b[0m\u001b[1;33m,\u001b[0m \u001b[0mword_count\u001b[0m\u001b[1;33m)\u001b[0m\u001b[1;33m[\u001b[0m\u001b[1;33m:\u001b[0m\u001b[1;36m100\u001b[0m\u001b[1;33m]\u001b[0m \u001b[1;32mfor\u001b[0m \u001b[0mrow\u001b[0m\u001b[1;33m,\u001b[0m \u001b[1;33m(\u001b[0m\u001b[0mword_count\u001b[0m\u001b[1;33m)\u001b[0m \u001b[1;32min\u001b[0m \u001b[0menumerate\u001b[0m\u001b[1;33m(\u001b[0m\u001b[0mX_few_wordcounts\u001b[0m\u001b[1;33m)\u001b[0m\u001b[1;33m]\u001b[0m\u001b[1;33m\u001b[0m\u001b[1;33m\u001b[0m\u001b[0m\n\u001b[0m",
      "\u001b[1;32m<ipython-input-182-1ecc256736fc>\u001b[0m in \u001b[0;36m<listcomp>\u001b[1;34m(.0)\u001b[0m\n\u001b[1;32m----> 1\u001b[1;33m \u001b[1;33m[\u001b[0m\u001b[0mprint\u001b[0m\u001b[1;33m(\u001b[0m\u001b[0mrow\u001b[0m\u001b[1;33m,\u001b[0m \u001b[1;34m\"=>\"\u001b[0m\u001b[1;33m,\u001b[0m \u001b[0mword_count\u001b[0m\u001b[1;33m)\u001b[0m\u001b[1;33m[\u001b[0m\u001b[1;33m:\u001b[0m\u001b[1;36m100\u001b[0m\u001b[1;33m]\u001b[0m \u001b[1;32mfor\u001b[0m \u001b[0mrow\u001b[0m\u001b[1;33m,\u001b[0m \u001b[1;33m(\u001b[0m\u001b[0mword_count\u001b[0m\u001b[1;33m)\u001b[0m \u001b[1;32min\u001b[0m \u001b[0menumerate\u001b[0m\u001b[1;33m(\u001b[0m\u001b[0mX_few_wordcounts\u001b[0m\u001b[1;33m)\u001b[0m\u001b[1;33m]\u001b[0m\u001b[1;33m\u001b[0m\u001b[1;33m\u001b[0m\u001b[0m\n\u001b[0m",
      "\u001b[1;31mTypeError\u001b[0m: 'NoneType' object is not subscriptable"
     ]
    }
   ],
   "source": [
    "[print(row, \"=>\", word_count) for row, (word_count) in enumerate(X_few_wordcounts)]"
   ]
  },
  {
   "cell_type": "code",
   "execution_count": 171,
   "metadata": {},
   "outputs": [],
   "source": [
    "from scipy.sparse import csr_matrix\n",
    "\n",
    "class WordCounterToVectorTransformer(BaseEstimator, TransformerMixin):\n",
    "    def __init__(self, vocabulary_size=1000):\n",
    "        self.vocabulary_size = vocabulary_size\n",
    "    def fit(self, X, y=None):\n",
    "        total_count = Counter()\n",
    "        for word_count in X:\n",
    "            for word, count in word_count.items():\n",
    "                if len(word) > 1:\n",
    "                    total_count[word] += min(count, 10)\n",
    "        most_common = total_count.most_common()[:self.vocabulary_size]\n",
    "        self.most_common_ = most_common\n",
    "        self.vocabulary_ = {word: index + 1 for index, (word, count) in enumerate(most_common)}\n",
    "        return self\n",
    "    def transform(self, X, y=None):\n",
    "        rows = []\n",
    "        cols = []\n",
    "        data = []\n",
    "        for row, word_count in enumerate(X):\n",
    "            for word, count in word_count.items():\n",
    "                rows.append(row)\n",
    "                cols.append(self.vocabulary_.get(word, 0))\n",
    "                data.append(count)\n",
    "        return csr_matrix((data, (rows, cols)), shape=(len(X), self.vocabulary_size + 1))"
   ]
  },
  {
   "cell_type": "code",
   "execution_count": 172,
   "metadata": {},
   "outputs": [
    {
     "data": {
      "text/plain": [
       "WordCounterToVectorTransformer(vocabulary_size=10)"
      ]
     },
     "execution_count": 172,
     "metadata": {},
     "output_type": "execute_result"
    }
   ],
   "source": [
    "vocab_transformer = WordCounterToVectorTransformer(vocabulary_size=10)\n",
    "vocab_transformer.fit(X_few_wordcounts)"
   ]
  },
  {
   "cell_type": "code",
   "execution_count": 173,
   "metadata": {},
   "outputs": [
    {
     "data": {
      "text/plain": [
       "[('the', 141),\n",
       " ('to', 137),\n",
       " ('number', 113),\n",
       " ('and', 90),\n",
       " ('of', 81),\n",
       " ('it', 81),\n",
       " ('is', 57),\n",
       " ('url', 55),\n",
       " ('that', 55),\n",
       " ('thi', 52)]"
      ]
     },
     "execution_count": 173,
     "metadata": {},
     "output_type": "execute_result"
    }
   ],
   "source": [
    "vocab_transformer.most_common_"
   ]
  },
  {
   "cell_type": "code",
   "execution_count": 174,
   "metadata": {},
   "outputs": [
    {
     "data": {
      "text/plain": [
       "{'the': 1,\n",
       " 'to': 2,\n",
       " 'number': 3,\n",
       " 'and': 4,\n",
       " 'of': 5,\n",
       " 'it': 6,\n",
       " 'is': 7,\n",
       " 'url': 8,\n",
       " 'that': 9,\n",
       " 'thi': 10}"
      ]
     },
     "execution_count": 174,
     "metadata": {},
     "output_type": "execute_result"
    }
   ],
   "source": [
    "vocab_transformer.vocabulary_"
   ]
  },
  {
   "cell_type": "code",
   "execution_count": 175,
   "metadata": {},
   "outputs": [
    {
     "data": {
      "text/plain": [
       "matrix([[  6,   0,   0,   0,   0,   0,   0,   0,   0,   0,   0],\n",
       "        [109,  11,   3,   0,   8,   9,   0,   0,   1,   1,   1],\n",
       "        [ 66,   0,   3,   1,   2,   1,   0,   2,   4,   1,   1],\n",
       "        [ 50,   1,   6,   0,   1,   1,   2,   1,   2,   0,   0],\n",
       "        [100,   6,   2,   4,   2,   1,   1,   1,   1,   0,   0],\n",
       "        [176,   5,   2,  11,   1,   3,   2,   4,   6,   2,   6],\n",
       "        [181,   4,   7,   2,   4,   3,   2,   3,   3,   2,   1],\n",
       "        [168,   5,   6,   0,   1,   0,   3,   1,   2,   4,   4],\n",
       "        [ 40,   0,   0,   0,   0,   0,   0,   0,   2,   0,   0],\n",
       "        [ 41,   1,   0,   8,   0,   0,   1,   0,   2,   0,   0],\n",
       "        [128,   4,   7,   2,   0,   3,   1,   1,   0,   0,   2],\n",
       "        [264,  16,   6,   6,   8,   5,   2,   3,   0,   8,   2],\n",
       "        [105,   2,   4,   1,   3,   0,   2,   1,   0,   1,   0],\n",
       "        [195,   9,   6,  29,   3,   1,   3,   4,   0,   5,   0],\n",
       "        [678,   4,   7,  97,   2,  17,   6,   5,   3,   1,  18],\n",
       "        [150,   4,   6,   2,   6,   4,   0,   1,   1,   1,   2],\n",
       "        [ 81,   3,   2,   0,   0,   1,   2,   1,   3,   1,   3],\n",
       "        [171,   6,   6,   6,   5,   1,  11,   1,   3,   2,   2],\n",
       "        [350,  23,  10,   4,   7,   5,  13,   7,   1,   2,   3],\n",
       "        [146,   8,   9,   5,   3,   2,   7,   2,   2,   3,   3],\n",
       "        [360,   2,   3,   0,   1,   1,   0,   0,   3,   0,   2],\n",
       "        [495,  58,  14,   8,  13,   9,   8,   7,   0,   6,   5],\n",
       "        [ 57,   2,   0,   1,   0,   2,   1,   0,   0,   2,   0],\n",
       "        [115,   8,   1,   4,   3,   2,   1,   0,   1,   0,   0],\n",
       "        [ 95,   0,   5,   1,   6,   0,   0,   1,   2,   0,   0],\n",
       "        [ 80,   2,   5,   9,   0,   5,   2,   3,   2,   1,   1],\n",
       "        [376,  14,  11,   8,   6,   9,   5,   3,   8,   1,   2],\n",
       "        [ 43,   3,   0,   5,   1,   0,   0,   0,   2,   0,   0],\n",
       "        [220,  11,  11,   1,   7,   2,  10,   5,   1,  10,   2],\n",
       "        [ 36,   2,   1,   5,   0,   1,   0,   0,   0,   1,   0]],\n",
       "       dtype=int32)"
      ]
     },
     "execution_count": 175,
     "metadata": {},
     "output_type": "execute_result"
    }
   ],
   "source": [
    "vocab_transformer.transform(X_few_wordcounts).todense()"
   ]
  },
  {
   "cell_type": "code",
   "execution_count": 176,
   "metadata": {},
   "outputs": [
    {
     "data": {
      "text/plain": [
       "8"
      ]
     },
     "execution_count": 176,
     "metadata": {},
     "output_type": "execute_result"
    }
   ],
   "source": [
    "vocab_transformer.vocabulary_.get('url', 0)"
   ]
  },
  {
   "cell_type": "code",
   "execution_count": 177,
   "metadata": {},
   "outputs": [],
   "source": [
    "from sklearn.pipeline import Pipeline\n",
    "\n",
    "preprocess_pipeline = Pipeline([\n",
    "    (\"email_to_wordcount\", EmailToWordCounterTransformer()),\n",
    "    (\"wordcount_to_vector\", WordCounterToVectorTransformer())\n",
    "])\n",
    "X_train_transformed = preprocess_pipeline.fit_transform(X_train)"
   ]
  },
  {
   "cell_type": "code",
   "execution_count": 178,
   "metadata": {},
   "outputs": [
    {
     "name": "stderr",
     "output_type": "stream",
     "text": [
      "[Parallel(n_jobs=1)]: Using backend SequentialBackend with 1 concurrent workers.\n",
      "[Parallel(n_jobs=1)]: Done   1 out of   1 | elapsed:    0.1s remaining:    0.0s\n"
     ]
    },
    {
     "name": "stdout",
     "output_type": "stream",
     "text": [
      "[CV]  ................................................................\n",
      "[CV] .................................... , score=0.983, total=   0.1s\n",
      "[CV]  ................................................................\n"
     ]
    },
    {
     "name": "stderr",
     "output_type": "stream",
     "text": [
      "C:\\Users\\ikuchin\\AppData\\Local\\Continuum\\miniconda3\\envs\\nnseries\\lib\\site-packages\\sklearn\\svm\\base.py:929: ConvergenceWarning: Liblinear failed to converge, increase the number of iterations.\n",
      "  \"the number of iterations.\", ConvergenceWarning)\n",
      "[Parallel(n_jobs=1)]: Done   2 out of   2 | elapsed:    0.4s remaining:    0.0s\n"
     ]
    },
    {
     "name": "stdout",
     "output_type": "stream",
     "text": [
      "[CV] .................................... , score=0.990, total=   0.4s\n",
      "[CV]  ................................................................\n",
      "[CV] .................................... , score=0.985, total=   0.1s\n",
      "[CV]  ................................................................\n",
      "[CV] .................................... , score=0.990, total=   0.4s\n",
      "[CV]  ................................................................\n",
      "[CV] .................................... , score=0.994, total=   0.5s\n",
      "[0.98333333 0.98958333 0.98541667 0.98958333 0.99375   ]\n",
      "0.9883333333333335\n"
     ]
    },
    {
     "name": "stderr",
     "output_type": "stream",
     "text": [
      "[Parallel(n_jobs=1)]: Done   5 out of   5 | elapsed:    1.4s finished\n"
     ]
    }
   ],
   "source": [
    "from sklearn.linear_model import LogisticRegression\n",
    "from sklearn.model_selection import cross_val_score\n",
    "\n",
    "log_clf = LogisticRegression(solver=\"liblinear\", random_state=42)\n",
    "score = cross_val_score(log_clf, X_train_transformed, y_train, cv=5, verbose=3)\n",
    "print(score)\n",
    "print(score.mean())"
   ]
  },
  {
   "cell_type": "code",
   "execution_count": 179,
   "metadata": {},
   "outputs": [],
   "source": [
    "from sklearn.metrics import f1_score, recall_score, precision_score\n",
    "\n",
    "X_test_transformed = preprocess_pipeline.transform(X_test)\n",
    "\n",
    "log_clf.fit(X_train_transformed, y_train)\n",
    "y_pred = log_clf.predict(X_test_transformed)\n"
   ]
  },
  {
   "cell_type": "code",
   "execution_count": 180,
   "metadata": {},
   "outputs": [
    {
     "name": "stdout",
     "output_type": "stream",
     "text": [
      "recall_score: 97.89474%\n",
      "precision_score:  98.93617%\n",
      "f1:  98.41270%\n"
     ]
    }
   ],
   "source": [
    "print(\"recall_score: {:.5f}%\".format(recall_score(y_test, y_pred) * 100))\n",
    "print(\"precision_score:  {:.5f}%\".format(precision_score(y_test, y_pred) * 100))\n",
    "print(\"f1:  {:.5f}%\".format(f1_score(y_test, y_pred) * 100))\n",
    "\n"
   ]
  },
  {
   "cell_type": "code",
   "execution_count": null,
   "metadata": {},
   "outputs": [],
   "source": []
  }
 ],
 "metadata": {
  "kernelspec": {
   "display_name": "Python 3",
   "language": "python",
   "name": "python3"
  },
  "language_info": {
   "codemirror_mode": {
    "name": "ipython",
    "version": 3
   },
   "file_extension": ".py",
   "mimetype": "text/x-python",
   "name": "python",
   "nbconvert_exporter": "python",
   "pygments_lexer": "ipython3",
   "version": "3.7.3"
  }
 },
 "nbformat": 4,
 "nbformat_minor": 2
}
