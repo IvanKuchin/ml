{
 "cells": [
  {
   "cell_type": "code",
   "execution_count": 1,
   "metadata": {},
   "outputs": [],
   "source": [
    "import numpy as np\n",
    "import pandas as pd\n",
    "\n",
    "import tensorflow as tf\n",
    "import matplotlib.pyplot as plt\n",
    "\n",
    "from tensorflow import feature_column\n",
    "from tensorflow.keras import layers\n",
    "from sklearn.model_selection import train_test_split"
   ]
  },
  {
   "cell_type": "code",
   "execution_count": 2,
   "metadata": {},
   "outputs": [],
   "source": [
    "import pathlib\n",
    "\n",
    "dataset_url = 'http://storage.googleapis.com/download.tensorflow.org/data/petfinder-mini.zip'\n",
    "csv_file = 'datasets/petfinder-mini/petfinder-mini.csv'\n",
    "\n",
    "filename = tf.keras.utils.get_file('petfinder_mini.zip', dataset_url, extract=True)\n",
    "dataframe = pd.read_csv(\"\\\\\".join(filename.split(\"\\\\\")[:-1]) + \"\\\\petfinder-mini\\\\petfinder-mini.csv\")"
   ]
  },
  {
   "cell_type": "code",
   "execution_count": 3,
   "metadata": {},
   "outputs": [
    {
     "data": {
      "text/html": [
       "<div>\n",
       "<style scoped>\n",
       "    .dataframe tbody tr th:only-of-type {\n",
       "        vertical-align: middle;\n",
       "    }\n",
       "\n",
       "    .dataframe tbody tr th {\n",
       "        vertical-align: top;\n",
       "    }\n",
       "\n",
       "    .dataframe thead th {\n",
       "        text-align: right;\n",
       "    }\n",
       "</style>\n",
       "<table border=\"1\" class=\"dataframe\">\n",
       "  <thead>\n",
       "    <tr style=\"text-align: right;\">\n",
       "      <th></th>\n",
       "      <th>Type</th>\n",
       "      <th>Age</th>\n",
       "      <th>Breed1</th>\n",
       "      <th>Gender</th>\n",
       "      <th>Color1</th>\n",
       "      <th>Color2</th>\n",
       "      <th>MaturitySize</th>\n",
       "      <th>FurLength</th>\n",
       "      <th>Vaccinated</th>\n",
       "      <th>Sterilized</th>\n",
       "      <th>Health</th>\n",
       "      <th>Fee</th>\n",
       "      <th>Description</th>\n",
       "      <th>PhotoAmt</th>\n",
       "      <th>AdoptionSpeed</th>\n",
       "    </tr>\n",
       "  </thead>\n",
       "  <tbody>\n",
       "    <tr>\n",
       "      <th>0</th>\n",
       "      <td>Cat</td>\n",
       "      <td>3</td>\n",
       "      <td>Tabby</td>\n",
       "      <td>Male</td>\n",
       "      <td>Black</td>\n",
       "      <td>White</td>\n",
       "      <td>Small</td>\n",
       "      <td>Short</td>\n",
       "      <td>No</td>\n",
       "      <td>No</td>\n",
       "      <td>Healthy</td>\n",
       "      <td>100</td>\n",
       "      <td>Nibble is a 3+ month old ball of cuteness. He ...</td>\n",
       "      <td>1</td>\n",
       "      <td>2</td>\n",
       "    </tr>\n",
       "    <tr>\n",
       "      <th>1</th>\n",
       "      <td>Cat</td>\n",
       "      <td>1</td>\n",
       "      <td>Domestic Medium Hair</td>\n",
       "      <td>Male</td>\n",
       "      <td>Black</td>\n",
       "      <td>Brown</td>\n",
       "      <td>Medium</td>\n",
       "      <td>Medium</td>\n",
       "      <td>Not Sure</td>\n",
       "      <td>Not Sure</td>\n",
       "      <td>Healthy</td>\n",
       "      <td>0</td>\n",
       "      <td>I just found it alone yesterday near my apartm...</td>\n",
       "      <td>2</td>\n",
       "      <td>0</td>\n",
       "    </tr>\n",
       "    <tr>\n",
       "      <th>2</th>\n",
       "      <td>Dog</td>\n",
       "      <td>1</td>\n",
       "      <td>Mixed Breed</td>\n",
       "      <td>Male</td>\n",
       "      <td>Brown</td>\n",
       "      <td>White</td>\n",
       "      <td>Medium</td>\n",
       "      <td>Medium</td>\n",
       "      <td>Yes</td>\n",
       "      <td>No</td>\n",
       "      <td>Healthy</td>\n",
       "      <td>0</td>\n",
       "      <td>Their pregnant mother was dumped by her irresp...</td>\n",
       "      <td>7</td>\n",
       "      <td>3</td>\n",
       "    </tr>\n",
       "    <tr>\n",
       "      <th>3</th>\n",
       "      <td>Dog</td>\n",
       "      <td>4</td>\n",
       "      <td>Mixed Breed</td>\n",
       "      <td>Female</td>\n",
       "      <td>Black</td>\n",
       "      <td>Brown</td>\n",
       "      <td>Medium</td>\n",
       "      <td>Short</td>\n",
       "      <td>Yes</td>\n",
       "      <td>No</td>\n",
       "      <td>Healthy</td>\n",
       "      <td>150</td>\n",
       "      <td>Good guard dog, very alert, active, obedience ...</td>\n",
       "      <td>8</td>\n",
       "      <td>2</td>\n",
       "    </tr>\n",
       "    <tr>\n",
       "      <th>4</th>\n",
       "      <td>Dog</td>\n",
       "      <td>1</td>\n",
       "      <td>Mixed Breed</td>\n",
       "      <td>Male</td>\n",
       "      <td>Black</td>\n",
       "      <td>No Color</td>\n",
       "      <td>Medium</td>\n",
       "      <td>Short</td>\n",
       "      <td>No</td>\n",
       "      <td>No</td>\n",
       "      <td>Healthy</td>\n",
       "      <td>0</td>\n",
       "      <td>This handsome yet cute boy is up for adoption....</td>\n",
       "      <td>3</td>\n",
       "      <td>2</td>\n",
       "    </tr>\n",
       "  </tbody>\n",
       "</table>\n",
       "</div>"
      ],
      "text/plain": [
       "  Type  Age                Breed1  Gender Color1    Color2 MaturitySize  \\\n",
       "0  Cat    3                 Tabby    Male  Black     White        Small   \n",
       "1  Cat    1  Domestic Medium Hair    Male  Black     Brown       Medium   \n",
       "2  Dog    1           Mixed Breed    Male  Brown     White       Medium   \n",
       "3  Dog    4           Mixed Breed  Female  Black     Brown       Medium   \n",
       "4  Dog    1           Mixed Breed    Male  Black  No Color       Medium   \n",
       "\n",
       "  FurLength Vaccinated Sterilized   Health  Fee  \\\n",
       "0     Short         No         No  Healthy  100   \n",
       "1    Medium   Not Sure   Not Sure  Healthy    0   \n",
       "2    Medium        Yes         No  Healthy    0   \n",
       "3     Short        Yes         No  Healthy  150   \n",
       "4     Short         No         No  Healthy    0   \n",
       "\n",
       "                                         Description  PhotoAmt  AdoptionSpeed  \n",
       "0  Nibble is a 3+ month old ball of cuteness. He ...         1              2  \n",
       "1  I just found it alone yesterday near my apartm...         2              0  \n",
       "2  Their pregnant mother was dumped by her irresp...         7              3  \n",
       "3  Good guard dog, very alert, active, obedience ...         8              2  \n",
       "4  This handsome yet cute boy is up for adoption....         3              2  "
      ]
     },
     "execution_count": 3,
     "metadata": {},
     "output_type": "execute_result"
    }
   ],
   "source": [
    "dataframe.head()"
   ]
  },
  {
   "cell_type": "code",
   "execution_count": 4,
   "metadata": {},
   "outputs": [
    {
     "data": {
      "text/html": [
       "<div>\n",
       "<style scoped>\n",
       "    .dataframe tbody tr th:only-of-type {\n",
       "        vertical-align: middle;\n",
       "    }\n",
       "\n",
       "    .dataframe tbody tr th {\n",
       "        vertical-align: top;\n",
       "    }\n",
       "\n",
       "    .dataframe thead th {\n",
       "        text-align: right;\n",
       "    }\n",
       "</style>\n",
       "<table border=\"1\" class=\"dataframe\">\n",
       "  <thead>\n",
       "    <tr style=\"text-align: right;\">\n",
       "      <th></th>\n",
       "      <th>Type</th>\n",
       "      <th>Age</th>\n",
       "      <th>Breed1</th>\n",
       "      <th>Gender</th>\n",
       "      <th>Color1</th>\n",
       "      <th>Color2</th>\n",
       "      <th>MaturitySize</th>\n",
       "      <th>FurLength</th>\n",
       "      <th>Vaccinated</th>\n",
       "      <th>Sterilized</th>\n",
       "      <th>Health</th>\n",
       "      <th>Fee</th>\n",
       "      <th>PhotoAmt</th>\n",
       "      <th>target</th>\n",
       "    </tr>\n",
       "  </thead>\n",
       "  <tbody>\n",
       "    <tr>\n",
       "      <th>0</th>\n",
       "      <td>Cat</td>\n",
       "      <td>3</td>\n",
       "      <td>Tabby</td>\n",
       "      <td>Male</td>\n",
       "      <td>Black</td>\n",
       "      <td>White</td>\n",
       "      <td>Small</td>\n",
       "      <td>Short</td>\n",
       "      <td>No</td>\n",
       "      <td>No</td>\n",
       "      <td>Healthy</td>\n",
       "      <td>100</td>\n",
       "      <td>1</td>\n",
       "      <td>1</td>\n",
       "    </tr>\n",
       "    <tr>\n",
       "      <th>1</th>\n",
       "      <td>Cat</td>\n",
       "      <td>1</td>\n",
       "      <td>Domestic Medium Hair</td>\n",
       "      <td>Male</td>\n",
       "      <td>Black</td>\n",
       "      <td>Brown</td>\n",
       "      <td>Medium</td>\n",
       "      <td>Medium</td>\n",
       "      <td>Not Sure</td>\n",
       "      <td>Not Sure</td>\n",
       "      <td>Healthy</td>\n",
       "      <td>0</td>\n",
       "      <td>2</td>\n",
       "      <td>1</td>\n",
       "    </tr>\n",
       "    <tr>\n",
       "      <th>2</th>\n",
       "      <td>Dog</td>\n",
       "      <td>1</td>\n",
       "      <td>Mixed Breed</td>\n",
       "      <td>Male</td>\n",
       "      <td>Brown</td>\n",
       "      <td>White</td>\n",
       "      <td>Medium</td>\n",
       "      <td>Medium</td>\n",
       "      <td>Yes</td>\n",
       "      <td>No</td>\n",
       "      <td>Healthy</td>\n",
       "      <td>0</td>\n",
       "      <td>7</td>\n",
       "      <td>1</td>\n",
       "    </tr>\n",
       "    <tr>\n",
       "      <th>3</th>\n",
       "      <td>Dog</td>\n",
       "      <td>4</td>\n",
       "      <td>Mixed Breed</td>\n",
       "      <td>Female</td>\n",
       "      <td>Black</td>\n",
       "      <td>Brown</td>\n",
       "      <td>Medium</td>\n",
       "      <td>Short</td>\n",
       "      <td>Yes</td>\n",
       "      <td>No</td>\n",
       "      <td>Healthy</td>\n",
       "      <td>150</td>\n",
       "      <td>8</td>\n",
       "      <td>1</td>\n",
       "    </tr>\n",
       "    <tr>\n",
       "      <th>4</th>\n",
       "      <td>Dog</td>\n",
       "      <td>1</td>\n",
       "      <td>Mixed Breed</td>\n",
       "      <td>Male</td>\n",
       "      <td>Black</td>\n",
       "      <td>No Color</td>\n",
       "      <td>Medium</td>\n",
       "      <td>Short</td>\n",
       "      <td>No</td>\n",
       "      <td>No</td>\n",
       "      <td>Healthy</td>\n",
       "      <td>0</td>\n",
       "      <td>3</td>\n",
       "      <td>1</td>\n",
       "    </tr>\n",
       "  </tbody>\n",
       "</table>\n",
       "</div>"
      ],
      "text/plain": [
       "  Type  Age                Breed1  Gender Color1    Color2 MaturitySize  \\\n",
       "0  Cat    3                 Tabby    Male  Black     White        Small   \n",
       "1  Cat    1  Domestic Medium Hair    Male  Black     Brown       Medium   \n",
       "2  Dog    1           Mixed Breed    Male  Brown     White       Medium   \n",
       "3  Dog    4           Mixed Breed  Female  Black     Brown       Medium   \n",
       "4  Dog    1           Mixed Breed    Male  Black  No Color       Medium   \n",
       "\n",
       "  FurLength Vaccinated Sterilized   Health  Fee  PhotoAmt  target  \n",
       "0     Short         No         No  Healthy  100         1       1  \n",
       "1    Medium   Not Sure   Not Sure  Healthy    0         2       1  \n",
       "2    Medium        Yes         No  Healthy    0         7       1  \n",
       "3     Short        Yes         No  Healthy  150         8       1  \n",
       "4     Short         No         No  Healthy    0         3       1  "
      ]
     },
     "execution_count": 4,
     "metadata": {},
     "output_type": "execute_result"
    }
   ],
   "source": [
    "dataframe['target'] = np.where(dataframe['AdoptionSpeed'] == 4 , 0 , 1)\n",
    "dataframe = dataframe.drop(columns=['AdoptionSpeed', 'Description'])\n",
    "dataframe.head()"
   ]
  },
  {
   "cell_type": "code",
   "execution_count": 5,
   "metadata": {},
   "outputs": [
    {
     "name": "stdout",
     "output_type": "stream",
     "text": [
      "train length: 7383\n",
      "valid length: 1846\n",
      "test length: 2308\n"
     ]
    }
   ],
   "source": [
    "train, test = train_test_split(dataframe, test_size = 0.2)\n",
    "train, valid = train_test_split(train, test_size = 0.2)\n",
    "print(\"train length:\", len(train))\n",
    "print(\"valid length:\", len(valid))\n",
    "print(\"test length:\", len(test))\n"
   ]
  },
  {
   "cell_type": "code",
   "execution_count": 6,
   "metadata": {},
   "outputs": [],
   "source": [
    "def dataframe_2_dataset(dataframe, shuffle=True, batch=5):\n",
    "    dataframe = dataframe.copy()\n",
    "    target = dataframe.pop(\"target\")\n",
    "   \n",
    "    ds = tf.data.Dataset.from_tensor_slices((dict(dataframe), target))\n",
    "    if(shuffle):\n",
    "        ds = ds.shuffle(10000)\n",
    "        \n",
    "    ds = ds.batch(batch)\n",
    "    \n",
    "    return ds\n",
    "\n",
    "train_ds = dataframe_2_dataset(train, shuffle=False)\n",
    "valid_ds = dataframe_2_dataset(valid, shuffle=False)\n",
    "test_ds = dataframe_2_dataset(test, shuffle=False)"
   ]
  },
  {
   "cell_type": "code",
   "execution_count": 7,
   "metadata": {},
   "outputs": [
    {
     "name": "stdout",
     "output_type": "stream",
     "text": [
      "{'Type': <tf.Tensor: shape=(5,), dtype=string, numpy=array([b'Dog', b'Cat', b'Dog', b'Cat', b'Dog'], dtype=object)>, 'Age': <tf.Tensor: shape=(5,), dtype=int64, numpy=array([12,  2, 21,  6,  2], dtype=int64)>, 'Breed1': <tf.Tensor: shape=(5,), dtype=string, numpy=\n",
      "array([b'German Shepherd Dog', b'Domestic Medium Hair', b'Shih Tzu',\n",
      "       b'Domestic Short Hair', b'Mixed Breed'], dtype=object)>, 'Gender': <tf.Tensor: shape=(5,), dtype=string, numpy=array([b'Female', b'Male', b'Male', b'Female', b'Male'], dtype=object)>, 'Color1': <tf.Tensor: shape=(5,), dtype=string, numpy=array([b'Black', b'Gray', b'Brown', b'Yellow', b'Brown'], dtype=object)>, 'Color2': <tf.Tensor: shape=(5,), dtype=string, numpy=array([b'Brown', b'White', b'Cream', b'White', b'Cream'], dtype=object)>, 'MaturitySize': <tf.Tensor: shape=(5,), dtype=string, numpy=array([b'Large', b'Medium', b'Small', b'Medium', b'Medium'], dtype=object)>, 'FurLength': <tf.Tensor: shape=(5,), dtype=string, numpy=array([b'Medium', b'Medium', b'Long', b'Long', b'Medium'], dtype=object)>, 'Vaccinated': <tf.Tensor: shape=(5,), dtype=string, numpy=array([b'No', b'No', b'Yes', b'No', b'Yes'], dtype=object)>, 'Sterilized': <tf.Tensor: shape=(5,), dtype=string, numpy=array([b'Not Sure', b'No', b'No', b'No', b'No'], dtype=object)>, 'Health': <tf.Tensor: shape=(5,), dtype=string, numpy=\n",
      "array([b'Healthy', b'Healthy', b'Healthy', b'Healthy', b'Healthy'],\n",
      "      dtype=object)>, 'Fee': <tf.Tensor: shape=(5,), dtype=int64, numpy=array([100,  50, 200,   0,   0], dtype=int64)>, 'PhotoAmt': <tf.Tensor: shape=(5,), dtype=int64, numpy=array([ 1, 11,  2,  1,  4], dtype=int64)>}\n",
      "--------------------------------------------------------------------------------\n",
      "target: tf.Tensor([0 1 1 0 1], shape=(5,), dtype=int32)\n",
      "================================================================================\n",
      "features keys: ['Type', 'Age', 'Breed1', 'Gender', 'Color1', 'Color2', 'MaturitySize', 'FurLength', 'Vaccinated', 'Sterilized', 'Health', 'Fee', 'PhotoAmt']\n",
      "types: tf.Tensor([b'Dog' b'Cat' b'Dog' b'Cat' b'Dog'], shape=(5,), dtype=string)\n"
     ]
    }
   ],
   "source": [
    "for idx, (features, target) in zip(range(1), train_ds):\n",
    "    print(features)\n",
    "    print(\"-\" * 80)\n",
    "    print(\"target:\", target)\n",
    "    print(\"=\" * 80)\n",
    "    print(\"features keys:\", list(features.keys()))\n",
    "    print(\"types:\", features['Type'])\n",
    "    "
   ]
  },
  {
   "cell_type": "code",
   "execution_count": 8,
   "metadata": {},
   "outputs": [
    {
     "name": "stdout",
     "output_type": "stream",
     "text": [
      "tf.Tensor([12  2 21  6  2], shape=(5,), dtype=int64)\n",
      "tf.Tensor([b'Dog' b'Cat' b'Dog' b'Cat' b'Dog'], shape=(5,), dtype=string)\n"
     ]
    }
   ],
   "source": [
    "example_batch = next(iter(train_ds))[0]\n",
    "print(example_batch['Age'])\n",
    "print(example_batch['Type'])\n"
   ]
  },
  {
   "cell_type": "code",
   "execution_count": 9,
   "metadata": {},
   "outputs": [
    {
     "data": {
      "text/plain": [
       "NumericColumn(key='PhotoAmt', shape=(1,), default_value=None, dtype=tf.float32, normalizer_fn=None)"
      ]
     },
     "execution_count": 9,
     "metadata": {},
     "output_type": "execute_result"
    }
   ],
   "source": [
    "photo_count = tf.feature_column.numeric_column(\"PhotoAmt\")\n",
    "photo_count"
   ]
  },
  {
   "cell_type": "code",
   "execution_count": 10,
   "metadata": {},
   "outputs": [
    {
     "name": "stdout",
     "output_type": "stream",
     "text": [
      "feature PhotoAmt:\n",
      "tf.Tensor(\n",
      "[[ 1.]\n",
      " [11.]\n",
      " [ 2.]\n",
      " [ 1.]\n",
      " [ 4.]], shape=(5, 1), dtype=float32)\n",
      "feature Age (numeric):\n",
      "tf.Tensor(\n",
      "[[12.]\n",
      " [ 2.]\n",
      " [21.]\n",
      " [ 6.]\n",
      " [ 2.]], shape=(5, 1), dtype=float32)\n",
      "feature Age (bucketized):\n",
      "tf.Tensor(\n",
      "[[0. 0. 1. 0. 0.]\n",
      " [0. 0. 1. 0. 0.]\n",
      " [0. 0. 1. 0. 0.]\n",
      " [0. 0. 1. 0. 0.]\n",
      " [0. 0. 1. 0. 0.]], shape=(5, 5), dtype=float32)\n"
     ]
    }
   ],
   "source": [
    "def demo(feature_column):\n",
    "    feature_layer = tf.keras.layers.DenseFeatures(feature_column, dtype=tf.float32)\n",
    "    print(feature_layer(example_batch))\n",
    "\n",
    "print(\"feature PhotoAmt:\")\n",
    "demo(tf.feature_column.numeric_column(\"PhotoAmt\"))\n",
    "print(\"feature Age (numeric):\")\n",
    "demo(tf.feature_column.numeric_column(\"Age\"))\n",
    "print(\"feature Age (bucketized):\")\n",
    "age_bucketized = tf.feature_column.bucketized_column(tf.feature_column.numeric_column(\"Age\"), boundaries=[1,2,35,60])\n",
    "demo(age_bucketized)"
   ]
  },
  {
   "cell_type": "code",
   "execution_count": 11,
   "metadata": {},
   "outputs": [
    {
     "name": "stdout",
     "output_type": "stream",
     "text": [
      "feature Type (indicator):\n",
      "tf.Tensor(\n",
      "[[0. 1.]\n",
      " [1. 0.]\n",
      " [0. 1.]\n",
      " [1. 0.]\n",
      " [0. 1.]], shape=(5, 2), dtype=float32)\n"
     ]
    }
   ],
   "source": [
    "print(\"feature Type (indicator):\")\n",
    "animal_type = tf.feature_column.categorical_column_with_vocabulary_list('Type', ['Cat', 'Dog'])\n",
    "demo(tf.feature_column.indicator_column(animal_type))"
   ]
  },
  {
   "cell_type": "code",
   "execution_count": 12,
   "metadata": {},
   "outputs": [
    {
     "name": "stdout",
     "output_type": "stream",
     "text": [
      "feature Breed1 (embedding):\n",
      "tf.Tensor(\n",
      "[[ 0.02092875 -0.49208277 -0.52478945  0.21710193]\n",
      " [-0.15133893  0.735693   -0.28857002  0.8293971 ]\n",
      " [ 0.4135381   0.18187422 -0.2948262  -0.1982875 ]\n",
      " [-0.15487541 -0.11795948  0.17699955 -0.26757115]\n",
      " [-0.11981515 -0.05752235 -0.26879936  0.7325115 ]], shape=(5, 4), dtype=float32)\n"
     ]
    }
   ],
   "source": [
    "print(\"feature Breed1 (embedding):\")\n",
    "demo(tf.feature_column.embedding_column(tf.feature_column.categorical_column_with_vocabulary_list(\"Breed1\", dataframe.Breed1.unique()), dimension=4))"
   ]
  },
  {
   "cell_type": "code",
   "execution_count": 13,
   "metadata": {},
   "outputs": [
    {
     "name": "stdout",
     "output_type": "stream",
     "text": [
      "feature Breed1 (hashed):\n",
      "tf.Tensor(\n",
      "[[0. 0. 0. 0. 0. 1. 0. 0. 0. 0.]\n",
      " [0. 0. 0. 0. 1. 0. 0. 0. 0. 0.]\n",
      " [0. 0. 0. 0. 1. 0. 0. 0. 0. 0.]\n",
      " [0. 0. 0. 0. 0. 0. 0. 0. 0. 1.]\n",
      " [0. 0. 0. 0. 0. 0. 0. 1. 0. 0.]], shape=(5, 10), dtype=float32)\n"
     ]
    }
   ],
   "source": [
    "print(\"feature Breed1 (hashed):\")\n",
    "demo(tf.feature_column.indicator_column(tf.feature_column.categorical_column_with_hash_bucket(\"Breed1\", hash_bucket_size=10)))"
   ]
  },
  {
   "cell_type": "code",
   "execution_count": 15,
   "metadata": {
    "scrolled": true
   },
   "outputs": [
    {
     "name": "stdout",
     "output_type": "stream",
     "text": [
      "crossed features [Type, Age]:\n"
     ]
    }
   ],
   "source": [
    "print(\"crossed features [Type, Age]:\")\n",
    "# demo(tf.feature_column.indicator_column(tf.feature_column.crossed_column([animal_type, age_bucketized], hash_bucket_size=10)))"
   ]
  },
  {
   "cell_type": "markdown",
   "metadata": {},
   "source": [
    "--------------------------"
   ]
  },
  {
   "cell_type": "code",
   "execution_count": 16,
   "metadata": {},
   "outputs": [
    {
     "data": {
      "text/plain": [
       "[NumericColumn(key='PhotoAmt', shape=(1,), default_value=None, dtype=tf.float32, normalizer_fn=None),\n",
       " NumericColumn(key='Fee', shape=(1,), default_value=None, dtype=tf.float32, normalizer_fn=None),\n",
       " NumericColumn(key='Age', shape=(1,), default_value=None, dtype=tf.float32, normalizer_fn=None),\n",
       " BucketizedColumn(source_column=NumericColumn(key='PhotoAmt', shape=(1,), default_value=None, dtype=tf.float32, normalizer_fn=None), boundaries=(0, 1, 2, 3, 4, 5, 6, 7, 8, 9)),\n",
       " BucketizedColumn(source_column=NumericColumn(key='Fee', shape=(1,), default_value=None, dtype=tf.float32, normalizer_fn=None), boundaries=(0, 1, 2, 3, 4, 5, 6, 7, 8, 9)),\n",
       " BucketizedColumn(source_column=NumericColumn(key='Age', shape=(1,), default_value=None, dtype=tf.float32, normalizer_fn=None), boundaries=(0, 1, 2, 3, 4, 5, 6, 7, 8, 9)),\n",
       " IndicatorColumn(categorical_column=VocabularyListCategoricalColumn(key='Type', vocabulary_list=('Cat', 'Dog'), dtype=tf.string, default_value=-1, num_oov_buckets=0)),\n",
       " IndicatorColumn(categorical_column=VocabularyListCategoricalColumn(key='Color1', vocabulary_list=('Black', 'Brown', 'Cream', 'Gray', 'Golden', 'White', 'Yellow'), dtype=tf.string, default_value=-1, num_oov_buckets=0)),\n",
       " IndicatorColumn(categorical_column=VocabularyListCategoricalColumn(key='Color2', vocabulary_list=('White', 'Brown', 'No Color', 'Gray', 'Cream', 'Golden', 'Yellow'), dtype=tf.string, default_value=-1, num_oov_buckets=0)),\n",
       " IndicatorColumn(categorical_column=VocabularyListCategoricalColumn(key='Gender', vocabulary_list=('Male', 'Female'), dtype=tf.string, default_value=-1, num_oov_buckets=0)),\n",
       " IndicatorColumn(categorical_column=VocabularyListCategoricalColumn(key='MaturitySize', vocabulary_list=('Small', 'Medium', 'Large'), dtype=tf.string, default_value=-1, num_oov_buckets=0)),\n",
       " IndicatorColumn(categorical_column=VocabularyListCategoricalColumn(key='FurLength', vocabulary_list=('Short', 'Medium', 'Long'), dtype=tf.string, default_value=-1, num_oov_buckets=0)),\n",
       " IndicatorColumn(categorical_column=VocabularyListCategoricalColumn(key='Vaccinated', vocabulary_list=('No', 'Not Sure', 'Yes'), dtype=tf.string, default_value=-1, num_oov_buckets=0)),\n",
       " IndicatorColumn(categorical_column=VocabularyListCategoricalColumn(key='Sterilized', vocabulary_list=('No', 'Not Sure', 'Yes'), dtype=tf.string, default_value=-1, num_oov_buckets=0)),\n",
       " IndicatorColumn(categorical_column=VocabularyListCategoricalColumn(key='Health', vocabulary_list=('Healthy', 'Minor Injury', 'Serious Injury'), dtype=tf.string, default_value=-1, num_oov_buckets=0)),\n",
       " EmbeddingColumn(categorical_column=VocabularyListCategoricalColumn(key='Breed1', vocabulary_list=('Tabby', 'Domestic Medium Hair', 'Mixed Breed', 'Domestic Short Hair', 'Domestic Long Hair', 'Terrier', 'Persian', 'Rottweiler', 'Jack Russell Terrier', 'Shih Tzu', 'Labrador Retriever', 'Silky Terrier', 'Bombay', 'Husky', 'Schnauzer', 'Golden Retriever', 'Siberian Husky', 'Collie', 'German Shepherd Dog', 'Siamese', 'Calico', 'American Staffordshire Terrier', 'Turkish Van', 'Doberman Pinscher', 'Oriental Short Hair', 'Beagle', 'Ragdoll', 'Cocker Spaniel', 'Poodle', 'Black Labrador Retriever', 'Bengal', 'Shar Pei', 'Spitz', 'Birman', 'Belgian Shepherd Malinois', 'American Shorthair', 'Belgian Shepherd Laekenois', '0', 'Jack Russell Terrier (Parson Russell Terrier)', 'Shepherd', 'Corgi', 'Pit Bull Terrier', 'Oriental Tabby', 'Miniature Pinscher', 'Manx', 'Boxer', 'Dachshund', 'Chihuahua', 'Snowshoe', 'Rat Terrier', 'Tiger', 'Silver', 'Maine Coon', 'German Pinscher', 'Russian Blue', 'Tuxedo', 'Lhasa Apso', 'Pomeranian', 'Whippet', 'English Bulldog', 'Bull Terrier', 'Yellow Labrador Retriever', 'Dalmatian', 'West Highland White Terrier Westie', 'Pekingese', 'Wheaten Terrier', 'Havana', 'Egyptian Mau', 'Tortoiseshell', 'American Curl', 'British Shorthair', 'Cavalier King Charles Spaniel', 'Munsterlander', 'Singapura', 'Turkish Angora', 'Maltese', 'Applehead Siamese', 'Oriental Long Hair', 'Standard Poodle', 'Samoyed', 'Mountain Dog', 'Coonhound', 'Japanese Bobtail', 'Abyssinian', 'Bobtail', 'Glen of Imaal Terrier', 'Yorkshire Terrier Yorkie', 'English Cocker Spaniel', 'Siberian', 'Border Collie', 'Field Spaniel', 'Australian Terrier', 'Burmese', 'Pug', 'Toy Fox Terrier', 'French Bulldog', 'Norwegian Forest Cat', 'Boston Terrier', 'Australian Kelpie', 'Basset Hound', 'Belgian Shepherd Dog Sheepdog', 'Bullmastiff', 'Korat', 'Hound', 'Great Dane', 'American Wirehair', 'White German Shepherd', 'Burmilla', 'Ocicat', 'Saint Bernard', 'Javanese', 'Australian Shepherd', 'Retriever', 'Black Mouth Cur', 'Old English Sheepdog', 'Weimaraner', 'Chausie', 'Pointer', 'Staffordshire Bull Terrier', 'Dilute Tortoiseshell', 'Greyhound', 'Shetland Sheepdog Sheltie', 'Wirehaired Terrier', 'American Water Spaniel', 'Irish Setter', 'Flat-coated Retriever', 'Irish Wolfhound', 'Tonkinese', 'Nebelung', 'Irish Terrier', 'Bedlington Terrier', 'Cymric', 'American Bulldog', 'Mastiff', 'Akita', 'Basenji', 'Somali', 'English Springer Spaniel', 'Chow Chow', 'Shiba Inu', 'Rhodesian Ridgeback', 'Papillon', 'Setter', 'Chartreux', 'Dilute Calico', 'Fox Terrier', 'Balinese', 'Extra-Toes Cat (Hemingway Polydactyl)', 'English Pointer', 'Sphynx (hairless cat)', 'Lowchen', 'Kai Dog', 'German Spitz', 'Exotic Shorthair', 'Welsh Corgi', 'Himalayan', 'Manchester Terrier', 'Spaniel', 'Swedish Vallhund', 'Chinese Crested Dog', 'Cattle Dog', 'Torbie', 'Ragamuffin', 'Lancashire Heeler', 'Foxhound', 'Dutch Shepherd'), dtype=tf.string, default_value=-1, num_oov_buckets=0), dimension=15, combiner='mean', initializer=<tensorflow.python.ops.init_ops.TruncatedNormal object at 0x000001D117EB7EB0>, ckpt_to_load_from=None, tensor_name_in_ckpt=None, max_norm=None, trainable=True, use_safe_embedding_lookup=True)]"
      ]
     },
     "execution_count": 16,
     "metadata": {},
     "output_type": "execute_result"
    }
   ],
   "source": [
    "feature_columns = []\n",
    "\n",
    "# --- numeric\n",
    "for item in [\"PhotoAmt\", \"Fee\", \"Age\"]:\n",
    "    feature_columns.append(tf.feature_column.numeric_column(item))\n",
    "    \n",
    "# --- bucketized\n",
    "for item in [\"PhotoAmt\", \"Fee\", \"Age\"]:\n",
    "    feature_columns.append(\n",
    "        tf.feature_column.bucketized_column(tf.feature_column.numeric_column(item), boundaries = [_ for _ in range(10)])\n",
    "    )\n",
    "    \n",
    "# --- indicator\n",
    "for item in ['Type', 'Color1', 'Color2', 'Gender', 'MaturitySize', 'FurLength', 'Vaccinated', 'Sterilized', 'Health']:\n",
    "    feature_columns.append(\n",
    "        tf.feature_column.indicator_column(\n",
    "            tf.feature_column.categorical_column_with_vocabulary_list(item, dataframe[item].unique())\n",
    "        )\n",
    "    )\n",
    "    \n",
    "# --- embedding\n",
    "for item in ['Breed1']:\n",
    "    feature_columns.append(\n",
    "        tf.feature_column.embedding_column(\n",
    "            tf.feature_column.categorical_column_with_vocabulary_list(item, dataframe[item].unique()), \n",
    "            dimension=15\n",
    "        )\n",
    "    )\n",
    "\n",
    "feature_columns"
   ]
  },
  {
   "cell_type": "code",
   "execution_count": 17,
   "metadata": {},
   "outputs": [
    {
     "name": "stdout",
     "output_type": "stream",
     "text": [
      "tf.Tensor(\n",
      "[[ 1.20000000e+01  0.00000000e+00  0.00000000e+00  0.00000000e+00\n",
      "   0.00000000e+00  0.00000000e+00  0.00000000e+00  0.00000000e+00\n",
      "   0.00000000e+00  0.00000000e+00  0.00000000e+00  1.00000000e+00\n",
      "   1.90401271e-01 -3.09805363e-01 -3.97693634e-01  8.75156820e-02\n",
      "   1.78512111e-01 -1.14762771e-03 -4.69420142e-02 -2.63555050e-01\n",
      "  -1.21242143e-01  2.36009553e-01  1.48063913e-01 -2.34554783e-01\n",
      "   1.30425975e-01  7.56044500e-03  2.58954205e-02  1.00000000e+00\n",
      "   0.00000000e+00  0.00000000e+00  0.00000000e+00  0.00000000e+00\n",
      "   0.00000000e+00  0.00000000e+00  0.00000000e+00  1.00000000e+00\n",
      "   0.00000000e+00  0.00000000e+00  0.00000000e+00  0.00000000e+00\n",
      "   0.00000000e+00  1.00000000e+02  0.00000000e+00  0.00000000e+00\n",
      "   0.00000000e+00  0.00000000e+00  0.00000000e+00  0.00000000e+00\n",
      "   0.00000000e+00  0.00000000e+00  0.00000000e+00  0.00000000e+00\n",
      "   1.00000000e+00  0.00000000e+00  1.00000000e+00  0.00000000e+00\n",
      "   0.00000000e+00  1.00000000e+00  1.00000000e+00  0.00000000e+00\n",
      "   0.00000000e+00  0.00000000e+00  0.00000000e+00  1.00000000e+00\n",
      "   1.00000000e+00  0.00000000e+00  0.00000000e+00  1.00000000e+00\n",
      "   0.00000000e+00  0.00000000e+00  0.00000000e+00  0.00000000e+00\n",
      "   0.00000000e+00  0.00000000e+00  0.00000000e+00  0.00000000e+00\n",
      "   0.00000000e+00  1.00000000e+00  0.00000000e+00  0.00000000e+00\n",
      "   1.00000000e+00  1.00000000e+00  0.00000000e+00  0.00000000e+00]\n",
      " [ 2.00000000e+00  0.00000000e+00  0.00000000e+00  0.00000000e+00\n",
      "   1.00000000e+00  0.00000000e+00  0.00000000e+00  0.00000000e+00\n",
      "   0.00000000e+00  0.00000000e+00  0.00000000e+00  0.00000000e+00\n",
      "  -4.60554034e-01 -6.90972060e-02  4.53782640e-02 -7.40872845e-02\n",
      "   2.44370028e-01 -2.37687424e-01 -1.64292604e-01 -4.59706075e-02\n",
      "   2.98011869e-01 -6.63932413e-02 -1.46561846e-01  8.08369964e-02\n",
      "  -3.10035069e-02  3.06690246e-01 -1.19669624e-01  0.00000000e+00\n",
      "   0.00000000e+00  0.00000000e+00  1.00000000e+00  0.00000000e+00\n",
      "   0.00000000e+00  0.00000000e+00  1.00000000e+00  0.00000000e+00\n",
      "   0.00000000e+00  0.00000000e+00  0.00000000e+00  0.00000000e+00\n",
      "   0.00000000e+00  5.00000000e+01  0.00000000e+00  0.00000000e+00\n",
      "   0.00000000e+00  0.00000000e+00  0.00000000e+00  0.00000000e+00\n",
      "   0.00000000e+00  0.00000000e+00  0.00000000e+00  0.00000000e+00\n",
      "   1.00000000e+00  0.00000000e+00  1.00000000e+00  0.00000000e+00\n",
      "   1.00000000e+00  0.00000000e+00  1.00000000e+00  0.00000000e+00\n",
      "   0.00000000e+00  0.00000000e+00  1.00000000e+00  0.00000000e+00\n",
      "   1.10000000e+01  0.00000000e+00  0.00000000e+00  0.00000000e+00\n",
      "   0.00000000e+00  0.00000000e+00  0.00000000e+00  0.00000000e+00\n",
      "   0.00000000e+00  0.00000000e+00  0.00000000e+00  1.00000000e+00\n",
      "   1.00000000e+00  0.00000000e+00  0.00000000e+00  1.00000000e+00\n",
      "   0.00000000e+00  1.00000000e+00  0.00000000e+00  0.00000000e+00]\n",
      " [ 2.10000000e+01  0.00000000e+00  0.00000000e+00  0.00000000e+00\n",
      "   0.00000000e+00  0.00000000e+00  0.00000000e+00  0.00000000e+00\n",
      "   0.00000000e+00  0.00000000e+00  0.00000000e+00  1.00000000e+00\n",
      "   1.03263251e-01 -9.89279151e-02  4.01879400e-01 -2.53640860e-01\n",
      "  -2.86823004e-01 -3.26778471e-01  5.12113161e-02 -2.43362144e-01\n",
      "  -3.44655931e-01  1.64466340e-03  1.66681856e-01 -1.02605283e-01\n",
      "  -4.54972178e-01  9.83485505e-02 -2.03126684e-01  0.00000000e+00\n",
      "   1.00000000e+00  0.00000000e+00  0.00000000e+00  0.00000000e+00\n",
      "   0.00000000e+00  0.00000000e+00  0.00000000e+00  0.00000000e+00\n",
      "   0.00000000e+00  0.00000000e+00  1.00000000e+00  0.00000000e+00\n",
      "   0.00000000e+00  2.00000000e+02  0.00000000e+00  0.00000000e+00\n",
      "   0.00000000e+00  0.00000000e+00  0.00000000e+00  0.00000000e+00\n",
      "   0.00000000e+00  0.00000000e+00  0.00000000e+00  0.00000000e+00\n",
      "   1.00000000e+00  0.00000000e+00  0.00000000e+00  1.00000000e+00\n",
      "   1.00000000e+00  0.00000000e+00  1.00000000e+00  0.00000000e+00\n",
      "   0.00000000e+00  1.00000000e+00  0.00000000e+00  0.00000000e+00\n",
      "   2.00000000e+00  0.00000000e+00  0.00000000e+00  0.00000000e+00\n",
      "   1.00000000e+00  0.00000000e+00  0.00000000e+00  0.00000000e+00\n",
      "   0.00000000e+00  0.00000000e+00  0.00000000e+00  0.00000000e+00\n",
      "   1.00000000e+00  0.00000000e+00  0.00000000e+00  0.00000000e+00\n",
      "   1.00000000e+00  0.00000000e+00  0.00000000e+00  1.00000000e+00]\n",
      " [ 6.00000000e+00  0.00000000e+00  0.00000000e+00  0.00000000e+00\n",
      "   0.00000000e+00  0.00000000e+00  0.00000000e+00  0.00000000e+00\n",
      "   1.00000000e+00  0.00000000e+00  0.00000000e+00  0.00000000e+00\n",
      "   1.97480097e-01  3.29970419e-01  2.08847672e-02  1.77642368e-02\n",
      "   1.68695897e-01  4.01825905e-01 -4.52911891e-02 -1.29357621e-01\n",
      "   3.42357278e-01 -2.12010980e-01  5.04233837e-01 -2.01380029e-01\n",
      "   1.31155953e-01  8.43733400e-02 -1.30117433e-02  0.00000000e+00\n",
      "   0.00000000e+00  0.00000000e+00  0.00000000e+00  0.00000000e+00\n",
      "   0.00000000e+00  1.00000000e+00  1.00000000e+00  0.00000000e+00\n",
      "   0.00000000e+00  0.00000000e+00  0.00000000e+00  0.00000000e+00\n",
      "   0.00000000e+00  0.00000000e+00  0.00000000e+00  1.00000000e+00\n",
      "   0.00000000e+00  0.00000000e+00  0.00000000e+00  0.00000000e+00\n",
      "   0.00000000e+00  0.00000000e+00  0.00000000e+00  0.00000000e+00\n",
      "   0.00000000e+00  0.00000000e+00  0.00000000e+00  1.00000000e+00\n",
      "   0.00000000e+00  1.00000000e+00  1.00000000e+00  0.00000000e+00\n",
      "   0.00000000e+00  0.00000000e+00  1.00000000e+00  0.00000000e+00\n",
      "   1.00000000e+00  0.00000000e+00  0.00000000e+00  1.00000000e+00\n",
      "   0.00000000e+00  0.00000000e+00  0.00000000e+00  0.00000000e+00\n",
      "   0.00000000e+00  0.00000000e+00  0.00000000e+00  0.00000000e+00\n",
      "   1.00000000e+00  0.00000000e+00  0.00000000e+00  1.00000000e+00\n",
      "   0.00000000e+00  1.00000000e+00  0.00000000e+00  0.00000000e+00]\n",
      " [ 2.00000000e+00  0.00000000e+00  0.00000000e+00  0.00000000e+00\n",
      "   1.00000000e+00  0.00000000e+00  0.00000000e+00  0.00000000e+00\n",
      "   0.00000000e+00  0.00000000e+00  0.00000000e+00  0.00000000e+00\n",
      "  -1.65325731e-01 -8.35237950e-02 -1.77709326e-01 -2.48064384e-01\n",
      "  -1.46733150e-01  7.94996470e-02 -1.76515058e-02 -4.25571173e-01\n",
      "  -2.70908345e-02  2.76507825e-01  4.30488706e-01  8.38225707e-02\n",
      "  -1.20043986e-01 -1.98065072e-01  1.16629794e-01  0.00000000e+00\n",
      "   1.00000000e+00  0.00000000e+00  0.00000000e+00  0.00000000e+00\n",
      "   0.00000000e+00  0.00000000e+00  0.00000000e+00  0.00000000e+00\n",
      "   0.00000000e+00  0.00000000e+00  1.00000000e+00  0.00000000e+00\n",
      "   0.00000000e+00  0.00000000e+00  0.00000000e+00  1.00000000e+00\n",
      "   0.00000000e+00  0.00000000e+00  0.00000000e+00  0.00000000e+00\n",
      "   0.00000000e+00  0.00000000e+00  0.00000000e+00  0.00000000e+00\n",
      "   0.00000000e+00  0.00000000e+00  1.00000000e+00  0.00000000e+00\n",
      "   1.00000000e+00  0.00000000e+00  1.00000000e+00  0.00000000e+00\n",
      "   0.00000000e+00  0.00000000e+00  1.00000000e+00  0.00000000e+00\n",
      "   4.00000000e+00  0.00000000e+00  0.00000000e+00  0.00000000e+00\n",
      "   0.00000000e+00  0.00000000e+00  1.00000000e+00  0.00000000e+00\n",
      "   0.00000000e+00  0.00000000e+00  0.00000000e+00  0.00000000e+00\n",
      "   1.00000000e+00  0.00000000e+00  0.00000000e+00  0.00000000e+00\n",
      "   1.00000000e+00  0.00000000e+00  0.00000000e+00  1.00000000e+00]], shape=(5, 84), dtype=float32)\n"
     ]
    }
   ],
   "source": [
    "demo(feature_columns)"
   ]
  },
  {
   "cell_type": "code",
   "execution_count": 18,
   "metadata": {},
   "outputs": [],
   "source": [
    "features_layer = tf.keras.layers.DenseFeatures(feature_columns)\n",
    "model = tf.keras.models.Sequential([\n",
    "    features_layer,\n",
    "    tf.keras.layers.Dense(128, activation=\"relu\"),\n",
    "#     tf.keras.layers.Dropout(0.1),\n",
    "    tf.keras.layers.Dense(128, activation=\"relu\"),\n",
    "    tf.keras.layers.Dropout(0.1),\n",
    "    tf.keras.layers.Dense(1),\n",
    "    tf.keras.layers.Activation(\"sigmoid\")\n",
    "])\n",
    "\n",
    "# tf.keras.utils.plot_model(model, expand_nested=True, show_shapes=True)\n",
    "\n",
    "model.compile(\n",
    "    loss=tf.keras.losses.BinaryCrossentropy(from_logits=False),\n",
    "    optimizer=\"sgd\",\n",
    "    metrics=[\"accuracy\"]\n",
    ")"
   ]
  },
  {
   "cell_type": "code",
   "execution_count": 20,
   "metadata": {},
   "outputs": [
    {
     "name": "stdout",
     "output_type": "stream",
     "text": [
      "Epoch 1/20\n",
      "462/462 [==============================] - 4s 9ms/step - loss: 0.5507 - accuracy: 0.7283 - val_loss: 0.5636 - val_accuracy: 0.7329\n",
      "Epoch 2/20\n",
      "462/462 [==============================] - 3s 7ms/step - loss: 0.5428 - accuracy: 0.7311 - val_loss: 0.5327 - val_accuracy: 0.7367\n",
      "Epoch 3/20\n",
      "462/462 [==============================] - 3s 7ms/step - loss: 0.5401 - accuracy: 0.7301 - val_loss: 0.5390 - val_accuracy: 0.7329\n",
      "Epoch 4/20\n",
      "462/462 [==============================] - 3s 7ms/step - loss: 0.5370 - accuracy: 0.7322 - val_loss: 0.5326 - val_accuracy: 0.7329\n",
      "Epoch 5/20\n",
      "462/462 [==============================] - 3s 7ms/step - loss: 0.5354 - accuracy: 0.7318 - val_loss: 0.5304 - val_accuracy: 0.7335\n",
      "Epoch 6/20\n",
      "462/462 [==============================] - 3s 7ms/step - loss: 0.5330 - accuracy: 0.7314 - val_loss: 0.5340 - val_accuracy: 0.7329\n",
      "Epoch 7/20\n",
      "462/462 [==============================] - 3s 7ms/step - loss: 0.5303 - accuracy: 0.7337 - val_loss: 0.5322 - val_accuracy: 0.7329\n",
      "Epoch 8/20\n",
      "462/462 [==============================] - 3s 7ms/step - loss: 0.5287 - accuracy: 0.7351 - val_loss: 0.5286 - val_accuracy: 0.7329\n",
      "Epoch 9/20\n",
      "462/462 [==============================] - 3s 7ms/step - loss: 0.5279 - accuracy: 0.7351 - val_loss: 0.5239 - val_accuracy: 0.7329\n",
      "Epoch 10/20\n",
      "462/462 [==============================] - 3s 7ms/step - loss: 0.5280 - accuracy: 0.7324 - val_loss: 0.5330 - val_accuracy: 0.7329\n",
      "Epoch 11/20\n",
      "462/462 [==============================] - 3s 7ms/step - loss: 0.5258 - accuracy: 0.7362 - val_loss: 0.5298 - val_accuracy: 0.7329\n",
      "Epoch 12/20\n",
      "462/462 [==============================] - 3s 7ms/step - loss: 0.5254 - accuracy: 0.7363 - val_loss: 0.5292 - val_accuracy: 0.7346\n",
      "Epoch 13/20\n",
      "462/462 [==============================] - 3s 7ms/step - loss: 0.5219 - accuracy: 0.7343 - val_loss: 0.5216 - val_accuracy: 0.7449\n",
      "Epoch 14/20\n",
      "462/462 [==============================] - 3s 7ms/step - loss: 0.5232 - accuracy: 0.7375 - val_loss: 0.5267 - val_accuracy: 0.7438\n",
      "Epoch 15/20\n",
      "462/462 [==============================] - 3s 7ms/step - loss: 0.5219 - accuracy: 0.7374 - val_loss: 0.5210 - val_accuracy: 0.7378\n",
      "Epoch 16/20\n",
      "462/462 [==============================] - 3s 7ms/step - loss: 0.5214 - accuracy: 0.7367 - val_loss: 0.5209 - val_accuracy: 0.7389\n",
      "Epoch 17/20\n",
      "462/462 [==============================] - 3s 7ms/step - loss: 0.5201 - accuracy: 0.7370 - val_loss: 0.5219 - val_accuracy: 0.7481\n",
      "Epoch 18/20\n",
      "462/462 [==============================] - 3s 7ms/step - loss: 0.5176 - accuracy: 0.7416 - val_loss: 0.5173 - val_accuracy: 0.7373\n",
      "Epoch 19/20\n",
      "462/462 [==============================] - 3s 7ms/step - loss: 0.5163 - accuracy: 0.7428 - val_loss: 0.5215 - val_accuracy: 0.7384\n",
      "Epoch 20/20\n",
      "462/462 [==============================] - 3s 7ms/step - loss: 0.5139 - accuracy: 0.7429 - val_loss: 0.5125 - val_accuracy: 0.7384\n"
     ]
    }
   ],
   "source": [
    "train_ds = dataframe_2_dataset(train, batch=16)\n",
    "history = model.fit(train_ds, epochs=20, validation_data=valid_ds)"
   ]
  },
  {
   "cell_type": "code",
   "execution_count": 21,
   "metadata": {},
   "outputs": [
    {
     "name": "stdout",
     "output_type": "stream",
     "text": [
      "dict_keys(['loss', 'accuracy', 'val_loss', 'val_accuracy'])\n"
     ]
    },
    {
     "data": {
      "image/png": "[encoded data removed]",
      "text/plain": [
       "<Figure size 432x288 with 1 Axes>"
      ]
     },
     "metadata": {
      "needs_background": "light"
     },
     "output_type": "display_data"
    },
    {
     "data": {
      "image/png": "[encoded data removed]",
      "text/plain": [
       "<Figure size 432x288 with 1 Axes>"
      ]
     },
     "metadata": {
      "needs_background": "light"
     },
     "output_type": "display_data"
    }
   ],
   "source": [
    "# list all data in history\n",
    "print(history.history.keys())\n",
    "# summarize history for accuracy\n",
    "plt.plot(history.history['accuracy'])\n",
    "plt.plot(history.history['val_accuracy'])\n",
    "plt.title('model accuracy')\n",
    "plt.ylabel('accuracy')\n",
    "plt.xlabel('epoch')\n",
    "plt.legend(['train', 'valid'], loc='upper left')\n",
    "plt.show()\n",
    "# summarize history for loss\n",
    "plt.plot(history.history['loss'])\n",
    "plt.plot(history.history['val_loss'])\n",
    "plt.title('model loss')\n",
    "plt.ylabel('loss')\n",
    "plt.xlabel('epoch')\n",
    "plt.legend(['train', 'valid'], loc='upper left')\n",
    "plt.show()"
   ]
  },
  {
   "cell_type": "code",
   "execution_count": 22,
   "metadata": {},
   "outputs": [
    {
     "name": "stdout",
     "output_type": "stream",
     "text": [
      "{'Type': <tf.Tensor: shape=(16,), dtype=string, numpy=\n",
      "array([b'Cat', b'Dog', b'Dog', b'Cat', b'Cat', b'Cat', b'Cat', b'Dog',\n",
      "       b'Cat', b'Dog', b'Cat', b'Dog', b'Cat', b'Dog', b'Cat', b'Cat'],\n",
      "      dtype=object)>, 'Age': <tf.Tensor: shape=(16,), dtype=int64, numpy=\n",
      "array([ 48,   5,   9,   4,   4,   1, 108,  20,   3,   2,  12,   3,   1,\n",
      "         2,  22,  67], dtype=int64)>, 'Breed1': <tf.Tensor: shape=(16,), dtype=string, numpy=\n",
      "array([b'Burmilla', b'Jack Russell Terrier', b'Shepherd',\n",
      "       b'Domestic Short Hair', b'Domestic Medium Hair',\n",
      "       b'Domestic Short Hair', b'Domestic Short Hair', b'Mixed Breed',\n",
      "       b'Domestic Short Hair', b'Mixed Breed', b'Domestic Medium Hair',\n",
      "       b'Mixed Breed', b'Tabby', b'Mixed Breed', b'Domestic Short Hair',\n",
      "       b'Russian Blue'], dtype=object)>, 'Gender': <tf.Tensor: shape=(16,), dtype=string, numpy=\n",
      "array([b'Female', b'Male', b'Female', b'Male', b'Male', b'Female',\n",
      "       b'Male', b'Female', b'Male', b'Female', b'Female', b'Female',\n",
      "       b'Female', b'Female', b'Male', b'Male'], dtype=object)>, 'Color1': <tf.Tensor: shape=(16,), dtype=string, numpy=\n",
      "array([b'Brown', b'Brown', b'Black', b'Gray', b'Black', b'Golden',\n",
      "       b'Black', b'Black', b'White', b'Brown', b'Black', b'Cream',\n",
      "       b'Black', b'Brown', b'Black', b'Gray'], dtype=object)>, 'Color2': <tf.Tensor: shape=(16,), dtype=string, numpy=\n",
      "array([b'Cream', b'White', b'No Color', b'No Color', b'Golden', b'Yellow',\n",
      "       b'Brown', b'Brown', b'No Color', b'Cream', b'Brown', b'No Color',\n",
      "       b'Brown', b'No Color', b'Brown', b'No Color'], dtype=object)>, 'MaturitySize': <tf.Tensor: shape=(16,), dtype=string, numpy=\n",
      "array([b'Large', b'Medium', b'Large', b'Medium', b'Medium', b'Medium',\n",
      "       b'Medium', b'Medium', b'Small', b'Medium', b'Small', b'Medium',\n",
      "       b'Medium', b'Medium', b'Medium', b'Medium'], dtype=object)>, 'FurLength': <tf.Tensor: shape=(16,), dtype=string, numpy=\n",
      "array([b'Medium', b'Short', b'Medium', b'Short', b'Medium', b'Short',\n",
      "       b'Short', b'Medium', b'Short', b'Short', b'Medium', b'Medium',\n",
      "       b'Medium', b'Medium', b'Short', b'Medium'], dtype=object)>, 'Vaccinated': <tf.Tensor: shape=(16,), dtype=string, numpy=\n",
      "array([b'Yes', b'Yes', b'Yes', b'Yes', b'No', b'No', b'Not Sure', b'Yes',\n",
      "       b'No', b'No', b'Yes', b'Yes', b'No', b'No', b'Yes', b'Yes'],\n",
      "      dtype=object)>, 'Sterilized': <tf.Tensor: shape=(16,), dtype=string, numpy=\n",
      "array([b'No', b'Yes', b'Yes', b'No', b'No', b'No', b'Yes', b'Yes', b'No',\n",
      "       b'No', b'Yes', b'No', b'No', b'No', b'Yes', b'Yes'], dtype=object)>, 'Health': <tf.Tensor: shape=(16,), dtype=string, numpy=\n",
      "array([b'Healthy', b'Healthy', b'Healthy', b'Healthy', b'Healthy',\n",
      "       b'Healthy', b'Healthy', b'Healthy', b'Healthy', b'Healthy',\n",
      "       b'Healthy', b'Healthy', b'Healthy', b'Healthy', b'Healthy',\n",
      "       b'Healthy'], dtype=object)>, 'Fee': <tf.Tensor: shape=(16,), dtype=int64, numpy=\n",
      "array([  0,   0,   0,   0,   0,   5,   0,   0,   0,   0, 200,   0,   0,\n",
      "         0,   0,   0], dtype=int64)>, 'PhotoAmt': <tf.Tensor: shape=(16,), dtype=int64, numpy=\n",
      "array([10,  6,  1,  2,  3,  1, 10,  2,  2,  1,  1,  1,  2,  1,  4,  1],\n",
      "      dtype=int64)>} tf.Tensor([1 1 0 1 1 1 0 1 1 1 0 1 1 1 0 1], shape=(16,), dtype=int32)\n",
      "{'Type': <tf.Tensor: shape=(16,), dtype=string, numpy=\n",
      "array([b'Cat', b'Dog', b'Dog', b'Cat', b'Cat', b'Cat', b'Cat', b'Dog',\n",
      "       b'Cat', b'Cat', b'Dog', b'Dog', b'Dog', b'Dog', b'Dog', b'Dog'],\n",
      "      dtype=object)>, 'Age': <tf.Tensor: shape=(16,), dtype=int64, numpy=\n",
      "array([ 4, 60,  2,  2,  2,  6,  2,  7,  5, 24,  9,  1, 60, 24, 17,  2],\n",
      "      dtype=int64)>, 'Breed1': <tf.Tensor: shape=(16,), dtype=string, numpy=\n",
      "array([b'Domestic Short Hair', b'Shih Tzu', b'Mixed Breed',\n",
      "       b'Domestic Short Hair', b'Domestic Short Hair',\n",
      "       b'Domestic Short Hair', b'Domestic Short Hair', b'Mixed Breed',\n",
      "       b'Domestic Medium Hair', b'British Shorthair', b'Shar Pei',\n",
      "       b'Mixed Breed', b'Spitz', b'Dachshund', b'Bull Terrier',\n",
      "       b'Mixed Breed'], dtype=object)>, 'Gender': <tf.Tensor: shape=(16,), dtype=string, numpy=\n",
      "array([b'Female', b'Male', b'Female', b'Male', b'Female', b'Female',\n",
      "       b'Male', b'Female', b'Male', b'Female', b'Male', b'Female',\n",
      "       b'Female', b'Male', b'Female', b'Female'], dtype=object)>, 'Color1': <tf.Tensor: shape=(16,), dtype=string, numpy=\n",
      "array([b'Gray', b'Cream', b'Brown', b'Golden', b'Black', b'Black',\n",
      "       b'Black', b'Brown', b'Black', b'Gray', b'Golden', b'Black',\n",
      "       b'Black', b'Black', b'White', b'Black'], dtype=object)>, 'Color2': <tf.Tensor: shape=(16,), dtype=string, numpy=\n",
      "array([b'White', b'White', b'Yellow', b'No Color', b'Yellow', b'Gray',\n",
      "       b'Gray', b'Cream', b'White', b'No Color', b'No Color', b'Brown',\n",
      "       b'No Color', b'Brown', b'No Color', b'Brown'], dtype=object)>, 'MaturitySize': <tf.Tensor: shape=(16,), dtype=string, numpy=\n",
      "array([b'Small', b'Small', b'Medium', b'Medium', b'Medium', b'Medium',\n",
      "       b'Small', b'Medium', b'Medium', b'Medium', b'Medium', b'Medium',\n",
      "       b'Medium', b'Medium', b'Small', b'Medium'], dtype=object)>, 'FurLength': <tf.Tensor: shape=(16,), dtype=string, numpy=\n",
      "array([b'Short', b'Medium', b'Short', b'Medium', b'Short', b'Short',\n",
      "       b'Short', b'Short', b'Medium', b'Medium', b'Short', b'Medium',\n",
      "       b'Medium', b'Medium', b'Short', b'Short'], dtype=object)>, 'Vaccinated': <tf.Tensor: shape=(16,), dtype=string, numpy=\n",
      "array([b'No', b'Yes', b'Not Sure', b'No', b'No', b'No', b'No', b'Yes',\n",
      "       b'Not Sure', b'Yes', b'Yes', b'No', b'Yes', b'Yes', b'Yes',\n",
      "       b'Not Sure'], dtype=object)>, 'Sterilized': <tf.Tensor: shape=(16,), dtype=string, numpy=\n",
      "array([b'No', b'Yes', b'Not Sure', b'No', b'No', b'Yes', b'No',\n",
      "       b'Not Sure', b'Yes', b'Yes', b'No', b'No', b'Not Sure', b'Yes',\n",
      "       b'No', b'Not Sure'], dtype=object)>, 'Health': <tf.Tensor: shape=(16,), dtype=string, numpy=\n",
      "array([b'Healthy', b'Healthy', b'Minor Injury', b'Healthy', b'Healthy',\n",
      "       b'Healthy', b'Healthy', b'Healthy', b'Healthy', b'Healthy',\n",
      "       b'Healthy', b'Healthy', b'Healthy', b'Healthy', b'Healthy',\n",
      "       b'Healthy'], dtype=object)>, 'Fee': <tf.Tensor: shape=(16,), dtype=int64, numpy=\n",
      "array([  0, 100,   0,   0,   0,   0,   0,   0,   0,   0,   0,   0,   0,\n",
      "       200,   0,  10], dtype=int64)>, 'PhotoAmt': <tf.Tensor: shape=(16,), dtype=int64, numpy=\n",
      "array([ 9, 11,  3,  1,  1,  5,  4,  2,  5,  1,  3,  1,  4,  2,  2,  2],\n",
      "      dtype=int64)>} tf.Tensor([1 1 0 1 1 1 1 1 0 0 1 1 0 1 1 1], shape=(16,), dtype=int32)\n"
     ]
    }
   ],
   "source": [
    "for idx, (features, label) in zip(range(2), train_ds):\n",
    "    print (features, label)"
   ]
  },
  {
   "cell_type": "code",
   "execution_count": 23,
   "metadata": {},
   "outputs": [
    {
     "data": {
      "text/plain": [
       "<tf.Tensor: shape=(16, 84), dtype=float32, numpy=\n",
       "array([[24.,  0.,  0., ...,  0.,  1.,  0.],\n",
       "       [ 1.,  0.,  0., ...,  1.,  0.,  0.],\n",
       "       [ 4.,  0.,  0., ...,  1.,  0.,  0.],\n",
       "       ...,\n",
       "       [ 8.,  0.,  0., ...,  0.,  1.,  0.],\n",
       "       [15.,  0.,  0., ...,  0.,  0.,  1.],\n",
       "       [ 6.,  0.,  0., ...,  1.,  0.,  0.]], dtype=float32)>"
      ]
     },
     "execution_count": 23,
     "metadata": {},
     "output_type": "execute_result"
    }
   ],
   "source": [
    "features_layer(next(iter(train_ds))[0])"
   ]
  },
  {
   "cell_type": "code",
   "execution_count": 25,
   "metadata": {},
   "outputs": [
    {
     "name": "stdout",
     "output_type": "stream",
     "text": [
      "462/462 [==============================] - 2s 4ms/step - loss: 0.5070 - accuracy: 0.7513\n",
      "loss = 0.5069625377655029\n",
      "accuracy = 0.7512997984886169\n"
     ]
    }
   ],
   "source": [
    "loss, accuracy = model.evaluate(test_ds)\n",
    "print(\"loss = {}\\naccuracy = {}\".format(loss, accuracy))"
   ]
  },
  {
   "cell_type": "code",
   "execution_count": null,
   "metadata": {},
   "outputs": [],
   "source": []
  }
 ],
 "metadata": {
  "kernelspec": {
   "display_name": "Python 3",
   "language": "python",
   "name": "python3"
  },
  "language_info": {
   "codemirror_mode": {
    "name": "ipython",
    "version": 3
   },
   "file_extension": ".py",
   "mimetype": "text/x-python",
   "name": "python",
   "nbconvert_exporter": "python",
   "pygments_lexer": "ipython3",
   "version": "3.8.3"
  }
 },
 "nbformat": 4,
 "nbformat_minor": 4
}
