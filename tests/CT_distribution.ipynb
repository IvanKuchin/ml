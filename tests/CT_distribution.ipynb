{
 "cells": [
  {
   "cell_type": "code",
   "execution_count": 9,
   "metadata": {},
   "outputs": [],
   "source": [
    "import numpy as np\n",
    "import tensorflow as tf\n",
    "\n",
    "import os\n",
    "import time\n",
    "\n",
    "import glob\n",
    "\n",
    "from matplotlib import pyplot as plt\n",
    "from IPython import display\n",
    "\n",
    "import pydicom\n",
    "\n"
   ]
  },
  {
   "cell_type": "code",
   "execution_count": 10,
   "metadata": {},
   "outputs": [],
   "source": [
    "def __read_dcm_slices(dcm_folder):\n",
    "    slices = [pydicom.dcmread(_) for _ in glob.glob(os.path.join(dcm_folder, \"*.dcm\"))]\n",
    "    slices.sort(key = lambda x: float(x.ImagePositionPatient[2]))\n",
    "    if len(slices) == 0:\n",
    "        print(\"ERROR: no dcim files found\")\n",
    "    return slices\n",
    "\n",
    "def __get_pixel_data(dcm_slices):\n",
    "    result = np.array([])\n",
    "    if len(dcm_slices):\n",
    "        result = np.stack([_.pixel_array for _ in dcm_slices], axis = -1)\n",
    "    else:\n",
    "        print(\"ERROR: dcim list is empty\")\n",
    "\n",
    "    return result\n",
    "\n"
   ]
  },
  {
   "cell_type": "code",
   "execution_count": 11,
   "metadata": {},
   "outputs": [],
   "source": [
    "slices = __read_dcm_slices(\"/docs/src/kt/datasets/ct-150/data/PANCREAS_0001/11-24-2015-PANCREAS0001-Pancreas-18957/Pancreas-99667/\")\n",
    "arr = __get_pixel_data(slices)"
   ]
  },
  {
   "cell_type": "code",
   "execution_count": 43,
   "metadata": {},
   "outputs": [
    {
     "data": {
      "text/plain": [
       "(array([4.024557e+07, 2.548167e+06, 7.267830e+05, 4.146170e+05,\n",
       "        3.397260e+05, 2.717920e+05, 2.407270e+05, 3.512073e+06,\n",
       "        5.634089e+06, 6.358189e+06, 1.821364e+06, 4.578790e+05,\n",
       "        1.548390e+05, 7.304200e+04, 4.375100e+04, 2.768800e+04,\n",
       "        1.945100e+04, 1.373800e+04, 8.277000e+03, 2.616000e+03,\n",
       "        9.800000e+01, 1.800000e+01, 1.800000e+01, 1.300000e+01,\n",
       "        1.300000e+01, 1.000000e+01, 5.000000e+00, 2.000000e+00,\n",
       "        4.000000e+00, 1.000000e+00]),\n",
       " array([-1024.        ,  -909.16666667,  -794.33333333,  -679.5       ,\n",
       "         -564.66666667,  -449.83333333,  -335.        ,  -220.16666667,\n",
       "         -105.33333333,     9.5       ,   124.33333333,   239.16666667,\n",
       "          354.        ,   468.83333333,   583.66666667,   698.5       ,\n",
       "          813.33333333,   928.16666667,  1043.        ,  1157.83333333,\n",
       "         1272.66666667,  1387.5       ,  1502.33333333,  1617.16666667,\n",
       "         1732.        ,  1846.83333333,  1961.66666667,  2076.5       ,\n",
       "         2191.33333333,  2306.16666667,  2421.        ]),\n",
       " <BarContainer object of 30 artists>)"
      ]
     },
     "execution_count": 43,
     "metadata": {},
     "output_type": "execute_result"
    },
    {
     "data": {
      "image/png": "[encoded data removed]",
      "text/plain": [
       "<Figure size 432x288 with 1 Axes>"
      ]
     },
     "metadata": {
      "needs_background": "light"
     },
     "output_type": "display_data"
    }
   ],
   "source": [
    "plt.hist((arr.reshape(-1)), bins=30)"
   ]
  },
  {
   "cell_type": "code",
   "execution_count": 45,
   "metadata": {},
   "outputs": [
    {
     "data": {
      "text/plain": [
       "(array([4.024557e+07, 2.548167e+06, 7.267830e+05, 4.146170e+05,\n",
       "        3.397260e+05, 2.717920e+05, 2.407270e+05, 3.512073e+06,\n",
       "        5.634089e+06, 6.358189e+06, 1.821364e+06, 4.578790e+05,\n",
       "        1.548390e+05, 7.304200e+04, 4.375100e+04, 2.768800e+04,\n",
       "        1.945100e+04, 1.373800e+04, 8.277000e+03, 2.616000e+03,\n",
       "        9.800000e+01, 1.800000e+01, 1.800000e+01, 1.300000e+01,\n",
       "        1.300000e+01, 1.000000e+01, 5.000000e+00, 2.000000e+00,\n",
       "        4.000000e+00, 1.000000e+00]),\n",
       " array([0.        , 0.03280952, 0.06561905, 0.09842857, 0.1312381 ,\n",
       "        0.16404762, 0.19685714, 0.22966667, 0.26247619, 0.29528571,\n",
       "        0.32809524, 0.36090476, 0.39371429, 0.42652381, 0.45933333,\n",
       "        0.49214286, 0.52495238, 0.5577619 , 0.59057143, 0.62338095,\n",
       "        0.65619048, 0.689     , 0.72180952, 0.75461905, 0.78742857,\n",
       "        0.8202381 , 0.85304762, 0.88585714, 0.91866667, 0.95147619,\n",
       "        0.98428571]),\n",
       " <BarContainer object of 30 artists>)"
      ]
     },
     "execution_count": 45,
     "metadata": {},
     "output_type": "execute_result"
    },
    {
     "data": {
      "image/png": "[encoded data removed]",
      "text/plain": [
       "<Figure size 432x288 with 1 Axes>"
      ]
     },
     "metadata": {
      "needs_background": "light"
     },
     "output_type": "display_data"
    }
   ],
   "source": [
    "plt.hist((arr.reshape(-1) - arr.min())/3500, bins=30)"
   ]
  },
  {
   "cell_type": "code",
   "execution_count": 29,
   "metadata": {},
   "outputs": [
    {
     "data": {
      "text/plain": [
       "(array([ 142409.,  129415.,  112663.,  102620.,  103134.,  115130.,\n",
       "         149700., 4161989., 2999520., 1487331., 2473429., 2954124.,\n",
       "        1870957.,  837530.,  420787.,  229682.,  141499.,   92324.,\n",
       "          53409.,  204454.]),\n",
       " array([-4.99900e+02, -4.49905e+02, -3.99910e+02, -3.49915e+02,\n",
       "        -2.99920e+02, -2.49925e+02, -1.99930e+02, -1.49935e+02,\n",
       "        -9.99400e+01, -4.99450e+01,  5.00000e-02,  5.00450e+01,\n",
       "         1.00040e+02,  1.50035e+02,  2.00030e+02,  2.50025e+02,\n",
       "         3.00020e+02,  3.50015e+02,  4.00010e+02,  4.50005e+02,\n",
       "         5.00000e+02]),\n",
       " <BarContainer object of 20 artists>)"
      ]
     },
     "execution_count": 29,
     "metadata": {},
     "output_type": "execute_result"
    },
    {
     "data": {
      "image/png": "[encoded data removed]",
      "text/plain": [
       "<Figure size 432x288 with 1 Axes>"
      ]
     },
     "metadata": {
      "needs_background": "light"
     },
     "output_type": "display_data"
    }
   ],
   "source": [
    "arr2 = arr > 500\n",
    "arr3 = arr < -500\n",
    "arr1 = arr.copy()\n",
    "arr1[arr2] = 500\n",
    "arr1[arr3] = -500\n",
    "\n",
    "plt.hist(arr1.reshape(-1), bins=20, range=(arr1.min()+.1,arr1.max()))"
   ]
  },
  {
   "cell_type": "code",
   "execution_count": 32,
   "metadata": {},
   "outputs": [
    {
     "name": "stdout",
     "output_type": "stream",
     "text": [
      "-0.6179586615810402 3.5249131290836613\n"
     ]
    },
    {
     "data": {
      "text/plain": [
       "(array([ 132001.,  119437.,  105606.,   98745.,  104195.,  116731.,\n",
       "         335822., 5328545., 2009237., 1488204., 2666290., 2942028.,\n",
       "        1438732.,  758666.,  385088.,  205669.,  133881.,   88370.,\n",
       "          51638.,  203576.]),\n",
       " array([-0.51795866, -0.31581507, -0.11367148,  0.08847211,  0.2906157 ,\n",
       "         0.49275929,  0.69490288,  0.89704647,  1.09919005,  1.30133364,\n",
       "         1.50347723,  1.70562082,  1.90776441,  2.109908  ,  2.31205159,\n",
       "         2.51419518,  2.71633877,  2.91848236,  3.12062595,  3.32276954,\n",
       "         3.52491313]),\n",
       " <BarContainer object of 20 artists>)"
      ]
     },
     "execution_count": 32,
     "metadata": {},
     "output_type": "execute_result"
    },
    {
     "data": {
      "image/png": "[encoded data removed]",
      "text/plain": [
       "<Figure size 432x288 with 1 Axes>"
      ]
     },
     "metadata": {
      "needs_background": "light"
     },
     "output_type": "display_data"
    }
   ],
   "source": [
    "arr_norm = (arr1 - arr1.mean()) / arr1.std()\n",
    "print(arr_norm.min(), arr_norm.max())\n",
    "plt.hist(arr_norm.reshape(-1), bins=20, range=(arr_norm.min()+0.1,arr_norm.max()))"
   ]
  },
  {
   "cell_type": "code",
   "execution_count": 39,
   "metadata": {},
   "outputs": [
    {
     "name": "stdout",
     "output_type": "stream",
     "text": [
      "-1.0 1.0\n"
     ]
    },
    {
     "data": {
      "text/plain": [
       "(array([ 124761.,  107265.,   99384.,   95723.,  106849.,  122156.,\n",
       "        1615631., 4827084., 1587559., 1579285., 2751242., 2864200.,\n",
       "        1100363.,  665902.,  345255.,  189158.,  125588.,   82292.,\n",
       "          50052.,  202651.]),\n",
       " array([-0.9  , -0.805, -0.71 , -0.615, -0.52 , -0.425, -0.33 , -0.235,\n",
       "        -0.14 , -0.045,  0.05 ,  0.145,  0.24 ,  0.335,  0.43 ,  0.525,\n",
       "         0.62 ,  0.715,  0.81 ,  0.905,  1.   ]),\n",
       " <BarContainer object of 20 artists>)"
      ]
     },
     "execution_count": 39,
     "metadata": {},
     "output_type": "execute_result"
    },
    {
     "data": {
      "image/png": "[encoded data removed]",
      "text/plain": [
       "<Figure size 432x288 with 1 Axes>"
      ]
     },
     "metadata": {
      "needs_background": "light"
     },
     "output_type": "display_data"
    }
   ],
   "source": [
    "arr_center = 2 * (arr1 - arr1.min()) / (arr1.max() - arr1.min()) -1\n",
    "print(arr_center.min(), arr_center.max())\n",
    "plt.hist(arr_center.reshape(-1), bins=20, range=(arr_center.min()+0.1,arr_center.max()))"
   ]
  },
  {
   "cell_type": "code",
   "execution_count": 100,
   "metadata": {},
   "outputs": [
    {
     "data": {
      "text/plain": [
       "array([[[0, 0, 0, 0],\n",
       "        [0, 0, 1, 0],\n",
       "        [1, 0, 1, 0],\n",
       "        [1, 0, 2, 0],\n",
       "        [2, 0, 2, 0],\n",
       "        [2, 0, 3, 0],\n",
       "        [3, 0, 3, 0],\n",
       "        [3, 0, 4, 0],\n",
       "        [4, 0, 4, 0],\n",
       "        [4, 0, 5, 0]],\n",
       "\n",
       "       [[0, 0, 0, 1],\n",
       "        [0, 0, 1, 1],\n",
       "        [1, 0, 1, 1],\n",
       "        [1, 0, 2, 1],\n",
       "        [2, 0, 2, 1],\n",
       "        [2, 0, 3, 1],\n",
       "        [3, 0, 3, 1],\n",
       "        [3, 0, 4, 1],\n",
       "        [4, 0, 4, 1],\n",
       "        [4, 0, 5, 1]],\n",
       "\n",
       "       [[0, 1, 0, 1],\n",
       "        [0, 1, 1, 1],\n",
       "        [1, 1, 1, 1],\n",
       "        [1, 1, 2, 1],\n",
       "        [2, 1, 2, 1],\n",
       "        [2, 1, 3, 1],\n",
       "        [3, 1, 3, 1],\n",
       "        [3, 1, 4, 1],\n",
       "        [4, 1, 4, 1],\n",
       "        [4, 1, 5, 1]],\n",
       "\n",
       "       [[0, 1, 0, 2],\n",
       "        [0, 1, 1, 2],\n",
       "        [1, 1, 1, 2],\n",
       "        [1, 1, 2, 2],\n",
       "        [2, 1, 2, 2],\n",
       "        [2, 1, 3, 2],\n",
       "        [3, 1, 3, 2],\n",
       "        [3, 1, 4, 2],\n",
       "        [4, 1, 4, 2],\n",
       "        [4, 1, 5, 2]],\n",
       "\n",
       "       [[0, 2, 0, 2],\n",
       "        [0, 2, 1, 2],\n",
       "        [1, 2, 1, 2],\n",
       "        [1, 2, 2, 2],\n",
       "        [2, 2, 2, 2],\n",
       "        [2, 2, 3, 2],\n",
       "        [3, 2, 3, 2],\n",
       "        [3, 2, 4, 2],\n",
       "        [4, 2, 4, 2],\n",
       "        [4, 2, 5, 2]],\n",
       "\n",
       "       [[0, 2, 0, 3],\n",
       "        [0, 2, 1, 3],\n",
       "        [1, 2, 1, 3],\n",
       "        [1, 2, 2, 3],\n",
       "        [2, 2, 2, 3],\n",
       "        [2, 2, 3, 3],\n",
       "        [3, 2, 3, 3],\n",
       "        [3, 2, 4, 3],\n",
       "        [4, 2, 4, 3],\n",
       "        [4, 2, 5, 3]],\n",
       "\n",
       "       [[0, 3, 0, 3],\n",
       "        [0, 3, 1, 3],\n",
       "        [1, 3, 1, 3],\n",
       "        [1, 3, 2, 3],\n",
       "        [2, 3, 2, 3],\n",
       "        [2, 3, 3, 3],\n",
       "        [3, 3, 3, 3],\n",
       "        [3, 3, 4, 3],\n",
       "        [4, 3, 4, 3],\n",
       "        [4, 3, 5, 3]],\n",
       "\n",
       "       [[0, 3, 0, 4],\n",
       "        [0, 3, 1, 4],\n",
       "        [1, 3, 1, 4],\n",
       "        [1, 3, 2, 4],\n",
       "        [2, 3, 2, 4],\n",
       "        [2, 3, 3, 4],\n",
       "        [3, 3, 3, 4],\n",
       "        [3, 3, 4, 4],\n",
       "        [4, 3, 4, 4],\n",
       "        [4, 3, 5, 4]],\n",
       "\n",
       "       [[0, 4, 0, 4],\n",
       "        [0, 4, 1, 4],\n",
       "        [1, 4, 1, 4],\n",
       "        [1, 4, 2, 4],\n",
       "        [2, 4, 2, 4],\n",
       "        [2, 4, 3, 4],\n",
       "        [3, 4, 3, 4],\n",
       "        [3, 4, 4, 4],\n",
       "        [4, 4, 4, 4],\n",
       "        [4, 4, 5, 4]],\n",
       "\n",
       "       [[0, 4, 0, 5],\n",
       "        [0, 4, 1, 5],\n",
       "        [1, 4, 1, 5],\n",
       "        [1, 4, 2, 5],\n",
       "        [2, 4, 2, 5],\n",
       "        [2, 4, 3, 5],\n",
       "        [3, 4, 3, 5],\n",
       "        [3, 4, 4, 5],\n",
       "        [4, 4, 4, 5],\n",
       "        [4, 4, 5, 5]],\n",
       "\n",
       "       [[0, 5, 0, 5],\n",
       "        [0, 5, 1, 5],\n",
       "        [1, 5, 1, 5],\n",
       "        [1, 5, 2, 5],\n",
       "        [2, 5, 2, 5],\n",
       "        [2, 5, 3, 5],\n",
       "        [3, 5, 3, 5],\n",
       "        [3, 5, 4, 5],\n",
       "        [4, 5, 4, 5],\n",
       "        [4, 5, 5, 5]],\n",
       "\n",
       "       [[0, 5, 0, 6],\n",
       "        [0, 5, 1, 6],\n",
       "        [1, 5, 1, 6],\n",
       "        [1, 5, 2, 6],\n",
       "        [2, 5, 2, 6],\n",
       "        [2, 5, 3, 6],\n",
       "        [3, 5, 3, 6],\n",
       "        [3, 5, 4, 6],\n",
       "        [4, 5, 4, 6],\n",
       "        [4, 5, 5, 6]]])"
      ]
     },
     "execution_count": 100,
     "metadata": {},
     "output_type": "execute_result"
    }
   ],
   "source": [
    "pooled_height = 12\n",
    "pooled_width = 10\n",
    "\n",
    "region = np.arange(30).reshape([6,5]) + 1\n",
    "region_height = region.shape[0]\n",
    "region_width = region.shape[1]\n",
    "\n",
    "h_step = region_height / pooled_height\n",
    "w_step = region_width / pooled_width\n",
    "\n",
    "areas = [[\n",
    "        (\n",
    "            w * w_step,\n",
    "            h * h_step,\n",
    "            (w+1) * w_step if (w+1) < pooled_width else region_width,\n",
    "            (h+1) * h_step if (h+1) < pooled_height else region_height,\n",
    "        ) \n",
    "        for w in range(pooled_width)\n",
    "    ]\n",
    "    for h in range(pooled_height)\n",
    "]\n",
    "areas = np.asarray(areas, dtype=np.int)\n",
    "areas\n"
   ]
  },
  {
   "cell_type": "code",
   "execution_count": null,
   "metadata": {},
   "outputs": [],
   "source": []
  }
 ],
 "metadata": {
  "kernelspec": {
   "display_name": "Python 3",
   "language": "python",
   "name": "python3"
  },
  "language_info": {
   "codemirror_mode": {
    "name": "ipython",
    "version": 3
   },
   "file_extension": ".py",
   "mimetype": "text/x-python",
   "name": "python",
   "nbconvert_exporter": "python",
   "pygments_lexer": "ipython3",
   "version": "3.7.7"
  }
 },
 "nbformat": 4,
 "nbformat_minor": 4
}
