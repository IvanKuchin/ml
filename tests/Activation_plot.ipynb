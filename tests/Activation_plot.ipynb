{
 "cells": [
  {
   "cell_type": "code",
   "execution_count": 1,
   "metadata": {},
   "outputs": [],
   "source": [
    "import numpy as np\n",
    "import matplotlib as mpl"
   ]
  },
  {
   "cell_type": "code",
   "execution_count": 2,
   "metadata": {},
   "outputs": [
    {
     "name": "stdout",
     "output_type": "stream",
     "text": [
      "input layer had mean -0.0005241751524281202 and std deviation 1.0025546918344699\n",
      "layer 1 mean 0.00014936690610962373 and std dev 0.10994266688845175\n",
      "layer 2 mean 6.2826991995325315e-06 and std dev 0.024607811771951926\n",
      "layer 3 mean 2.2267569736119225e-06 and std dev 0.005503121272200522\n",
      "layer 4 mean -3.7324065679962508e-06 and std dev 0.0012308642615610269\n",
      "layer 5 mean -3.3135527307220503e-07 and std dev 0.00027604673898018727\n",
      "layer 6 mean -1.879275807139966e-07 and std dev 6.150852135328924e-05\n",
      "layer 7 mean -2.8977689323435335e-08 and std dev 1.3669587329567782e-05\n",
      "layer 8 mean 3.2704397627401635e-09 and std dev 3.0679997572363145e-06\n",
      "layer 9 mean -1.1974688682614104e-09 and std dev 6.873048061367973e-07\n",
      "layer 10 mean 5.1576251673731964e-11 and std dev 1.5286110188130785e-07\n"
     ]
    }
   ],
   "source": [
    "D = np.random.randn(1000, 123)\n",
    "hidden_layer_sizes = [500] * 10\n",
    "nonlinearities = ['tanh'] * len(hidden_layer_sizes)\n",
    "\n",
    "act = {'relu': lambda x:np.maximum(0, x), 'tanh': lambda x:np.tanh(x)}\n",
    "Hs = {}\n",
    "\n",
    "for i in range(len(hidden_layer_sizes)):\n",
    "    X = D if i == 0 else Hs[i-1]\n",
    "    fan_in = X.shape[1]\n",
    "    fan_out = hidden_layer_sizes[i]\n",
    "\n",
    "    W = np.random.randn(fan_in, fan_out) * 0.01\n",
    "\n",
    "    H1 = np.dot(X, W)\n",
    "    H2 = act[nonlinearities[i]](H1)\n",
    "    Hs[i] = H2\n",
    "\n",
    "print(\"input layer had mean {} and std deviation {}\".format(np.mean(D), np.std(D)))\n",
    "layers_mean = [np.mean(Hs[_]) for _ in Hs]\n",
    "layers_std = [np.std(Hs[_]) for _ in Hs]\n",
    "\n",
    "for i in range(len(layers_mean)):\n",
    "    print(\"layer {} mean {} and std dev {}\".format(i+1, layers_mean[i], layers_std[i]))\n"
   ]
  },
  {
   "cell_type": "code",
   "execution_count": null,
   "metadata": {},
   "outputs": [],
   "source": []
  }
 ],
 "metadata": {
  "kernelspec": {
   "display_name": "Python 3",
   "language": "python",
   "name": "python3"
  },
  "language_info": {
   "codemirror_mode": {
    "name": "ipython",
    "version": 3
   },
   "file_extension": ".py",
   "mimetype": "text/x-python",
   "name": "python",
   "nbconvert_exporter": "python",
   "pygments_lexer": "ipython3",
   "version": "3.7.7"
  }
 },
 "nbformat": 4,
 "nbformat_minor": 4
}
