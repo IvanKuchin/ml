{
 "cells": [
  {
   "cell_type": "code",
   "execution_count": 2,
   "metadata": {},
   "outputs": [],
   "source": [
    "import tensorflow as tf\n",
    "import numpy as np\n",
    "\n",
    "from tensorflow.train  import BytesList, FloatList, Int64List\n",
    "from tensorflow.train  import Example, Features, Feature\n"
   ]
  },
  {
   "cell_type": "code",
   "execution_count": 26,
   "metadata": {},
   "outputs": [],
   "source": [
    "f_name = \"my_data2.tfrecord\"\n",
    "NUM_SAMPLES=10\n",
    "\n",
    "with tf.io.TFRecordWriter(f_name) as f:\n",
    "    for idx in tf.range(NUM_SAMPLES):\n",
    "\n",
    "        feature = {\n",
    "            \"label\": Feature(int64_list=tf.train.Int64List(value=[155] )),\n",
    "            \"shape\": Feature(int64_list=tf.train.Int64List(value=[44,55])),\n",
    "            \"ct\": Feature(float_list=tf.train.FloatList(value=tf.random.normal([15]))),\n",
    "        }\n",
    "\n",
    "        example_proto = tf.train.Example(features = tf.train.Features(feature=feature))\n",
    "        f.write(example_proto.SerializeToString())\n",
    "\n",
    "    "
   ]
  },
  {
   "cell_type": "code",
   "execution_count": 27,
   "metadata": {
    "scrolled": false
   },
   "outputs": [
    {
     "name": "stdout",
     "output_type": "stream",
     "text": [
      "0 )\n",
      "[[155]]  ->  [[44 55]]  ->  (15,)\n",
      "1 )\n",
      "[[155]]  ->  [[44 55]]  ->  (15,)\n",
      "2 )\n",
      "[[155]]  ->  [[44 55]]  ->  (15,)\n",
      "3 )\n",
      "[[155]]  ->  [[44 55]]  ->  (15,)\n",
      "4 )\n",
      "[[155]]  ->  [[44 55]]  ->  (15,)\n",
      "5 )\n",
      "[[155]]  ->  [[44 55]]  ->  (15,)\n",
      "6 )\n",
      "[[155]]  ->  [[44 55]]  ->  (15,)\n",
      "7 )\n",
      "[[155]]  ->  [[44 55]]  ->  (15,)\n",
      "8 )\n",
      "[[155]]  ->  [[44 55]]  ->  (15,)\n",
      "9 )\n",
      "[[155]]  ->  [[44 55]]  ->  (15,)\n",
      "10 )\n",
      "[[155]]  ->  [[44 55]]  ->  (15,)\n",
      "11 )\n",
      "[[155]]  ->  [[44 55]]  ->  (15,)\n",
      "12 )\n",
      "[[155]]  ->  [[44 55]]  ->  (15,)\n",
      "13 )\n",
      "[[155]]  ->  [[44 55]]  ->  (15,)\n",
      "14 )\n",
      "[[155]]  ->  [[44 55]]  ->  (15,)\n",
      "15 )\n",
      "[[155]]  ->  [[44 55]]  ->  (15,)\n",
      "16 )\n",
      "[[155]]  ->  [[44 55]]  ->  (15,)\n",
      "17 )\n",
      "[[155]]  ->  [[44 55]]  ->  (15,)\n",
      "18 )\n",
      "[[155]]  ->  [[44 55]]  ->  (15,)\n",
      "19 )\n",
      "[[155]]  ->  [[44 55]]  ->  (15,)\n"
     ]
    }
   ],
   "source": [
    "feature_description = {\n",
    "    \"label\": tf.io.FixedLenFeature([1], tf.int64, default_value=0),\n",
    "    \"shape\": tf.io.FixedLenFeature([2], tf.int64, default_value=[5,5]),\n",
    "#     \"ct\": tf.io.FixedLenFeature([30], tf.float32, default_value=0),\n",
    "    \"ct\": tf.io.VarLenFeature(tf.float32),\n",
    "}\n",
    "\n",
    "def parse_tfrecord(raw_record):\n",
    "    return tf.io.parse_single_example(raw_record, feature_description)\n",
    "\n",
    "for idx, record in enumerate(tf.data.TFRecordDataset([f_name, \"my_data2.tfrecord\"]).map(parse_tfrecord).batch(1)):\n",
    "    print(idx, \")\")\n",
    "    print(record[\"label\"].numpy(), \" -> \", record[\"shape\"].numpy(), \" -> \", record[\"ct\"].values.shape)\n"
   ]
  },
  {
   "cell_type": "code",
   "execution_count": 19,
   "metadata": {},
   "outputs": [
    {
     "name": "stdout",
     "output_type": "stream",
     "text": [
      "arr shape: (3375,)\n"
     ]
    }
   ],
   "source": [
    "rand_arr = tf.random.uniform([15, 15, 15])\n",
    "reshaped_arr = tf.reshape(rand_arr, -1)\n",
    "\n",
    "print(\"arr shape:\", reshaped_arr.shape)"
   ]
  },
  {
   "cell_type": "code",
   "execution_count": null,
   "metadata": {},
   "outputs": [],
   "source": []
  }
 ],
 "metadata": {
  "kernelspec": {
   "display_name": "Python 3",
   "language": "python",
   "name": "python3"
  },
  "language_info": {
   "codemirror_mode": {
    "name": "ipython",
    "version": 3
   },
   "file_extension": ".py",
   "mimetype": "text/x-python",
   "name": "python",
   "nbconvert_exporter": "python",
   "pygments_lexer": "ipython3",
   "version": "3.7.7"
  }
 },
 "nbformat": 4,
 "nbformat_minor": 4
}
