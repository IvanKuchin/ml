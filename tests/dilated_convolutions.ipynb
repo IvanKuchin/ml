{
 "cells": [
  {
   "cell_type": "code",
   "execution_count": 14,
   "metadata": {},
   "outputs": [],
   "source": [
    "import tensorflow as tf\n",
    "import numpy as np\n",
    "from scipy.signal import convolve2d\n",
    "from tensorflow import keras"
   ]
  },
  {
   "cell_type": "code",
   "execution_count": 105,
   "metadata": {},
   "outputs": [
    {
     "name": "stdout",
     "output_type": "stream",
     "text": [
      "====== np.convolve2d\n",
      "shape: (8, 8)\n",
      "[[ 0.  0.  0.  0.  0.  0.  0.  0.]\n",
      " [ 0.  1.  2.  3.  2.  1.  0.  0.]\n",
      " [ 0.  2.  4.  6.  4.  2.  0.  0.]\n",
      " [ 0.  3.  6. 17. 14. 11.  0.  0.]\n",
      " [ 0.  2.  4. 14. 12. 10.  0.  0.]\n",
      " [ 0.  1.  2. 11. 10.  9.  0.  0.]\n",
      " [ 0.  0.  0.  0.  0.  0.  0.  0.]\n",
      " [ 0.  0.  0.  0.  0.  0.  0.  0.]]\n",
      "====== keras Conv2D\n",
      "kernel_initializer shape: (3, 3, 1, 1)\n",
      "kernel: [<tf.Variable 'conv2d_77/kernel:0' shape=(3, 3, 1, 1) dtype=float32, numpy=\n",
      "array([[[[9.]],\n",
      "\n",
      "        [[1.]],\n",
      "\n",
      "        [[1.]]],\n",
      "\n",
      "\n",
      "       [[[1.]],\n",
      "\n",
      "        [[1.]],\n",
      "\n",
      "        [[1.]]],\n",
      "\n",
      "\n",
      "       [[[1.]],\n",
      "\n",
      "        [[1.]],\n",
      "\n",
      "        [[1.]]]], dtype=float32)>\n",
      " <tf.Variable 'conv2d_77/bias:0' shape=(1,) dtype=float32, numpy=array([0.], dtype=float32)>]\n",
      "shape: (1, 6, 6, 1)\n",
      "[[ 1.  2.  1.  2.  1.  1.]\n",
      " [ 2.  4.  2.  4.  2.  2.]\n",
      " [ 1.  2.  1.  2.  1.  1.]\n",
      " [ 2.  4.  2. 12. 10. 10.]\n",
      " [ 1.  2.  1. 10.  9.  9.]\n",
      " [ 1.  2.  1. 10.  9.  9.]]\n"
     ]
    }
   ],
   "source": [
    "mat_size = 10\n",
    "matrix = np.zeros((mat_size, mat_size)).astype(np.float32)\n",
    "for x in range(3,6):\n",
    "    for y in range(3,6):\n",
    "        matrix[x,y] = 1\n",
    "\n",
    "kernel = np.array([\n",
    "    [1,2,3],\n",
    "    [4,5,6],\n",
    "    [7,8,9]\n",
    "]).astype(np.float32)\n",
    "kernel = np.array([\n",
    "    [1,1,1],\n",
    "    [1,1,1],\n",
    "    [1,1,9]\n",
    "]).astype(np.float32)\n",
    "\n",
    "print(\"====== np.convolve2d\")\n",
    "np_conv = convolve2d(matrix, kernel, mode=\"valid\")\n",
    "print(\"shape:\", np_conv.shape)\n",
    "print(np_conv)\n",
    "\n",
    "def kernel_init_l1(shape, dtype=None):\n",
    "    print(\"kernel_initializer shape:\", shape)\n",
    "    return (tf.reshape(tf.constant(np.rot90(kernel,2), dtype=dtype), (3, 3, 1, 1)))\n",
    "\n",
    "print(\"====== keras Conv2D\")\n",
    "keras_x = tf.constant(np.expand_dims(np.expand_dims(matrix, axis=0), axis=3))\n",
    "layer = keras.layers.Conv2D(1, 3, activation=\"relu\", \n",
    "                            padding=\"valid\",\n",
    "                            dilation_rate=(2,2),  # --- dilation rate\n",
    "                            kernel_initializer=kernel_init_l1)\n",
    "keras_y = layer(keras_x)\n",
    "print(\"kernel:\", np.squeeze(np.array(layer.weights)))\n",
    "print(\"shape:\", keras_y.shape)\n",
    "print(np.squeeze(np.array(keras_y)))\n",
    "\n",
    "# print(kernel_init_l1((3,3,1,1), tf.float32).shape)"
   ]
  },
  {
   "cell_type": "code",
   "execution_count": null,
   "metadata": {},
   "outputs": [],
   "source": []
  }
 ],
 "metadata": {
  "kernelspec": {
   "display_name": "Python 3",
   "language": "python",
   "name": "python3"
  },
  "language_info": {
   "codemirror_mode": {
    "name": "ipython",
    "version": 3
   },
   "file_extension": ".py",
   "mimetype": "text/x-python",
   "name": "python",
   "nbconvert_exporter": "python",
   "pygments_lexer": "ipython3",
   "version": "3.8.3"
  }
 },
 "nbformat": 4,
 "nbformat_minor": 4
}
