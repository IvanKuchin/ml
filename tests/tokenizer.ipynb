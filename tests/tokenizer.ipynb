{
 "cells": [
  {
   "cell_type": "code",
   "execution_count": 57,
   "metadata": {},
   "outputs": [],
   "source": [
    "import tensorflow as tf\n",
    "import numpy as np"
   ]
  },
  {
   "cell_type": "code",
   "execution_count": 46,
   "metadata": {},
   "outputs": [],
   "source": [
    "texts = [\"First, you'll tokenize the captions (for example, by splitting on spaces).\",\n",
    "         \"This gives us a vocabulary of all of the unique words in the data (for example, surfing, football, and so on).\",\n",
    "        \"You then create word-to-index and index-to-word mappings.\"]\n",
    "\n",
    "tokenizer = tf.keras.preprocessing.text.Tokenizer( oov_token=\"<unk>\", filters=\"!\\\"#$%&()*+.,-/:;=?@[\\]^_`{|}~ \")\n",
    "tokenizer.fit_on_texts(texts)\n",
    "\n",
    "tokenizer.word_index[\"index\"]=0\n",
    "tokenizer.index_word[0] = \"index\"\n",
    "\n",
    "text_seq = tokenizer.texts_to_sequences(texts)"
   ]
  },
  {
   "cell_type": "code",
   "execution_count": 47,
   "metadata": {},
   "outputs": [
    {
     "data": {
      "text/plain": [
       "[[11, 12, 13, 2, 14, 3, 4, 15, 16, 5, 17],\n",
       " [18, 19, 20, 21, 22, 6, 23, 6, 2, 24, 25, 26, 2, 27, 3, 4, 28, 29, 7, 30, 5],\n",
       " [31, 32, 33, 8, 9, 0, 7, 0, 9, 8, 34]]"
      ]
     },
     "execution_count": 47,
     "metadata": {},
     "output_type": "execute_result"
    }
   ],
   "source": [
    "text_seq"
   ]
  },
  {
   "cell_type": "code",
   "execution_count": 56,
   "metadata": {},
   "outputs": [
    {
     "data": {
      "text/plain": [
       "array([[11, 12, 13,  2, 14,  3,  4, 15, 16,  5, 17,  0,  0,  0,  0,  0,\n",
       "         0,  0,  0,  0,  0],\n",
       "       [18, 19, 20, 21, 22,  6, 23,  6,  2, 24, 25, 26,  2, 27,  3,  4,\n",
       "        28, 29,  7, 30,  5],\n",
       "       [31, 32, 33,  8,  9,  0,  7,  0,  9,  8, 34,  0,  0,  0,  0,  0,\n",
       "         0,  0,  0,  0,  0]])"
      ]
     },
     "execution_count": 56,
     "metadata": {},
     "output_type": "execute_result"
    }
   ],
   "source": [
    "tf.keras.preprocessing.sequence.pad_sequences(text_seq, padding=\"post\")"
   ]
  },
  {
   "cell_type": "code",
   "execution_count": 52,
   "metadata": {},
   "outputs": [
    {
     "name": "stdout",
     "output_type": "stream",
     "text": [
      "first you'll tokenize the captions for example by splitting on spaces \n",
      "this gives us a vocabulary of all of the unique words in the data for example surfing football and so on \n",
      "you then create word to index and index to word mappings \n"
     ]
    }
   ],
   "source": [
    "def seq_text(sequnces):\n",
    "    for sequence in sequnces:\n",
    "        for word_id in sequence:\n",
    "            print(tokenizer.index_word[word_id], end=\" \")\n",
    "        print()\n",
    "        \n",
    "seq_text(text_seq)"
   ]
  },
  {
   "cell_type": "code",
   "execution_count": null,
   "metadata": {},
   "outputs": [],
   "source": []
  }
 ],
 "metadata": {
  "kernelspec": {
   "display_name": "Python 3",
   "language": "python",
   "name": "python3"
  },
  "language_info": {
   "codemirror_mode": {
    "name": "ipython",
    "version": 3
   },
   "file_extension": ".py",
   "mimetype": "text/x-python",
   "name": "python",
   "nbconvert_exporter": "python",
   "pygments_lexer": "ipython3",
   "version": "3.8.3"
  }
 },
 "nbformat": 4,
 "nbformat_minor": 4
}
