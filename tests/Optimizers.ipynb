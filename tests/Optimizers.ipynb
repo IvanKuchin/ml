{
 "cells": [
  {
   "cell_type": "code",
   "execution_count": 1,
   "metadata": {},
   "outputs": [],
   "source": [
    "import tensorflow as tf\n",
    "import numpy as np\n",
    "from scipy.signal import convolve2d\n",
    "from tensorflow import keras"
   ]
  },
  {
   "cell_type": "code",
   "execution_count": 15,
   "metadata": {},
   "outputs": [
    {
     "name": "stdout",
     "output_type": "stream",
     "text": [
      "1 ) 9.0\n",
      "2 ) 8.1\n",
      "3 ) 7.2900004\n",
      "4 ) 6.5610003\n",
      "5 ) 5.9049006\n",
      "6 ) 5.3144107\n",
      "7 ) 4.7829695\n",
      "8 ) 4.3046727\n",
      "9 ) 3.8742054\n",
      "10 ) 3.486785\n"
     ]
    }
   ],
   "source": [
    "opt = keras.optimizers.SGD(learning_rate=0.1)\n",
    "var = tf.Variable(10.0)\n",
    "loss = lambda: (var**2)/2\n",
    "for idx in range(10):\n",
    "    step_count = opt.minimize(loss, [var])\n",
    "    print(step_count.numpy(), \")\", var.numpy())\n"
   ]
  },
  {
   "cell_type": "code",
   "execution_count": 16,
   "metadata": {},
   "outputs": [
    {
     "name": "stdout",
     "output_type": "stream",
     "text": [
      "1 ) 9.0\n",
      "2 ) 7.2\n",
      "3 ) 4.8599997\n",
      "4 ) 2.2679996\n",
      "5 ) -0.29160023\n",
      "6 ) -2.56608\n",
      "7 ) -4.356504\n",
      "8 ) -5.532235\n",
      "9 ) -6.0371695\n",
      "10 ) -5.887893\n"
     ]
    }
   ],
   "source": [
    "opt = keras.optimizers.SGD(learning_rate=0.1, momentum=0.9)\n",
    "var = tf.Variable(10.0)\n",
    "loss = lambda: (var**2)/2\n",
    "for idx in range(10):\n",
    "    step_count = opt.minimize(loss, [var])\n",
    "    print(step_count.numpy(), \")\", var.numpy())\n"
   ]
  },
  {
   "cell_type": "code",
   "execution_count": 20,
   "metadata": {},
   "outputs": [
    {
     "name": "stdout",
     "output_type": "stream",
     "text": [
      "1 ) 8.1\n",
      "2 ) 5.7510004\n",
      "3 ) 3.2732105\n",
      "4 ) 0.9388797\n",
      "5 ) -1.0458162\n",
      "6 ) -2.5488381\n",
      "7 ) -3.5114021\n",
      "8 ) -3.9399385\n",
      "9 ) -3.8930593\n",
      "10 ) -3.4657812\n"
     ]
    }
   ],
   "source": [
    "opt = keras.optimizers.SGD(learning_rate=0.1, momentum=0.9, nesterov=True)\n",
    "var = tf.Variable(10.0)\n",
    "loss = lambda: (var**2)/2\n",
    "for idx in range(10):\n",
    "    step_count = opt.minimize(loss, [var])\n",
    "    print(step_count.numpy(), \")\", var.numpy())"
   ]
  },
  {
   "cell_type": "code",
   "execution_count": null,
   "metadata": {},
   "outputs": [],
   "source": []
  }
 ],
 "metadata": {
  "kernelspec": {
   "display_name": "Python 3",
   "language": "python",
   "name": "python3"
  },
  "language_info": {
   "codemirror_mode": {
    "name": "ipython",
    "version": 3
   },
   "file_extension": ".py",
   "mimetype": "text/x-python",
   "name": "python",
   "nbconvert_exporter": "python",
   "pygments_lexer": "ipython3",
   "version": "3.7.3"
  }
 },
 "nbformat": 4,
 "nbformat_minor": 4
}
