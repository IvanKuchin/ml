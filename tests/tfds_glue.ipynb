{
 "cells": [
  {
   "cell_type": "code",
   "execution_count": 1,
   "metadata": {},
   "outputs": [],
   "source": [
    "import tensorflow as tf\n",
    "import tensorflow_datasets as tfds\n"
   ]
  },
  {
   "cell_type": "code",
   "execution_count": 2,
   "metadata": {},
   "outputs": [],
   "source": [
    "glue, info = tfds.load('glue/mrpc', with_info = True, batch_size = -1)"
   ]
  },
  {
   "cell_type": "code",
   "execution_count": 3,
   "metadata": {},
   "outputs": [
    {
     "data": {
      "text/plain": [
       "['test', 'train', 'validation']"
      ]
     },
     "execution_count": 3,
     "metadata": {},
     "output_type": "execute_result"
    }
   ],
   "source": [
    "list(glue.keys())"
   ]
  },
  {
   "cell_type": "code",
   "execution_count": 4,
   "metadata": {},
   "outputs": [
    {
     "data": {
      "text/plain": [
       "tfds.core.DatasetInfo(\n",
       "    name='glue',\n",
       "    version=1.0.0,\n",
       "    description='GLUE, the General Language Understanding Evaluation benchmark\n",
       "(https://gluebenchmark.com/) is a collection of resources for training,\n",
       "evaluating, and analyzing natural language understanding systems.',\n",
       "    homepage='https://www.microsoft.com/en-us/download/details.aspx?id=52398',\n",
       "    features=FeaturesDict({\n",
       "        'idx': tf.int32,\n",
       "        'label': ClassLabel(shape=(), dtype=tf.int64, num_classes=2),\n",
       "        'sentence1': Text(shape=(), dtype=tf.string),\n",
       "        'sentence2': Text(shape=(), dtype=tf.string),\n",
       "    }),\n",
       "    total_num_examples=5801,\n",
       "    splits={\n",
       "        'test': 1725,\n",
       "        'train': 3668,\n",
       "        'validation': 408,\n",
       "    },\n",
       "    supervised_keys=None,\n",
       "    citation=\"\"\"@inproceedings{dolan2005automatically,\n",
       "      title={Automatically constructing a corpus of sentential paraphrases},\n",
       "      author={Dolan, William B and Brockett, Chris},\n",
       "      booktitle={Proceedings of the Third International Workshop on Paraphrasing (IWP2005)},\n",
       "      year={2005}\n",
       "    }\n",
       "    @inproceedings{wang2019glue,\n",
       "      title={{GLUE}: A Multi-Task Benchmark and Analysis Platform for Natural Language Understanding},\n",
       "      author={Wang, Alex and Singh, Amanpreet and Michael, Julian and Hill, Felix and Levy, Omer and Bowman, Samuel R.},\n",
       "      note={In the Proceedings of ICLR.},\n",
       "      year={2019}\n",
       "    }\n",
       "    \n",
       "    Note that each GLUE dataset has its own citation. Please see the source to see\n",
       "    the correct citation for each contained dataset.\"\"\",\n",
       "    redistribution_info=,\n",
       ")"
      ]
     },
     "execution_count": 4,
     "metadata": {},
     "output_type": "execute_result"
    }
   ],
   "source": [
    "info"
   ]
  },
  {
   "cell_type": "code",
   "execution_count": 7,
   "metadata": {},
   "outputs": [
    {
     "data": {
      "text/plain": [
       "FeaturesDict({\n",
       "    'idx': tf.int32,\n",
       "    'label': ClassLabel(shape=(), dtype=tf.int64, num_classes=2),\n",
       "    'sentence1': Text(shape=(), dtype=tf.string),\n",
       "    'sentence2': Text(shape=(), dtype=tf.string),\n",
       "})"
      ]
     },
     "execution_count": 7,
     "metadata": {},
     "output_type": "execute_result"
    }
   ],
   "source": [
    "info.features"
   ]
  },
  {
   "cell_type": "code",
   "execution_count": 11,
   "metadata": {},
   "outputs": [
    {
     "data": {
      "text/plain": [
       "['not_equivalent', 'equivalent']"
      ]
     },
     "execution_count": 11,
     "metadata": {},
     "output_type": "execute_result"
    }
   ],
   "source": [
    "info.features['label'].names"
   ]
  },
  {
   "cell_type": "code",
   "execution_count": 16,
   "metadata": {},
   "outputs": [
    {
     "data": {
      "text/plain": [
       "{'idx': <tf.Tensor: shape=(3668,), dtype=int32, numpy=array([1680, 1456, 3017, ..., 3682, 3619, 3624])>,\n",
       " 'label': <tf.Tensor: shape=(3668,), dtype=int64, numpy=array([0, 0, 1, ..., 1, 0, 1], dtype=int64)>,\n",
       " 'sentence1': <tf.Tensor: shape=(3668,), dtype=string, numpy=\n",
       " array([b'The identical rovers will act as robotic geologists , searching for evidence of past water .',\n",
       "        b\"Less than 20 percent of Boise 's sales would come from making lumber and paper after the OfficeMax purchase is completed .\",\n",
       "        b'Spider-Man snatched $ 114.7 million in its debut last year and went on to capture $ 403.7 million .',\n",
       "        ...,\n",
       "        b'Stack said he did no work for Triumph until 1999 , when a grand jury began investigating Silvester .',\n",
       "        b'The giant rock was first observed on August 24 by Lincoln Near-Earth Asteroid Research Program , based in Socorro , New Mexico .',\n",
       "        b\"Two of Collins ' top assistants will consult with state police during the investigation and determine if any federal laws were violated , he said Friday .\"],\n",
       "       dtype=object)>,\n",
       " 'sentence2': <tf.Tensor: shape=(3668,), dtype=string, numpy=\n",
       " array([b'The rovers act as robotic geologists , moving on six wheels .',\n",
       "        b\"Less than 20 percent of Boise 's sales would come from making lumber and paper after the OfficeMax purchase is complete , assuming those businesses aren 't sold .\",\n",
       "        b'Spider-Man , rated PG-13 , snatched $ 114.7 million in its first weekend and went on to take in $ 403.7 million .',\n",
       "        ...,\n",
       "        b'Stack testified that he was not asked to do any work for Triumph until June 1999 , after a grand jury investigating Silvester subpoenaed Triumph .',\n",
       "        b'The rock was first observed by the Lincoln Near Earth Asteroid Research Program , also known as LINEAR .',\n",
       "        b'U.S. Attorney Jeffrey Collins also said two of his assistants will consult with state police during the investigation and determine if any federal laws were broken .'],\n",
       "       dtype=object)>}"
      ]
     },
     "execution_count": 16,
     "metadata": {},
     "output_type": "execute_result"
    }
   ],
   "source": [
    "glue['train']"
   ]
  },
  {
   "cell_type": "code",
   "execution_count": 30,
   "metadata": {},
   "outputs": [
    {
     "name": "stdout",
     "output_type": "stream",
     "text": [
      "idx      : 1456\n",
      "label    : 0\n",
      "sentence1: b\"Less than 20 percent of Boise 's sales would come from making lumber and paper after the OfficeMax purchase is completed .\"\n",
      "sentence2: b\"Less than 20 percent of Boise 's sales would come from making lumber and paper after the OfficeMax purchase is complete , assuming those businesses aren 't sold .\"\n"
     ]
    }
   ],
   "source": [
    "for key, value in glue['train'].items():\n",
    "    print(f'{key:9s}: {value[1]}')"
   ]
  },
  {
   "cell_type": "code",
   "execution_count": 43,
   "metadata": {},
   "outputs": [
    {
     "name": "stdout",
     "output_type": "stream",
     "text": [
      "tf.Tensor([[0.6531817  0.6760706  0.65824103 0.38519073 0.5814389 ]], shape=(1, 5), dtype=float32)\n",
      "tf.Tensor([[0.82234144 0.5917027  0.71501493 0.44235492 0.74261975]], shape=(1, 5), dtype=float32)\n",
      "tf.Tensor([[0.33664274 0.42757535 0.01813698 0.50278234 0.9266362 ]], shape=(1, 5), dtype=float32)\n"
     ]
    }
   ],
   "source": [
    "rnd = tf.random.uniform((3,5))\n",
    "ds = tf.data.Dataset.from_tensor_slices(rnd)\n",
    "\n",
    "for item in ds.batch(1):\n",
    "    print(item)"
   ]
  },
  {
   "cell_type": "code",
   "execution_count": null,
   "metadata": {},
   "outputs": [],
   "source": []
  }
 ],
 "metadata": {
  "kernelspec": {
   "display_name": "Python 3",
   "language": "python",
   "name": "python3"
  },
  "language_info": {
   "codemirror_mode": {
    "name": "ipython",
    "version": 3
   },
   "file_extension": ".py",
   "mimetype": "text/x-python",
   "name": "python",
   "nbconvert_exporter": "python",
   "pygments_lexer": "ipython3",
   "version": "3.8.3"
  }
 },
 "nbformat": 4,
 "nbformat_minor": 4
}
