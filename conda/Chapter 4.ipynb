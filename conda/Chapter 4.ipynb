{
 "cells": [
  {
   "cell_type": "code",
   "execution_count": 1,
   "metadata": {},
   "outputs": [],
   "source": [
    "import numpy as np\n",
    "\n",
    "X = 2 * np.random.rand(100, 1)\n",
    "y = 4 + 3 * X + np.random.randn(100, 1)"
   ]
  },
  {
   "cell_type": "code",
   "execution_count": 2,
   "metadata": {},
   "outputs": [
    {
     "data": {
      "text/plain": [
       "array([[4.07524596],\n",
       "       [2.95466511]])"
      ]
     },
     "execution_count": 2,
     "metadata": {},
     "output_type": "execute_result"
    }
   ],
   "source": [
    "X_b = np.c_[np.ones((100, 1)), X]\n",
    "theta_best = np.linalg.inv(X_b.T.dot(X_b)).dot(X_b.T).dot(y)\n",
    "theta_best"
   ]
  },
  {
   "cell_type": "code",
   "execution_count": 3,
   "metadata": {},
   "outputs": [
    {
     "data": {
      "text/plain": [
       "<Figure size 640x480 with 1 Axes>"
      ]
     },
     "metadata": {},
     "output_type": "display_data"
    }
   ],
   "source": [
    "import matplotlib.pyplot as plt\n",
    "\n",
    "plt.plot(X, y, \"b.\")\n",
    "plt.show()"
   ]
  },
  {
   "cell_type": "code",
   "execution_count": 4,
   "metadata": {},
   "outputs": [
    {
     "data": {
      "text/plain": [
       "(array([4.07524596]), array([[2.95466511]]))"
      ]
     },
     "execution_count": 4,
     "metadata": {},
     "output_type": "execute_result"
    }
   ],
   "source": [
    "from sklearn.linear_model  import LinearRegression\n",
    "\n",
    "lin_reg = LinearRegression()\n",
    "lin_reg.fit(X, y)\n",
    "lin_reg.intercept_, lin_reg.coef_"
   ]
  },
  {
   "cell_type": "code",
   "execution_count": 5,
   "metadata": {},
   "outputs": [
    {
     "data": {
      "text/plain": [
       "array([[4.07524596],\n",
       "       [9.98457617]])"
      ]
     },
     "execution_count": 5,
     "metadata": {},
     "output_type": "execute_result"
    }
   ],
   "source": [
    "lin_reg.predict(np.array([[0], [2]]))"
   ]
  },
  {
   "cell_type": "code",
   "execution_count": 6,
   "metadata": {},
   "outputs": [],
   "source": [
    "m = 100\n",
    "X = -3 + 6 * np.random.rand(m, 1)\n",
    "y = 0.5 * X**2 + 2 * X + 2 + np.random.randn(m, 1)"
   ]
  },
  {
   "cell_type": "code",
   "execution_count": 7,
   "metadata": {},
   "outputs": [
    {
     "data": {
      "text/plain": [
       "[<matplotlib.lines.Line2D at 0x1e457f036a0>]"
      ]
     },
     "execution_count": 7,
     "metadata": {},
     "output_type": "execute_result"
    },
    {
     "data": {
      "image/png": "[encoded data removed]",
      "text/plain": [
       "<Figure size 432x288 with 1 Axes>"
      ]
     },
     "metadata": {
      "needs_background": "light"
     },
     "output_type": "display_data"
    }
   ],
   "source": [
    "plt.plot(X, y, \"b.\")"
   ]
  },
  {
   "cell_type": "code",
   "execution_count": 8,
   "metadata": {},
   "outputs": [],
   "source": [
    "from sklearn.preprocessing import PolynomialFeatures\n",
    "\n",
    "poly_features = PolynomialFeatures(degree=4, include_bias=False)\n",
    "X_poly = poly_features.fit_transform(X)"
   ]
  },
  {
   "cell_type": "code",
   "execution_count": 9,
   "metadata": {},
   "outputs": [
    {
     "data": {
      "text/plain": [
       "array([ 1.97629298,  3.90573393,  7.71887455, 15.25475756])"
      ]
     },
     "execution_count": 9,
     "metadata": {},
     "output_type": "execute_result"
    }
   ],
   "source": [
    "X_poly[0]"
   ]
  },
  {
   "cell_type": "code",
   "execution_count": 10,
   "metadata": {},
   "outputs": [
    {
     "data": {
      "text/plain": [
       "array([1.97629298])"
      ]
     },
     "execution_count": 10,
     "metadata": {},
     "output_type": "execute_result"
    }
   ],
   "source": [
    "X[0]"
   ]
  },
  {
   "cell_type": "code",
   "execution_count": 11,
   "metadata": {},
   "outputs": [
    {
     "data": {
      "text/plain": [
       "(array([2.02449601]),\n",
       " array([[ 2.06632448,  0.57047672, -0.01704832, -0.00652298]]))"
      ]
     },
     "execution_count": 11,
     "metadata": {},
     "output_type": "execute_result"
    }
   ],
   "source": [
    "lin_reg = LinearRegression()\n",
    "lin_reg.fit(X_poly, y)\n",
    "lin_reg.intercept_, lin_reg.coef_"
   ]
  },
  {
   "cell_type": "code",
   "execution_count": 12,
   "metadata": {},
   "outputs": [],
   "source": [
    "y_fourth_degree = lin_reg.coef_[0][3] * X**4 + lin_reg.coef_[0][2] * X**3 + lin_reg.coef_[0][1] * X**2 + lin_reg.coef_[0][0] * X + lin_reg.intercept_[0]"
   ]
  },
  {
   "cell_type": "code",
   "execution_count": 13,
   "metadata": {},
   "outputs": [
    {
     "data": {
      "text/plain": [
       "[<matplotlib.lines.Line2D at 0x1e457f70e80>]"
      ]
     },
     "execution_count": 13,
     "metadata": {},
     "output_type": "execute_result"
    },
    {
     "data": {
      "image/png": "[encoded data removed]",
      "text/plain": [
       "<Figure size 432x288 with 1 Axes>"
      ]
     },
     "metadata": {
      "needs_background": "light"
     },
     "output_type": "display_data"
    }
   ],
   "source": [
    "plt.plot(X, y, \"b.\")\n",
    "plt.plot(X, y_fourth_degree, \"r+\")\n"
   ]
  },
  {
   "cell_type": "code",
   "execution_count": 14,
   "metadata": {},
   "outputs": [],
   "source": [
    "from sklearn.metrics import mean_squared_error\n",
    "from sklearn.model_selection import train_test_split\n",
    "\n",
    "def plot_learnin_curves(model, X, y):\n",
    "    X_train, X_cross, y_train, y_cross = train_test_split(X, y, test_size=0.2)\n",
    "    train_errors = []\n",
    "    cross_errors = []\n",
    "    \n",
    "    for m in range(1, len(X_train)):\n",
    "        model.fit(X_train[:m], y_train[:m])\n",
    "        y_train_pred = model.predict(X_train[:m])\n",
    "        y_cross_pred = model.predict(X_cross)\n",
    "        \n",
    "        train_errors.append(mean_squared_error(y_train[:m], y_train_pred))\n",
    "        cross_errors.append(mean_squared_error(y_cross, y_cross_pred))\n",
    "        \n",
    "    plt.plot(np.sqrt(train_errors), \"b-+\", label=\"training set\")\n",
    "    plt.plot(np.sqrt(cross_errors), \"r-\", label=\"crossval set\")\n",
    "    plt.legend()\n",
    "    plt.ylim(top=4)\n",
    "    plt.ylim(bottom=0)\n",
    "    "
   ]
  },
  {
   "cell_type": "code",
   "execution_count": 15,
   "metadata": {},
   "outputs": [
    {
     "data": {
      "image/png": "[encoded data removed]",
      "text/plain": [
       "<Figure size 432x288 with 1 Axes>"
      ]
     },
     "metadata": {
      "needs_background": "light"
     },
     "output_type": "display_data"
    }
   ],
   "source": [
    "lin_reg = LinearRegression()\n",
    "plot_learnin_curves(lin_reg, X, y)"
   ]
  },
  {
   "cell_type": "code",
   "execution_count": 16,
   "metadata": {},
   "outputs": [
    {
     "data": {
      "image/png": "[encoded data removed]",
      "text/plain": [
       "<Figure size 432x288 with 1 Axes>"
      ]
     },
     "metadata": {
      "needs_background": "light"
     },
     "output_type": "display_data"
    }
   ],
   "source": [
    "from sklearn.pipeline import Pipeline\n",
    "\n",
    "polynomial_regression = Pipeline([\n",
    "    (\"poly_features\", PolynomialFeatures(degree = 10, include_bias=False)),\n",
    "    (\"linear_regression\", LinearRegression())\n",
    "])\n",
    "\n",
    "plot_learnin_curves(polynomial_regression, X, y)"
   ]
  },
  {
   "cell_type": "code",
   "execution_count": 17,
   "metadata": {},
   "outputs": [
    {
     "data": {
      "text/plain": [
       "(100, 1)"
      ]
     },
     "execution_count": 17,
     "metadata": {},
     "output_type": "execute_result"
    }
   ],
   "source": [
    "y.shape"
   ]
  },
  {
   "cell_type": "code",
   "execution_count": 18,
   "metadata": {},
   "outputs": [
    {
     "data": {
      "text/plain": [
       "(100,)"
      ]
     },
     "execution_count": 18,
     "metadata": {},
     "output_type": "execute_result"
    }
   ],
   "source": [
    "y.ravel().shape"
   ]
  },
  {
   "cell_type": "code",
   "execution_count": 19,
   "metadata": {},
   "outputs": [
    {
     "data": {
      "text/plain": [
       "['data', 'target', 'target_names', 'DESCR', 'feature_names', 'filename']"
      ]
     },
     "execution_count": 19,
     "metadata": {},
     "output_type": "execute_result"
    }
   ],
   "source": [
    "from sklearn import datasets\n",
    "\n",
    "iris = datasets.load_iris()\n",
    "list(iris.keys())"
   ]
  },
  {
   "cell_type": "code",
   "execution_count": 33,
   "metadata": {},
   "outputs": [],
   "source": [
    "# --- Excercise"
   ]
  },
  {
   "cell_type": "code",
   "execution_count": 35,
   "metadata": {},
   "outputs": [],
   "source": [
    "X = iris[\"data\"][:, 2:4]\n",
    "y = iris[\"target\"]"
   ]
  },
  {
   "cell_type": "code",
   "execution_count": 44,
   "metadata": {},
   "outputs": [],
   "source": [
    "X_with_bias = np.c_[np.ones([len(X),1]), X]"
   ]
  },
  {
   "cell_type": "code",
   "execution_count": 45,
   "metadata": {},
   "outputs": [],
   "source": [
    "np.random.seed(2042)"
   ]
  },
  {
   "cell_type": "code",
   "execution_count": 46,
   "metadata": {},
   "outputs": [],
   "source": [
    "X_train, X_test, y_train, y_test = train_test_split(X_with_bias, y, test_size=0.2)"
   ]
  },
  {
   "cell_type": "code",
   "execution_count": 56,
   "metadata": {},
   "outputs": [
    {
     "data": {
      "text/plain": [
       "(120,)"
      ]
     },
     "execution_count": 56,
     "metadata": {},
     "output_type": "execute_result"
    }
   ],
   "source": [
    "y_train.shape"
   ]
  },
  {
   "cell_type": "code",
   "execution_count": 75,
   "metadata": {},
   "outputs": [],
   "source": [
    "def to_one_hot(y):\n",
    "    n = y.max() + 1\n",
    "    m = len(y)\n",
    "    one_hot = np.zeros([m, n])\n",
    "    one_hot[np.arange(m), y] = 1\n",
    "    \n",
    "    return one_hot"
   ]
  },
  {
   "cell_type": "code",
   "execution_count": 77,
   "metadata": {},
   "outputs": [
    {
     "data": {
      "text/plain": [
       "array([2, 0, 2, 1, 1])"
      ]
     },
     "execution_count": 77,
     "metadata": {},
     "output_type": "execute_result"
    }
   ],
   "source": [
    "y_train[:5]"
   ]
  },
  {
   "cell_type": "code",
   "execution_count": 78,
   "metadata": {},
   "outputs": [
    {
     "data": {
      "text/plain": [
       "array([[0., 0., 1.],\n",
       "       [1., 0., 0.],\n",
       "       [0., 0., 1.],\n",
       "       [0., 1., 0.],\n",
       "       [0., 1., 0.]])"
      ]
     },
     "execution_count": 78,
     "metadata": {},
     "output_type": "execute_result"
    }
   ],
   "source": [
    "to_one_hot(y_train[:5])"
   ]
  },
  {
   "cell_type": "code",
   "execution_count": 79,
   "metadata": {},
   "outputs": [],
   "source": [
    "y_train_hot_one = to_one_hot(y_train)\n",
    "y_test_hot_one = to_one_hot(y_test)"
   ]
  },
  {
   "cell_type": "code",
   "execution_count": 80,
   "metadata": {},
   "outputs": [],
   "source": [
    "def softmax(logits):\n",
    "    exps = np.exp(logits)\n",
    "    exp_sums = np.sum(exps, axis=1, keepdims=True)\n",
    "    return exps / exp_sums"
   ]
  },
  {
   "cell_type": "code",
   "execution_count": 94,
   "metadata": {},
   "outputs": [
    {
     "data": {
      "text/plain": [
       "array([[1.23394576e-04, 9.99876605e-01],\n",
       "       [2.68941421e-01, 7.31058579e-01],\n",
       "       [5.00000000e-01, 5.00000000e-01]])"
      ]
     },
     "execution_count": 94,
     "metadata": {},
     "output_type": "execute_result"
    }
   ],
   "source": [
    "softmax([[1, 10], [2, 3], [3, 3]])"
   ]
  },
  {
   "cell_type": "code",
   "execution_count": 101,
   "metadata": {},
   "outputs": [
    {
     "data": {
      "text/plain": [
       "array([[1. , 6.9, 2.3],\n",
       "       [1. , 1.4, 0.3],\n",
       "       [1. , 5.6, 2.1],\n",
       "       [1. , 4.5, 1.5],\n",
       "       [1. , 3.9, 1.4],\n",
       "       [1. , 6.7, 2. ],\n",
       "       [1. , 4.5, 1.5],\n",
       "       [1. , 1.9, 0.4],\n",
       "       [1. , 1.6, 0.2],\n",
       "       [1. , 4.5, 1.5],\n",
       "       [1. , 6. , 1.8],\n",
       "       [1. , 5.7, 2.1],\n",
       "       [1. , 5.6, 2.4],\n",
       "       [1. , 5.6, 1.4],\n",
       "       [1. , 1.7, 0.4],\n",
       "       [1. , 5.1, 2. ],\n",
       "       [1. , 1.3, 0.3],\n",
       "       [1. , 6. , 2.5],\n",
       "       [1. , 5.1, 2.4],\n",
       "       [1. , 5.1, 1.5],\n",
       "       [1. , 4.8, 1.8],\n",
       "       [1. , 1.3, 0.2],\n",
       "       [1. , 1.3, 0.2],\n",
       "       [1. , 4. , 1.2],\n",
       "       [1. , 4.2, 1.3],\n",
       "       [1. , 6.6, 2.1],\n",
       "       [1. , 1.4, 0.2],\n",
       "       [1. , 1.5, 0.2],\n",
       "       [1. , 4.7, 1.4],\n",
       "       [1. , 1.5, 0.1],\n",
       "       [1. , 4.9, 2. ],\n",
       "       [1. , 1.3, 0.3],\n",
       "       [1. , 3.5, 1. ],\n",
       "       [1. , 4. , 1.3],\n",
       "       [1. , 5.5, 2.1],\n",
       "       [1. , 5.7, 2.3],\n",
       "       [1. , 5.6, 2.2],\n",
       "       [1. , 1.5, 0.2],\n",
       "       [1. , 1.7, 0.3],\n",
       "       [1. , 1.6, 0.2],\n",
       "       [1. , 5.1, 1.9],\n",
       "       [1. , 4.5, 1.5],\n",
       "       [1. , 5.9, 2.3],\n",
       "       [1. , 5. , 1.7],\n",
       "       [1. , 1.5, 0.4],\n",
       "       [1. , 4.7, 1.2],\n",
       "       [1. , 1.2, 0.2],\n",
       "       [1. , 4.7, 1.6],\n",
       "       [1. , 4.5, 1.7],\n",
       "       [1. , 5.3, 2.3],\n",
       "       [1. , 3.9, 1.1],\n",
       "       [1. , 1.7, 0.5],\n",
       "       [1. , 6.1, 2.5],\n",
       "       [1. , 4.9, 1.8],\n",
       "       [1. , 1.4, 0.1],\n",
       "       [1. , 5. , 2. ],\n",
       "       [1. , 1.5, 0.2],\n",
       "       [1. , 1.3, 0.2],\n",
       "       [1. , 1.4, 0.2],\n",
       "       [1. , 1.9, 0.2],\n",
       "       [1. , 1.1, 0.1],\n",
       "       [1. , 5. , 1.9],\n",
       "       [1. , 1.5, 0.2],\n",
       "       [1. , 1.5, 0.1],\n",
       "       [1. , 3.5, 1. ],\n",
       "       [1. , 6.1, 1.9],\n",
       "       [1. , 5.6, 2.4],\n",
       "       [1. , 1.5, 0.4],\n",
       "       [1. , 1.3, 0.2],\n",
       "       [1. , 1.4, 0.2],\n",
       "       [1. , 4.5, 1.3],\n",
       "       [1. , 4.9, 1.5],\n",
       "       [1. , 4.8, 1.8],\n",
       "       [1. , 5.1, 1.8],\n",
       "       [1. , 4.4, 1.2],\n",
       "       [1. , 3. , 1.1],\n",
       "       [1. , 5.1, 2.3],\n",
       "       [1. , 4.1, 1. ],\n",
       "       [1. , 5.8, 2.2],\n",
       "       [1. , 3.3, 1. ],\n",
       "       [1. , 1.4, 0.2],\n",
       "       [1. , 4.6, 1.5],\n",
       "       [1. , 6.1, 2.3],\n",
       "       [1. , 5.1, 1.9],\n",
       "       [1. , 4.7, 1.5],\n",
       "       [1. , 1.2, 0.2],\n",
       "       [1. , 1.5, 0.3],\n",
       "       [1. , 4.4, 1.3],\n",
       "       [1. , 3.6, 1.3],\n",
       "       [1. , 5. , 1.5],\n",
       "       [1. , 4.8, 1.8],\n",
       "       [1. , 5.4, 2.1],\n",
       "       [1. , 5.9, 2.1],\n",
       "       [1. , 3.7, 1. ],\n",
       "       [1. , 4. , 1.3],\n",
       "       [1. , 4. , 1. ],\n",
       "       [1. , 1.6, 0.2],\n",
       "       [1. , 1.6, 0.2],\n",
       "       [1. , 1.5, 0.2],\n",
       "       [1. , 5.5, 1.8],\n",
       "       [1. , 1.6, 0.2],\n",
       "       [1. , 4.3, 1.3],\n",
       "       [1. , 5.8, 1.6],\n",
       "       [1. , 1.6, 0.4],\n",
       "       [1. , 4.2, 1.2],\n",
       "       [1. , 4.4, 1.4],\n",
       "       [1. , 4.9, 1.8],\n",
       "       [1. , 5.2, 2.3],\n",
       "       [1. , 6.4, 2. ],\n",
       "       [1. , 1.4, 0.2],\n",
       "       [1. , 5.7, 2.5],\n",
       "       [1. , 3.3, 1. ],\n",
       "       [1. , 1.4, 0.2],\n",
       "       [1. , 5.4, 2.3],\n",
       "       [1. , 1.5, 0.2],\n",
       "       [1. , 1.7, 0.2],\n",
       "       [1. , 5.1, 1.6],\n",
       "       [1. , 1.5, 0.4],\n",
       "       [1. , 5.3, 1.9],\n",
       "       [1. , 4.2, 1.3]])"
      ]
     },
     "execution_count": 101,
     "metadata": {},
     "output_type": "execute_result"
    }
   ],
   "source": [
    "X_train"
   ]
  },
  {
   "cell_type": "code",
   "execution_count": 111,
   "metadata": {},
   "outputs": [
    {
     "data": {
      "text/plain": [
       "array([[2],\n",
       "       [4],\n",
       "       [6]])"
      ]
     },
     "execution_count": 111,
     "metadata": {},
     "output_type": "execute_result"
    }
   ],
   "source": [
    "np.sum([[1, 1], [2, 2], [3,3]], axis=1, keepdims=1)"
   ]
  },
  {
   "cell_type": "code",
   "execution_count": 113,
   "metadata": {},
   "outputs": [],
   "source": [
    "n_inputs = X_train.shape[1]\n",
    "n_outputs = y_train_hot_one.shape[1]"
   ]
  },
  {
   "cell_type": "code",
   "execution_count": 114,
   "metadata": {},
   "outputs": [
    {
     "data": {
      "text/plain": [
       "(3, 3)"
      ]
     },
     "execution_count": 114,
     "metadata": {},
     "output_type": "execute_result"
    }
   ],
   "source": [
    "n_inputs, n_outputs"
   ]
  },
  {
   "cell_type": "code",
   "execution_count": 412,
   "metadata": {},
   "outputs": [
    {
     "name": "stdout",
     "output_type": "stream",
     "text": [
      "31095 0.5455671374654211\n",
      "31096 0.5455671374654211\n",
      "early_stop\n"
     ]
    }
   ],
   "source": [
    "eta = 0.1 # --- learning_rate very important to hit \"early_stop\" threshold\n",
    "n_iterations = 50001\n",
    "m = len(X_train)\n",
    "epsilon = 1e-7\n",
    "best_loss = np.infty\n",
    "early_stop = False\n",
    "alpha = 0.1 # --- normalization hyperparameter\n",
    "            # --- w/o normalization _early_stop_ doesn't work\n",
    "\n",
    "Theta = np.random.randn(n_inputs, n_outputs)\n",
    "\n",
    "for iteration in range(n_iterations):\n",
    "    logits = X_train.dot(Theta)\n",
    "    y_proba = softmax(logits)\n",
    "    gradient = 1/m * X_train.T.dot(y_proba - y_train_hot_one)  + np.r_[np.zeros([1, n_outputs]), alpha * Theta[1:]]\n",
    "    Theta -= eta * gradient\n",
    "    \n",
    "    logits = X_test.dot(Theta)\n",
    "    y_proba = softmax(logits)\n",
    "    xentropy_loss  = -np.mean(np.sum(y_test_hot_one * np.log(y_proba + epsilon), axis=1))\n",
    "    l2_loss = 1/2 * np.sum(np.square(Theta[1:]))\n",
    "    loss = xentropy_loss + alpha * l2_loss\n",
    "\n",
    "    if(loss < best_loss):\n",
    "        best_loss = loss\n",
    "    else:\n",
    "        print(iteration - 1, best_loss)\n",
    "        print(iteration, loss)\n",
    "        early_stop = True\n",
    "        break\n",
    "        \n",
    "if(early_stop == True):\n",
    "    print (\"early_stop\")\n",
    "else:\n",
    "    print (\"no early stop\")"
   ]
  },
  {
   "cell_type": "code",
   "execution_count": 263,
   "metadata": {},
   "outputs": [
    {
     "data": {
      "text/plain": [
       "array([[ 8.62100747,  1.41153837, -8.35300831],\n",
       "       [-1.47786234,  0.45241553,  0.75904357],\n",
       "       [-3.38177535, -0.17263263,  4.99183264]])"
      ]
     },
     "execution_count": 263,
     "metadata": {},
     "output_type": "execute_result"
    }
   ],
   "source": [
    "Theta"
   ]
  },
  {
   "cell_type": "code",
   "execution_count": 138,
   "metadata": {},
   "outputs": [
    {
     "data": {
      "text/plain": [
       "(120, 3)"
      ]
     },
     "execution_count": 138,
     "metadata": {},
     "output_type": "execute_result"
    }
   ],
   "source": [
    "X_train.dot(Theta).shape"
   ]
  },
  {
   "cell_type": "code",
   "execution_count": 140,
   "metadata": {},
   "outputs": [
    {
     "data": {
      "text/plain": [
       "(120, 3)"
      ]
     },
     "execution_count": 140,
     "metadata": {},
     "output_type": "execute_result"
    }
   ],
   "source": [
    "y_train_hot_one.shape"
   ]
  },
  {
   "cell_type": "raw",
   "metadata": {},
   "source": []
  },
  {
   "cell_type": "code",
   "execution_count": 142,
   "metadata": {},
   "outputs": [
    {
     "data": {
      "text/plain": [
       "(120, 3)"
      ]
     },
     "execution_count": 142,
     "metadata": {},
     "output_type": "execute_result"
    }
   ],
   "source": [
    "X_train.shape"
   ]
  },
  {
   "cell_type": "code",
   "execution_count": 155,
   "metadata": {},
   "outputs": [
    {
     "data": {
      "text/plain": [
       "0.8666666666666667"
      ]
     },
     "execution_count": 155,
     "metadata": {},
     "output_type": "execute_result"
    }
   ],
   "source": [
    "logits=X_test.dot(Theta)\n",
    "y_proba = softmax(logits)\n",
    "y_predict = np.argmax(y_proba, axis=1)\n",
    "\n",
    "accuracy_score = np.mean(y_predict == y_test)\n",
    "accuracy_score"
   ]
  },
  {
   "cell_type": "code",
   "execution_count": 156,
   "metadata": {},
   "outputs": [
    {
     "data": {
      "text/plain": [
       "array([0, 1, 2, 1, 1, 0, 1, 2, 1, 0, 1, 2, 0, 2, 1, 2, 1, 2, 0, 2, 2, 1,\n",
       "       1, 2, 0, 0, 0, 2, 0, 1], dtype=int64)"
      ]
     },
     "execution_count": 156,
     "metadata": {},
     "output_type": "execute_result"
    }
   ],
   "source": [
    "y_predict"
   ]
  },
  {
   "cell_type": "code",
   "execution_count": 157,
   "metadata": {},
   "outputs": [
    {
     "data": {
      "text/plain": [
       "array([0, 1, 2, 1, 1, 0, 1, 1, 1, 0, 1, 2, 0, 1, 1, 2, 1, 1, 0, 2, 1, 1,\n",
       "       1, 2, 0, 0, 0, 2, 0, 1])"
      ]
     },
     "execution_count": 157,
     "metadata": {},
     "output_type": "execute_result"
    }
   ],
   "source": [
    "y_test"
   ]
  },
  {
   "cell_type": "code",
   "execution_count": 158,
   "metadata": {},
   "outputs": [
    {
     "data": {
      "text/plain": [
       "array([[ 3.75358641, -0.12394942, -2.28810483],\n",
       "       [-0.16950496,  0.86631672,  0.60267709],\n",
       "       [-1.38134155,  0.13086811,  2.44342771]])"
      ]
     },
     "execution_count": 158,
     "metadata": {},
     "output_type": "execute_result"
    }
   ],
   "source": [
    "Theta"
   ]
  },
  {
   "cell_type": "code",
   "execution_count": 165,
   "metadata": {},
   "outputs": [
    {
     "data": {
      "text/plain": [
       "array([[-0.16950496,  0.86631672,  0.60267709],\n",
       "       [-1.38134155,  0.13086811,  2.44342771]])"
      ]
     },
     "execution_count": 165,
     "metadata": {},
     "output_type": "execute_result"
    }
   ],
   "source": [
    "Theta[ 1:]"
   ]
  },
  {
   "cell_type": "code",
   "execution_count": 411,
   "metadata": {},
   "outputs": [
    {
     "name": "stdout",
     "output_type": "stream",
     "text": [
      "0 6.51409748416798\n",
      "30906 0.545567137465418\n",
      "30907 0.545567137465418 early stopping!\n"
     ]
    }
   ],
   "source": [
    "eta = 0.1 \n",
    "n_iterations = 500001\n",
    "m = len(X_train)\n",
    "epsilon = 1e-7\n",
    "alpha = 0.1  # regularization hyperparameter\n",
    "best_loss = np.infty\n",
    "\n",
    "Theta = np.random.randn(n_inputs, n_outputs)\n",
    "\n",
    "for iteration in range(n_iterations):\n",
    "    logits = X_train.dot(Theta)\n",
    "    Y_proba = softmax(logits)\n",
    "    #xentropy_loss = -np.mean(np.sum(y_train_hot_one * np.log(Y_proba + epsilon), axis=1))\n",
    "    #l2_loss = 1/2 * np.sum(np.square(Theta[1:]))\n",
    "    #loss = xentropy_loss + alpha * l2_loss\n",
    "    gradients = 1/m * X_train.T.dot(Y_proba - y_train_hot_one) + np.r_[np.zeros([1, n_outputs]), alpha * Theta[1:]]\n",
    "    Theta = Theta - eta * gradients\n",
    "\n",
    "    logits = X_test.dot(Theta)\n",
    "    Y_proba = softmax(logits)\n",
    "    xentropy_loss = -np.mean(np.sum(y_test_hot_one * np.log(Y_proba + epsilon), axis=1))\n",
    "    l2_loss = 1/2 * np.sum(np.square(Theta[1:]))\n",
    "    loss = xentropy_loss + alpha * l2_loss\n",
    "    if iteration % 100000 == 0:\n",
    "        print(iteration, loss)\n",
    "    if loss < best_loss:\n",
    "        best_loss = loss\n",
    "    else:\n",
    "        print(iteration - 1, best_loss)\n",
    "        print(iteration, loss, \"early stopping!\")\n",
    "        break"
   ]
  },
  {
   "cell_type": "code",
   "execution_count": 413,
   "metadata": {},
   "outputs": [
    {
     "data": {
      "image/png": "[encoded data removed]",
      "text/plain": [
       "<Figure size 720x288 with 1 Axes>"
      ]
     },
     "metadata": {
      "needs_background": "light"
     },
     "output_type": "display_data"
    }
   ],
   "source": [
    "x0, x1 = np.meshgrid(\n",
    "        np.linspace(0, 8, 500).reshape(-1, 1),\n",
    "        np.linspace(0, 3.5, 200).reshape(-1, 1),\n",
    "    )\n",
    "X_new = np.c_[x0.ravel(), x1.ravel()]\n",
    "X_new_with_bias = np.c_[np.ones([len(X_new), 1]), X_new]\n",
    "\n",
    "logits = X_new_with_bias.dot(Theta)\n",
    "Y_proba = softmax(logits)\n",
    "y_predict = np.argmax(Y_proba, axis=1)\n",
    "\n",
    "zz1 = Y_proba[:, 1].reshape(x0.shape)\n",
    "zz = y_predict.reshape(x0.shape)\n",
    "\n",
    "plt.figure(figsize=(10, 4))\n",
    "plt.plot(X[y==2, 0], X[y==2, 1], \"g^\", label=\"Iris-Virginica\")\n",
    "plt.plot(X[y==1, 0], X[y==1, 1], \"bs\", label=\"Iris-Versicolor\")\n",
    "plt.plot(X[y==0, 0], X[y==0, 1], \"yo\", label=\"Iris-Setosa\")\n",
    "\n",
    "from matplotlib.colors import ListedColormap\n",
    "custom_cmap = ListedColormap(['#fafab0','#9898ff','#a0faa0'])\n",
    "\n",
    "plt.contourf(x0, x1, zz, cmap=custom_cmap)\n",
    "contour = plt.contour(x0, x1, zz1, cmap=plt.cm.brg)\n",
    "plt.clabel(contour, inline=1, fontsize=12)\n",
    "plt.xlabel(\"Petal length\", fontsize=14)\n",
    "plt.ylabel(\"Petal width\", fontsize=14)\n",
    "plt.legend(loc=\"upper left\", fontsize=14)\n",
    "plt.axis([0, 7, 0, 3.5])\n",
    "plt.show()"
   ]
  },
  {
   "cell_type": "code",
   "execution_count": 374,
   "metadata": {},
   "outputs": [
    {
     "data": {
      "text/plain": [
       "(100000, 3)"
      ]
     },
     "execution_count": 374,
     "metadata": {},
     "output_type": "execute_result"
    }
   ],
   "source": [
    "Y_proba.shape"
   ]
  },
  {
   "cell_type": "code",
   "execution_count": 349,
   "metadata": {},
   "outputs": [
    {
     "data": {
      "text/plain": [
       "array([0.        , 0.01603206, 0.03206413, ..., 7.96793587, 7.98396794,\n",
       "       8.        ])"
      ]
     },
     "execution_count": 349,
     "metadata": {},
     "output_type": "execute_result"
    }
   ],
   "source": [
    "x0.ravel()"
   ]
  },
  {
   "cell_type": "code",
   "execution_count": 385,
   "metadata": {},
   "outputs": [
    {
     "data": {
      "text/plain": [
       "array([[0.57037711, 0.0168556 ],\n",
       "       [0.07195549, 0.52965151]])"
      ]
     },
     "execution_count": 385,
     "metadata": {},
     "output_type": "execute_result"
    }
   ],
   "source": [
    "np.random.rand(2, 2).ravel().reshape(2, 2)"
   ]
  },
  {
   "cell_type": "code",
   "execution_count": 389,
   "metadata": {},
   "outputs": [
    {
     "data": {
      "text/plain": [
       "array([[0.        , 0.01603206, 0.03206413, ..., 7.96793587, 7.98396794,\n",
       "        8.        ],\n",
       "       [0.        , 0.01603206, 0.03206413, ..., 7.96793587, 7.98396794,\n",
       "        8.        ],\n",
       "       [0.        , 0.01603206, 0.03206413, ..., 7.96793587, 7.98396794,\n",
       "        8.        ],\n",
       "       ...,\n",
       "       [0.        , 0.01603206, 0.03206413, ..., 7.96793587, 7.98396794,\n",
       "        8.        ],\n",
       "       [0.        , 0.01603206, 0.03206413, ..., 7.96793587, 7.98396794,\n",
       "        8.        ],\n",
       "       [0.        , 0.01603206, 0.03206413, ..., 7.96793587, 7.98396794,\n",
       "        8.        ]])"
      ]
     },
     "execution_count": 389,
     "metadata": {},
     "output_type": "execute_result"
    }
   ],
   "source": [
    "x0"
   ]
  },
  {
   "cell_type": "code",
   "execution_count": 395,
   "metadata": {},
   "outputs": [
    {
     "data": {
      "text/plain": [
       "array([0, 0, 0, 0, 0, 0, 0, 0, 0, 0, 0, 0, 0, 0, 0, 0, 0, 0, 0, 0, 0, 0,\n",
       "       0, 0, 0, 0, 0, 0, 0, 0, 0, 0, 0, 0, 0, 0, 0, 0, 0, 0, 0, 0, 0, 0,\n",
       "       0, 0, 0, 0, 0, 0, 1, 1, 1, 1, 1, 1, 1, 1, 1, 1, 1, 1, 1, 1, 1, 1,\n",
       "       1, 1, 1, 1, 1, 1, 1, 1, 1, 1, 1, 1, 1, 1, 1, 1, 1, 1, 1, 1, 1, 1,\n",
       "       1, 1, 1, 1, 1, 1, 1, 1, 1, 1, 1, 1, 2, 2, 2, 2, 2, 2, 2, 2, 2, 2,\n",
       "       2, 2, 2, 2, 2, 2, 2, 2, 2, 2, 2, 2, 2, 2, 2, 2, 2, 2, 2, 2, 2, 2,\n",
       "       2, 2, 2, 2, 2, 2, 2, 2, 2, 2, 2, 2, 2, 2, 2, 2, 2, 2])"
      ]
     },
     "execution_count": 395,
     "metadata": {},
     "output_type": "execute_result"
    }
   ],
   "source": [
    "y"
   ]
  },
  {
   "cell_type": "code",
   "execution_count": 398,
   "metadata": {},
   "outputs": [
    {
     "data": {
      "text/plain": [
       "array([[1.        , 0.        , 0.        ],\n",
       "       [1.        , 0.01603206, 0.        ],\n",
       "       [1.        , 0.03206413, 0.        ],\n",
       "       ...,\n",
       "       [1.        , 7.96793587, 3.5       ],\n",
       "       [1.        , 7.98396794, 3.5       ],\n",
       "       [1.        , 8.        , 3.5       ]])"
      ]
     },
     "execution_count": 398,
     "metadata": {},
     "output_type": "execute_result"
    }
   ],
   "source": [
    "X_new_with_bias"
   ]
  },
  {
   "cell_type": "code",
   "execution_count": 461,
   "metadata": {},
   "outputs": [
    {
     "data": {
      "image/png": "[encoded data removed]",
      "text/plain": [
       "<Figure size 432x288 with 1 Axes>"
      ]
     },
     "metadata": {
      "needs_background": "light"
     },
     "output_type": "display_data"
    },
    {
     "data": {
      "image/png": "[encoded data removed]",
      "text/plain": [
       "<Figure size 432x288 with 1 Axes>"
      ]
     },
     "metadata": {
      "needs_background": "light"
     },
     "output_type": "display_data"
    },
    {
     "data": {
      "image/png": "[encoded data removed]",
      "text/plain": [
       "<Figure size 432x288 with 1 Axes>"
      ]
     },
     "metadata": {
      "needs_background": "light"
     },
     "output_type": "display_data"
    },
    {
     "data": {
      "image/png": "[encoded data removed]",
      "text/plain": [
       "<Figure size 432x288 with 1 Axes>"
      ]
     },
     "metadata": {
      "needs_background": "light"
     },
     "output_type": "display_data"
    },
    {
     "data": {
      "image/png": "[encoded data removed]",
      "text/plain": [
       "<Figure size 432x288 with 1 Axes>"
      ]
     },
     "metadata": {
      "needs_background": "light"
     },
     "output_type": "display_data"
    },
    {
     "data": {
      "image/png": "[encoded data removed]",
      "text/plain": [
       "<Figure size 432x288 with 1 Axes>"
      ]
     },
     "metadata": {
      "needs_background": "light"
     },
     "output_type": "display_data"
    }
   ],
   "source": [
    "for i in range(-1, 5):\n",
    "    f1 = np.linspace(-1 + i, 9, 2).reshape(-1, 1)\n",
    "    f2 = np.linspace(-1, 13, 60).reshape(-1, 1)\n",
    "    m1, m2 = np.meshgrid(f1, f2)\n",
    "    n1 = m1.ravel()\n",
    "    n2 = m2.ravel()\n",
    "\n",
    "    #print(f1)\n",
    "    #print(f2)\n",
    "    #print(m1.ravel())\n",
    "    #print(m2.ravel())\n",
    "    oo = (n1**2 + n2**2).reshape(m1.shape)\n",
    "    #print(\"oo = \", oo)\n",
    "\n",
    "    plt.contourf(m1, m2, oo)\n",
    "    plt.show()\n"
   ]
  },
  {
   "cell_type": "code",
   "execution_count": 459,
   "metadata": {},
   "outputs": [
    {
     "data": {
      "text/plain": [
       "range(-1, 5)"
      ]
     },
     "execution_count": 459,
     "metadata": {},
     "output_type": "execute_result"
    }
   ],
   "source": [
    "range(-1, 5, 1)"
   ]
  },
  {
   "cell_type": "code",
   "execution_count": null,
   "metadata": {},
   "outputs": [],
   "source": []
  }
 ],
 "metadata": {
  "kernelspec": {
   "display_name": "Python 3",
   "language": "python",
   "name": "python3"
  },
  "language_info": {
   "codemirror_mode": {
    "name": "ipython",
    "version": 3
   },
   "file_extension": ".py",
   "mimetype": "text/x-python",
   "name": "python",
   "nbconvert_exporter": "python",
   "pygments_lexer": "ipython3",
   "version": "3.7.3"
  }
 },
 "nbformat": 4,
 "nbformat_minor": 2
}
